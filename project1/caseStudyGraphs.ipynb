{
 "cells": [
  {
   "cell_type": "code",
   "execution_count": 19,
   "metadata": {},
   "outputs": [],
   "source": [
    "#import sys\n",
    "#!{sys.executable} -m pip install plotly"
   ]
  },
  {
   "cell_type": "code",
   "execution_count": 36,
   "metadata": {},
   "outputs": [],
   "source": [
    "import pandas as pd\n",
    "import numpy as np"
   ]
  },
  {
   "cell_type": "code",
   "execution_count": 62,
   "metadata": {},
   "outputs": [],
   "source": [
    "df1 = pd.read_csv('caseStudy1.csv')\n",
    "df2 = pd.read_csv('caseStudy2.csv')\n",
    "df3 = pd.read_csv('caseStudy3.csv')"
   ]
  },
  {
   "cell_type": "code",
   "execution_count": 63,
   "metadata": {},
   "outputs": [],
   "source": [
    "def clean(df):\n",
    "    df.drop(df[df['dist flow'] == '<empty>'].index, inplace = True)\n",
    "    df['profit'] = ''\n",
    "    df = df.reset_index()\n",
    "    df['dist flow'] = df['dist flow'].astype(float)\n",
    "    df['cond liq flow'] = df['cond liq flow'].astype(float)\n",
    "    for row in range(df.shape[0]):\n",
    "        df.at[row, 'profit'] = df.iloc[row]['dist flow'] - 0.02*df.iloc[row]['cond liq flow']\n",
    "        #using 0.02 as lumped operating cost per kmole of product stream\n",
    "        \n",
    "    return df"
   ]
  },
  {
   "cell_type": "code",
   "execution_count": 64,
   "metadata": {},
   "outputs": [],
   "source": [
    "df1 = clean(df1)\n",
    "df2 = clean(df2)\n",
    "df3 = clean(df3)"
   ]
  },
  {
   "cell_type": "code",
   "execution_count": 65,
   "metadata": {},
   "outputs": [],
   "source": [
    "import plotly.express as px\n",
    "import plotly.graph_objects as go\n",
    "from plotly.subplots import make_subplots"
   ]
  },
  {
   "cell_type": "markdown",
   "metadata": {},
   "source": [
    "In case study 1 We varried the temperature and pressure of the drum. We initially started with a pressure drop of 50kPa and a temperature of 16 degrees C. We varried the pressure drop from 45 to 55 kPa and our temperature from 10 to 20. We settled on an ideal opperating temperature of 14 degrees C because it is close to the ambient temperature in Boulder which means we will need significantly less energy to run the column. We found that this occured at 54-55 kPa drop. We also investigated a much larger drop of 75 kPa but the outlet stream is closer to 0 degrees C and the increase in the product flow was only about 4%"
   ]
  },
  {
   "cell_type": "code",
   "execution_count": 68,
   "metadata": {},
   "outputs": [
    {
     "data": {
      "application/vnd.plotly.v1+json": {
       "config": {
        "plotlyServerURL": "https://plot.ly"
       },
       "data": [
        {
         "marker": {
          "color": [
           2.91270061424499,
           3.0073879919810325,
           3.1068890251339045,
           3.206723657066195,
           3.3105715316005155,
           3.417366307538167,
           3.531586460887138,
           3.652845842592388,
           3.7867005697877336,
           3.934741125209437,
           4.105865826499769,
           4.308767894436023,
           4.559881535274045,
           4.898203972438031,
           5.417480695827401,
           6.583051083345919,
           4.330180650081234,
           4.589217438559042,
           4.941266115386051,
           5.494130812924813,
           6.866006331744761,
           4.3491127019954146,
           4.613862789600181,
           4.978146438578062,
           5.563859383530613,
           7.1808834450160886,
           4.362657941077354,
           4.633409229381404,
           5.0079109938913655,
           5.620898493691403,
           7.533768115101883,
           5.665962292754346,
           7.936256103271474,
           4.3790347020539375,
           4.658443116103177,
           5.045480174164436,
           5.695996437987806,
           8.272392137582944,
           4.380683945044463,
           4.662311865632469,
           5.0527933671859,
           5.713085192883277,
           8.646907177206035,
           4.379072389435473,
           4.661025514903762,
           5.05227217186895,
           5.714704043276194,
           8.735850234828304,
           5.702578207817887,
           8.536328993688922,
           5.67605208694558,
           8.19035839987286,
           4.138958634518549,
           4.351628937926215,
           4.62766695142098,
           5.009244598861089,
           5.636472401113085,
           7.806763688122751
          ],
          "colorscale": [
           [
            0,
            "rgb(0,0,255)"
           ],
           [
            1,
            "rgb(255,0,0)"
           ]
          ],
          "opacity": 0.8,
          "size": 8
         },
         "mode": "markers",
         "type": "scatter3d",
         "x": [
          55,
          55,
          55,
          55,
          55,
          55,
          55,
          55,
          55,
          55,
          55,
          55,
          55,
          55,
          55,
          55,
          54,
          54,
          54,
          54,
          54,
          53,
          53,
          53,
          53,
          53,
          52,
          52,
          52,
          52,
          52,
          51,
          51,
          50,
          50,
          50,
          50,
          50,
          49,
          49,
          49,
          49,
          49,
          48,
          48,
          48,
          48,
          48,
          47,
          47,
          46,
          46,
          45,
          45,
          45,
          45,
          45,
          45
         ],
         "y": [
          20,
          19.5,
          19,
          18.5,
          18,
          17.5,
          17,
          16.5,
          16,
          15.5,
          15,
          14.5,
          14,
          13.5,
          13,
          12.5,
          15,
          14.5,
          14,
          13.5,
          13,
          15.5,
          15,
          14.5,
          14,
          13.5,
          16,
          15.5,
          15,
          14.5,
          14,
          15,
          14.5,
          17,
          16.5,
          16,
          15.5,
          15,
          17.5,
          17,
          16.5,
          16,
          15.5,
          18,
          17.5,
          17,
          16.5,
          16,
          17,
          16.5,
          17.5,
          17,
          20,
          19.5,
          19,
          18.5,
          18,
          17.5
         ],
         "z": [
          33.13679831,
          35.21002525,
          37.13116777,
          38.91549732,
          40.57312224,
          42.11623371,
          43.55305882,
          44.89414841,
          46.14610429,
          47.3179207,
          48.4147453,
          49.44330781,
          50.40967177,
          51.31744265,
          52.17174432,
          52.97657831,
          49.41811386,
          50.3859852,
          51.29536372,
          52.1512115,
          52.95768123,
          49.37555831,
          50.34659969,
          51.2585674,
          52.11637985,
          52.9257122,
          49.31779855,
          50.29221188,
          51.20760989,
          52.06878048,
          52.88103806,
          52.00802302,
          52.82331096,
          49.15472667,
          50.13875392,
          51.06442748,
          51.93486681,
          52.75559149,
          49.05080679,
          50.04107019,
          50.97273839,
          51.84877813,
          52.67351094,
          48.93165092,
          49.92945565,
          50.86804692,
          51.75049666,
          52.58110028,
          51.63977199,
          52.47733981,
          51.51715808,
          52.36200089,
          47.39005177,
          48.48652879,
          49.51232366,
          50.47588602,
          51.38274345,
          52.23554877
         ]
        }
       ],
       "layout": {
        "margin": {
         "b": 10,
         "l": 10,
         "r": 20,
         "t": 25
        },
        "scene": {
         "xaxis": {
          "title": {
           "text": "Pressure drop in drum"
          }
         },
         "yaxis": {
          "title": {
           "text": "Temperature"
          }
         },
         "zaxis": {
          "title": {
           "text": "Distilate flow rate"
          }
         }
        },
        "template": {
         "data": {
          "bar": [
           {
            "error_x": {
             "color": "#2a3f5f"
            },
            "error_y": {
             "color": "#2a3f5f"
            },
            "marker": {
             "line": {
              "color": "#E5ECF6",
              "width": 0.5
             }
            },
            "type": "bar"
           }
          ],
          "barpolar": [
           {
            "marker": {
             "line": {
              "color": "#E5ECF6",
              "width": 0.5
             }
            },
            "type": "barpolar"
           }
          ],
          "carpet": [
           {
            "aaxis": {
             "endlinecolor": "#2a3f5f",
             "gridcolor": "white",
             "linecolor": "white",
             "minorgridcolor": "white",
             "startlinecolor": "#2a3f5f"
            },
            "baxis": {
             "endlinecolor": "#2a3f5f",
             "gridcolor": "white",
             "linecolor": "white",
             "minorgridcolor": "white",
             "startlinecolor": "#2a3f5f"
            },
            "type": "carpet"
           }
          ],
          "choropleth": [
           {
            "colorbar": {
             "outlinewidth": 0,
             "ticks": ""
            },
            "type": "choropleth"
           }
          ],
          "contour": [
           {
            "colorbar": {
             "outlinewidth": 0,
             "ticks": ""
            },
            "colorscale": [
             [
              0,
              "#0d0887"
             ],
             [
              0.1111111111111111,
              "#46039f"
             ],
             [
              0.2222222222222222,
              "#7201a8"
             ],
             [
              0.3333333333333333,
              "#9c179e"
             ],
             [
              0.4444444444444444,
              "#bd3786"
             ],
             [
              0.5555555555555556,
              "#d8576b"
             ],
             [
              0.6666666666666666,
              "#ed7953"
             ],
             [
              0.7777777777777778,
              "#fb9f3a"
             ],
             [
              0.8888888888888888,
              "#fdca26"
             ],
             [
              1,
              "#f0f921"
             ]
            ],
            "type": "contour"
           }
          ],
          "contourcarpet": [
           {
            "colorbar": {
             "outlinewidth": 0,
             "ticks": ""
            },
            "type": "contourcarpet"
           }
          ],
          "heatmap": [
           {
            "colorbar": {
             "outlinewidth": 0,
             "ticks": ""
            },
            "colorscale": [
             [
              0,
              "#0d0887"
             ],
             [
              0.1111111111111111,
              "#46039f"
             ],
             [
              0.2222222222222222,
              "#7201a8"
             ],
             [
              0.3333333333333333,
              "#9c179e"
             ],
             [
              0.4444444444444444,
              "#bd3786"
             ],
             [
              0.5555555555555556,
              "#d8576b"
             ],
             [
              0.6666666666666666,
              "#ed7953"
             ],
             [
              0.7777777777777778,
              "#fb9f3a"
             ],
             [
              0.8888888888888888,
              "#fdca26"
             ],
             [
              1,
              "#f0f921"
             ]
            ],
            "type": "heatmap"
           }
          ],
          "heatmapgl": [
           {
            "colorbar": {
             "outlinewidth": 0,
             "ticks": ""
            },
            "colorscale": [
             [
              0,
              "#0d0887"
             ],
             [
              0.1111111111111111,
              "#46039f"
             ],
             [
              0.2222222222222222,
              "#7201a8"
             ],
             [
              0.3333333333333333,
              "#9c179e"
             ],
             [
              0.4444444444444444,
              "#bd3786"
             ],
             [
              0.5555555555555556,
              "#d8576b"
             ],
             [
              0.6666666666666666,
              "#ed7953"
             ],
             [
              0.7777777777777778,
              "#fb9f3a"
             ],
             [
              0.8888888888888888,
              "#fdca26"
             ],
             [
              1,
              "#f0f921"
             ]
            ],
            "type": "heatmapgl"
           }
          ],
          "histogram": [
           {
            "marker": {
             "colorbar": {
              "outlinewidth": 0,
              "ticks": ""
             }
            },
            "type": "histogram"
           }
          ],
          "histogram2d": [
           {
            "colorbar": {
             "outlinewidth": 0,
             "ticks": ""
            },
            "colorscale": [
             [
              0,
              "#0d0887"
             ],
             [
              0.1111111111111111,
              "#46039f"
             ],
             [
              0.2222222222222222,
              "#7201a8"
             ],
             [
              0.3333333333333333,
              "#9c179e"
             ],
             [
              0.4444444444444444,
              "#bd3786"
             ],
             [
              0.5555555555555556,
              "#d8576b"
             ],
             [
              0.6666666666666666,
              "#ed7953"
             ],
             [
              0.7777777777777778,
              "#fb9f3a"
             ],
             [
              0.8888888888888888,
              "#fdca26"
             ],
             [
              1,
              "#f0f921"
             ]
            ],
            "type": "histogram2d"
           }
          ],
          "histogram2dcontour": [
           {
            "colorbar": {
             "outlinewidth": 0,
             "ticks": ""
            },
            "colorscale": [
             [
              0,
              "#0d0887"
             ],
             [
              0.1111111111111111,
              "#46039f"
             ],
             [
              0.2222222222222222,
              "#7201a8"
             ],
             [
              0.3333333333333333,
              "#9c179e"
             ],
             [
              0.4444444444444444,
              "#bd3786"
             ],
             [
              0.5555555555555556,
              "#d8576b"
             ],
             [
              0.6666666666666666,
              "#ed7953"
             ],
             [
              0.7777777777777778,
              "#fb9f3a"
             ],
             [
              0.8888888888888888,
              "#fdca26"
             ],
             [
              1,
              "#f0f921"
             ]
            ],
            "type": "histogram2dcontour"
           }
          ],
          "mesh3d": [
           {
            "colorbar": {
             "outlinewidth": 0,
             "ticks": ""
            },
            "type": "mesh3d"
           }
          ],
          "parcoords": [
           {
            "line": {
             "colorbar": {
              "outlinewidth": 0,
              "ticks": ""
             }
            },
            "type": "parcoords"
           }
          ],
          "pie": [
           {
            "automargin": true,
            "type": "pie"
           }
          ],
          "scatter": [
           {
            "marker": {
             "colorbar": {
              "outlinewidth": 0,
              "ticks": ""
             }
            },
            "type": "scatter"
           }
          ],
          "scatter3d": [
           {
            "line": {
             "colorbar": {
              "outlinewidth": 0,
              "ticks": ""
             }
            },
            "marker": {
             "colorbar": {
              "outlinewidth": 0,
              "ticks": ""
             }
            },
            "type": "scatter3d"
           }
          ],
          "scattercarpet": [
           {
            "marker": {
             "colorbar": {
              "outlinewidth": 0,
              "ticks": ""
             }
            },
            "type": "scattercarpet"
           }
          ],
          "scattergeo": [
           {
            "marker": {
             "colorbar": {
              "outlinewidth": 0,
              "ticks": ""
             }
            },
            "type": "scattergeo"
           }
          ],
          "scattergl": [
           {
            "marker": {
             "colorbar": {
              "outlinewidth": 0,
              "ticks": ""
             }
            },
            "type": "scattergl"
           }
          ],
          "scattermapbox": [
           {
            "marker": {
             "colorbar": {
              "outlinewidth": 0,
              "ticks": ""
             }
            },
            "type": "scattermapbox"
           }
          ],
          "scatterpolar": [
           {
            "marker": {
             "colorbar": {
              "outlinewidth": 0,
              "ticks": ""
             }
            },
            "type": "scatterpolar"
           }
          ],
          "scatterpolargl": [
           {
            "marker": {
             "colorbar": {
              "outlinewidth": 0,
              "ticks": ""
             }
            },
            "type": "scatterpolargl"
           }
          ],
          "scatterternary": [
           {
            "marker": {
             "colorbar": {
              "outlinewidth": 0,
              "ticks": ""
             }
            },
            "type": "scatterternary"
           }
          ],
          "surface": [
           {
            "colorbar": {
             "outlinewidth": 0,
             "ticks": ""
            },
            "colorscale": [
             [
              0,
              "#0d0887"
             ],
             [
              0.1111111111111111,
              "#46039f"
             ],
             [
              0.2222222222222222,
              "#7201a8"
             ],
             [
              0.3333333333333333,
              "#9c179e"
             ],
             [
              0.4444444444444444,
              "#bd3786"
             ],
             [
              0.5555555555555556,
              "#d8576b"
             ],
             [
              0.6666666666666666,
              "#ed7953"
             ],
             [
              0.7777777777777778,
              "#fb9f3a"
             ],
             [
              0.8888888888888888,
              "#fdca26"
             ],
             [
              1,
              "#f0f921"
             ]
            ],
            "type": "surface"
           }
          ],
          "table": [
           {
            "cells": {
             "fill": {
              "color": "#EBF0F8"
             },
             "line": {
              "color": "white"
             }
            },
            "header": {
             "fill": {
              "color": "#C8D4E3"
             },
             "line": {
              "color": "white"
             }
            },
            "type": "table"
           }
          ]
         },
         "layout": {
          "annotationdefaults": {
           "arrowcolor": "#2a3f5f",
           "arrowhead": 0,
           "arrowwidth": 1
          },
          "autotypenumbers": "strict",
          "coloraxis": {
           "colorbar": {
            "outlinewidth": 0,
            "ticks": ""
           }
          },
          "colorscale": {
           "diverging": [
            [
             0,
             "#8e0152"
            ],
            [
             0.1,
             "#c51b7d"
            ],
            [
             0.2,
             "#de77ae"
            ],
            [
             0.3,
             "#f1b6da"
            ],
            [
             0.4,
             "#fde0ef"
            ],
            [
             0.5,
             "#f7f7f7"
            ],
            [
             0.6,
             "#e6f5d0"
            ],
            [
             0.7,
             "#b8e186"
            ],
            [
             0.8,
             "#7fbc41"
            ],
            [
             0.9,
             "#4d9221"
            ],
            [
             1,
             "#276419"
            ]
           ],
           "sequential": [
            [
             0,
             "#0d0887"
            ],
            [
             0.1111111111111111,
             "#46039f"
            ],
            [
             0.2222222222222222,
             "#7201a8"
            ],
            [
             0.3333333333333333,
             "#9c179e"
            ],
            [
             0.4444444444444444,
             "#bd3786"
            ],
            [
             0.5555555555555556,
             "#d8576b"
            ],
            [
             0.6666666666666666,
             "#ed7953"
            ],
            [
             0.7777777777777778,
             "#fb9f3a"
            ],
            [
             0.8888888888888888,
             "#fdca26"
            ],
            [
             1,
             "#f0f921"
            ]
           ],
           "sequentialminus": [
            [
             0,
             "#0d0887"
            ],
            [
             0.1111111111111111,
             "#46039f"
            ],
            [
             0.2222222222222222,
             "#7201a8"
            ],
            [
             0.3333333333333333,
             "#9c179e"
            ],
            [
             0.4444444444444444,
             "#bd3786"
            ],
            [
             0.5555555555555556,
             "#d8576b"
            ],
            [
             0.6666666666666666,
             "#ed7953"
            ],
            [
             0.7777777777777778,
             "#fb9f3a"
            ],
            [
             0.8888888888888888,
             "#fdca26"
            ],
            [
             1,
             "#f0f921"
            ]
           ]
          },
          "colorway": [
           "#636efa",
           "#EF553B",
           "#00cc96",
           "#ab63fa",
           "#FFA15A",
           "#19d3f3",
           "#FF6692",
           "#B6E880",
           "#FF97FF",
           "#FECB52"
          ],
          "font": {
           "color": "#2a3f5f"
          },
          "geo": {
           "bgcolor": "white",
           "lakecolor": "white",
           "landcolor": "#E5ECF6",
           "showlakes": true,
           "showland": true,
           "subunitcolor": "white"
          },
          "hoverlabel": {
           "align": "left"
          },
          "hovermode": "closest",
          "mapbox": {
           "style": "light"
          },
          "paper_bgcolor": "white",
          "plot_bgcolor": "#E5ECF6",
          "polar": {
           "angularaxis": {
            "gridcolor": "white",
            "linecolor": "white",
            "ticks": ""
           },
           "bgcolor": "#E5ECF6",
           "radialaxis": {
            "gridcolor": "white",
            "linecolor": "white",
            "ticks": ""
           }
          },
          "scene": {
           "xaxis": {
            "backgroundcolor": "#E5ECF6",
            "gridcolor": "white",
            "gridwidth": 2,
            "linecolor": "white",
            "showbackground": true,
            "ticks": "",
            "zerolinecolor": "white"
           },
           "yaxis": {
            "backgroundcolor": "#E5ECF6",
            "gridcolor": "white",
            "gridwidth": 2,
            "linecolor": "white",
            "showbackground": true,
            "ticks": "",
            "zerolinecolor": "white"
           },
           "zaxis": {
            "backgroundcolor": "#E5ECF6",
            "gridcolor": "white",
            "gridwidth": 2,
            "linecolor": "white",
            "showbackground": true,
            "ticks": "",
            "zerolinecolor": "white"
           }
          },
          "shapedefaults": {
           "line": {
            "color": "#2a3f5f"
           }
          },
          "ternary": {
           "aaxis": {
            "gridcolor": "white",
            "linecolor": "white",
            "ticks": ""
           },
           "baxis": {
            "gridcolor": "white",
            "linecolor": "white",
            "ticks": ""
           },
           "bgcolor": "#E5ECF6",
           "caxis": {
            "gridcolor": "white",
            "linecolor": "white",
            "ticks": ""
           }
          },
          "title": {
           "x": 0.05
          },
          "xaxis": {
           "automargin": true,
           "gridcolor": "white",
           "linecolor": "white",
           "ticks": "",
           "title": {
            "standoff": 15
           },
           "zerolinecolor": "white",
           "zerolinewidth": 2
          },
          "yaxis": {
           "automargin": true,
           "gridcolor": "white",
           "linecolor": "white",
           "ticks": "",
           "title": {
            "standoff": 15
           },
           "zerolinecolor": "white",
           "zerolinewidth": 2
          }
         }
        },
        "title": {
         "text": "Case Study 1"
        },
        "width": 700
       }
      },
      "text/html": [
       "<div>                            <div id=\"797c9681-0bee-47d1-8d2c-3f193227b9e4\" class=\"plotly-graph-div\" style=\"height:525px; width:700px;\"></div>            <script type=\"text/javascript\">                require([\"plotly\"], function(Plotly) {                    window.PLOTLYENV=window.PLOTLYENV || {};                                    if (document.getElementById(\"797c9681-0bee-47d1-8d2c-3f193227b9e4\")) {                    Plotly.newPlot(                        \"797c9681-0bee-47d1-8d2c-3f193227b9e4\",                        [{\"marker\": {\"color\": [2.91270061424499, 3.0073879919810325, 3.1068890251339045, 3.206723657066195, 3.3105715316005155, 3.417366307538167, 3.531586460887138, 3.652845842592388, 3.7867005697877336, 3.934741125209437, 4.105865826499769, 4.308767894436023, 4.559881535274045, 4.898203972438031, 5.417480695827401, 6.583051083345919, 4.330180650081234, 4.589217438559042, 4.941266115386051, 5.494130812924813, 6.866006331744761, 4.3491127019954146, 4.613862789600181, 4.978146438578062, 5.563859383530613, 7.1808834450160886, 4.362657941077354, 4.633409229381404, 5.0079109938913655, 5.620898493691403, 7.533768115101883, 5.665962292754346, 7.936256103271474, 4.3790347020539375, 4.658443116103177, 5.045480174164436, 5.695996437987806, 8.272392137582944, 4.380683945044463, 4.662311865632469, 5.0527933671859, 5.713085192883277, 8.646907177206035, 4.379072389435473, 4.661025514903762, 5.05227217186895, 5.714704043276194, 8.735850234828304, 5.702578207817887, 8.536328993688922, 5.67605208694558, 8.19035839987286, 4.138958634518549, 4.351628937926215, 4.62766695142098, 5.009244598861089, 5.636472401113085, 7.806763688122751], \"colorscale\": [[0.0, \"rgb(0,0,255)\"], [1.0, \"rgb(255,0,0)\"]], \"opacity\": 0.8, \"size\": 8}, \"mode\": \"markers\", \"type\": \"scatter3d\", \"x\": [55, 55, 55, 55, 55, 55, 55, 55, 55, 55, 55, 55, 55, 55, 55, 55, 54, 54, 54, 54, 54, 53, 53, 53, 53, 53, 52, 52, 52, 52, 52, 51, 51, 50, 50, 50, 50, 50, 49, 49, 49, 49, 49, 48, 48, 48, 48, 48, 47, 47, 46, 46, 45, 45, 45, 45, 45, 45], \"y\": [20.0, 19.5, 19.0, 18.5, 18.0, 17.5, 17.0, 16.5, 16.0, 15.5, 15.0, 14.5, 14.0, 13.5, 13.0, 12.5, 15.0, 14.5, 14.0, 13.5, 13.0, 15.5, 15.0, 14.5, 14.0, 13.5, 16.0, 15.5, 15.0, 14.5, 14.0, 15.0, 14.5, 17.0, 16.5, 16.0, 15.5, 15.0, 17.5, 17.0, 16.5, 16.0, 15.5, 18.0, 17.5, 17.0, 16.5, 16.0, 17.0, 16.5, 17.5, 17.0, 20.0, 19.5, 19.0, 18.5, 18.0, 17.5], \"z\": [33.13679831, 35.21002525, 37.13116777, 38.91549732, 40.57312224, 42.11623371, 43.55305882, 44.89414841, 46.14610429, 47.3179207, 48.4147453, 49.44330781, 50.40967177, 51.31744265, 52.17174432, 52.97657831, 49.41811386, 50.3859852, 51.29536372, 52.1512115, 52.95768123, 49.37555831, 50.34659969, 51.2585674, 52.11637985, 52.9257122, 49.31779855, 50.29221188, 51.20760989, 52.06878048, 52.88103806, 52.00802302, 52.82331096, 49.15472667, 50.13875392, 51.06442748, 51.93486681, 52.75559149, 49.05080679, 50.04107019, 50.97273839, 51.84877813, 52.67351094, 48.93165092, 49.92945565, 50.86804692, 51.75049666, 52.58110028, 51.63977199, 52.47733981, 51.51715808, 52.36200089, 47.39005177, 48.48652879, 49.51232366, 50.47588602, 51.38274345, 52.23554877]}],                        {\"margin\": {\"b\": 10, \"l\": 10, \"r\": 20, \"t\": 25}, \"scene\": {\"xaxis\": {\"title\": {\"text\": \"Pressure drop in drum\"}}, \"yaxis\": {\"title\": {\"text\": \"Temperature\"}}, \"zaxis\": {\"title\": {\"text\": \"Distilate flow rate\"}}}, \"template\": {\"data\": {\"bar\": [{\"error_x\": {\"color\": \"#2a3f5f\"}, \"error_y\": {\"color\": \"#2a3f5f\"}, \"marker\": {\"line\": {\"color\": \"#E5ECF6\", \"width\": 0.5}}, \"type\": \"bar\"}], \"barpolar\": [{\"marker\": {\"line\": {\"color\": \"#E5ECF6\", \"width\": 0.5}}, \"type\": \"barpolar\"}], \"carpet\": [{\"aaxis\": {\"endlinecolor\": \"#2a3f5f\", \"gridcolor\": \"white\", \"linecolor\": \"white\", \"minorgridcolor\": \"white\", \"startlinecolor\": \"#2a3f5f\"}, \"baxis\": {\"endlinecolor\": \"#2a3f5f\", \"gridcolor\": \"white\", \"linecolor\": \"white\", \"minorgridcolor\": \"white\", \"startlinecolor\": \"#2a3f5f\"}, \"type\": \"carpet\"}], \"choropleth\": [{\"colorbar\": {\"outlinewidth\": 0, \"ticks\": \"\"}, \"type\": \"choropleth\"}], \"contour\": [{\"colorbar\": {\"outlinewidth\": 0, \"ticks\": \"\"}, \"colorscale\": [[0.0, \"#0d0887\"], [0.1111111111111111, \"#46039f\"], [0.2222222222222222, \"#7201a8\"], [0.3333333333333333, \"#9c179e\"], [0.4444444444444444, \"#bd3786\"], [0.5555555555555556, \"#d8576b\"], [0.6666666666666666, \"#ed7953\"], [0.7777777777777778, \"#fb9f3a\"], [0.8888888888888888, \"#fdca26\"], [1.0, \"#f0f921\"]], \"type\": \"contour\"}], \"contourcarpet\": [{\"colorbar\": {\"outlinewidth\": 0, \"ticks\": \"\"}, \"type\": \"contourcarpet\"}], \"heatmap\": [{\"colorbar\": {\"outlinewidth\": 0, \"ticks\": \"\"}, \"colorscale\": [[0.0, \"#0d0887\"], [0.1111111111111111, \"#46039f\"], [0.2222222222222222, \"#7201a8\"], [0.3333333333333333, \"#9c179e\"], [0.4444444444444444, \"#bd3786\"], [0.5555555555555556, \"#d8576b\"], [0.6666666666666666, \"#ed7953\"], [0.7777777777777778, \"#fb9f3a\"], [0.8888888888888888, \"#fdca26\"], [1.0, \"#f0f921\"]], \"type\": \"heatmap\"}], \"heatmapgl\": [{\"colorbar\": {\"outlinewidth\": 0, \"ticks\": \"\"}, \"colorscale\": [[0.0, \"#0d0887\"], [0.1111111111111111, \"#46039f\"], [0.2222222222222222, \"#7201a8\"], [0.3333333333333333, \"#9c179e\"], [0.4444444444444444, \"#bd3786\"], [0.5555555555555556, \"#d8576b\"], [0.6666666666666666, \"#ed7953\"], [0.7777777777777778, \"#fb9f3a\"], [0.8888888888888888, \"#fdca26\"], [1.0, \"#f0f921\"]], \"type\": \"heatmapgl\"}], \"histogram\": [{\"marker\": {\"colorbar\": {\"outlinewidth\": 0, \"ticks\": \"\"}}, \"type\": \"histogram\"}], \"histogram2d\": [{\"colorbar\": {\"outlinewidth\": 0, \"ticks\": \"\"}, \"colorscale\": [[0.0, \"#0d0887\"], [0.1111111111111111, \"#46039f\"], [0.2222222222222222, \"#7201a8\"], [0.3333333333333333, \"#9c179e\"], [0.4444444444444444, \"#bd3786\"], [0.5555555555555556, \"#d8576b\"], [0.6666666666666666, \"#ed7953\"], [0.7777777777777778, \"#fb9f3a\"], [0.8888888888888888, \"#fdca26\"], [1.0, \"#f0f921\"]], \"type\": \"histogram2d\"}], \"histogram2dcontour\": [{\"colorbar\": {\"outlinewidth\": 0, \"ticks\": \"\"}, \"colorscale\": [[0.0, \"#0d0887\"], [0.1111111111111111, \"#46039f\"], [0.2222222222222222, \"#7201a8\"], [0.3333333333333333, \"#9c179e\"], [0.4444444444444444, \"#bd3786\"], [0.5555555555555556, \"#d8576b\"], [0.6666666666666666, \"#ed7953\"], [0.7777777777777778, \"#fb9f3a\"], [0.8888888888888888, \"#fdca26\"], [1.0, \"#f0f921\"]], \"type\": \"histogram2dcontour\"}], \"mesh3d\": [{\"colorbar\": {\"outlinewidth\": 0, \"ticks\": \"\"}, \"type\": \"mesh3d\"}], \"parcoords\": [{\"line\": {\"colorbar\": {\"outlinewidth\": 0, \"ticks\": \"\"}}, \"type\": \"parcoords\"}], \"pie\": [{\"automargin\": true, \"type\": \"pie\"}], \"scatter\": [{\"marker\": {\"colorbar\": {\"outlinewidth\": 0, \"ticks\": \"\"}}, \"type\": \"scatter\"}], \"scatter3d\": [{\"line\": {\"colorbar\": {\"outlinewidth\": 0, \"ticks\": \"\"}}, \"marker\": {\"colorbar\": {\"outlinewidth\": 0, \"ticks\": \"\"}}, \"type\": \"scatter3d\"}], \"scattercarpet\": [{\"marker\": {\"colorbar\": {\"outlinewidth\": 0, \"ticks\": \"\"}}, \"type\": \"scattercarpet\"}], \"scattergeo\": [{\"marker\": {\"colorbar\": {\"outlinewidth\": 0, \"ticks\": \"\"}}, \"type\": \"scattergeo\"}], \"scattergl\": [{\"marker\": {\"colorbar\": {\"outlinewidth\": 0, \"ticks\": \"\"}}, \"type\": \"scattergl\"}], \"scattermapbox\": [{\"marker\": {\"colorbar\": {\"outlinewidth\": 0, \"ticks\": \"\"}}, \"type\": \"scattermapbox\"}], \"scatterpolar\": [{\"marker\": {\"colorbar\": {\"outlinewidth\": 0, \"ticks\": \"\"}}, \"type\": \"scatterpolar\"}], \"scatterpolargl\": [{\"marker\": {\"colorbar\": {\"outlinewidth\": 0, \"ticks\": \"\"}}, \"type\": \"scatterpolargl\"}], \"scatterternary\": [{\"marker\": {\"colorbar\": {\"outlinewidth\": 0, \"ticks\": \"\"}}, \"type\": \"scatterternary\"}], \"surface\": [{\"colorbar\": {\"outlinewidth\": 0, \"ticks\": \"\"}, \"colorscale\": [[0.0, \"#0d0887\"], [0.1111111111111111, \"#46039f\"], [0.2222222222222222, \"#7201a8\"], [0.3333333333333333, \"#9c179e\"], [0.4444444444444444, \"#bd3786\"], [0.5555555555555556, \"#d8576b\"], [0.6666666666666666, \"#ed7953\"], [0.7777777777777778, \"#fb9f3a\"], [0.8888888888888888, \"#fdca26\"], [1.0, \"#f0f921\"]], \"type\": \"surface\"}], \"table\": [{\"cells\": {\"fill\": {\"color\": \"#EBF0F8\"}, \"line\": {\"color\": \"white\"}}, \"header\": {\"fill\": {\"color\": \"#C8D4E3\"}, \"line\": {\"color\": \"white\"}}, \"type\": \"table\"}]}, \"layout\": {\"annotationdefaults\": {\"arrowcolor\": \"#2a3f5f\", \"arrowhead\": 0, \"arrowwidth\": 1}, \"autotypenumbers\": \"strict\", \"coloraxis\": {\"colorbar\": {\"outlinewidth\": 0, \"ticks\": \"\"}}, \"colorscale\": {\"diverging\": [[0, \"#8e0152\"], [0.1, \"#c51b7d\"], [0.2, \"#de77ae\"], [0.3, \"#f1b6da\"], [0.4, \"#fde0ef\"], [0.5, \"#f7f7f7\"], [0.6, \"#e6f5d0\"], [0.7, \"#b8e186\"], [0.8, \"#7fbc41\"], [0.9, \"#4d9221\"], [1, \"#276419\"]], \"sequential\": [[0.0, \"#0d0887\"], [0.1111111111111111, \"#46039f\"], [0.2222222222222222, \"#7201a8\"], [0.3333333333333333, \"#9c179e\"], [0.4444444444444444, \"#bd3786\"], [0.5555555555555556, \"#d8576b\"], [0.6666666666666666, \"#ed7953\"], [0.7777777777777778, \"#fb9f3a\"], [0.8888888888888888, \"#fdca26\"], [1.0, \"#f0f921\"]], \"sequentialminus\": [[0.0, \"#0d0887\"], [0.1111111111111111, \"#46039f\"], [0.2222222222222222, \"#7201a8\"], [0.3333333333333333, \"#9c179e\"], [0.4444444444444444, \"#bd3786\"], [0.5555555555555556, \"#d8576b\"], [0.6666666666666666, \"#ed7953\"], [0.7777777777777778, \"#fb9f3a\"], [0.8888888888888888, \"#fdca26\"], [1.0, \"#f0f921\"]]}, \"colorway\": [\"#636efa\", \"#EF553B\", \"#00cc96\", \"#ab63fa\", \"#FFA15A\", \"#19d3f3\", \"#FF6692\", \"#B6E880\", \"#FF97FF\", \"#FECB52\"], \"font\": {\"color\": \"#2a3f5f\"}, \"geo\": {\"bgcolor\": \"white\", \"lakecolor\": \"white\", \"landcolor\": \"#E5ECF6\", \"showlakes\": true, \"showland\": true, \"subunitcolor\": \"white\"}, \"hoverlabel\": {\"align\": \"left\"}, \"hovermode\": \"closest\", \"mapbox\": {\"style\": \"light\"}, \"paper_bgcolor\": \"white\", \"plot_bgcolor\": \"#E5ECF6\", \"polar\": {\"angularaxis\": {\"gridcolor\": \"white\", \"linecolor\": \"white\", \"ticks\": \"\"}, \"bgcolor\": \"#E5ECF6\", \"radialaxis\": {\"gridcolor\": \"white\", \"linecolor\": \"white\", \"ticks\": \"\"}}, \"scene\": {\"xaxis\": {\"backgroundcolor\": \"#E5ECF6\", \"gridcolor\": \"white\", \"gridwidth\": 2, \"linecolor\": \"white\", \"showbackground\": true, \"ticks\": \"\", \"zerolinecolor\": \"white\"}, \"yaxis\": {\"backgroundcolor\": \"#E5ECF6\", \"gridcolor\": \"white\", \"gridwidth\": 2, \"linecolor\": \"white\", \"showbackground\": true, \"ticks\": \"\", \"zerolinecolor\": \"white\"}, \"zaxis\": {\"backgroundcolor\": \"#E5ECF6\", \"gridcolor\": \"white\", \"gridwidth\": 2, \"linecolor\": \"white\", \"showbackground\": true, \"ticks\": \"\", \"zerolinecolor\": \"white\"}}, \"shapedefaults\": {\"line\": {\"color\": \"#2a3f5f\"}}, \"ternary\": {\"aaxis\": {\"gridcolor\": \"white\", \"linecolor\": \"white\", \"ticks\": \"\"}, \"baxis\": {\"gridcolor\": \"white\", \"linecolor\": \"white\", \"ticks\": \"\"}, \"bgcolor\": \"#E5ECF6\", \"caxis\": {\"gridcolor\": \"white\", \"linecolor\": \"white\", \"ticks\": \"\"}}, \"title\": {\"x\": 0.05}, \"xaxis\": {\"automargin\": true, \"gridcolor\": \"white\", \"linecolor\": \"white\", \"ticks\": \"\", \"title\": {\"standoff\": 15}, \"zerolinecolor\": \"white\", \"zerolinewidth\": 2}, \"yaxis\": {\"automargin\": true, \"gridcolor\": \"white\", \"linecolor\": \"white\", \"ticks\": \"\", \"title\": {\"standoff\": 15}, \"zerolinecolor\": \"white\", \"zerolinewidth\": 2}}}, \"title\": {\"text\": \"Case Study 1\"}, \"width\": 700},                        {\"responsive\": true}                    ).then(function(){\n",
       "                            \n",
       "var gd = document.getElementById('797c9681-0bee-47d1-8d2c-3f193227b9e4');\n",
       "var x = new MutationObserver(function (mutations, observer) {{\n",
       "        var display = window.getComputedStyle(gd).display;\n",
       "        if (!display || display === 'none') {{\n",
       "            console.log([gd, 'removed!']);\n",
       "            Plotly.purge(gd);\n",
       "            observer.disconnect();\n",
       "        }}\n",
       "}});\n",
       "\n",
       "// Listen for the removal of the full notebook cells\n",
       "var notebookContainer = gd.closest('#notebook-container');\n",
       "if (notebookContainer) {{\n",
       "    x.observe(notebookContainer, {childList: true});\n",
       "}}\n",
       "\n",
       "// Listen for the clearing of the current output cell\n",
       "var outputEl = gd.closest('.output');\n",
       "if (outputEl) {{\n",
       "    x.observe(outputEl, {childList: true});\n",
       "}}\n",
       "\n",
       "                        })                };                });            </script>        </div>"
      ]
     },
     "metadata": {},
     "output_type": "display_data"
    },
    {
     "data": {
      "application/vnd.plotly.v1+json": {
       "config": {
        "plotlyServerURL": "https://plot.ly"
       },
       "data": [
        {
         "marker": {
          "color": [
           32.768669506,
           34.8053356856,
           36.6841397404,
           38.4215366342,
           40.0251066118,
           41.5064534998,
           42.869495881599995,
           44.1224621132,
           45.26389189,
           46.2949425584,
           47.2008398324,
           47.9563312724,
           48.4982286254,
           48.63646649,
           47.665528710000004,
           38.52175607,
           47.898953717,
           48.4176375526,
           48.496417181999995,
           47.286011584,
           33.775470475999995,
           47.827363371400004,
           48.329138701999995,
           48.354467686,
           46.899829254000004,
           26.64433914,
           47.748490271,
           48.234928790000005,
           48.215771668,
           46.54603289,
           15.478255200000007,
           46.230706602000005,
           -3.1140828599999963,
           47.559506608,
           48.02931898,
           47.958050252,
           45.981401634,
           -25.530435490000002,
           47.4529536518,
           47.923458568,
           47.843560354000005,
           45.792701392,
           -61.17675994,
           47.3363707372,
           47.814566268,
           47.740499371999995,
           45.684608100000005,
           -71.85934240000002,
           45.646993242,
           -49.454666710000005,
           45.68125466,
           -19.758287310000007,
           46.135302674,
           46.934433322400004,
           47.466820208,
           47.480055205999996,
           45.773311848,
           3.0922407700000036
          ],
          "colorscale": [
           [
            0,
            "rgb(0,0,255)"
           ],
           [
            1,
            "rgb(255,0,0)"
           ]
          ],
          "opacity": 0.8,
          "size": 8
         },
         "mode": "markers",
         "type": "scatter3d",
         "x": [
          55,
          55,
          55,
          55,
          55,
          55,
          55,
          55,
          55,
          55,
          55,
          55,
          55,
          55,
          55,
          55,
          54,
          54,
          54,
          54,
          54,
          53,
          53,
          53,
          53,
          53,
          52,
          52,
          52,
          52,
          52,
          51,
          51,
          50,
          50,
          50,
          50,
          50,
          49,
          49,
          49,
          49,
          49,
          48,
          48,
          48,
          48,
          48,
          47,
          47,
          46,
          46,
          45,
          45,
          45,
          45,
          45,
          45
         ],
         "y": [
          20,
          19.5,
          19,
          18.5,
          18,
          17.5,
          17,
          16.5,
          16,
          15.5,
          15,
          14.5,
          14,
          13.5,
          13,
          12.5,
          15,
          14.5,
          14,
          13.5,
          13,
          15.5,
          15,
          14.5,
          14,
          13.5,
          16,
          15.5,
          15,
          14.5,
          14,
          15,
          14.5,
          17,
          16.5,
          16,
          15.5,
          15,
          17.5,
          17,
          16.5,
          16,
          15.5,
          18,
          17.5,
          17,
          16.5,
          16,
          17,
          16.5,
          17.5,
          17,
          20,
          19.5,
          19,
          18.5,
          18,
          17.5
         ],
         "z": [
          32.768669506,
          34.8053356856,
          36.6841397404,
          38.4215366342,
          40.0251066118,
          41.5064534998,
          42.869495881599995,
          44.1224621132,
          45.26389189,
          46.2949425584,
          47.2008398324,
          47.9563312724,
          48.4982286254,
          48.63646649,
          47.665528710000004,
          38.52175607,
          47.898953717,
          48.4176375526,
          48.496417181999995,
          47.286011584,
          33.775470475999995,
          47.827363371400004,
          48.329138701999995,
          48.354467686,
          46.899829254000004,
          26.64433914,
          47.748490271,
          48.234928790000005,
          48.215771668,
          46.54603289,
          15.478255200000007,
          46.230706602000005,
          -3.1140828599999963,
          47.559506608,
          48.02931898,
          47.958050252,
          45.981401634,
          -25.530435490000002,
          47.4529536518,
          47.923458568,
          47.843560354000005,
          45.792701392,
          -61.17675994,
          47.3363707372,
          47.814566268,
          47.740499371999995,
          45.684608100000005,
          -71.85934240000002,
          45.646993242,
          -49.454666710000005,
          45.68125466,
          -19.758287310000007,
          46.135302674,
          46.934433322400004,
          47.466820208,
          47.480055205999996,
          45.773311848,
          3.0922407700000036
         ]
        }
       ],
       "layout": {
        "margin": {
         "b": 10,
         "l": 10,
         "r": 20,
         "t": 25
        },
        "scene": {
         "xaxis": {
          "title": {
           "text": "Pressure drop in drum"
          }
         },
         "yaxis": {
          "title": {
           "text": "Temperature"
          }
         },
         "zaxis": {
          "title": {
           "text": "Estimated profit"
          }
         }
        },
        "template": {
         "data": {
          "bar": [
           {
            "error_x": {
             "color": "#2a3f5f"
            },
            "error_y": {
             "color": "#2a3f5f"
            },
            "marker": {
             "line": {
              "color": "#E5ECF6",
              "width": 0.5
             }
            },
            "type": "bar"
           }
          ],
          "barpolar": [
           {
            "marker": {
             "line": {
              "color": "#E5ECF6",
              "width": 0.5
             }
            },
            "type": "barpolar"
           }
          ],
          "carpet": [
           {
            "aaxis": {
             "endlinecolor": "#2a3f5f",
             "gridcolor": "white",
             "linecolor": "white",
             "minorgridcolor": "white",
             "startlinecolor": "#2a3f5f"
            },
            "baxis": {
             "endlinecolor": "#2a3f5f",
             "gridcolor": "white",
             "linecolor": "white",
             "minorgridcolor": "white",
             "startlinecolor": "#2a3f5f"
            },
            "type": "carpet"
           }
          ],
          "choropleth": [
           {
            "colorbar": {
             "outlinewidth": 0,
             "ticks": ""
            },
            "type": "choropleth"
           }
          ],
          "contour": [
           {
            "colorbar": {
             "outlinewidth": 0,
             "ticks": ""
            },
            "colorscale": [
             [
              0,
              "#0d0887"
             ],
             [
              0.1111111111111111,
              "#46039f"
             ],
             [
              0.2222222222222222,
              "#7201a8"
             ],
             [
              0.3333333333333333,
              "#9c179e"
             ],
             [
              0.4444444444444444,
              "#bd3786"
             ],
             [
              0.5555555555555556,
              "#d8576b"
             ],
             [
              0.6666666666666666,
              "#ed7953"
             ],
             [
              0.7777777777777778,
              "#fb9f3a"
             ],
             [
              0.8888888888888888,
              "#fdca26"
             ],
             [
              1,
              "#f0f921"
             ]
            ],
            "type": "contour"
           }
          ],
          "contourcarpet": [
           {
            "colorbar": {
             "outlinewidth": 0,
             "ticks": ""
            },
            "type": "contourcarpet"
           }
          ],
          "heatmap": [
           {
            "colorbar": {
             "outlinewidth": 0,
             "ticks": ""
            },
            "colorscale": [
             [
              0,
              "#0d0887"
             ],
             [
              0.1111111111111111,
              "#46039f"
             ],
             [
              0.2222222222222222,
              "#7201a8"
             ],
             [
              0.3333333333333333,
              "#9c179e"
             ],
             [
              0.4444444444444444,
              "#bd3786"
             ],
             [
              0.5555555555555556,
              "#d8576b"
             ],
             [
              0.6666666666666666,
              "#ed7953"
             ],
             [
              0.7777777777777778,
              "#fb9f3a"
             ],
             [
              0.8888888888888888,
              "#fdca26"
             ],
             [
              1,
              "#f0f921"
             ]
            ],
            "type": "heatmap"
           }
          ],
          "heatmapgl": [
           {
            "colorbar": {
             "outlinewidth": 0,
             "ticks": ""
            },
            "colorscale": [
             [
              0,
              "#0d0887"
             ],
             [
              0.1111111111111111,
              "#46039f"
             ],
             [
              0.2222222222222222,
              "#7201a8"
             ],
             [
              0.3333333333333333,
              "#9c179e"
             ],
             [
              0.4444444444444444,
              "#bd3786"
             ],
             [
              0.5555555555555556,
              "#d8576b"
             ],
             [
              0.6666666666666666,
              "#ed7953"
             ],
             [
              0.7777777777777778,
              "#fb9f3a"
             ],
             [
              0.8888888888888888,
              "#fdca26"
             ],
             [
              1,
              "#f0f921"
             ]
            ],
            "type": "heatmapgl"
           }
          ],
          "histogram": [
           {
            "marker": {
             "colorbar": {
              "outlinewidth": 0,
              "ticks": ""
             }
            },
            "type": "histogram"
           }
          ],
          "histogram2d": [
           {
            "colorbar": {
             "outlinewidth": 0,
             "ticks": ""
            },
            "colorscale": [
             [
              0,
              "#0d0887"
             ],
             [
              0.1111111111111111,
              "#46039f"
             ],
             [
              0.2222222222222222,
              "#7201a8"
             ],
             [
              0.3333333333333333,
              "#9c179e"
             ],
             [
              0.4444444444444444,
              "#bd3786"
             ],
             [
              0.5555555555555556,
              "#d8576b"
             ],
             [
              0.6666666666666666,
              "#ed7953"
             ],
             [
              0.7777777777777778,
              "#fb9f3a"
             ],
             [
              0.8888888888888888,
              "#fdca26"
             ],
             [
              1,
              "#f0f921"
             ]
            ],
            "type": "histogram2d"
           }
          ],
          "histogram2dcontour": [
           {
            "colorbar": {
             "outlinewidth": 0,
             "ticks": ""
            },
            "colorscale": [
             [
              0,
              "#0d0887"
             ],
             [
              0.1111111111111111,
              "#46039f"
             ],
             [
              0.2222222222222222,
              "#7201a8"
             ],
             [
              0.3333333333333333,
              "#9c179e"
             ],
             [
              0.4444444444444444,
              "#bd3786"
             ],
             [
              0.5555555555555556,
              "#d8576b"
             ],
             [
              0.6666666666666666,
              "#ed7953"
             ],
             [
              0.7777777777777778,
              "#fb9f3a"
             ],
             [
              0.8888888888888888,
              "#fdca26"
             ],
             [
              1,
              "#f0f921"
             ]
            ],
            "type": "histogram2dcontour"
           }
          ],
          "mesh3d": [
           {
            "colorbar": {
             "outlinewidth": 0,
             "ticks": ""
            },
            "type": "mesh3d"
           }
          ],
          "parcoords": [
           {
            "line": {
             "colorbar": {
              "outlinewidth": 0,
              "ticks": ""
             }
            },
            "type": "parcoords"
           }
          ],
          "pie": [
           {
            "automargin": true,
            "type": "pie"
           }
          ],
          "scatter": [
           {
            "marker": {
             "colorbar": {
              "outlinewidth": 0,
              "ticks": ""
             }
            },
            "type": "scatter"
           }
          ],
          "scatter3d": [
           {
            "line": {
             "colorbar": {
              "outlinewidth": 0,
              "ticks": ""
             }
            },
            "marker": {
             "colorbar": {
              "outlinewidth": 0,
              "ticks": ""
             }
            },
            "type": "scatter3d"
           }
          ],
          "scattercarpet": [
           {
            "marker": {
             "colorbar": {
              "outlinewidth": 0,
              "ticks": ""
             }
            },
            "type": "scattercarpet"
           }
          ],
          "scattergeo": [
           {
            "marker": {
             "colorbar": {
              "outlinewidth": 0,
              "ticks": ""
             }
            },
            "type": "scattergeo"
           }
          ],
          "scattergl": [
           {
            "marker": {
             "colorbar": {
              "outlinewidth": 0,
              "ticks": ""
             }
            },
            "type": "scattergl"
           }
          ],
          "scattermapbox": [
           {
            "marker": {
             "colorbar": {
              "outlinewidth": 0,
              "ticks": ""
             }
            },
            "type": "scattermapbox"
           }
          ],
          "scatterpolar": [
           {
            "marker": {
             "colorbar": {
              "outlinewidth": 0,
              "ticks": ""
             }
            },
            "type": "scatterpolar"
           }
          ],
          "scatterpolargl": [
           {
            "marker": {
             "colorbar": {
              "outlinewidth": 0,
              "ticks": ""
             }
            },
            "type": "scatterpolargl"
           }
          ],
          "scatterternary": [
           {
            "marker": {
             "colorbar": {
              "outlinewidth": 0,
              "ticks": ""
             }
            },
            "type": "scatterternary"
           }
          ],
          "surface": [
           {
            "colorbar": {
             "outlinewidth": 0,
             "ticks": ""
            },
            "colorscale": [
             [
              0,
              "#0d0887"
             ],
             [
              0.1111111111111111,
              "#46039f"
             ],
             [
              0.2222222222222222,
              "#7201a8"
             ],
             [
              0.3333333333333333,
              "#9c179e"
             ],
             [
              0.4444444444444444,
              "#bd3786"
             ],
             [
              0.5555555555555556,
              "#d8576b"
             ],
             [
              0.6666666666666666,
              "#ed7953"
             ],
             [
              0.7777777777777778,
              "#fb9f3a"
             ],
             [
              0.8888888888888888,
              "#fdca26"
             ],
             [
              1,
              "#f0f921"
             ]
            ],
            "type": "surface"
           }
          ],
          "table": [
           {
            "cells": {
             "fill": {
              "color": "#EBF0F8"
             },
             "line": {
              "color": "white"
             }
            },
            "header": {
             "fill": {
              "color": "#C8D4E3"
             },
             "line": {
              "color": "white"
             }
            },
            "type": "table"
           }
          ]
         },
         "layout": {
          "annotationdefaults": {
           "arrowcolor": "#2a3f5f",
           "arrowhead": 0,
           "arrowwidth": 1
          },
          "autotypenumbers": "strict",
          "coloraxis": {
           "colorbar": {
            "outlinewidth": 0,
            "ticks": ""
           }
          },
          "colorscale": {
           "diverging": [
            [
             0,
             "#8e0152"
            ],
            [
             0.1,
             "#c51b7d"
            ],
            [
             0.2,
             "#de77ae"
            ],
            [
             0.3,
             "#f1b6da"
            ],
            [
             0.4,
             "#fde0ef"
            ],
            [
             0.5,
             "#f7f7f7"
            ],
            [
             0.6,
             "#e6f5d0"
            ],
            [
             0.7,
             "#b8e186"
            ],
            [
             0.8,
             "#7fbc41"
            ],
            [
             0.9,
             "#4d9221"
            ],
            [
             1,
             "#276419"
            ]
           ],
           "sequential": [
            [
             0,
             "#0d0887"
            ],
            [
             0.1111111111111111,
             "#46039f"
            ],
            [
             0.2222222222222222,
             "#7201a8"
            ],
            [
             0.3333333333333333,
             "#9c179e"
            ],
            [
             0.4444444444444444,
             "#bd3786"
            ],
            [
             0.5555555555555556,
             "#d8576b"
            ],
            [
             0.6666666666666666,
             "#ed7953"
            ],
            [
             0.7777777777777778,
             "#fb9f3a"
            ],
            [
             0.8888888888888888,
             "#fdca26"
            ],
            [
             1,
             "#f0f921"
            ]
           ],
           "sequentialminus": [
            [
             0,
             "#0d0887"
            ],
            [
             0.1111111111111111,
             "#46039f"
            ],
            [
             0.2222222222222222,
             "#7201a8"
            ],
            [
             0.3333333333333333,
             "#9c179e"
            ],
            [
             0.4444444444444444,
             "#bd3786"
            ],
            [
             0.5555555555555556,
             "#d8576b"
            ],
            [
             0.6666666666666666,
             "#ed7953"
            ],
            [
             0.7777777777777778,
             "#fb9f3a"
            ],
            [
             0.8888888888888888,
             "#fdca26"
            ],
            [
             1,
             "#f0f921"
            ]
           ]
          },
          "colorway": [
           "#636efa",
           "#EF553B",
           "#00cc96",
           "#ab63fa",
           "#FFA15A",
           "#19d3f3",
           "#FF6692",
           "#B6E880",
           "#FF97FF",
           "#FECB52"
          ],
          "font": {
           "color": "#2a3f5f"
          },
          "geo": {
           "bgcolor": "white",
           "lakecolor": "white",
           "landcolor": "#E5ECF6",
           "showlakes": true,
           "showland": true,
           "subunitcolor": "white"
          },
          "hoverlabel": {
           "align": "left"
          },
          "hovermode": "closest",
          "mapbox": {
           "style": "light"
          },
          "paper_bgcolor": "white",
          "plot_bgcolor": "#E5ECF6",
          "polar": {
           "angularaxis": {
            "gridcolor": "white",
            "linecolor": "white",
            "ticks": ""
           },
           "bgcolor": "#E5ECF6",
           "radialaxis": {
            "gridcolor": "white",
            "linecolor": "white",
            "ticks": ""
           }
          },
          "scene": {
           "xaxis": {
            "backgroundcolor": "#E5ECF6",
            "gridcolor": "white",
            "gridwidth": 2,
            "linecolor": "white",
            "showbackground": true,
            "ticks": "",
            "zerolinecolor": "white"
           },
           "yaxis": {
            "backgroundcolor": "#E5ECF6",
            "gridcolor": "white",
            "gridwidth": 2,
            "linecolor": "white",
            "showbackground": true,
            "ticks": "",
            "zerolinecolor": "white"
           },
           "zaxis": {
            "backgroundcolor": "#E5ECF6",
            "gridcolor": "white",
            "gridwidth": 2,
            "linecolor": "white",
            "showbackground": true,
            "ticks": "",
            "zerolinecolor": "white"
           }
          },
          "shapedefaults": {
           "line": {
            "color": "#2a3f5f"
           }
          },
          "ternary": {
           "aaxis": {
            "gridcolor": "white",
            "linecolor": "white",
            "ticks": ""
           },
           "baxis": {
            "gridcolor": "white",
            "linecolor": "white",
            "ticks": ""
           },
           "bgcolor": "#E5ECF6",
           "caxis": {
            "gridcolor": "white",
            "linecolor": "white",
            "ticks": ""
           }
          },
          "title": {
           "x": 0.05
          },
          "xaxis": {
           "automargin": true,
           "gridcolor": "white",
           "linecolor": "white",
           "ticks": "",
           "title": {
            "standoff": 15
           },
           "zerolinecolor": "white",
           "zerolinewidth": 2
          },
          "yaxis": {
           "automargin": true,
           "gridcolor": "white",
           "linecolor": "white",
           "ticks": "",
           "title": {
            "standoff": 15
           },
           "zerolinecolor": "white",
           "zerolinewidth": 2
          }
         }
        },
        "width": 700
       }
      },
      "text/html": [
       "<div>                            <div id=\"0119f10b-e428-49c7-8d3b-3952479e9d64\" class=\"plotly-graph-div\" style=\"height:525px; width:700px;\"></div>            <script type=\"text/javascript\">                require([\"plotly\"], function(Plotly) {                    window.PLOTLYENV=window.PLOTLYENV || {};                                    if (document.getElementById(\"0119f10b-e428-49c7-8d3b-3952479e9d64\")) {                    Plotly.newPlot(                        \"0119f10b-e428-49c7-8d3b-3952479e9d64\",                        [{\"marker\": {\"color\": [32.768669506, 34.8053356856, 36.6841397404, 38.4215366342, 40.0251066118, 41.5064534998, 42.869495881599995, 44.1224621132, 45.26389189, 46.2949425584, 47.2008398324, 47.9563312724, 48.4982286254, 48.63646649, 47.665528710000004, 38.52175607, 47.898953717, 48.4176375526, 48.496417181999995, 47.286011584, 33.775470475999995, 47.827363371400004, 48.329138701999995, 48.354467686, 46.899829254000004, 26.64433914, 47.748490271, 48.234928790000005, 48.215771668, 46.54603289, 15.478255200000007, 46.230706602000005, -3.1140828599999963, 47.559506608, 48.02931898, 47.958050252, 45.981401634, -25.530435490000002, 47.4529536518, 47.923458568, 47.843560354000005, 45.792701392, -61.17675994, 47.3363707372, 47.814566268, 47.740499371999995, 45.684608100000005, -71.85934240000002, 45.646993242, -49.454666710000005, 45.68125466, -19.758287310000007, 46.135302674, 46.934433322400004, 47.466820208, 47.480055205999996, 45.773311848, 3.0922407700000036], \"colorscale\": [[0.0, \"rgb(0,0,255)\"], [1.0, \"rgb(255,0,0)\"]], \"opacity\": 0.8, \"size\": 8}, \"mode\": \"markers\", \"type\": \"scatter3d\", \"x\": [55, 55, 55, 55, 55, 55, 55, 55, 55, 55, 55, 55, 55, 55, 55, 55, 54, 54, 54, 54, 54, 53, 53, 53, 53, 53, 52, 52, 52, 52, 52, 51, 51, 50, 50, 50, 50, 50, 49, 49, 49, 49, 49, 48, 48, 48, 48, 48, 47, 47, 46, 46, 45, 45, 45, 45, 45, 45], \"y\": [20.0, 19.5, 19.0, 18.5, 18.0, 17.5, 17.0, 16.5, 16.0, 15.5, 15.0, 14.5, 14.0, 13.5, 13.0, 12.5, 15.0, 14.5, 14.0, 13.5, 13.0, 15.5, 15.0, 14.5, 14.0, 13.5, 16.0, 15.5, 15.0, 14.5, 14.0, 15.0, 14.5, 17.0, 16.5, 16.0, 15.5, 15.0, 17.5, 17.0, 16.5, 16.0, 15.5, 18.0, 17.5, 17.0, 16.5, 16.0, 17.0, 16.5, 17.5, 17.0, 20.0, 19.5, 19.0, 18.5, 18.0, 17.5], \"z\": [32.768669506, 34.8053356856, 36.6841397404, 38.4215366342, 40.0251066118, 41.5064534998, 42.869495881599995, 44.1224621132, 45.26389189, 46.2949425584, 47.2008398324, 47.9563312724, 48.4982286254, 48.63646649, 47.665528710000004, 38.52175607, 47.898953717, 48.4176375526, 48.496417181999995, 47.286011584, 33.775470475999995, 47.827363371400004, 48.329138701999995, 48.354467686, 46.899829254000004, 26.64433914, 47.748490271, 48.234928790000005, 48.215771668, 46.54603289, 15.478255200000007, 46.230706602000005, -3.1140828599999963, 47.559506608, 48.02931898, 47.958050252, 45.981401634, -25.530435490000002, 47.4529536518, 47.923458568, 47.843560354000005, 45.792701392, -61.17675994, 47.3363707372, 47.814566268, 47.740499371999995, 45.684608100000005, -71.85934240000002, 45.646993242, -49.454666710000005, 45.68125466, -19.758287310000007, 46.135302674, 46.934433322400004, 47.466820208, 47.480055205999996, 45.773311848, 3.0922407700000036]}],                        {\"margin\": {\"b\": 10, \"l\": 10, \"r\": 20, \"t\": 25}, \"scene\": {\"xaxis\": {\"title\": {\"text\": \"Pressure drop in drum\"}}, \"yaxis\": {\"title\": {\"text\": \"Temperature\"}}, \"zaxis\": {\"title\": {\"text\": \"Estimated profit\"}}}, \"template\": {\"data\": {\"bar\": [{\"error_x\": {\"color\": \"#2a3f5f\"}, \"error_y\": {\"color\": \"#2a3f5f\"}, \"marker\": {\"line\": {\"color\": \"#E5ECF6\", \"width\": 0.5}}, \"type\": \"bar\"}], \"barpolar\": [{\"marker\": {\"line\": {\"color\": \"#E5ECF6\", \"width\": 0.5}}, \"type\": \"barpolar\"}], \"carpet\": [{\"aaxis\": {\"endlinecolor\": \"#2a3f5f\", \"gridcolor\": \"white\", \"linecolor\": \"white\", \"minorgridcolor\": \"white\", \"startlinecolor\": \"#2a3f5f\"}, \"baxis\": {\"endlinecolor\": \"#2a3f5f\", \"gridcolor\": \"white\", \"linecolor\": \"white\", \"minorgridcolor\": \"white\", \"startlinecolor\": \"#2a3f5f\"}, \"type\": \"carpet\"}], \"choropleth\": [{\"colorbar\": {\"outlinewidth\": 0, \"ticks\": \"\"}, \"type\": \"choropleth\"}], \"contour\": [{\"colorbar\": {\"outlinewidth\": 0, \"ticks\": \"\"}, \"colorscale\": [[0.0, \"#0d0887\"], [0.1111111111111111, \"#46039f\"], [0.2222222222222222, \"#7201a8\"], [0.3333333333333333, \"#9c179e\"], [0.4444444444444444, \"#bd3786\"], [0.5555555555555556, \"#d8576b\"], [0.6666666666666666, \"#ed7953\"], [0.7777777777777778, \"#fb9f3a\"], [0.8888888888888888, \"#fdca26\"], [1.0, \"#f0f921\"]], \"type\": \"contour\"}], \"contourcarpet\": [{\"colorbar\": {\"outlinewidth\": 0, \"ticks\": \"\"}, \"type\": \"contourcarpet\"}], \"heatmap\": [{\"colorbar\": {\"outlinewidth\": 0, \"ticks\": \"\"}, \"colorscale\": [[0.0, \"#0d0887\"], [0.1111111111111111, \"#46039f\"], [0.2222222222222222, \"#7201a8\"], [0.3333333333333333, \"#9c179e\"], [0.4444444444444444, \"#bd3786\"], [0.5555555555555556, \"#d8576b\"], [0.6666666666666666, \"#ed7953\"], [0.7777777777777778, \"#fb9f3a\"], [0.8888888888888888, \"#fdca26\"], [1.0, \"#f0f921\"]], \"type\": \"heatmap\"}], \"heatmapgl\": [{\"colorbar\": {\"outlinewidth\": 0, \"ticks\": \"\"}, \"colorscale\": [[0.0, \"#0d0887\"], [0.1111111111111111, \"#46039f\"], [0.2222222222222222, \"#7201a8\"], [0.3333333333333333, \"#9c179e\"], [0.4444444444444444, \"#bd3786\"], [0.5555555555555556, \"#d8576b\"], [0.6666666666666666, \"#ed7953\"], [0.7777777777777778, \"#fb9f3a\"], [0.8888888888888888, \"#fdca26\"], [1.0, \"#f0f921\"]], \"type\": \"heatmapgl\"}], \"histogram\": [{\"marker\": {\"colorbar\": {\"outlinewidth\": 0, \"ticks\": \"\"}}, \"type\": \"histogram\"}], \"histogram2d\": [{\"colorbar\": {\"outlinewidth\": 0, \"ticks\": \"\"}, \"colorscale\": [[0.0, \"#0d0887\"], [0.1111111111111111, \"#46039f\"], [0.2222222222222222, \"#7201a8\"], [0.3333333333333333, \"#9c179e\"], [0.4444444444444444, \"#bd3786\"], [0.5555555555555556, \"#d8576b\"], [0.6666666666666666, \"#ed7953\"], [0.7777777777777778, \"#fb9f3a\"], [0.8888888888888888, \"#fdca26\"], [1.0, \"#f0f921\"]], \"type\": \"histogram2d\"}], \"histogram2dcontour\": [{\"colorbar\": {\"outlinewidth\": 0, \"ticks\": \"\"}, \"colorscale\": [[0.0, \"#0d0887\"], [0.1111111111111111, \"#46039f\"], [0.2222222222222222, \"#7201a8\"], [0.3333333333333333, \"#9c179e\"], [0.4444444444444444, \"#bd3786\"], [0.5555555555555556, \"#d8576b\"], [0.6666666666666666, \"#ed7953\"], [0.7777777777777778, \"#fb9f3a\"], [0.8888888888888888, \"#fdca26\"], [1.0, \"#f0f921\"]], \"type\": \"histogram2dcontour\"}], \"mesh3d\": [{\"colorbar\": {\"outlinewidth\": 0, \"ticks\": \"\"}, \"type\": \"mesh3d\"}], \"parcoords\": [{\"line\": {\"colorbar\": {\"outlinewidth\": 0, \"ticks\": \"\"}}, \"type\": \"parcoords\"}], \"pie\": [{\"automargin\": true, \"type\": \"pie\"}], \"scatter\": [{\"marker\": {\"colorbar\": {\"outlinewidth\": 0, \"ticks\": \"\"}}, \"type\": \"scatter\"}], \"scatter3d\": [{\"line\": {\"colorbar\": {\"outlinewidth\": 0, \"ticks\": \"\"}}, \"marker\": {\"colorbar\": {\"outlinewidth\": 0, \"ticks\": \"\"}}, \"type\": \"scatter3d\"}], \"scattercarpet\": [{\"marker\": {\"colorbar\": {\"outlinewidth\": 0, \"ticks\": \"\"}}, \"type\": \"scattercarpet\"}], \"scattergeo\": [{\"marker\": {\"colorbar\": {\"outlinewidth\": 0, \"ticks\": \"\"}}, \"type\": \"scattergeo\"}], \"scattergl\": [{\"marker\": {\"colorbar\": {\"outlinewidth\": 0, \"ticks\": \"\"}}, \"type\": \"scattergl\"}], \"scattermapbox\": [{\"marker\": {\"colorbar\": {\"outlinewidth\": 0, \"ticks\": \"\"}}, \"type\": \"scattermapbox\"}], \"scatterpolar\": [{\"marker\": {\"colorbar\": {\"outlinewidth\": 0, \"ticks\": \"\"}}, \"type\": \"scatterpolar\"}], \"scatterpolargl\": [{\"marker\": {\"colorbar\": {\"outlinewidth\": 0, \"ticks\": \"\"}}, \"type\": \"scatterpolargl\"}], \"scatterternary\": [{\"marker\": {\"colorbar\": {\"outlinewidth\": 0, \"ticks\": \"\"}}, \"type\": \"scatterternary\"}], \"surface\": [{\"colorbar\": {\"outlinewidth\": 0, \"ticks\": \"\"}, \"colorscale\": [[0.0, \"#0d0887\"], [0.1111111111111111, \"#46039f\"], [0.2222222222222222, \"#7201a8\"], [0.3333333333333333, \"#9c179e\"], [0.4444444444444444, \"#bd3786\"], [0.5555555555555556, \"#d8576b\"], [0.6666666666666666, \"#ed7953\"], [0.7777777777777778, \"#fb9f3a\"], [0.8888888888888888, \"#fdca26\"], [1.0, \"#f0f921\"]], \"type\": \"surface\"}], \"table\": [{\"cells\": {\"fill\": {\"color\": \"#EBF0F8\"}, \"line\": {\"color\": \"white\"}}, \"header\": {\"fill\": {\"color\": \"#C8D4E3\"}, \"line\": {\"color\": \"white\"}}, \"type\": \"table\"}]}, \"layout\": {\"annotationdefaults\": {\"arrowcolor\": \"#2a3f5f\", \"arrowhead\": 0, \"arrowwidth\": 1}, \"autotypenumbers\": \"strict\", \"coloraxis\": {\"colorbar\": {\"outlinewidth\": 0, \"ticks\": \"\"}}, \"colorscale\": {\"diverging\": [[0, \"#8e0152\"], [0.1, \"#c51b7d\"], [0.2, \"#de77ae\"], [0.3, \"#f1b6da\"], [0.4, \"#fde0ef\"], [0.5, \"#f7f7f7\"], [0.6, \"#e6f5d0\"], [0.7, \"#b8e186\"], [0.8, \"#7fbc41\"], [0.9, \"#4d9221\"], [1, \"#276419\"]], \"sequential\": [[0.0, \"#0d0887\"], [0.1111111111111111, \"#46039f\"], [0.2222222222222222, \"#7201a8\"], [0.3333333333333333, \"#9c179e\"], [0.4444444444444444, \"#bd3786\"], [0.5555555555555556, \"#d8576b\"], [0.6666666666666666, \"#ed7953\"], [0.7777777777777778, \"#fb9f3a\"], [0.8888888888888888, \"#fdca26\"], [1.0, \"#f0f921\"]], \"sequentialminus\": [[0.0, \"#0d0887\"], [0.1111111111111111, \"#46039f\"], [0.2222222222222222, \"#7201a8\"], [0.3333333333333333, \"#9c179e\"], [0.4444444444444444, \"#bd3786\"], [0.5555555555555556, \"#d8576b\"], [0.6666666666666666, \"#ed7953\"], [0.7777777777777778, \"#fb9f3a\"], [0.8888888888888888, \"#fdca26\"], [1.0, \"#f0f921\"]]}, \"colorway\": [\"#636efa\", \"#EF553B\", \"#00cc96\", \"#ab63fa\", \"#FFA15A\", \"#19d3f3\", \"#FF6692\", \"#B6E880\", \"#FF97FF\", \"#FECB52\"], \"font\": {\"color\": \"#2a3f5f\"}, \"geo\": {\"bgcolor\": \"white\", \"lakecolor\": \"white\", \"landcolor\": \"#E5ECF6\", \"showlakes\": true, \"showland\": true, \"subunitcolor\": \"white\"}, \"hoverlabel\": {\"align\": \"left\"}, \"hovermode\": \"closest\", \"mapbox\": {\"style\": \"light\"}, \"paper_bgcolor\": \"white\", \"plot_bgcolor\": \"#E5ECF6\", \"polar\": {\"angularaxis\": {\"gridcolor\": \"white\", \"linecolor\": \"white\", \"ticks\": \"\"}, \"bgcolor\": \"#E5ECF6\", \"radialaxis\": {\"gridcolor\": \"white\", \"linecolor\": \"white\", \"ticks\": \"\"}}, \"scene\": {\"xaxis\": {\"backgroundcolor\": \"#E5ECF6\", \"gridcolor\": \"white\", \"gridwidth\": 2, \"linecolor\": \"white\", \"showbackground\": true, \"ticks\": \"\", \"zerolinecolor\": \"white\"}, \"yaxis\": {\"backgroundcolor\": \"#E5ECF6\", \"gridcolor\": \"white\", \"gridwidth\": 2, \"linecolor\": \"white\", \"showbackground\": true, \"ticks\": \"\", \"zerolinecolor\": \"white\"}, \"zaxis\": {\"backgroundcolor\": \"#E5ECF6\", \"gridcolor\": \"white\", \"gridwidth\": 2, \"linecolor\": \"white\", \"showbackground\": true, \"ticks\": \"\", \"zerolinecolor\": \"white\"}}, \"shapedefaults\": {\"line\": {\"color\": \"#2a3f5f\"}}, \"ternary\": {\"aaxis\": {\"gridcolor\": \"white\", \"linecolor\": \"white\", \"ticks\": \"\"}, \"baxis\": {\"gridcolor\": \"white\", \"linecolor\": \"white\", \"ticks\": \"\"}, \"bgcolor\": \"#E5ECF6\", \"caxis\": {\"gridcolor\": \"white\", \"linecolor\": \"white\", \"ticks\": \"\"}}, \"title\": {\"x\": 0.05}, \"xaxis\": {\"automargin\": true, \"gridcolor\": \"white\", \"linecolor\": \"white\", \"ticks\": \"\", \"title\": {\"standoff\": 15}, \"zerolinecolor\": \"white\", \"zerolinewidth\": 2}, \"yaxis\": {\"automargin\": true, \"gridcolor\": \"white\", \"linecolor\": \"white\", \"ticks\": \"\", \"title\": {\"standoff\": 15}, \"zerolinecolor\": \"white\", \"zerolinewidth\": 2}}}, \"width\": 700},                        {\"responsive\": true}                    ).then(function(){\n",
       "                            \n",
       "var gd = document.getElementById('0119f10b-e428-49c7-8d3b-3952479e9d64');\n",
       "var x = new MutationObserver(function (mutations, observer) {{\n",
       "        var display = window.getComputedStyle(gd).display;\n",
       "        if (!display || display === 'none') {{\n",
       "            console.log([gd, 'removed!']);\n",
       "            Plotly.purge(gd);\n",
       "            observer.disconnect();\n",
       "        }}\n",
       "}});\n",
       "\n",
       "// Listen for the removal of the full notebook cells\n",
       "var notebookContainer = gd.closest('#notebook-container');\n",
       "if (notebookContainer) {{\n",
       "    x.observe(notebookContainer, {childList: true});\n",
       "}}\n",
       "\n",
       "// Listen for the clearing of the current output cell\n",
       "var outputEl = gd.closest('.output');\n",
       "if (outputEl) {{\n",
       "    x.observe(outputEl, {childList: true});\n",
       "}}\n",
       "\n",
       "                        })                };                });            </script>        </div>"
      ]
     },
     "metadata": {},
     "output_type": "display_data"
    }
   ],
   "source": [
    "fig = go.Figure(data = [go.Scatter3d(\n",
    "    x=df1['P drop'],\n",
    "    y=df1['temp'],\n",
    "    z=df1['dist flow'],\n",
    "    mode='markers',\n",
    "    marker=dict(\n",
    "        size=8,\n",
    "        color=np.log(df1['cond liq flow']),                # set color to an array/list of desired values\n",
    "        colorscale='bluered',   # choose a colorscale\n",
    "        opacity=0.8\n",
    "    )\n",
    ")])\n",
    "\n",
    "fig.update_layout(title=\"Case Study 1\",\n",
    "                scene = dict(\n",
    "                    xaxis_title='Pressure drop in drum',\n",
    "                    yaxis_title='Temperature',\n",
    "                    zaxis_title='Distilate flow rate'),\n",
    "                    width=700,\n",
    "                    margin=dict(r=20, b=10, l=10, t=25))\n",
    "fig.show()\n",
    "\n",
    "fig = go.Figure(data = [go.Scatter3d(\n",
    "    x=df1['P drop'],\n",
    "    y=df1['temp'],\n",
    "    z=df1['profit'],\n",
    "    mode='markers',\n",
    "    marker=dict(\n",
    "        size=8,\n",
    "        color=df1['profit'],                # set color to an array/list of desired values\n",
    "        colorscale='bluered',   # choose a colorscale\n",
    "        opacity=0.8\n",
    "    )\n",
    ")])\n",
    "\n",
    "fig.update_layout(scene = dict(\n",
    "                    xaxis_title='Pressure drop in drum',\n",
    "                    yaxis_title='Temperature',\n",
    "                    zaxis_title='Estimated profit'),\n",
    "                    width=700,\n",
    "                    margin=dict(r=20, b=10, l=10, t=25))\n",
    "fig.show()"
   ]
  },
  {
   "cell_type": "markdown",
   "metadata": {},
   "source": [
    "In case study 2 we varried the temperature and reflux ratio, again at our initial guess of a 50 kPa pressure drop in the flash drum. We see the same dependence on temperature we witnessed in case study one, though with some additional work we were able to get the simulation to converge at a greater range of temperatures. The biggest takeaway is that the reflux ratio does not have an effect on the product distilate stream or the condenser liquid flow rate. As we saw in Case study 1 there is a high cost with getting the last 5% recovery of MTBE which can be seen in the color coding on the graph below which is on a log scale."
   ]
  },
  {
   "cell_type": "code",
   "execution_count": 69,
   "metadata": {},
   "outputs": [
    {
     "data": {
      "application/vnd.plotly.v1+json": {
       "config": {
        "plotlyServerURL": "https://plot.ly"
       },
       "data": [
        {
         "marker": {
          "color": [
           8.330363895374527,
           8.330363895374527,
           8.330363895374527,
           8.330363895374527,
           8.330363895374527,
           8.330363895374527,
           8.330363895374527,
           8.330363895374527,
           8.330363895374527,
           8.330363895374527,
           8.330363895374527,
           8.330363895374527,
           8.330363895374527,
           8.330363895374527,
           8.330363895374527,
           8.330363895374527,
           8.330363895374527,
           8.330363895374527,
           8.330363895374527,
           8.330363895374527,
           8.330363895374527,
           8.330363895374527,
           8.330363895374527,
           8.330363895374527,
           8.330363895374527,
           8.330363895374527,
           8.330363895374527,
           8.330363895374527,
           8.330363895374527,
           8.330363895374527,
           8.330363895374527,
           8.330363895374527,
           8.330363895374527,
           8.330363895374527,
           8.330363895374527,
           8.330363895374527,
           8.330363895374527,
           8.330363895374527,
           8.330363895374527,
           8.330363895374527,
           8.330363895374527,
           8.330363895374527,
           8.330363895374527,
           8.330363895374527,
           8.330363895374527,
           8.330363895374527,
           8.330363895374527,
           8.330363895374527,
           8.330363895374527,
           8.330363895374527,
           8.330363895374527,
           8.330363895374527,
           8.330363895374527,
           8.330363895374527,
           8.330363895374527,
           8.330363895374527,
           8.330363895374527,
           8.330363895374527,
           8.330363895374527,
           8.330363895374527,
           8.330363895374527,
           8.330363895374527,
           8.330363895374527,
           8.330363895374527,
           8.330363895374527,
           8.330363895374527,
           8.330363895374527,
           8.330363895374527,
           8.330363895374527,
           8.330363895374527,
           8.330363895374527,
           8.330363895374527,
           8.330363895374527,
           8.330363895374527,
           8.330363895374527,
           8.330363895374527,
           8.330363895374527,
           8.330363895374527,
           8.330363895374527,
           8.330363895374527,
           8.330363895374527,
           8.330363895374527,
           8.330363895374527,
           8.330363895374527,
           8.330363895374527,
           8.330363895374527,
           8.330363895374527,
           8.330363895374527,
           8.330363895374527,
           8.330363895374527,
           8.330363895374527,
           8.330363895374527,
           8.330363895374527,
           8.330363895374527,
           8.330363895374527,
           8.330363895374527,
           8.330363895374527,
           8.330363895374527,
           8.330363895374527,
           8.330363895374527,
           5.053806399294229,
           5.053806399294229,
           5.053806399294229,
           5.053806399294229,
           5.053806399294229,
           5.053806399294229,
           5.053806399294229,
           5.053806399294229,
           5.053806399294229,
           5.053806399294229,
           5.053806399294229,
           5.053806399294229,
           5.053806399294229,
           5.053806399294229,
           5.053806399294229,
           5.053806399294229,
           5.053806399294229,
           5.053806399294229,
           5.053806399294229,
           5.053806399294229,
           5.053806399294229,
           5.053806399294229,
           5.053806399294229,
           5.053806399294229,
           5.053806399294229,
           5.053806399294229,
           5.053806399294229,
           5.053806399294229,
           5.053806399294229,
           5.053806399294229,
           5.053806399294229,
           5.053806399294229,
           5.053806399294229,
           5.053806399294229,
           5.053806399294229,
           5.053806399294229,
           5.053806399294229,
           5.053806399294229,
           5.053806399294229,
           5.053806399294229,
           5.053806399294229,
           5.053806399294229,
           5.053806399294229,
           5.053806399294229,
           5.053806399294229,
           5.053806399294229,
           5.053806399294229,
           5.053806399294229,
           5.053806399294229,
           5.053806399294229,
           5.053806399294229,
           5.053806399294229,
           5.053806399294229,
           5.053806399294229,
           5.053806399294229,
           5.053806399294229,
           5.053806399294229,
           5.053806399294229,
           5.053806399294229,
           5.053806399294229,
           5.053806399294229,
           5.053806399294229,
           5.053806399294229,
           5.053806399294229,
           5.053806399294229,
           5.053806399294229,
           5.053806399294229,
           5.053806399294229,
           5.053806399294229,
           5.053806399294229,
           5.053806399294229,
           5.053806399294229,
           5.053806399294229,
           5.053806399294229,
           5.053806399294229,
           5.053806399294229,
           5.053806399294229,
           5.053806399294229,
           5.053806399294229,
           5.053806399294229,
           5.053806399294229,
           5.053806399294229,
           5.053806399294229,
           5.053806399294229,
           5.053806399294229,
           5.053806399294229,
           5.053806399294229,
           5.053806399294229,
           5.053806399294229,
           5.053806399294229,
           5.053806399294229,
           5.053806399294229,
           5.053806399294229,
           5.053806399294229,
           5.053806399294229,
           5.053806399294229,
           5.053806399294229,
           5.053806399294229,
           5.053806399294229,
           5.053806399294229,
           4.38542749630773,
           4.38542749630773,
           4.38542749630773,
           4.38542749630773,
           4.38542749630773,
           4.38542749630773,
           4.38542749630773,
           4.38542749630773,
           4.38542749630773,
           4.38542749630773,
           4.38542749630773,
           4.38542749630773,
           4.38542749630773,
           4.38542749630773,
           4.38542749630773,
           4.38542749630773,
           4.38542749630773,
           4.38542749630773,
           4.38542749630773,
           4.38542749630773,
           4.38542749630773,
           4.38542749630773,
           4.38542749630773,
           4.38542749630773,
           4.38542749630773,
           4.38542749630773,
           4.38542749630773,
           4.38542749630773,
           4.38542749630773,
           4.38542749630773,
           4.38542749630773,
           4.38542749630773,
           4.38542749630773,
           4.38542749630773,
           4.38542749630773,
           4.38542749630773,
           4.38542749630773,
           4.38542749630773,
           4.38542749630773,
           4.38542749630773,
           4.38542749630773,
           4.38542749630773,
           4.38542749630773,
           4.38542749630773,
           4.38542749630773,
           4.38542749630773,
           4.38542749630773,
           4.38542749630773,
           4.38542749630773,
           4.38542749630773,
           4.38542749630773,
           4.38542749630773,
           4.38542749630773,
           4.38542749630773,
           4.38542749630773,
           4.38542749630773,
           4.38542749630773,
           4.38542749630773,
           4.38542749630773,
           4.38542749630773,
           4.38542749630773,
           4.38542749630773,
           4.38542749630773,
           4.38542749630773,
           4.38542749630773,
           4.38542749630773,
           4.38542749630773,
           4.38542749630773,
           4.38542749630773,
           4.38542749630773,
           4.38542749630773,
           4.38542749630773,
           4.38542749630773,
           4.38542749630773,
           4.38542749630773,
           4.38542749630773,
           4.38542749630773,
           4.38542749630773,
           4.38542749630773,
           4.38542749630773,
           4.38542749630773,
           4.38542749630773,
           4.38542749630773,
           4.38542749630773,
           4.38542749630773,
           4.38542749630773,
           4.38542749630773,
           4.38542749630773,
           4.38542749630773,
           4.38542749630773,
           4.38542749630773,
           4.38542749630773,
           4.38542749630773,
           4.38542749630773,
           4.38542749630773,
           4.38542749630773,
           4.38542749630773,
           4.38542749630773,
           4.38542749630773,
           4.38542749630773,
           3.9831838346621984,
           3.9831838346621984,
           3.9831838346621984,
           3.9831838346621984,
           3.9831838346621984,
           3.9831838346621984,
           3.9831838346621984,
           3.9831838346621984,
           3.9831838346621984,
           3.9831838346621984,
           3.9831838346621984,
           3.9831838346621984,
           3.9831838346621984,
           3.9831838346621984,
           3.9831838346621984,
           3.9831838346621984,
           3.9831838346621984,
           3.9831838346621984,
           3.9831838346621984,
           3.9831838346621984,
           3.9831838346621984,
           3.9831838346621984,
           3.9831838346621984,
           3.9831838346621984,
           3.9831838346621984,
           3.9831838346621984,
           3.9831838346621984,
           3.9831838346621984,
           3.9831838346621984,
           3.9831838346621984,
           3.9831838346621984,
           3.9831838346621984,
           3.9831838346621984,
           3.9831838346621984,
           3.9831838346621984,
           3.9831838346621984,
           3.9831838346621984,
           3.9831838346621984,
           3.9831838346621984,
           3.9831838346621984,
           3.9831838346621984,
           3.9831838346621984,
           3.9831838346621984,
           3.9831838346621984,
           3.9831838346621984,
           3.9831838346621984,
           3.9831838346621984,
           3.9831838346621984,
           3.9831838346621984,
           3.9831838346621984,
           3.9831838346621984,
           3.9831838346621984,
           3.9831838346621984,
           3.9831838346621984,
           3.9831838346621984,
           3.9831838346621984,
           3.9831838346621984,
           3.9831838346621984,
           3.9831838346621984,
           3.9831838346621984,
           3.9831838346621984,
           3.9831838346621984,
           3.9831838346621984,
           3.9831838346621984,
           3.9831838346621984,
           3.9831838346621984,
           3.9831838346621984,
           3.9831838346621984,
           3.9831838346621984,
           3.9831838346621984,
           3.9831838346621984,
           3.9831838346621984,
           3.9831838346621984,
           3.9831838346621984,
           3.9831838346621984,
           3.9831838346621984,
           3.9831838346621984,
           3.9831838346621984,
           3.9831838346621984,
           3.9831838346621984,
           3.9831838346621984,
           3.9831838346621984,
           3.9831838346621984,
           3.9831838346621984,
           3.9831838346621984,
           3.9831838346621984,
           3.9831838346621984,
           3.9831838346621984,
           3.9831838346621984,
           3.9831838346621984,
           3.9831838346621984,
           3.9831838346621984,
           3.9831838346621984,
           3.9831838346621984,
           3.9831838346621984,
           3.9831838346621984,
           3.9831838346621984,
           3.9831838346621984,
           3.9831838346621984,
           3.9831838346621984,
           3.6854702599097036,
           3.6854702599097036,
           3.6854702599097036,
           3.6854702599097036,
           3.6854702599097036,
           3.6854702599097036,
           3.6854702599097036,
           3.6854702599097036,
           3.6854702599097036,
           3.6854702599097036,
           3.6854702599097036,
           3.6854702599097036,
           3.6854702599097036,
           3.6854702599097036,
           3.6854702599097036,
           3.6854702599097036,
           3.6854702599097036,
           3.6854702599097036,
           3.6854702599097036,
           3.6854702599097036,
           3.6854702599097036,
           3.6854702599097036,
           3.6854702599097036,
           3.6854702599097036,
           3.6854702599097036,
           3.6854702599097036,
           3.6854702599097036,
           3.6854702599097036,
           3.6854702599097036,
           3.6854702599097036,
           3.6854702599097036,
           3.6854702599097036,
           3.6854702599097036,
           3.6854702599097036,
           3.6854702599097036,
           3.6854702599097036,
           3.6854702599097036,
           3.6854702599097036,
           3.6854702599097036,
           3.6854702599097036,
           3.6854702599097036,
           3.6854702599097036,
           3.6854702599097036,
           3.6854702599097036,
           3.6854702599097036,
           3.6854702599097036,
           3.6854702599097036,
           3.6854702599097036,
           3.6854702599097036,
           3.6854702599097036,
           3.6854702599097036,
           3.6854702599097036,
           3.6854702599097036,
           3.6854702599097036,
           3.6854702599097036,
           3.6854702599097036,
           3.6854702599097036,
           3.6854702599097036,
           3.6854702599097036,
           3.6854702599097036,
           3.6854702599097036,
           3.6854702599097036,
           3.6854702599097036,
           3.6854702599097036,
           3.6854702599097036,
           3.6854702599097036,
           3.6854702599097036,
           3.6854702599097036,
           3.6854702599097036,
           3.6854702599097036,
           3.6854702599097036,
           3.6854702599097036,
           3.6854702599097036,
           3.6854702599097036,
           3.6854702599097036,
           3.6854702599097036,
           3.6854702599097036,
           3.6854702599097036,
           3.6854702599097036,
           3.6854702599097036,
           3.6854702599097036,
           3.6854702599097036,
           3.6854702599097036,
           3.6854702599097036,
           3.6854702599097036,
           3.6854702599097036,
           3.6854702599097036,
           3.6854702599097036,
           3.6854702599097036,
           3.6854702599097036,
           3.6854702599097036,
           3.6854702599097036,
           3.6854702599097036,
           3.6854702599097036,
           3.6854702599097036,
           3.6854702599097036,
           3.6854702599097036,
           3.6854702599097036,
           3.6854702599097036,
           3.6854702599097036,
           3.4393516568212443,
           3.4393516568212443,
           3.4393516568212443,
           3.4393516568212443,
           3.4393516568212443,
           3.4393516568212443,
           3.4393516568212443,
           3.4393516568212443,
           3.4393516568212443,
           3.4393516568212443,
           3.4393516568212443,
           3.4393516568212443,
           3.4393516568212443,
           3.4393516568212443,
           3.4393516568212443,
           3.4393516568212443,
           3.4393516568212443,
           3.4393516568212443,
           3.4393516568212443,
           3.4393516568212443,
           3.4393516568212443,
           3.4393516568212443,
           3.4393516568212443,
           3.4393516568212443,
           3.4393516568212443,
           3.4393516568212443,
           3.4393516568212443,
           3.4393516568212443,
           3.4393516568212443,
           3.4393516568212443,
           3.4393516568212443,
           3.4393516568212443,
           3.4393516568212443,
           3.4393516568212443,
           3.4393516568212443,
           3.4393516568212443,
           3.4393516568212443,
           3.4393516568212443,
           3.4393516568212443,
           3.4393516568212443,
           3.4393516568212443,
           3.4393516568212443,
           3.4393516568212443,
           3.4393516568212443,
           3.4393516568212443,
           3.4393516568212443,
           3.4393516568212443,
           3.4393516568212443,
           3.4393516568212443,
           3.4393516568212443,
           3.4393516568212443,
           3.4393516568212443,
           3.4393516568212443,
           3.4393516568212443,
           3.4393516568212443,
           3.4393516568212443,
           3.4393516568212443,
           3.4393516568212443,
           3.4393516568212443,
           3.4393516568212443,
           3.4393516568212443,
           3.4393516568212443,
           3.4393516568212443,
           3.4393516568212443,
           3.4393516568212443,
           3.4393516568212443,
           3.4393516568212443,
           3.4393516568212443,
           3.4393516568212443,
           3.4393516568212443,
           3.4393516568212443,
           3.4393516568212443,
           3.4393516568212443,
           3.4393516568212443,
           3.4393516568212443,
           3.4393516568212443,
           3.4393516568212443,
           3.4393516568212443,
           3.4393516568212443,
           3.4393516568212443,
           3.4393516568212443,
           3.4393516568212443,
           3.4393516568212443,
           3.4393516568212443,
           3.4393516568212443,
           3.4393516568212443,
           3.4393516568212443,
           3.4393516568212443,
           3.4393516568212443,
           3.4393516568212443,
           3.4393516568212443,
           3.4393516568212443,
           3.4393516568212443,
           3.4393516568212443,
           3.4393516568212443,
           3.4393516568212443,
           3.4393516568212443,
           3.4393516568212443,
           3.4393516568212443,
           3.4393516568212443
          ],
          "colorscale": [
           [
            0,
            "rgb(0,0,255)"
           ],
           [
            1,
            "rgb(255,0,0)"
           ]
          ],
          "opacity": 0.8,
          "size": 6
         },
         "mode": "markers",
         "type": "scatter3d",
         "x": [
          1,
          2,
          3,
          4,
          5,
          6,
          7,
          8,
          9,
          10,
          11,
          12,
          13,
          14,
          15,
          16,
          17,
          18,
          19,
          20,
          21,
          22,
          23,
          24,
          25,
          26,
          27,
          28,
          29,
          30,
          31,
          32,
          33,
          34,
          35,
          36,
          37,
          38,
          39,
          40,
          41,
          42,
          43,
          44,
          45,
          46,
          47,
          48,
          49,
          50,
          51,
          52,
          53,
          54,
          55,
          56,
          57,
          58,
          59,
          60,
          61,
          62,
          63,
          64,
          65,
          66,
          67,
          68,
          69,
          70,
          71,
          72,
          73,
          74,
          75,
          76,
          77,
          78,
          79,
          80,
          81,
          82,
          83,
          84,
          85,
          86,
          87,
          88,
          89,
          90,
          91,
          92,
          93,
          94,
          95,
          96,
          97,
          98,
          99,
          100,
          1,
          2,
          3,
          4,
          5,
          6,
          7,
          8,
          9,
          10,
          11,
          12,
          13,
          14,
          15,
          16,
          17,
          18,
          19,
          20,
          21,
          22,
          23,
          24,
          25,
          26,
          27,
          28,
          29,
          30,
          31,
          32,
          33,
          34,
          35,
          36,
          37,
          38,
          39,
          40,
          41,
          42,
          43,
          44,
          45,
          46,
          47,
          48,
          49,
          50,
          51,
          52,
          53,
          54,
          55,
          56,
          57,
          58,
          59,
          60,
          61,
          62,
          63,
          64,
          65,
          66,
          67,
          68,
          69,
          70,
          71,
          72,
          73,
          74,
          75,
          76,
          77,
          78,
          79,
          80,
          81,
          82,
          83,
          84,
          85,
          86,
          87,
          88,
          89,
          90,
          91,
          92,
          93,
          94,
          95,
          96,
          97,
          98,
          99,
          100,
          1,
          2,
          3,
          4,
          5,
          6,
          7,
          8,
          9,
          10,
          11,
          12,
          13,
          14,
          15,
          16,
          17,
          18,
          19,
          20,
          21,
          22,
          23,
          24,
          25,
          26,
          27,
          28,
          29,
          30,
          31,
          32,
          33,
          34,
          35,
          36,
          37,
          38,
          39,
          40,
          41,
          42,
          43,
          44,
          45,
          46,
          47,
          48,
          49,
          50,
          51,
          52,
          53,
          54,
          55,
          56,
          57,
          58,
          59,
          60,
          61,
          62,
          63,
          64,
          65,
          66,
          67,
          68,
          69,
          70,
          71,
          72,
          73,
          74,
          75,
          76,
          77,
          78,
          79,
          80,
          81,
          82,
          83,
          84,
          85,
          86,
          87,
          88,
          89,
          90,
          91,
          92,
          93,
          94,
          95,
          96,
          97,
          98,
          99,
          100,
          1,
          2,
          3,
          4,
          5,
          6,
          7,
          8,
          9,
          10,
          11,
          12,
          13,
          14,
          15,
          16,
          17,
          18,
          19,
          20,
          21,
          22,
          23,
          24,
          25,
          26,
          27,
          28,
          29,
          30,
          31,
          32,
          33,
          34,
          35,
          36,
          37,
          38,
          39,
          40,
          41,
          42,
          43,
          44,
          45,
          46,
          47,
          48,
          49,
          50,
          51,
          52,
          53,
          54,
          55,
          56,
          57,
          58,
          59,
          60,
          61,
          62,
          63,
          64,
          65,
          66,
          67,
          68,
          69,
          70,
          71,
          72,
          73,
          74,
          75,
          76,
          77,
          78,
          79,
          80,
          81,
          82,
          83,
          84,
          85,
          86,
          87,
          88,
          89,
          90,
          91,
          92,
          93,
          94,
          95,
          96,
          97,
          98,
          99,
          100,
          1,
          2,
          3,
          4,
          5,
          6,
          7,
          8,
          9,
          10,
          11,
          12,
          13,
          14,
          15,
          16,
          17,
          18,
          19,
          20,
          21,
          22,
          23,
          24,
          25,
          26,
          27,
          28,
          29,
          30,
          31,
          32,
          33,
          34,
          35,
          36,
          37,
          38,
          39,
          40,
          41,
          42,
          43,
          44,
          45,
          46,
          47,
          48,
          49,
          50,
          51,
          52,
          53,
          54,
          55,
          56,
          57,
          58,
          59,
          60,
          61,
          62,
          63,
          64,
          65,
          66,
          67,
          68,
          69,
          70,
          71,
          72,
          73,
          74,
          75,
          76,
          77,
          78,
          79,
          80,
          81,
          82,
          83,
          84,
          85,
          86,
          87,
          88,
          89,
          90,
          91,
          92,
          93,
          94,
          95,
          96,
          97,
          98,
          99,
          100,
          1,
          2,
          3,
          4,
          5,
          6,
          7,
          8,
          9,
          10,
          11,
          12,
          13,
          14,
          15,
          16,
          17,
          18,
          19,
          20,
          21,
          22,
          23,
          24,
          25,
          26,
          27,
          28,
          29,
          30,
          31,
          32,
          33,
          34,
          35,
          36,
          37,
          38,
          39,
          40,
          41,
          42,
          43,
          44,
          45,
          46,
          47,
          48,
          49,
          50,
          51,
          52,
          53,
          54,
          55,
          56,
          57,
          58,
          59,
          60,
          61,
          62,
          63,
          64,
          65,
          66,
          67,
          68,
          69,
          70,
          71,
          72,
          73,
          74,
          75,
          76,
          77,
          78,
          79,
          80,
          81,
          82,
          83,
          84,
          85,
          86,
          87,
          88,
          89,
          90,
          91,
          92,
          93,
          94,
          95,
          96,
          97,
          98,
          99,
          100
         ],
         "y": [
          15,
          15,
          15,
          15,
          15,
          15,
          15,
          15,
          15,
          15,
          15,
          15,
          15,
          15,
          15,
          15,
          15,
          15,
          15,
          15,
          15,
          15,
          15,
          15,
          15,
          15,
          15,
          15,
          15,
          15,
          15,
          15,
          15,
          15,
          15,
          15,
          15,
          15,
          15,
          15,
          15,
          15,
          15,
          15,
          15,
          15,
          15,
          15,
          15,
          15,
          15,
          15,
          15,
          15,
          15,
          15,
          15,
          15,
          15,
          15,
          15,
          15,
          15,
          15,
          15,
          15,
          15,
          15,
          15,
          15,
          15,
          15,
          15,
          15,
          15,
          15,
          15,
          15,
          15,
          15,
          15,
          15,
          15,
          15,
          15,
          15,
          15,
          15,
          15,
          15,
          15,
          15,
          15,
          15,
          15,
          15,
          15,
          15,
          15,
          15,
          16,
          16,
          16,
          16,
          16,
          16,
          16,
          16,
          16,
          16,
          16,
          16,
          16,
          16,
          16,
          16,
          16,
          16,
          16,
          16,
          16,
          16,
          16,
          16,
          16,
          16,
          16,
          16,
          16,
          16,
          16,
          16,
          16,
          16,
          16,
          16,
          16,
          16,
          16,
          16,
          16,
          16,
          16,
          16,
          16,
          16,
          16,
          16,
          16,
          16,
          16,
          16,
          16,
          16,
          16,
          16,
          16,
          16,
          16,
          16,
          16,
          16,
          16,
          16,
          16,
          16,
          16,
          16,
          16,
          16,
          16,
          16,
          16,
          16,
          16,
          16,
          16,
          16,
          16,
          16,
          16,
          16,
          16,
          16,
          16,
          16,
          16,
          16,
          16,
          16,
          16,
          16,
          16,
          16,
          16,
          16,
          16,
          16,
          16,
          16,
          17,
          17,
          17,
          17,
          17,
          17,
          17,
          17,
          17,
          17,
          17,
          17,
          17,
          17,
          17,
          17,
          17,
          17,
          17,
          17,
          17,
          17,
          17,
          17,
          17,
          17,
          17,
          17,
          17,
          17,
          17,
          17,
          17,
          17,
          17,
          17,
          17,
          17,
          17,
          17,
          17,
          17,
          17,
          17,
          17,
          17,
          17,
          17,
          17,
          17,
          17,
          17,
          17,
          17,
          17,
          17,
          17,
          17,
          17,
          17,
          17,
          17,
          17,
          17,
          17,
          17,
          17,
          17,
          17,
          17,
          17,
          17,
          17,
          17,
          17,
          17,
          17,
          17,
          17,
          17,
          17,
          17,
          17,
          17,
          17,
          17,
          17,
          17,
          17,
          17,
          17,
          17,
          17,
          17,
          17,
          17,
          17,
          17,
          17,
          17,
          18,
          18,
          18,
          18,
          18,
          18,
          18,
          18,
          18,
          18,
          18,
          18,
          18,
          18,
          18,
          18,
          18,
          18,
          18,
          18,
          18,
          18,
          18,
          18,
          18,
          18,
          18,
          18,
          18,
          18,
          18,
          18,
          18,
          18,
          18,
          18,
          18,
          18,
          18,
          18,
          18,
          18,
          18,
          18,
          18,
          18,
          18,
          18,
          18,
          18,
          18,
          18,
          18,
          18,
          18,
          18,
          18,
          18,
          18,
          18,
          18,
          18,
          18,
          18,
          18,
          18,
          18,
          18,
          18,
          18,
          18,
          18,
          18,
          18,
          18,
          18,
          18,
          18,
          18,
          18,
          18,
          18,
          18,
          18,
          18,
          18,
          18,
          18,
          18,
          18,
          18,
          18,
          18,
          18,
          18,
          18,
          18,
          18,
          18,
          18,
          19,
          19,
          19,
          19,
          19,
          19,
          19,
          19,
          19,
          19,
          19,
          19,
          19,
          19,
          19,
          19,
          19,
          19,
          19,
          19,
          19,
          19,
          19,
          19,
          19,
          19,
          19,
          19,
          19,
          19,
          19,
          19,
          19,
          19,
          19,
          19,
          19,
          19,
          19,
          19,
          19,
          19,
          19,
          19,
          19,
          19,
          19,
          19,
          19,
          19,
          19,
          19,
          19,
          19,
          19,
          19,
          19,
          19,
          19,
          19,
          19,
          19,
          19,
          19,
          19,
          19,
          19,
          19,
          19,
          19,
          19,
          19,
          19,
          19,
          19,
          19,
          19,
          19,
          19,
          19,
          19,
          19,
          19,
          19,
          19,
          19,
          19,
          19,
          19,
          19,
          19,
          19,
          19,
          19,
          19,
          19,
          19,
          19,
          19,
          19,
          20,
          20,
          20,
          20,
          20,
          20,
          20,
          20,
          20,
          20,
          20,
          20,
          20,
          20,
          20,
          20,
          20,
          20,
          20,
          20,
          20,
          20,
          20,
          20,
          20,
          20,
          20,
          20,
          20,
          20,
          20,
          20,
          20,
          20,
          20,
          20,
          20,
          20,
          20,
          20,
          20,
          20,
          20,
          20,
          20,
          20,
          20,
          20,
          20,
          20,
          20,
          20,
          20,
          20,
          20,
          20,
          20,
          20,
          20,
          20,
          20,
          20,
          20,
          20,
          20,
          20,
          20,
          20,
          20,
          20,
          20,
          20,
          20,
          20,
          20,
          20,
          20,
          20,
          20,
          20,
          20,
          20,
          20,
          20,
          20,
          20,
          20,
          20,
          20,
          20,
          20,
          20,
          20,
          20,
          20,
          20,
          20,
          20,
          20,
          20
         ],
         "z": [
          52.75440807,
          52.75440807,
          52.75440807,
          52.75440807,
          52.75440807,
          52.75440807,
          52.75440807,
          52.75440807,
          52.75440807,
          52.75440807,
          52.75440807,
          52.75440807,
          52.75440807,
          52.75440807,
          52.75440807,
          52.75440807,
          52.75440807,
          52.75440807,
          52.75440807,
          52.75440807,
          52.75440807,
          52.75440807,
          52.75440807,
          52.75440807,
          52.75440807,
          52.75440807,
          52.75440807,
          52.75440807,
          52.75440807,
          52.75440807,
          52.75440807,
          52.75440807,
          52.75440807,
          52.75440807,
          52.75440807,
          52.75440807,
          52.75440807,
          52.75440807,
          52.75440807,
          52.75440807,
          52.75440807,
          52.75440807,
          52.75440807,
          52.75440807,
          52.75440807,
          52.75440807,
          52.75440807,
          52.75440807,
          52.75440807,
          52.75440807,
          52.75440807,
          52.75440807,
          52.75440807,
          52.75440807,
          52.75440807,
          52.75440807,
          52.75440807,
          52.75440807,
          52.75440807,
          52.75440807,
          52.75440807,
          52.75440807,
          52.75440807,
          52.75440807,
          52.75440807,
          52.75440807,
          52.75440807,
          52.75440807,
          52.75440807,
          52.75440807,
          52.75440807,
          52.75440807,
          52.75440807,
          52.75440807,
          52.75440807,
          52.75440807,
          52.75440807,
          52.75440807,
          52.75440807,
          52.75440807,
          52.75440807,
          52.75440807,
          52.75440807,
          52.75440807,
          52.75440807,
          52.75440807,
          52.75440807,
          52.75440807,
          52.75440807,
          52.75440807,
          52.75440807,
          52.75440807,
          52.75440807,
          52.75440807,
          52.75440807,
          52.75440807,
          52.75440807,
          52.75440807,
          52.75440807,
          52.75440807,
          51.06113909,
          51.06113909,
          51.06113909,
          51.06113909,
          51.06113909,
          51.06113909,
          51.06113909,
          51.06113909,
          51.06113909,
          51.06113909,
          51.06113909,
          51.06113909,
          51.06113909,
          51.06113909,
          51.06113909,
          51.06113909,
          51.06113909,
          51.06113909,
          51.06113909,
          51.06113909,
          51.06113909,
          51.06113909,
          51.06113909,
          51.06113909,
          51.06113909,
          51.06113909,
          51.06113909,
          51.06113909,
          51.06113909,
          51.06113909,
          51.06113909,
          51.06113909,
          51.06113909,
          51.06113909,
          51.06113909,
          51.06113909,
          51.06113909,
          51.06113909,
          51.06113909,
          51.06113909,
          51.06113909,
          51.06113909,
          51.06113909,
          51.06113909,
          51.06113909,
          51.06113909,
          51.06113909,
          51.06113909,
          51.06113909,
          51.06113909,
          51.06113909,
          51.06113909,
          51.06113909,
          51.06113909,
          51.06113909,
          51.06113909,
          51.06113909,
          51.06113909,
          51.06113909,
          51.06113909,
          51.06113909,
          51.06113909,
          51.06113909,
          51.06113909,
          51.06113909,
          51.06113909,
          51.06113909,
          51.06113909,
          51.06113909,
          51.06113909,
          51.06113909,
          51.06113909,
          51.06113909,
          51.06113909,
          51.06113909,
          51.06113909,
          51.06113909,
          51.06113909,
          51.06113909,
          51.06113909,
          51.06113909,
          51.06113909,
          51.06113909,
          51.06113909,
          51.06113909,
          51.06113909,
          51.06113909,
          51.06113909,
          51.06113909,
          51.06113909,
          51.06113909,
          51.06113909,
          51.06113909,
          51.06113909,
          51.06113909,
          51.06113909,
          51.06113909,
          51.06113909,
          51.06113909,
          51.06113909,
          49.1514092,
          49.1514092,
          49.1514092,
          49.1514092,
          49.1514092,
          49.1514092,
          49.1514092,
          49.1514092,
          49.1514092,
          49.1514092,
          49.1514092,
          49.1514092,
          49.1514092,
          49.1514092,
          49.1514092,
          49.1514092,
          49.1514092,
          49.1514092,
          49.1514092,
          49.1514092,
          49.1514092,
          49.1514092,
          49.1514092,
          49.1514092,
          49.1514092,
          49.1514092,
          49.1514092,
          49.1514092,
          49.1514092,
          49.1514092,
          49.1514092,
          49.1514092,
          49.1514092,
          49.1514092,
          49.1514092,
          49.1514092,
          49.1514092,
          49.1514092,
          49.1514092,
          49.1514092,
          49.1514092,
          49.1514092,
          49.1514092,
          49.1514092,
          49.1514092,
          49.1514092,
          49.1514092,
          49.1514092,
          49.1514092,
          49.1514092,
          49.1514092,
          49.1514092,
          49.1514092,
          49.1514092,
          49.1514092,
          49.1514092,
          49.1514092,
          49.1514092,
          49.1514092,
          49.1514092,
          49.1514092,
          49.1514092,
          49.1514092,
          49.1514092,
          49.1514092,
          49.1514092,
          49.1514092,
          49.1514092,
          49.1514092,
          49.1514092,
          49.1514092,
          49.1514092,
          49.1514092,
          49.1514092,
          49.1514092,
          49.1514092,
          49.1514092,
          49.1514092,
          49.1514092,
          49.1514092,
          49.1514092,
          49.1514092,
          49.1514092,
          49.1514092,
          49.1514092,
          49.1514092,
          49.1514092,
          49.1514092,
          49.1514092,
          49.1514092,
          49.1514092,
          49.1514092,
          49.1514092,
          49.1514092,
          49.1514092,
          49.1514092,
          49.1514092,
          49.1514092,
          49.1514092,
          49.1514092,
          46.98489315,
          46.98489315,
          46.98489315,
          46.98489315,
          46.98489315,
          46.98489315,
          46.98489315,
          46.98489315,
          46.98489315,
          46.98489315,
          46.98489315,
          46.98489315,
          46.98489315,
          46.98489315,
          46.98489315,
          46.98489315,
          46.98489315,
          46.98489315,
          46.98489315,
          46.98489315,
          46.98489315,
          46.98489315,
          46.98489315,
          46.98489315,
          46.98489315,
          46.98489315,
          46.98489315,
          46.98489315,
          46.98489315,
          46.98489315,
          46.98489315,
          46.98489315,
          46.98489315,
          46.98489315,
          46.98489315,
          46.98489315,
          46.98489315,
          46.98489315,
          46.98489315,
          46.98489315,
          46.98489315,
          46.98489315,
          46.98489315,
          46.98489315,
          46.98489315,
          46.98489315,
          46.98489315,
          46.98489315,
          46.98489315,
          46.98489315,
          46.98489315,
          46.98489315,
          46.98489315,
          46.98489315,
          46.98489315,
          46.98489315,
          46.98489315,
          46.98489315,
          46.98489315,
          46.98489315,
          46.98489315,
          46.98489315,
          46.98489315,
          46.98489315,
          46.98489315,
          46.98489315,
          46.98489315,
          46.98489315,
          46.98489315,
          46.98489315,
          46.98489315,
          46.98489315,
          46.98489315,
          46.98489315,
          46.98489315,
          46.98489315,
          46.98489315,
          46.98489315,
          46.98489315,
          46.98489315,
          46.98489315,
          46.98489315,
          46.98489315,
          46.98489315,
          46.98489315,
          46.98489315,
          46.98489315,
          46.98489315,
          46.98489315,
          46.98489315,
          46.98489315,
          46.98489315,
          46.98489315,
          46.98489315,
          46.98489315,
          46.98489315,
          46.98489315,
          46.98489315,
          46.98489315,
          46.98489315,
          44.51344319,
          44.51344319,
          44.51344319,
          44.51344319,
          44.51344319,
          44.51344319,
          44.51344319,
          44.51344319,
          44.51344319,
          44.51344319,
          44.51344319,
          44.51344319,
          44.51344319,
          44.51344319,
          44.51344319,
          44.51344319,
          44.51344319,
          44.51344319,
          44.51344319,
          44.51344319,
          44.51344319,
          44.51344319,
          44.51344319,
          44.51344319,
          44.51344319,
          44.51344319,
          44.51344319,
          44.51344319,
          44.51344319,
          44.51344319,
          44.51344319,
          44.51344319,
          44.51344319,
          44.51344319,
          44.51344319,
          44.51344319,
          44.51344319,
          44.51344319,
          44.51344319,
          44.51344319,
          44.51344319,
          44.51344319,
          44.51344319,
          44.51344319,
          44.51344319,
          44.51344319,
          44.51344319,
          44.51344319,
          44.51344319,
          44.51344319,
          44.51344319,
          44.51344319,
          44.51344319,
          44.51344319,
          44.51344319,
          44.51344319,
          44.51344319,
          44.51344319,
          44.51344319,
          44.51344319,
          44.51344319,
          44.51344319,
          44.51344319,
          44.51344319,
          44.51344319,
          44.51344319,
          44.51344319,
          44.51344319,
          44.51344319,
          44.51344319,
          44.51344319,
          44.51344319,
          44.51344319,
          44.51344319,
          44.51344319,
          44.51344319,
          44.51344319,
          44.51344319,
          44.51344319,
          44.51344319,
          44.51344319,
          44.51344319,
          44.51344319,
          44.51344319,
          44.51344319,
          44.51344319,
          44.51344319,
          44.51344319,
          44.51344319,
          44.51344319,
          44.51344319,
          44.51344319,
          44.51344319,
          44.51344319,
          44.51344319,
          44.51344319,
          44.51344319,
          44.51344319,
          44.51344319,
          44.51344319,
          41.67871427,
          41.67871427,
          41.67871427,
          41.67871427,
          41.67871427,
          41.67871427,
          41.67871427,
          41.67871427,
          41.67871427,
          41.67871427,
          41.67871427,
          41.67871427,
          41.67871427,
          41.67871427,
          41.67871427,
          41.67871427,
          41.67871427,
          41.67871427,
          41.67871427,
          41.67871427,
          41.67871427,
          41.67871427,
          41.67871427,
          41.67871427,
          41.67871427,
          41.67871427,
          41.67871427,
          41.67871427,
          41.67871427,
          41.67871427,
          41.67871427,
          41.67871427,
          41.67871427,
          41.67871427,
          41.67871427,
          41.67871427,
          41.67871427,
          41.67871427,
          41.67871427,
          41.67871427,
          41.67871427,
          41.67871427,
          41.67871427,
          41.67871427,
          41.67871427,
          41.67871427,
          41.67871427,
          41.67871427,
          41.67871427,
          41.67871427,
          41.67871427,
          41.67871427,
          41.67871427,
          41.67871427,
          41.67871427,
          41.67871427,
          41.67871427,
          41.67871427,
          41.67871427,
          41.67871427,
          41.67871427,
          41.67871427,
          41.67871427,
          41.67871427,
          41.67871427,
          41.67871427,
          41.67871427,
          41.67871427,
          41.67871427,
          41.67871427,
          41.67871427,
          41.67871427,
          41.67871427,
          41.67871427,
          41.67871427,
          41.67871427,
          41.67871427,
          41.67871427,
          41.67871427,
          41.67871427,
          41.67871427,
          41.67871427,
          41.67871427,
          41.67871427,
          41.67871427,
          41.67871427,
          41.67871427,
          41.67871427,
          41.67871427,
          41.67871427,
          41.67871427,
          41.67871427,
          41.67871427,
          41.67871427,
          41.67871427,
          41.67871427,
          41.67871427,
          41.67871427,
          41.67871427,
          41.67871427
         ]
        }
       ],
       "layout": {
        "margin": {
         "b": 10,
         "l": 10,
         "r": 20,
         "t": 25
        },
        "scene": {
         "xaxis": {
          "title": {
           "text": "Reflux Ratio"
          }
         },
         "yaxis": {
          "title": {
           "text": "Temperature"
          }
         },
         "zaxis": {
          "title": {
           "text": "Distilate flow rate"
          }
         }
        },
        "template": {
         "data": {
          "bar": [
           {
            "error_x": {
             "color": "#2a3f5f"
            },
            "error_y": {
             "color": "#2a3f5f"
            },
            "marker": {
             "line": {
              "color": "#E5ECF6",
              "width": 0.5
             }
            },
            "type": "bar"
           }
          ],
          "barpolar": [
           {
            "marker": {
             "line": {
              "color": "#E5ECF6",
              "width": 0.5
             }
            },
            "type": "barpolar"
           }
          ],
          "carpet": [
           {
            "aaxis": {
             "endlinecolor": "#2a3f5f",
             "gridcolor": "white",
             "linecolor": "white",
             "minorgridcolor": "white",
             "startlinecolor": "#2a3f5f"
            },
            "baxis": {
             "endlinecolor": "#2a3f5f",
             "gridcolor": "white",
             "linecolor": "white",
             "minorgridcolor": "white",
             "startlinecolor": "#2a3f5f"
            },
            "type": "carpet"
           }
          ],
          "choropleth": [
           {
            "colorbar": {
             "outlinewidth": 0,
             "ticks": ""
            },
            "type": "choropleth"
           }
          ],
          "contour": [
           {
            "colorbar": {
             "outlinewidth": 0,
             "ticks": ""
            },
            "colorscale": [
             [
              0,
              "#0d0887"
             ],
             [
              0.1111111111111111,
              "#46039f"
             ],
             [
              0.2222222222222222,
              "#7201a8"
             ],
             [
              0.3333333333333333,
              "#9c179e"
             ],
             [
              0.4444444444444444,
              "#bd3786"
             ],
             [
              0.5555555555555556,
              "#d8576b"
             ],
             [
              0.6666666666666666,
              "#ed7953"
             ],
             [
              0.7777777777777778,
              "#fb9f3a"
             ],
             [
              0.8888888888888888,
              "#fdca26"
             ],
             [
              1,
              "#f0f921"
             ]
            ],
            "type": "contour"
           }
          ],
          "contourcarpet": [
           {
            "colorbar": {
             "outlinewidth": 0,
             "ticks": ""
            },
            "type": "contourcarpet"
           }
          ],
          "heatmap": [
           {
            "colorbar": {
             "outlinewidth": 0,
             "ticks": ""
            },
            "colorscale": [
             [
              0,
              "#0d0887"
             ],
             [
              0.1111111111111111,
              "#46039f"
             ],
             [
              0.2222222222222222,
              "#7201a8"
             ],
             [
              0.3333333333333333,
              "#9c179e"
             ],
             [
              0.4444444444444444,
              "#bd3786"
             ],
             [
              0.5555555555555556,
              "#d8576b"
             ],
             [
              0.6666666666666666,
              "#ed7953"
             ],
             [
              0.7777777777777778,
              "#fb9f3a"
             ],
             [
              0.8888888888888888,
              "#fdca26"
             ],
             [
              1,
              "#f0f921"
             ]
            ],
            "type": "heatmap"
           }
          ],
          "heatmapgl": [
           {
            "colorbar": {
             "outlinewidth": 0,
             "ticks": ""
            },
            "colorscale": [
             [
              0,
              "#0d0887"
             ],
             [
              0.1111111111111111,
              "#46039f"
             ],
             [
              0.2222222222222222,
              "#7201a8"
             ],
             [
              0.3333333333333333,
              "#9c179e"
             ],
             [
              0.4444444444444444,
              "#bd3786"
             ],
             [
              0.5555555555555556,
              "#d8576b"
             ],
             [
              0.6666666666666666,
              "#ed7953"
             ],
             [
              0.7777777777777778,
              "#fb9f3a"
             ],
             [
              0.8888888888888888,
              "#fdca26"
             ],
             [
              1,
              "#f0f921"
             ]
            ],
            "type": "heatmapgl"
           }
          ],
          "histogram": [
           {
            "marker": {
             "colorbar": {
              "outlinewidth": 0,
              "ticks": ""
             }
            },
            "type": "histogram"
           }
          ],
          "histogram2d": [
           {
            "colorbar": {
             "outlinewidth": 0,
             "ticks": ""
            },
            "colorscale": [
             [
              0,
              "#0d0887"
             ],
             [
              0.1111111111111111,
              "#46039f"
             ],
             [
              0.2222222222222222,
              "#7201a8"
             ],
             [
              0.3333333333333333,
              "#9c179e"
             ],
             [
              0.4444444444444444,
              "#bd3786"
             ],
             [
              0.5555555555555556,
              "#d8576b"
             ],
             [
              0.6666666666666666,
              "#ed7953"
             ],
             [
              0.7777777777777778,
              "#fb9f3a"
             ],
             [
              0.8888888888888888,
              "#fdca26"
             ],
             [
              1,
              "#f0f921"
             ]
            ],
            "type": "histogram2d"
           }
          ],
          "histogram2dcontour": [
           {
            "colorbar": {
             "outlinewidth": 0,
             "ticks": ""
            },
            "colorscale": [
             [
              0,
              "#0d0887"
             ],
             [
              0.1111111111111111,
              "#46039f"
             ],
             [
              0.2222222222222222,
              "#7201a8"
             ],
             [
              0.3333333333333333,
              "#9c179e"
             ],
             [
              0.4444444444444444,
              "#bd3786"
             ],
             [
              0.5555555555555556,
              "#d8576b"
             ],
             [
              0.6666666666666666,
              "#ed7953"
             ],
             [
              0.7777777777777778,
              "#fb9f3a"
             ],
             [
              0.8888888888888888,
              "#fdca26"
             ],
             [
              1,
              "#f0f921"
             ]
            ],
            "type": "histogram2dcontour"
           }
          ],
          "mesh3d": [
           {
            "colorbar": {
             "outlinewidth": 0,
             "ticks": ""
            },
            "type": "mesh3d"
           }
          ],
          "parcoords": [
           {
            "line": {
             "colorbar": {
              "outlinewidth": 0,
              "ticks": ""
             }
            },
            "type": "parcoords"
           }
          ],
          "pie": [
           {
            "automargin": true,
            "type": "pie"
           }
          ],
          "scatter": [
           {
            "marker": {
             "colorbar": {
              "outlinewidth": 0,
              "ticks": ""
             }
            },
            "type": "scatter"
           }
          ],
          "scatter3d": [
           {
            "line": {
             "colorbar": {
              "outlinewidth": 0,
              "ticks": ""
             }
            },
            "marker": {
             "colorbar": {
              "outlinewidth": 0,
              "ticks": ""
             }
            },
            "type": "scatter3d"
           }
          ],
          "scattercarpet": [
           {
            "marker": {
             "colorbar": {
              "outlinewidth": 0,
              "ticks": ""
             }
            },
            "type": "scattercarpet"
           }
          ],
          "scattergeo": [
           {
            "marker": {
             "colorbar": {
              "outlinewidth": 0,
              "ticks": ""
             }
            },
            "type": "scattergeo"
           }
          ],
          "scattergl": [
           {
            "marker": {
             "colorbar": {
              "outlinewidth": 0,
              "ticks": ""
             }
            },
            "type": "scattergl"
           }
          ],
          "scattermapbox": [
           {
            "marker": {
             "colorbar": {
              "outlinewidth": 0,
              "ticks": ""
             }
            },
            "type": "scattermapbox"
           }
          ],
          "scatterpolar": [
           {
            "marker": {
             "colorbar": {
              "outlinewidth": 0,
              "ticks": ""
             }
            },
            "type": "scatterpolar"
           }
          ],
          "scatterpolargl": [
           {
            "marker": {
             "colorbar": {
              "outlinewidth": 0,
              "ticks": ""
             }
            },
            "type": "scatterpolargl"
           }
          ],
          "scatterternary": [
           {
            "marker": {
             "colorbar": {
              "outlinewidth": 0,
              "ticks": ""
             }
            },
            "type": "scatterternary"
           }
          ],
          "surface": [
           {
            "colorbar": {
             "outlinewidth": 0,
             "ticks": ""
            },
            "colorscale": [
             [
              0,
              "#0d0887"
             ],
             [
              0.1111111111111111,
              "#46039f"
             ],
             [
              0.2222222222222222,
              "#7201a8"
             ],
             [
              0.3333333333333333,
              "#9c179e"
             ],
             [
              0.4444444444444444,
              "#bd3786"
             ],
             [
              0.5555555555555556,
              "#d8576b"
             ],
             [
              0.6666666666666666,
              "#ed7953"
             ],
             [
              0.7777777777777778,
              "#fb9f3a"
             ],
             [
              0.8888888888888888,
              "#fdca26"
             ],
             [
              1,
              "#f0f921"
             ]
            ],
            "type": "surface"
           }
          ],
          "table": [
           {
            "cells": {
             "fill": {
              "color": "#EBF0F8"
             },
             "line": {
              "color": "white"
             }
            },
            "header": {
             "fill": {
              "color": "#C8D4E3"
             },
             "line": {
              "color": "white"
             }
            },
            "type": "table"
           }
          ]
         },
         "layout": {
          "annotationdefaults": {
           "arrowcolor": "#2a3f5f",
           "arrowhead": 0,
           "arrowwidth": 1
          },
          "autotypenumbers": "strict",
          "coloraxis": {
           "colorbar": {
            "outlinewidth": 0,
            "ticks": ""
           }
          },
          "colorscale": {
           "diverging": [
            [
             0,
             "#8e0152"
            ],
            [
             0.1,
             "#c51b7d"
            ],
            [
             0.2,
             "#de77ae"
            ],
            [
             0.3,
             "#f1b6da"
            ],
            [
             0.4,
             "#fde0ef"
            ],
            [
             0.5,
             "#f7f7f7"
            ],
            [
             0.6,
             "#e6f5d0"
            ],
            [
             0.7,
             "#b8e186"
            ],
            [
             0.8,
             "#7fbc41"
            ],
            [
             0.9,
             "#4d9221"
            ],
            [
             1,
             "#276419"
            ]
           ],
           "sequential": [
            [
             0,
             "#0d0887"
            ],
            [
             0.1111111111111111,
             "#46039f"
            ],
            [
             0.2222222222222222,
             "#7201a8"
            ],
            [
             0.3333333333333333,
             "#9c179e"
            ],
            [
             0.4444444444444444,
             "#bd3786"
            ],
            [
             0.5555555555555556,
             "#d8576b"
            ],
            [
             0.6666666666666666,
             "#ed7953"
            ],
            [
             0.7777777777777778,
             "#fb9f3a"
            ],
            [
             0.8888888888888888,
             "#fdca26"
            ],
            [
             1,
             "#f0f921"
            ]
           ],
           "sequentialminus": [
            [
             0,
             "#0d0887"
            ],
            [
             0.1111111111111111,
             "#46039f"
            ],
            [
             0.2222222222222222,
             "#7201a8"
            ],
            [
             0.3333333333333333,
             "#9c179e"
            ],
            [
             0.4444444444444444,
             "#bd3786"
            ],
            [
             0.5555555555555556,
             "#d8576b"
            ],
            [
             0.6666666666666666,
             "#ed7953"
            ],
            [
             0.7777777777777778,
             "#fb9f3a"
            ],
            [
             0.8888888888888888,
             "#fdca26"
            ],
            [
             1,
             "#f0f921"
            ]
           ]
          },
          "colorway": [
           "#636efa",
           "#EF553B",
           "#00cc96",
           "#ab63fa",
           "#FFA15A",
           "#19d3f3",
           "#FF6692",
           "#B6E880",
           "#FF97FF",
           "#FECB52"
          ],
          "font": {
           "color": "#2a3f5f"
          },
          "geo": {
           "bgcolor": "white",
           "lakecolor": "white",
           "landcolor": "#E5ECF6",
           "showlakes": true,
           "showland": true,
           "subunitcolor": "white"
          },
          "hoverlabel": {
           "align": "left"
          },
          "hovermode": "closest",
          "mapbox": {
           "style": "light"
          },
          "paper_bgcolor": "white",
          "plot_bgcolor": "#E5ECF6",
          "polar": {
           "angularaxis": {
            "gridcolor": "white",
            "linecolor": "white",
            "ticks": ""
           },
           "bgcolor": "#E5ECF6",
           "radialaxis": {
            "gridcolor": "white",
            "linecolor": "white",
            "ticks": ""
           }
          },
          "scene": {
           "xaxis": {
            "backgroundcolor": "#E5ECF6",
            "gridcolor": "white",
            "gridwidth": 2,
            "linecolor": "white",
            "showbackground": true,
            "ticks": "",
            "zerolinecolor": "white"
           },
           "yaxis": {
            "backgroundcolor": "#E5ECF6",
            "gridcolor": "white",
            "gridwidth": 2,
            "linecolor": "white",
            "showbackground": true,
            "ticks": "",
            "zerolinecolor": "white"
           },
           "zaxis": {
            "backgroundcolor": "#E5ECF6",
            "gridcolor": "white",
            "gridwidth": 2,
            "linecolor": "white",
            "showbackground": true,
            "ticks": "",
            "zerolinecolor": "white"
           }
          },
          "shapedefaults": {
           "line": {
            "color": "#2a3f5f"
           }
          },
          "ternary": {
           "aaxis": {
            "gridcolor": "white",
            "linecolor": "white",
            "ticks": ""
           },
           "baxis": {
            "gridcolor": "white",
            "linecolor": "white",
            "ticks": ""
           },
           "bgcolor": "#E5ECF6",
           "caxis": {
            "gridcolor": "white",
            "linecolor": "white",
            "ticks": ""
           }
          },
          "title": {
           "x": 0.05
          },
          "xaxis": {
           "automargin": true,
           "gridcolor": "white",
           "linecolor": "white",
           "ticks": "",
           "title": {
            "standoff": 15
           },
           "zerolinecolor": "white",
           "zerolinewidth": 2
          },
          "yaxis": {
           "automargin": true,
           "gridcolor": "white",
           "linecolor": "white",
           "ticks": "",
           "title": {
            "standoff": 15
           },
           "zerolinecolor": "white",
           "zerolinewidth": 2
          }
         }
        },
        "title": {
         "text": "Case Study 2"
        },
        "width": 700
       }
      },
      "text/html": [
       "<div>                            <div id=\"842c06c7-cac5-4159-b9c5-8a303544fc8e\" class=\"plotly-graph-div\" style=\"height:525px; width:700px;\"></div>            <script type=\"text/javascript\">                require([\"plotly\"], function(Plotly) {                    window.PLOTLYENV=window.PLOTLYENV || {};                                    if (document.getElementById(\"842c06c7-cac5-4159-b9c5-8a303544fc8e\")) {                    Plotly.newPlot(                        \"842c06c7-cac5-4159-b9c5-8a303544fc8e\",                        [{\"marker\": {\"color\": [8.330363895374527, 8.330363895374527, 8.330363895374527, 8.330363895374527, 8.330363895374527, 8.330363895374527, 8.330363895374527, 8.330363895374527, 8.330363895374527, 8.330363895374527, 8.330363895374527, 8.330363895374527, 8.330363895374527, 8.330363895374527, 8.330363895374527, 8.330363895374527, 8.330363895374527, 8.330363895374527, 8.330363895374527, 8.330363895374527, 8.330363895374527, 8.330363895374527, 8.330363895374527, 8.330363895374527, 8.330363895374527, 8.330363895374527, 8.330363895374527, 8.330363895374527, 8.330363895374527, 8.330363895374527, 8.330363895374527, 8.330363895374527, 8.330363895374527, 8.330363895374527, 8.330363895374527, 8.330363895374527, 8.330363895374527, 8.330363895374527, 8.330363895374527, 8.330363895374527, 8.330363895374527, 8.330363895374527, 8.330363895374527, 8.330363895374527, 8.330363895374527, 8.330363895374527, 8.330363895374527, 8.330363895374527, 8.330363895374527, 8.330363895374527, 8.330363895374527, 8.330363895374527, 8.330363895374527, 8.330363895374527, 8.330363895374527, 8.330363895374527, 8.330363895374527, 8.330363895374527, 8.330363895374527, 8.330363895374527, 8.330363895374527, 8.330363895374527, 8.330363895374527, 8.330363895374527, 8.330363895374527, 8.330363895374527, 8.330363895374527, 8.330363895374527, 8.330363895374527, 8.330363895374527, 8.330363895374527, 8.330363895374527, 8.330363895374527, 8.330363895374527, 8.330363895374527, 8.330363895374527, 8.330363895374527, 8.330363895374527, 8.330363895374527, 8.330363895374527, 8.330363895374527, 8.330363895374527, 8.330363895374527, 8.330363895374527, 8.330363895374527, 8.330363895374527, 8.330363895374527, 8.330363895374527, 8.330363895374527, 8.330363895374527, 8.330363895374527, 8.330363895374527, 8.330363895374527, 8.330363895374527, 8.330363895374527, 8.330363895374527, 8.330363895374527, 8.330363895374527, 8.330363895374527, 8.330363895374527, 5.053806399294229, 5.053806399294229, 5.053806399294229, 5.053806399294229, 5.053806399294229, 5.053806399294229, 5.053806399294229, 5.053806399294229, 5.053806399294229, 5.053806399294229, 5.053806399294229, 5.053806399294229, 5.053806399294229, 5.053806399294229, 5.053806399294229, 5.053806399294229, 5.053806399294229, 5.053806399294229, 5.053806399294229, 5.053806399294229, 5.053806399294229, 5.053806399294229, 5.053806399294229, 5.053806399294229, 5.053806399294229, 5.053806399294229, 5.053806399294229, 5.053806399294229, 5.053806399294229, 5.053806399294229, 5.053806399294229, 5.053806399294229, 5.053806399294229, 5.053806399294229, 5.053806399294229, 5.053806399294229, 5.053806399294229, 5.053806399294229, 5.053806399294229, 5.053806399294229, 5.053806399294229, 5.053806399294229, 5.053806399294229, 5.053806399294229, 5.053806399294229, 5.053806399294229, 5.053806399294229, 5.053806399294229, 5.053806399294229, 5.053806399294229, 5.053806399294229, 5.053806399294229, 5.053806399294229, 5.053806399294229, 5.053806399294229, 5.053806399294229, 5.053806399294229, 5.053806399294229, 5.053806399294229, 5.053806399294229, 5.053806399294229, 5.053806399294229, 5.053806399294229, 5.053806399294229, 5.053806399294229, 5.053806399294229, 5.053806399294229, 5.053806399294229, 5.053806399294229, 5.053806399294229, 5.053806399294229, 5.053806399294229, 5.053806399294229, 5.053806399294229, 5.053806399294229, 5.053806399294229, 5.053806399294229, 5.053806399294229, 5.053806399294229, 5.053806399294229, 5.053806399294229, 5.053806399294229, 5.053806399294229, 5.053806399294229, 5.053806399294229, 5.053806399294229, 5.053806399294229, 5.053806399294229, 5.053806399294229, 5.053806399294229, 5.053806399294229, 5.053806399294229, 5.053806399294229, 5.053806399294229, 5.053806399294229, 5.053806399294229, 5.053806399294229, 5.053806399294229, 5.053806399294229, 5.053806399294229, 4.38542749630773, 4.38542749630773, 4.38542749630773, 4.38542749630773, 4.38542749630773, 4.38542749630773, 4.38542749630773, 4.38542749630773, 4.38542749630773, 4.38542749630773, 4.38542749630773, 4.38542749630773, 4.38542749630773, 4.38542749630773, 4.38542749630773, 4.38542749630773, 4.38542749630773, 4.38542749630773, 4.38542749630773, 4.38542749630773, 4.38542749630773, 4.38542749630773, 4.38542749630773, 4.38542749630773, 4.38542749630773, 4.38542749630773, 4.38542749630773, 4.38542749630773, 4.38542749630773, 4.38542749630773, 4.38542749630773, 4.38542749630773, 4.38542749630773, 4.38542749630773, 4.38542749630773, 4.38542749630773, 4.38542749630773, 4.38542749630773, 4.38542749630773, 4.38542749630773, 4.38542749630773, 4.38542749630773, 4.38542749630773, 4.38542749630773, 4.38542749630773, 4.38542749630773, 4.38542749630773, 4.38542749630773, 4.38542749630773, 4.38542749630773, 4.38542749630773, 4.38542749630773, 4.38542749630773, 4.38542749630773, 4.38542749630773, 4.38542749630773, 4.38542749630773, 4.38542749630773, 4.38542749630773, 4.38542749630773, 4.38542749630773, 4.38542749630773, 4.38542749630773, 4.38542749630773, 4.38542749630773, 4.38542749630773, 4.38542749630773, 4.38542749630773, 4.38542749630773, 4.38542749630773, 4.38542749630773, 4.38542749630773, 4.38542749630773, 4.38542749630773, 4.38542749630773, 4.38542749630773, 4.38542749630773, 4.38542749630773, 4.38542749630773, 4.38542749630773, 4.38542749630773, 4.38542749630773, 4.38542749630773, 4.38542749630773, 4.38542749630773, 4.38542749630773, 4.38542749630773, 4.38542749630773, 4.38542749630773, 4.38542749630773, 4.38542749630773, 4.38542749630773, 4.38542749630773, 4.38542749630773, 4.38542749630773, 4.38542749630773, 4.38542749630773, 4.38542749630773, 4.38542749630773, 4.38542749630773, 3.9831838346621984, 3.9831838346621984, 3.9831838346621984, 3.9831838346621984, 3.9831838346621984, 3.9831838346621984, 3.9831838346621984, 3.9831838346621984, 3.9831838346621984, 3.9831838346621984, 3.9831838346621984, 3.9831838346621984, 3.9831838346621984, 3.9831838346621984, 3.9831838346621984, 3.9831838346621984, 3.9831838346621984, 3.9831838346621984, 3.9831838346621984, 3.9831838346621984, 3.9831838346621984, 3.9831838346621984, 3.9831838346621984, 3.9831838346621984, 3.9831838346621984, 3.9831838346621984, 3.9831838346621984, 3.9831838346621984, 3.9831838346621984, 3.9831838346621984, 3.9831838346621984, 3.9831838346621984, 3.9831838346621984, 3.9831838346621984, 3.9831838346621984, 3.9831838346621984, 3.9831838346621984, 3.9831838346621984, 3.9831838346621984, 3.9831838346621984, 3.9831838346621984, 3.9831838346621984, 3.9831838346621984, 3.9831838346621984, 3.9831838346621984, 3.9831838346621984, 3.9831838346621984, 3.9831838346621984, 3.9831838346621984, 3.9831838346621984, 3.9831838346621984, 3.9831838346621984, 3.9831838346621984, 3.9831838346621984, 3.9831838346621984, 3.9831838346621984, 3.9831838346621984, 3.9831838346621984, 3.9831838346621984, 3.9831838346621984, 3.9831838346621984, 3.9831838346621984, 3.9831838346621984, 3.9831838346621984, 3.9831838346621984, 3.9831838346621984, 3.9831838346621984, 3.9831838346621984, 3.9831838346621984, 3.9831838346621984, 3.9831838346621984, 3.9831838346621984, 3.9831838346621984, 3.9831838346621984, 3.9831838346621984, 3.9831838346621984, 3.9831838346621984, 3.9831838346621984, 3.9831838346621984, 3.9831838346621984, 3.9831838346621984, 3.9831838346621984, 3.9831838346621984, 3.9831838346621984, 3.9831838346621984, 3.9831838346621984, 3.9831838346621984, 3.9831838346621984, 3.9831838346621984, 3.9831838346621984, 3.9831838346621984, 3.9831838346621984, 3.9831838346621984, 3.9831838346621984, 3.9831838346621984, 3.9831838346621984, 3.9831838346621984, 3.9831838346621984, 3.9831838346621984, 3.9831838346621984, 3.6854702599097036, 3.6854702599097036, 3.6854702599097036, 3.6854702599097036, 3.6854702599097036, 3.6854702599097036, 3.6854702599097036, 3.6854702599097036, 3.6854702599097036, 3.6854702599097036, 3.6854702599097036, 3.6854702599097036, 3.6854702599097036, 3.6854702599097036, 3.6854702599097036, 3.6854702599097036, 3.6854702599097036, 3.6854702599097036, 3.6854702599097036, 3.6854702599097036, 3.6854702599097036, 3.6854702599097036, 3.6854702599097036, 3.6854702599097036, 3.6854702599097036, 3.6854702599097036, 3.6854702599097036, 3.6854702599097036, 3.6854702599097036, 3.6854702599097036, 3.6854702599097036, 3.6854702599097036, 3.6854702599097036, 3.6854702599097036, 3.6854702599097036, 3.6854702599097036, 3.6854702599097036, 3.6854702599097036, 3.6854702599097036, 3.6854702599097036, 3.6854702599097036, 3.6854702599097036, 3.6854702599097036, 3.6854702599097036, 3.6854702599097036, 3.6854702599097036, 3.6854702599097036, 3.6854702599097036, 3.6854702599097036, 3.6854702599097036, 3.6854702599097036, 3.6854702599097036, 3.6854702599097036, 3.6854702599097036, 3.6854702599097036, 3.6854702599097036, 3.6854702599097036, 3.6854702599097036, 3.6854702599097036, 3.6854702599097036, 3.6854702599097036, 3.6854702599097036, 3.6854702599097036, 3.6854702599097036, 3.6854702599097036, 3.6854702599097036, 3.6854702599097036, 3.6854702599097036, 3.6854702599097036, 3.6854702599097036, 3.6854702599097036, 3.6854702599097036, 3.6854702599097036, 3.6854702599097036, 3.6854702599097036, 3.6854702599097036, 3.6854702599097036, 3.6854702599097036, 3.6854702599097036, 3.6854702599097036, 3.6854702599097036, 3.6854702599097036, 3.6854702599097036, 3.6854702599097036, 3.6854702599097036, 3.6854702599097036, 3.6854702599097036, 3.6854702599097036, 3.6854702599097036, 3.6854702599097036, 3.6854702599097036, 3.6854702599097036, 3.6854702599097036, 3.6854702599097036, 3.6854702599097036, 3.6854702599097036, 3.6854702599097036, 3.6854702599097036, 3.6854702599097036, 3.6854702599097036, 3.4393516568212443, 3.4393516568212443, 3.4393516568212443, 3.4393516568212443, 3.4393516568212443, 3.4393516568212443, 3.4393516568212443, 3.4393516568212443, 3.4393516568212443, 3.4393516568212443, 3.4393516568212443, 3.4393516568212443, 3.4393516568212443, 3.4393516568212443, 3.4393516568212443, 3.4393516568212443, 3.4393516568212443, 3.4393516568212443, 3.4393516568212443, 3.4393516568212443, 3.4393516568212443, 3.4393516568212443, 3.4393516568212443, 3.4393516568212443, 3.4393516568212443, 3.4393516568212443, 3.4393516568212443, 3.4393516568212443, 3.4393516568212443, 3.4393516568212443, 3.4393516568212443, 3.4393516568212443, 3.4393516568212443, 3.4393516568212443, 3.4393516568212443, 3.4393516568212443, 3.4393516568212443, 3.4393516568212443, 3.4393516568212443, 3.4393516568212443, 3.4393516568212443, 3.4393516568212443, 3.4393516568212443, 3.4393516568212443, 3.4393516568212443, 3.4393516568212443, 3.4393516568212443, 3.4393516568212443, 3.4393516568212443, 3.4393516568212443, 3.4393516568212443, 3.4393516568212443, 3.4393516568212443, 3.4393516568212443, 3.4393516568212443, 3.4393516568212443, 3.4393516568212443, 3.4393516568212443, 3.4393516568212443, 3.4393516568212443, 3.4393516568212443, 3.4393516568212443, 3.4393516568212443, 3.4393516568212443, 3.4393516568212443, 3.4393516568212443, 3.4393516568212443, 3.4393516568212443, 3.4393516568212443, 3.4393516568212443, 3.4393516568212443, 3.4393516568212443, 3.4393516568212443, 3.4393516568212443, 3.4393516568212443, 3.4393516568212443, 3.4393516568212443, 3.4393516568212443, 3.4393516568212443, 3.4393516568212443, 3.4393516568212443, 3.4393516568212443, 3.4393516568212443, 3.4393516568212443, 3.4393516568212443, 3.4393516568212443, 3.4393516568212443, 3.4393516568212443, 3.4393516568212443, 3.4393516568212443, 3.4393516568212443, 3.4393516568212443, 3.4393516568212443, 3.4393516568212443, 3.4393516568212443, 3.4393516568212443, 3.4393516568212443, 3.4393516568212443, 3.4393516568212443, 3.4393516568212443], \"colorscale\": [[0.0, \"rgb(0,0,255)\"], [1.0, \"rgb(255,0,0)\"]], \"opacity\": 0.8, \"size\": 6}, \"mode\": \"markers\", \"type\": \"scatter3d\", \"x\": [1, 2, 3, 4, 5, 6, 7, 8, 9, 10, 11, 12, 13, 14, 15, 16, 17, 18, 19, 20, 21, 22, 23, 24, 25, 26, 27, 28, 29, 30, 31, 32, 33, 34, 35, 36, 37, 38, 39, 40, 41, 42, 43, 44, 45, 46, 47, 48, 49, 50, 51, 52, 53, 54, 55, 56, 57, 58, 59, 60, 61, 62, 63, 64, 65, 66, 67, 68, 69, 70, 71, 72, 73, 74, 75, 76, 77, 78, 79, 80, 81, 82, 83, 84, 85, 86, 87, 88, 89, 90, 91, 92, 93, 94, 95, 96, 97, 98, 99, 100, 1, 2, 3, 4, 5, 6, 7, 8, 9, 10, 11, 12, 13, 14, 15, 16, 17, 18, 19, 20, 21, 22, 23, 24, 25, 26, 27, 28, 29, 30, 31, 32, 33, 34, 35, 36, 37, 38, 39, 40, 41, 42, 43, 44, 45, 46, 47, 48, 49, 50, 51, 52, 53, 54, 55, 56, 57, 58, 59, 60, 61, 62, 63, 64, 65, 66, 67, 68, 69, 70, 71, 72, 73, 74, 75, 76, 77, 78, 79, 80, 81, 82, 83, 84, 85, 86, 87, 88, 89, 90, 91, 92, 93, 94, 95, 96, 97, 98, 99, 100, 1, 2, 3, 4, 5, 6, 7, 8, 9, 10, 11, 12, 13, 14, 15, 16, 17, 18, 19, 20, 21, 22, 23, 24, 25, 26, 27, 28, 29, 30, 31, 32, 33, 34, 35, 36, 37, 38, 39, 40, 41, 42, 43, 44, 45, 46, 47, 48, 49, 50, 51, 52, 53, 54, 55, 56, 57, 58, 59, 60, 61, 62, 63, 64, 65, 66, 67, 68, 69, 70, 71, 72, 73, 74, 75, 76, 77, 78, 79, 80, 81, 82, 83, 84, 85, 86, 87, 88, 89, 90, 91, 92, 93, 94, 95, 96, 97, 98, 99, 100, 1, 2, 3, 4, 5, 6, 7, 8, 9, 10, 11, 12, 13, 14, 15, 16, 17, 18, 19, 20, 21, 22, 23, 24, 25, 26, 27, 28, 29, 30, 31, 32, 33, 34, 35, 36, 37, 38, 39, 40, 41, 42, 43, 44, 45, 46, 47, 48, 49, 50, 51, 52, 53, 54, 55, 56, 57, 58, 59, 60, 61, 62, 63, 64, 65, 66, 67, 68, 69, 70, 71, 72, 73, 74, 75, 76, 77, 78, 79, 80, 81, 82, 83, 84, 85, 86, 87, 88, 89, 90, 91, 92, 93, 94, 95, 96, 97, 98, 99, 100, 1, 2, 3, 4, 5, 6, 7, 8, 9, 10, 11, 12, 13, 14, 15, 16, 17, 18, 19, 20, 21, 22, 23, 24, 25, 26, 27, 28, 29, 30, 31, 32, 33, 34, 35, 36, 37, 38, 39, 40, 41, 42, 43, 44, 45, 46, 47, 48, 49, 50, 51, 52, 53, 54, 55, 56, 57, 58, 59, 60, 61, 62, 63, 64, 65, 66, 67, 68, 69, 70, 71, 72, 73, 74, 75, 76, 77, 78, 79, 80, 81, 82, 83, 84, 85, 86, 87, 88, 89, 90, 91, 92, 93, 94, 95, 96, 97, 98, 99, 100, 1, 2, 3, 4, 5, 6, 7, 8, 9, 10, 11, 12, 13, 14, 15, 16, 17, 18, 19, 20, 21, 22, 23, 24, 25, 26, 27, 28, 29, 30, 31, 32, 33, 34, 35, 36, 37, 38, 39, 40, 41, 42, 43, 44, 45, 46, 47, 48, 49, 50, 51, 52, 53, 54, 55, 56, 57, 58, 59, 60, 61, 62, 63, 64, 65, 66, 67, 68, 69, 70, 71, 72, 73, 74, 75, 76, 77, 78, 79, 80, 81, 82, 83, 84, 85, 86, 87, 88, 89, 90, 91, 92, 93, 94, 95, 96, 97, 98, 99, 100], \"y\": [15, 15, 15, 15, 15, 15, 15, 15, 15, 15, 15, 15, 15, 15, 15, 15, 15, 15, 15, 15, 15, 15, 15, 15, 15, 15, 15, 15, 15, 15, 15, 15, 15, 15, 15, 15, 15, 15, 15, 15, 15, 15, 15, 15, 15, 15, 15, 15, 15, 15, 15, 15, 15, 15, 15, 15, 15, 15, 15, 15, 15, 15, 15, 15, 15, 15, 15, 15, 15, 15, 15, 15, 15, 15, 15, 15, 15, 15, 15, 15, 15, 15, 15, 15, 15, 15, 15, 15, 15, 15, 15, 15, 15, 15, 15, 15, 15, 15, 15, 15, 16, 16, 16, 16, 16, 16, 16, 16, 16, 16, 16, 16, 16, 16, 16, 16, 16, 16, 16, 16, 16, 16, 16, 16, 16, 16, 16, 16, 16, 16, 16, 16, 16, 16, 16, 16, 16, 16, 16, 16, 16, 16, 16, 16, 16, 16, 16, 16, 16, 16, 16, 16, 16, 16, 16, 16, 16, 16, 16, 16, 16, 16, 16, 16, 16, 16, 16, 16, 16, 16, 16, 16, 16, 16, 16, 16, 16, 16, 16, 16, 16, 16, 16, 16, 16, 16, 16, 16, 16, 16, 16, 16, 16, 16, 16, 16, 16, 16, 16, 16, 17, 17, 17, 17, 17, 17, 17, 17, 17, 17, 17, 17, 17, 17, 17, 17, 17, 17, 17, 17, 17, 17, 17, 17, 17, 17, 17, 17, 17, 17, 17, 17, 17, 17, 17, 17, 17, 17, 17, 17, 17, 17, 17, 17, 17, 17, 17, 17, 17, 17, 17, 17, 17, 17, 17, 17, 17, 17, 17, 17, 17, 17, 17, 17, 17, 17, 17, 17, 17, 17, 17, 17, 17, 17, 17, 17, 17, 17, 17, 17, 17, 17, 17, 17, 17, 17, 17, 17, 17, 17, 17, 17, 17, 17, 17, 17, 17, 17, 17, 17, 18, 18, 18, 18, 18, 18, 18, 18, 18, 18, 18, 18, 18, 18, 18, 18, 18, 18, 18, 18, 18, 18, 18, 18, 18, 18, 18, 18, 18, 18, 18, 18, 18, 18, 18, 18, 18, 18, 18, 18, 18, 18, 18, 18, 18, 18, 18, 18, 18, 18, 18, 18, 18, 18, 18, 18, 18, 18, 18, 18, 18, 18, 18, 18, 18, 18, 18, 18, 18, 18, 18, 18, 18, 18, 18, 18, 18, 18, 18, 18, 18, 18, 18, 18, 18, 18, 18, 18, 18, 18, 18, 18, 18, 18, 18, 18, 18, 18, 18, 18, 19, 19, 19, 19, 19, 19, 19, 19, 19, 19, 19, 19, 19, 19, 19, 19, 19, 19, 19, 19, 19, 19, 19, 19, 19, 19, 19, 19, 19, 19, 19, 19, 19, 19, 19, 19, 19, 19, 19, 19, 19, 19, 19, 19, 19, 19, 19, 19, 19, 19, 19, 19, 19, 19, 19, 19, 19, 19, 19, 19, 19, 19, 19, 19, 19, 19, 19, 19, 19, 19, 19, 19, 19, 19, 19, 19, 19, 19, 19, 19, 19, 19, 19, 19, 19, 19, 19, 19, 19, 19, 19, 19, 19, 19, 19, 19, 19, 19, 19, 19, 20, 20, 20, 20, 20, 20, 20, 20, 20, 20, 20, 20, 20, 20, 20, 20, 20, 20, 20, 20, 20, 20, 20, 20, 20, 20, 20, 20, 20, 20, 20, 20, 20, 20, 20, 20, 20, 20, 20, 20, 20, 20, 20, 20, 20, 20, 20, 20, 20, 20, 20, 20, 20, 20, 20, 20, 20, 20, 20, 20, 20, 20, 20, 20, 20, 20, 20, 20, 20, 20, 20, 20, 20, 20, 20, 20, 20, 20, 20, 20, 20, 20, 20, 20, 20, 20, 20, 20, 20, 20, 20, 20, 20, 20, 20, 20, 20, 20, 20, 20], \"z\": [52.75440807, 52.75440807, 52.75440807, 52.75440807, 52.75440807, 52.75440807, 52.75440807, 52.75440807, 52.75440807, 52.75440807, 52.75440807, 52.75440807, 52.75440807, 52.75440807, 52.75440807, 52.75440807, 52.75440807, 52.75440807, 52.75440807, 52.75440807, 52.75440807, 52.75440807, 52.75440807, 52.75440807, 52.75440807, 52.75440807, 52.75440807, 52.75440807, 52.75440807, 52.75440807, 52.75440807, 52.75440807, 52.75440807, 52.75440807, 52.75440807, 52.75440807, 52.75440807, 52.75440807, 52.75440807, 52.75440807, 52.75440807, 52.75440807, 52.75440807, 52.75440807, 52.75440807, 52.75440807, 52.75440807, 52.75440807, 52.75440807, 52.75440807, 52.75440807, 52.75440807, 52.75440807, 52.75440807, 52.75440807, 52.75440807, 52.75440807, 52.75440807, 52.75440807, 52.75440807, 52.75440807, 52.75440807, 52.75440807, 52.75440807, 52.75440807, 52.75440807, 52.75440807, 52.75440807, 52.75440807, 52.75440807, 52.75440807, 52.75440807, 52.75440807, 52.75440807, 52.75440807, 52.75440807, 52.75440807, 52.75440807, 52.75440807, 52.75440807, 52.75440807, 52.75440807, 52.75440807, 52.75440807, 52.75440807, 52.75440807, 52.75440807, 52.75440807, 52.75440807, 52.75440807, 52.75440807, 52.75440807, 52.75440807, 52.75440807, 52.75440807, 52.75440807, 52.75440807, 52.75440807, 52.75440807, 52.75440807, 51.06113909, 51.06113909, 51.06113909, 51.06113909, 51.06113909, 51.06113909, 51.06113909, 51.06113909, 51.06113909, 51.06113909, 51.06113909, 51.06113909, 51.06113909, 51.06113909, 51.06113909, 51.06113909, 51.06113909, 51.06113909, 51.06113909, 51.06113909, 51.06113909, 51.06113909, 51.06113909, 51.06113909, 51.06113909, 51.06113909, 51.06113909, 51.06113909, 51.06113909, 51.06113909, 51.06113909, 51.06113909, 51.06113909, 51.06113909, 51.06113909, 51.06113909, 51.06113909, 51.06113909, 51.06113909, 51.06113909, 51.06113909, 51.06113909, 51.06113909, 51.06113909, 51.06113909, 51.06113909, 51.06113909, 51.06113909, 51.06113909, 51.06113909, 51.06113909, 51.06113909, 51.06113909, 51.06113909, 51.06113909, 51.06113909, 51.06113909, 51.06113909, 51.06113909, 51.06113909, 51.06113909, 51.06113909, 51.06113909, 51.06113909, 51.06113909, 51.06113909, 51.06113909, 51.06113909, 51.06113909, 51.06113909, 51.06113909, 51.06113909, 51.06113909, 51.06113909, 51.06113909, 51.06113909, 51.06113909, 51.06113909, 51.06113909, 51.06113909, 51.06113909, 51.06113909, 51.06113909, 51.06113909, 51.06113909, 51.06113909, 51.06113909, 51.06113909, 51.06113909, 51.06113909, 51.06113909, 51.06113909, 51.06113909, 51.06113909, 51.06113909, 51.06113909, 51.06113909, 51.06113909, 51.06113909, 51.06113909, 49.1514092, 49.1514092, 49.1514092, 49.1514092, 49.1514092, 49.1514092, 49.1514092, 49.1514092, 49.1514092, 49.1514092, 49.1514092, 49.1514092, 49.1514092, 49.1514092, 49.1514092, 49.1514092, 49.1514092, 49.1514092, 49.1514092, 49.1514092, 49.1514092, 49.1514092, 49.1514092, 49.1514092, 49.1514092, 49.1514092, 49.1514092, 49.1514092, 49.1514092, 49.1514092, 49.1514092, 49.1514092, 49.1514092, 49.1514092, 49.1514092, 49.1514092, 49.1514092, 49.1514092, 49.1514092, 49.1514092, 49.1514092, 49.1514092, 49.1514092, 49.1514092, 49.1514092, 49.1514092, 49.1514092, 49.1514092, 49.1514092, 49.1514092, 49.1514092, 49.1514092, 49.1514092, 49.1514092, 49.1514092, 49.1514092, 49.1514092, 49.1514092, 49.1514092, 49.1514092, 49.1514092, 49.1514092, 49.1514092, 49.1514092, 49.1514092, 49.1514092, 49.1514092, 49.1514092, 49.1514092, 49.1514092, 49.1514092, 49.1514092, 49.1514092, 49.1514092, 49.1514092, 49.1514092, 49.1514092, 49.1514092, 49.1514092, 49.1514092, 49.1514092, 49.1514092, 49.1514092, 49.1514092, 49.1514092, 49.1514092, 49.1514092, 49.1514092, 49.1514092, 49.1514092, 49.1514092, 49.1514092, 49.1514092, 49.1514092, 49.1514092, 49.1514092, 49.1514092, 49.1514092, 49.1514092, 49.1514092, 46.98489315, 46.98489315, 46.98489315, 46.98489315, 46.98489315, 46.98489315, 46.98489315, 46.98489315, 46.98489315, 46.98489315, 46.98489315, 46.98489315, 46.98489315, 46.98489315, 46.98489315, 46.98489315, 46.98489315, 46.98489315, 46.98489315, 46.98489315, 46.98489315, 46.98489315, 46.98489315, 46.98489315, 46.98489315, 46.98489315, 46.98489315, 46.98489315, 46.98489315, 46.98489315, 46.98489315, 46.98489315, 46.98489315, 46.98489315, 46.98489315, 46.98489315, 46.98489315, 46.98489315, 46.98489315, 46.98489315, 46.98489315, 46.98489315, 46.98489315, 46.98489315, 46.98489315, 46.98489315, 46.98489315, 46.98489315, 46.98489315, 46.98489315, 46.98489315, 46.98489315, 46.98489315, 46.98489315, 46.98489315, 46.98489315, 46.98489315, 46.98489315, 46.98489315, 46.98489315, 46.98489315, 46.98489315, 46.98489315, 46.98489315, 46.98489315, 46.98489315, 46.98489315, 46.98489315, 46.98489315, 46.98489315, 46.98489315, 46.98489315, 46.98489315, 46.98489315, 46.98489315, 46.98489315, 46.98489315, 46.98489315, 46.98489315, 46.98489315, 46.98489315, 46.98489315, 46.98489315, 46.98489315, 46.98489315, 46.98489315, 46.98489315, 46.98489315, 46.98489315, 46.98489315, 46.98489315, 46.98489315, 46.98489315, 46.98489315, 46.98489315, 46.98489315, 46.98489315, 46.98489315, 46.98489315, 46.98489315, 44.51344319, 44.51344319, 44.51344319, 44.51344319, 44.51344319, 44.51344319, 44.51344319, 44.51344319, 44.51344319, 44.51344319, 44.51344319, 44.51344319, 44.51344319, 44.51344319, 44.51344319, 44.51344319, 44.51344319, 44.51344319, 44.51344319, 44.51344319, 44.51344319, 44.51344319, 44.51344319, 44.51344319, 44.51344319, 44.51344319, 44.51344319, 44.51344319, 44.51344319, 44.51344319, 44.51344319, 44.51344319, 44.51344319, 44.51344319, 44.51344319, 44.51344319, 44.51344319, 44.51344319, 44.51344319, 44.51344319, 44.51344319, 44.51344319, 44.51344319, 44.51344319, 44.51344319, 44.51344319, 44.51344319, 44.51344319, 44.51344319, 44.51344319, 44.51344319, 44.51344319, 44.51344319, 44.51344319, 44.51344319, 44.51344319, 44.51344319, 44.51344319, 44.51344319, 44.51344319, 44.51344319, 44.51344319, 44.51344319, 44.51344319, 44.51344319, 44.51344319, 44.51344319, 44.51344319, 44.51344319, 44.51344319, 44.51344319, 44.51344319, 44.51344319, 44.51344319, 44.51344319, 44.51344319, 44.51344319, 44.51344319, 44.51344319, 44.51344319, 44.51344319, 44.51344319, 44.51344319, 44.51344319, 44.51344319, 44.51344319, 44.51344319, 44.51344319, 44.51344319, 44.51344319, 44.51344319, 44.51344319, 44.51344319, 44.51344319, 44.51344319, 44.51344319, 44.51344319, 44.51344319, 44.51344319, 44.51344319, 41.67871427, 41.67871427, 41.67871427, 41.67871427, 41.67871427, 41.67871427, 41.67871427, 41.67871427, 41.67871427, 41.67871427, 41.67871427, 41.67871427, 41.67871427, 41.67871427, 41.67871427, 41.67871427, 41.67871427, 41.67871427, 41.67871427, 41.67871427, 41.67871427, 41.67871427, 41.67871427, 41.67871427, 41.67871427, 41.67871427, 41.67871427, 41.67871427, 41.67871427, 41.67871427, 41.67871427, 41.67871427, 41.67871427, 41.67871427, 41.67871427, 41.67871427, 41.67871427, 41.67871427, 41.67871427, 41.67871427, 41.67871427, 41.67871427, 41.67871427, 41.67871427, 41.67871427, 41.67871427, 41.67871427, 41.67871427, 41.67871427, 41.67871427, 41.67871427, 41.67871427, 41.67871427, 41.67871427, 41.67871427, 41.67871427, 41.67871427, 41.67871427, 41.67871427, 41.67871427, 41.67871427, 41.67871427, 41.67871427, 41.67871427, 41.67871427, 41.67871427, 41.67871427, 41.67871427, 41.67871427, 41.67871427, 41.67871427, 41.67871427, 41.67871427, 41.67871427, 41.67871427, 41.67871427, 41.67871427, 41.67871427, 41.67871427, 41.67871427, 41.67871427, 41.67871427, 41.67871427, 41.67871427, 41.67871427, 41.67871427, 41.67871427, 41.67871427, 41.67871427, 41.67871427, 41.67871427, 41.67871427, 41.67871427, 41.67871427, 41.67871427, 41.67871427, 41.67871427, 41.67871427, 41.67871427, 41.67871427]}],                        {\"margin\": {\"b\": 10, \"l\": 10, \"r\": 20, \"t\": 25}, \"scene\": {\"xaxis\": {\"title\": {\"text\": \"Reflux Ratio\"}}, \"yaxis\": {\"title\": {\"text\": \"Temperature\"}}, \"zaxis\": {\"title\": {\"text\": \"Distilate flow rate\"}}}, \"template\": {\"data\": {\"bar\": [{\"error_x\": {\"color\": \"#2a3f5f\"}, \"error_y\": {\"color\": \"#2a3f5f\"}, \"marker\": {\"line\": {\"color\": \"#E5ECF6\", \"width\": 0.5}}, \"type\": \"bar\"}], \"barpolar\": [{\"marker\": {\"line\": {\"color\": \"#E5ECF6\", \"width\": 0.5}}, \"type\": \"barpolar\"}], \"carpet\": [{\"aaxis\": {\"endlinecolor\": \"#2a3f5f\", \"gridcolor\": \"white\", \"linecolor\": \"white\", \"minorgridcolor\": \"white\", \"startlinecolor\": \"#2a3f5f\"}, \"baxis\": {\"endlinecolor\": \"#2a3f5f\", \"gridcolor\": \"white\", \"linecolor\": \"white\", \"minorgridcolor\": \"white\", \"startlinecolor\": \"#2a3f5f\"}, \"type\": \"carpet\"}], \"choropleth\": [{\"colorbar\": {\"outlinewidth\": 0, \"ticks\": \"\"}, \"type\": \"choropleth\"}], \"contour\": [{\"colorbar\": {\"outlinewidth\": 0, \"ticks\": \"\"}, \"colorscale\": [[0.0, \"#0d0887\"], [0.1111111111111111, \"#46039f\"], [0.2222222222222222, \"#7201a8\"], [0.3333333333333333, \"#9c179e\"], [0.4444444444444444, \"#bd3786\"], [0.5555555555555556, \"#d8576b\"], [0.6666666666666666, \"#ed7953\"], [0.7777777777777778, \"#fb9f3a\"], [0.8888888888888888, \"#fdca26\"], [1.0, \"#f0f921\"]], \"type\": \"contour\"}], \"contourcarpet\": [{\"colorbar\": {\"outlinewidth\": 0, \"ticks\": \"\"}, \"type\": \"contourcarpet\"}], \"heatmap\": [{\"colorbar\": {\"outlinewidth\": 0, \"ticks\": \"\"}, \"colorscale\": [[0.0, \"#0d0887\"], [0.1111111111111111, \"#46039f\"], [0.2222222222222222, \"#7201a8\"], [0.3333333333333333, \"#9c179e\"], [0.4444444444444444, \"#bd3786\"], [0.5555555555555556, \"#d8576b\"], [0.6666666666666666, \"#ed7953\"], [0.7777777777777778, \"#fb9f3a\"], [0.8888888888888888, \"#fdca26\"], [1.0, \"#f0f921\"]], \"type\": \"heatmap\"}], \"heatmapgl\": [{\"colorbar\": {\"outlinewidth\": 0, \"ticks\": \"\"}, \"colorscale\": [[0.0, \"#0d0887\"], [0.1111111111111111, \"#46039f\"], [0.2222222222222222, \"#7201a8\"], [0.3333333333333333, \"#9c179e\"], [0.4444444444444444, \"#bd3786\"], [0.5555555555555556, \"#d8576b\"], [0.6666666666666666, \"#ed7953\"], [0.7777777777777778, \"#fb9f3a\"], [0.8888888888888888, \"#fdca26\"], [1.0, \"#f0f921\"]], \"type\": \"heatmapgl\"}], \"histogram\": [{\"marker\": {\"colorbar\": {\"outlinewidth\": 0, \"ticks\": \"\"}}, \"type\": \"histogram\"}], \"histogram2d\": [{\"colorbar\": {\"outlinewidth\": 0, \"ticks\": \"\"}, \"colorscale\": [[0.0, \"#0d0887\"], [0.1111111111111111, \"#46039f\"], [0.2222222222222222, \"#7201a8\"], [0.3333333333333333, \"#9c179e\"], [0.4444444444444444, \"#bd3786\"], [0.5555555555555556, \"#d8576b\"], [0.6666666666666666, \"#ed7953\"], [0.7777777777777778, \"#fb9f3a\"], [0.8888888888888888, \"#fdca26\"], [1.0, \"#f0f921\"]], \"type\": \"histogram2d\"}], \"histogram2dcontour\": [{\"colorbar\": {\"outlinewidth\": 0, \"ticks\": \"\"}, \"colorscale\": [[0.0, \"#0d0887\"], [0.1111111111111111, \"#46039f\"], [0.2222222222222222, \"#7201a8\"], [0.3333333333333333, \"#9c179e\"], [0.4444444444444444, \"#bd3786\"], [0.5555555555555556, \"#d8576b\"], [0.6666666666666666, \"#ed7953\"], [0.7777777777777778, \"#fb9f3a\"], [0.8888888888888888, \"#fdca26\"], [1.0, \"#f0f921\"]], \"type\": \"histogram2dcontour\"}], \"mesh3d\": [{\"colorbar\": {\"outlinewidth\": 0, \"ticks\": \"\"}, \"type\": \"mesh3d\"}], \"parcoords\": [{\"line\": {\"colorbar\": {\"outlinewidth\": 0, \"ticks\": \"\"}}, \"type\": \"parcoords\"}], \"pie\": [{\"automargin\": true, \"type\": \"pie\"}], \"scatter\": [{\"marker\": {\"colorbar\": {\"outlinewidth\": 0, \"ticks\": \"\"}}, \"type\": \"scatter\"}], \"scatter3d\": [{\"line\": {\"colorbar\": {\"outlinewidth\": 0, \"ticks\": \"\"}}, \"marker\": {\"colorbar\": {\"outlinewidth\": 0, \"ticks\": \"\"}}, \"type\": \"scatter3d\"}], \"scattercarpet\": [{\"marker\": {\"colorbar\": {\"outlinewidth\": 0, \"ticks\": \"\"}}, \"type\": \"scattercarpet\"}], \"scattergeo\": [{\"marker\": {\"colorbar\": {\"outlinewidth\": 0, \"ticks\": \"\"}}, \"type\": \"scattergeo\"}], \"scattergl\": [{\"marker\": {\"colorbar\": {\"outlinewidth\": 0, \"ticks\": \"\"}}, \"type\": \"scattergl\"}], \"scattermapbox\": [{\"marker\": {\"colorbar\": {\"outlinewidth\": 0, \"ticks\": \"\"}}, \"type\": \"scattermapbox\"}], \"scatterpolar\": [{\"marker\": {\"colorbar\": {\"outlinewidth\": 0, \"ticks\": \"\"}}, \"type\": \"scatterpolar\"}], \"scatterpolargl\": [{\"marker\": {\"colorbar\": {\"outlinewidth\": 0, \"ticks\": \"\"}}, \"type\": \"scatterpolargl\"}], \"scatterternary\": [{\"marker\": {\"colorbar\": {\"outlinewidth\": 0, \"ticks\": \"\"}}, \"type\": \"scatterternary\"}], \"surface\": [{\"colorbar\": {\"outlinewidth\": 0, \"ticks\": \"\"}, \"colorscale\": [[0.0, \"#0d0887\"], [0.1111111111111111, \"#46039f\"], [0.2222222222222222, \"#7201a8\"], [0.3333333333333333, \"#9c179e\"], [0.4444444444444444, \"#bd3786\"], [0.5555555555555556, \"#d8576b\"], [0.6666666666666666, \"#ed7953\"], [0.7777777777777778, \"#fb9f3a\"], [0.8888888888888888, \"#fdca26\"], [1.0, \"#f0f921\"]], \"type\": \"surface\"}], \"table\": [{\"cells\": {\"fill\": {\"color\": \"#EBF0F8\"}, \"line\": {\"color\": \"white\"}}, \"header\": {\"fill\": {\"color\": \"#C8D4E3\"}, \"line\": {\"color\": \"white\"}}, \"type\": \"table\"}]}, \"layout\": {\"annotationdefaults\": {\"arrowcolor\": \"#2a3f5f\", \"arrowhead\": 0, \"arrowwidth\": 1}, \"autotypenumbers\": \"strict\", \"coloraxis\": {\"colorbar\": {\"outlinewidth\": 0, \"ticks\": \"\"}}, \"colorscale\": {\"diverging\": [[0, \"#8e0152\"], [0.1, \"#c51b7d\"], [0.2, \"#de77ae\"], [0.3, \"#f1b6da\"], [0.4, \"#fde0ef\"], [0.5, \"#f7f7f7\"], [0.6, \"#e6f5d0\"], [0.7, \"#b8e186\"], [0.8, \"#7fbc41\"], [0.9, \"#4d9221\"], [1, \"#276419\"]], \"sequential\": [[0.0, \"#0d0887\"], [0.1111111111111111, \"#46039f\"], [0.2222222222222222, \"#7201a8\"], [0.3333333333333333, \"#9c179e\"], [0.4444444444444444, \"#bd3786\"], [0.5555555555555556, \"#d8576b\"], [0.6666666666666666, \"#ed7953\"], [0.7777777777777778, \"#fb9f3a\"], [0.8888888888888888, \"#fdca26\"], [1.0, \"#f0f921\"]], \"sequentialminus\": [[0.0, \"#0d0887\"], [0.1111111111111111, \"#46039f\"], [0.2222222222222222, \"#7201a8\"], [0.3333333333333333, \"#9c179e\"], [0.4444444444444444, \"#bd3786\"], [0.5555555555555556, \"#d8576b\"], [0.6666666666666666, \"#ed7953\"], [0.7777777777777778, \"#fb9f3a\"], [0.8888888888888888, \"#fdca26\"], [1.0, \"#f0f921\"]]}, \"colorway\": [\"#636efa\", \"#EF553B\", \"#00cc96\", \"#ab63fa\", \"#FFA15A\", \"#19d3f3\", \"#FF6692\", \"#B6E880\", \"#FF97FF\", \"#FECB52\"], \"font\": {\"color\": \"#2a3f5f\"}, \"geo\": {\"bgcolor\": \"white\", \"lakecolor\": \"white\", \"landcolor\": \"#E5ECF6\", \"showlakes\": true, \"showland\": true, \"subunitcolor\": \"white\"}, \"hoverlabel\": {\"align\": \"left\"}, \"hovermode\": \"closest\", \"mapbox\": {\"style\": \"light\"}, \"paper_bgcolor\": \"white\", \"plot_bgcolor\": \"#E5ECF6\", \"polar\": {\"angularaxis\": {\"gridcolor\": \"white\", \"linecolor\": \"white\", \"ticks\": \"\"}, \"bgcolor\": \"#E5ECF6\", \"radialaxis\": {\"gridcolor\": \"white\", \"linecolor\": \"white\", \"ticks\": \"\"}}, \"scene\": {\"xaxis\": {\"backgroundcolor\": \"#E5ECF6\", \"gridcolor\": \"white\", \"gridwidth\": 2, \"linecolor\": \"white\", \"showbackground\": true, \"ticks\": \"\", \"zerolinecolor\": \"white\"}, \"yaxis\": {\"backgroundcolor\": \"#E5ECF6\", \"gridcolor\": \"white\", \"gridwidth\": 2, \"linecolor\": \"white\", \"showbackground\": true, \"ticks\": \"\", \"zerolinecolor\": \"white\"}, \"zaxis\": {\"backgroundcolor\": \"#E5ECF6\", \"gridcolor\": \"white\", \"gridwidth\": 2, \"linecolor\": \"white\", \"showbackground\": true, \"ticks\": \"\", \"zerolinecolor\": \"white\"}}, \"shapedefaults\": {\"line\": {\"color\": \"#2a3f5f\"}}, \"ternary\": {\"aaxis\": {\"gridcolor\": \"white\", \"linecolor\": \"white\", \"ticks\": \"\"}, \"baxis\": {\"gridcolor\": \"white\", \"linecolor\": \"white\", \"ticks\": \"\"}, \"bgcolor\": \"#E5ECF6\", \"caxis\": {\"gridcolor\": \"white\", \"linecolor\": \"white\", \"ticks\": \"\"}}, \"title\": {\"x\": 0.05}, \"xaxis\": {\"automargin\": true, \"gridcolor\": \"white\", \"linecolor\": \"white\", \"ticks\": \"\", \"title\": {\"standoff\": 15}, \"zerolinecolor\": \"white\", \"zerolinewidth\": 2}, \"yaxis\": {\"automargin\": true, \"gridcolor\": \"white\", \"linecolor\": \"white\", \"ticks\": \"\", \"title\": {\"standoff\": 15}, \"zerolinecolor\": \"white\", \"zerolinewidth\": 2}}}, \"title\": {\"text\": \"Case Study 2\"}, \"width\": 700},                        {\"responsive\": true}                    ).then(function(){\n",
       "                            \n",
       "var gd = document.getElementById('842c06c7-cac5-4159-b9c5-8a303544fc8e');\n",
       "var x = new MutationObserver(function (mutations, observer) {{\n",
       "        var display = window.getComputedStyle(gd).display;\n",
       "        if (!display || display === 'none') {{\n",
       "            console.log([gd, 'removed!']);\n",
       "            Plotly.purge(gd);\n",
       "            observer.disconnect();\n",
       "        }}\n",
       "}});\n",
       "\n",
       "// Listen for the removal of the full notebook cells\n",
       "var notebookContainer = gd.closest('#notebook-container');\n",
       "if (notebookContainer) {{\n",
       "    x.observe(notebookContainer, {childList: true});\n",
       "}}\n",
       "\n",
       "// Listen for the clearing of the current output cell\n",
       "var outputEl = gd.closest('.output');\n",
       "if (outputEl) {{\n",
       "    x.observe(outputEl, {childList: true});\n",
       "}}\n",
       "\n",
       "                        })                };                });            </script>        </div>"
      ]
     },
     "metadata": {},
     "output_type": "display_data"
    },
    {
     "data": {
      "application/vnd.plotly.v1+json": {
       "config": {
        "plotlyServerURL": "https://plot.ly"
       },
       "data": [
        {
         "marker": {
          "color": [
           8.330363895374527,
           8.330363895374527,
           8.330363895374527,
           8.330363895374527,
           8.330363895374527,
           8.330363895374527,
           8.330363895374527,
           8.330363895374527,
           8.330363895374527,
           8.330363895374527,
           8.330363895374527,
           8.330363895374527,
           8.330363895374527,
           8.330363895374527,
           8.330363895374527,
           8.330363895374527,
           8.330363895374527,
           8.330363895374527,
           8.330363895374527,
           8.330363895374527,
           8.330363895374527,
           8.330363895374527,
           8.330363895374527,
           8.330363895374527,
           8.330363895374527,
           8.330363895374527,
           8.330363895374527,
           8.330363895374527,
           8.330363895374527,
           8.330363895374527,
           8.330363895374527,
           8.330363895374527,
           8.330363895374527,
           8.330363895374527,
           8.330363895374527,
           8.330363895374527,
           8.330363895374527,
           8.330363895374527,
           8.330363895374527,
           8.330363895374527,
           8.330363895374527,
           8.330363895374527,
           8.330363895374527,
           8.330363895374527,
           8.330363895374527,
           8.330363895374527,
           8.330363895374527,
           8.330363895374527,
           8.330363895374527,
           8.330363895374527,
           8.330363895374527,
           8.330363895374527,
           8.330363895374527,
           8.330363895374527,
           8.330363895374527,
           8.330363895374527,
           8.330363895374527,
           8.330363895374527,
           8.330363895374527,
           8.330363895374527,
           8.330363895374527,
           8.330363895374527,
           8.330363895374527,
           8.330363895374527,
           8.330363895374527,
           8.330363895374527,
           8.330363895374527,
           8.330363895374527,
           8.330363895374527,
           8.330363895374527,
           8.330363895374527,
           8.330363895374527,
           8.330363895374527,
           8.330363895374527,
           8.330363895374527,
           8.330363895374527,
           8.330363895374527,
           8.330363895374527,
           8.330363895374527,
           8.330363895374527,
           8.330363895374527,
           8.330363895374527,
           8.330363895374527,
           8.330363895374527,
           8.330363895374527,
           8.330363895374527,
           8.330363895374527,
           8.330363895374527,
           8.330363895374527,
           8.330363895374527,
           8.330363895374527,
           8.330363895374527,
           8.330363895374527,
           8.330363895374527,
           8.330363895374527,
           8.330363895374527,
           8.330363895374527,
           8.330363895374527,
           8.330363895374527,
           8.330363895374527,
           5.053806399294229,
           5.053806399294229,
           5.053806399294229,
           5.053806399294229,
           5.053806399294229,
           5.053806399294229,
           5.053806399294229,
           5.053806399294229,
           5.053806399294229,
           5.053806399294229,
           5.053806399294229,
           5.053806399294229,
           5.053806399294229,
           5.053806399294229,
           5.053806399294229,
           5.053806399294229,
           5.053806399294229,
           5.053806399294229,
           5.053806399294229,
           5.053806399294229,
           5.053806399294229,
           5.053806399294229,
           5.053806399294229,
           5.053806399294229,
           5.053806399294229,
           5.053806399294229,
           5.053806399294229,
           5.053806399294229,
           5.053806399294229,
           5.053806399294229,
           5.053806399294229,
           5.053806399294229,
           5.053806399294229,
           5.053806399294229,
           5.053806399294229,
           5.053806399294229,
           5.053806399294229,
           5.053806399294229,
           5.053806399294229,
           5.053806399294229,
           5.053806399294229,
           5.053806399294229,
           5.053806399294229,
           5.053806399294229,
           5.053806399294229,
           5.053806399294229,
           5.053806399294229,
           5.053806399294229,
           5.053806399294229,
           5.053806399294229,
           5.053806399294229,
           5.053806399294229,
           5.053806399294229,
           5.053806399294229,
           5.053806399294229,
           5.053806399294229,
           5.053806399294229,
           5.053806399294229,
           5.053806399294229,
           5.053806399294229,
           5.053806399294229,
           5.053806399294229,
           5.053806399294229,
           5.053806399294229,
           5.053806399294229,
           5.053806399294229,
           5.053806399294229,
           5.053806399294229,
           5.053806399294229,
           5.053806399294229,
           5.053806399294229,
           5.053806399294229,
           5.053806399294229,
           5.053806399294229,
           5.053806399294229,
           5.053806399294229,
           5.053806399294229,
           5.053806399294229,
           5.053806399294229,
           5.053806399294229,
           5.053806399294229,
           5.053806399294229,
           5.053806399294229,
           5.053806399294229,
           5.053806399294229,
           5.053806399294229,
           5.053806399294229,
           5.053806399294229,
           5.053806399294229,
           5.053806399294229,
           5.053806399294229,
           5.053806399294229,
           5.053806399294229,
           5.053806399294229,
           5.053806399294229,
           5.053806399294229,
           5.053806399294229,
           5.053806399294229,
           5.053806399294229,
           5.053806399294229,
           4.38542749630773,
           4.38542749630773,
           4.38542749630773,
           4.38542749630773,
           4.38542749630773,
           4.38542749630773,
           4.38542749630773,
           4.38542749630773,
           4.38542749630773,
           4.38542749630773,
           4.38542749630773,
           4.38542749630773,
           4.38542749630773,
           4.38542749630773,
           4.38542749630773,
           4.38542749630773,
           4.38542749630773,
           4.38542749630773,
           4.38542749630773,
           4.38542749630773,
           4.38542749630773,
           4.38542749630773,
           4.38542749630773,
           4.38542749630773,
           4.38542749630773,
           4.38542749630773,
           4.38542749630773,
           4.38542749630773,
           4.38542749630773,
           4.38542749630773,
           4.38542749630773,
           4.38542749630773,
           4.38542749630773,
           4.38542749630773,
           4.38542749630773,
           4.38542749630773,
           4.38542749630773,
           4.38542749630773,
           4.38542749630773,
           4.38542749630773,
           4.38542749630773,
           4.38542749630773,
           4.38542749630773,
           4.38542749630773,
           4.38542749630773,
           4.38542749630773,
           4.38542749630773,
           4.38542749630773,
           4.38542749630773,
           4.38542749630773,
           4.38542749630773,
           4.38542749630773,
           4.38542749630773,
           4.38542749630773,
           4.38542749630773,
           4.38542749630773,
           4.38542749630773,
           4.38542749630773,
           4.38542749630773,
           4.38542749630773,
           4.38542749630773,
           4.38542749630773,
           4.38542749630773,
           4.38542749630773,
           4.38542749630773,
           4.38542749630773,
           4.38542749630773,
           4.38542749630773,
           4.38542749630773,
           4.38542749630773,
           4.38542749630773,
           4.38542749630773,
           4.38542749630773,
           4.38542749630773,
           4.38542749630773,
           4.38542749630773,
           4.38542749630773,
           4.38542749630773,
           4.38542749630773,
           4.38542749630773,
           4.38542749630773,
           4.38542749630773,
           4.38542749630773,
           4.38542749630773,
           4.38542749630773,
           4.38542749630773,
           4.38542749630773,
           4.38542749630773,
           4.38542749630773,
           4.38542749630773,
           4.38542749630773,
           4.38542749630773,
           4.38542749630773,
           4.38542749630773,
           4.38542749630773,
           4.38542749630773,
           4.38542749630773,
           4.38542749630773,
           4.38542749630773,
           4.38542749630773,
           3.9831838346621984,
           3.9831838346621984,
           3.9831838346621984,
           3.9831838346621984,
           3.9831838346621984,
           3.9831838346621984,
           3.9831838346621984,
           3.9831838346621984,
           3.9831838346621984,
           3.9831838346621984,
           3.9831838346621984,
           3.9831838346621984,
           3.9831838346621984,
           3.9831838346621984,
           3.9831838346621984,
           3.9831838346621984,
           3.9831838346621984,
           3.9831838346621984,
           3.9831838346621984,
           3.9831838346621984,
           3.9831838346621984,
           3.9831838346621984,
           3.9831838346621984,
           3.9831838346621984,
           3.9831838346621984,
           3.9831838346621984,
           3.9831838346621984,
           3.9831838346621984,
           3.9831838346621984,
           3.9831838346621984,
           3.9831838346621984,
           3.9831838346621984,
           3.9831838346621984,
           3.9831838346621984,
           3.9831838346621984,
           3.9831838346621984,
           3.9831838346621984,
           3.9831838346621984,
           3.9831838346621984,
           3.9831838346621984,
           3.9831838346621984,
           3.9831838346621984,
           3.9831838346621984,
           3.9831838346621984,
           3.9831838346621984,
           3.9831838346621984,
           3.9831838346621984,
           3.9831838346621984,
           3.9831838346621984,
           3.9831838346621984,
           3.9831838346621984,
           3.9831838346621984,
           3.9831838346621984,
           3.9831838346621984,
           3.9831838346621984,
           3.9831838346621984,
           3.9831838346621984,
           3.9831838346621984,
           3.9831838346621984,
           3.9831838346621984,
           3.9831838346621984,
           3.9831838346621984,
           3.9831838346621984,
           3.9831838346621984,
           3.9831838346621984,
           3.9831838346621984,
           3.9831838346621984,
           3.9831838346621984,
           3.9831838346621984,
           3.9831838346621984,
           3.9831838346621984,
           3.9831838346621984,
           3.9831838346621984,
           3.9831838346621984,
           3.9831838346621984,
           3.9831838346621984,
           3.9831838346621984,
           3.9831838346621984,
           3.9831838346621984,
           3.9831838346621984,
           3.9831838346621984,
           3.9831838346621984,
           3.9831838346621984,
           3.9831838346621984,
           3.9831838346621984,
           3.9831838346621984,
           3.9831838346621984,
           3.9831838346621984,
           3.9831838346621984,
           3.9831838346621984,
           3.9831838346621984,
           3.9831838346621984,
           3.9831838346621984,
           3.9831838346621984,
           3.9831838346621984,
           3.9831838346621984,
           3.9831838346621984,
           3.9831838346621984,
           3.9831838346621984,
           3.9831838346621984,
           3.6854702599097036,
           3.6854702599097036,
           3.6854702599097036,
           3.6854702599097036,
           3.6854702599097036,
           3.6854702599097036,
           3.6854702599097036,
           3.6854702599097036,
           3.6854702599097036,
           3.6854702599097036,
           3.6854702599097036,
           3.6854702599097036,
           3.6854702599097036,
           3.6854702599097036,
           3.6854702599097036,
           3.6854702599097036,
           3.6854702599097036,
           3.6854702599097036,
           3.6854702599097036,
           3.6854702599097036,
           3.6854702599097036,
           3.6854702599097036,
           3.6854702599097036,
           3.6854702599097036,
           3.6854702599097036,
           3.6854702599097036,
           3.6854702599097036,
           3.6854702599097036,
           3.6854702599097036,
           3.6854702599097036,
           3.6854702599097036,
           3.6854702599097036,
           3.6854702599097036,
           3.6854702599097036,
           3.6854702599097036,
           3.6854702599097036,
           3.6854702599097036,
           3.6854702599097036,
           3.6854702599097036,
           3.6854702599097036,
           3.6854702599097036,
           3.6854702599097036,
           3.6854702599097036,
           3.6854702599097036,
           3.6854702599097036,
           3.6854702599097036,
           3.6854702599097036,
           3.6854702599097036,
           3.6854702599097036,
           3.6854702599097036,
           3.6854702599097036,
           3.6854702599097036,
           3.6854702599097036,
           3.6854702599097036,
           3.6854702599097036,
           3.6854702599097036,
           3.6854702599097036,
           3.6854702599097036,
           3.6854702599097036,
           3.6854702599097036,
           3.6854702599097036,
           3.6854702599097036,
           3.6854702599097036,
           3.6854702599097036,
           3.6854702599097036,
           3.6854702599097036,
           3.6854702599097036,
           3.6854702599097036,
           3.6854702599097036,
           3.6854702599097036,
           3.6854702599097036,
           3.6854702599097036,
           3.6854702599097036,
           3.6854702599097036,
           3.6854702599097036,
           3.6854702599097036,
           3.6854702599097036,
           3.6854702599097036,
           3.6854702599097036,
           3.6854702599097036,
           3.6854702599097036,
           3.6854702599097036,
           3.6854702599097036,
           3.6854702599097036,
           3.6854702599097036,
           3.6854702599097036,
           3.6854702599097036,
           3.6854702599097036,
           3.6854702599097036,
           3.6854702599097036,
           3.6854702599097036,
           3.6854702599097036,
           3.6854702599097036,
           3.6854702599097036,
           3.6854702599097036,
           3.6854702599097036,
           3.6854702599097036,
           3.6854702599097036,
           3.6854702599097036,
           3.6854702599097036,
           3.4393516568212443,
           3.4393516568212443,
           3.4393516568212443,
           3.4393516568212443,
           3.4393516568212443,
           3.4393516568212443,
           3.4393516568212443,
           3.4393516568212443,
           3.4393516568212443,
           3.4393516568212443,
           3.4393516568212443,
           3.4393516568212443,
           3.4393516568212443,
           3.4393516568212443,
           3.4393516568212443,
           3.4393516568212443,
           3.4393516568212443,
           3.4393516568212443,
           3.4393516568212443,
           3.4393516568212443,
           3.4393516568212443,
           3.4393516568212443,
           3.4393516568212443,
           3.4393516568212443,
           3.4393516568212443,
           3.4393516568212443,
           3.4393516568212443,
           3.4393516568212443,
           3.4393516568212443,
           3.4393516568212443,
           3.4393516568212443,
           3.4393516568212443,
           3.4393516568212443,
           3.4393516568212443,
           3.4393516568212443,
           3.4393516568212443,
           3.4393516568212443,
           3.4393516568212443,
           3.4393516568212443,
           3.4393516568212443,
           3.4393516568212443,
           3.4393516568212443,
           3.4393516568212443,
           3.4393516568212443,
           3.4393516568212443,
           3.4393516568212443,
           3.4393516568212443,
           3.4393516568212443,
           3.4393516568212443,
           3.4393516568212443,
           3.4393516568212443,
           3.4393516568212443,
           3.4393516568212443,
           3.4393516568212443,
           3.4393516568212443,
           3.4393516568212443,
           3.4393516568212443,
           3.4393516568212443,
           3.4393516568212443,
           3.4393516568212443,
           3.4393516568212443,
           3.4393516568212443,
           3.4393516568212443,
           3.4393516568212443,
           3.4393516568212443,
           3.4393516568212443,
           3.4393516568212443,
           3.4393516568212443,
           3.4393516568212443,
           3.4393516568212443,
           3.4393516568212443,
           3.4393516568212443,
           3.4393516568212443,
           3.4393516568212443,
           3.4393516568212443,
           3.4393516568212443,
           3.4393516568212443,
           3.4393516568212443,
           3.4393516568212443,
           3.4393516568212443,
           3.4393516568212443,
           3.4393516568212443,
           3.4393516568212443,
           3.4393516568212443,
           3.4393516568212443,
           3.4393516568212443,
           3.4393516568212443,
           3.4393516568212443,
           3.4393516568212443,
           3.4393516568212443,
           3.4393516568212443,
           3.4393516568212443,
           3.4393516568212443,
           3.4393516568212443,
           3.4393516568212443,
           3.4393516568212443,
           3.4393516568212443,
           3.4393516568212443,
           3.4393516568212443,
           3.4393516568212443
          ],
          "colorscale": [
           [
            0,
            "rgb(0,0,255)"
           ],
           [
            1,
            "rgb(255,0,0)"
           ]
          ],
          "opacity": 0.8,
          "size": 6
         },
         "mode": "markers",
         "type": "scatter3d",
         "x": [
          1,
          2,
          3,
          4,
          5,
          6,
          7,
          8,
          9,
          10,
          11,
          12,
          13,
          14,
          15,
          16,
          17,
          18,
          19,
          20,
          21,
          22,
          23,
          24,
          25,
          26,
          27,
          28,
          29,
          30,
          31,
          32,
          33,
          34,
          35,
          36,
          37,
          38,
          39,
          40,
          41,
          42,
          43,
          44,
          45,
          46,
          47,
          48,
          49,
          50,
          51,
          52,
          53,
          54,
          55,
          56,
          57,
          58,
          59,
          60,
          61,
          62,
          63,
          64,
          65,
          66,
          67,
          68,
          69,
          70,
          71,
          72,
          73,
          74,
          75,
          76,
          77,
          78,
          79,
          80,
          81,
          82,
          83,
          84,
          85,
          86,
          87,
          88,
          89,
          90,
          91,
          92,
          93,
          94,
          95,
          96,
          97,
          98,
          99,
          100,
          1,
          2,
          3,
          4,
          5,
          6,
          7,
          8,
          9,
          10,
          11,
          12,
          13,
          14,
          15,
          16,
          17,
          18,
          19,
          20,
          21,
          22,
          23,
          24,
          25,
          26,
          27,
          28,
          29,
          30,
          31,
          32,
          33,
          34,
          35,
          36,
          37,
          38,
          39,
          40,
          41,
          42,
          43,
          44,
          45,
          46,
          47,
          48,
          49,
          50,
          51,
          52,
          53,
          54,
          55,
          56,
          57,
          58,
          59,
          60,
          61,
          62,
          63,
          64,
          65,
          66,
          67,
          68,
          69,
          70,
          71,
          72,
          73,
          74,
          75,
          76,
          77,
          78,
          79,
          80,
          81,
          82,
          83,
          84,
          85,
          86,
          87,
          88,
          89,
          90,
          91,
          92,
          93,
          94,
          95,
          96,
          97,
          98,
          99,
          100,
          1,
          2,
          3,
          4,
          5,
          6,
          7,
          8,
          9,
          10,
          11,
          12,
          13,
          14,
          15,
          16,
          17,
          18,
          19,
          20,
          21,
          22,
          23,
          24,
          25,
          26,
          27,
          28,
          29,
          30,
          31,
          32,
          33,
          34,
          35,
          36,
          37,
          38,
          39,
          40,
          41,
          42,
          43,
          44,
          45,
          46,
          47,
          48,
          49,
          50,
          51,
          52,
          53,
          54,
          55,
          56,
          57,
          58,
          59,
          60,
          61,
          62,
          63,
          64,
          65,
          66,
          67,
          68,
          69,
          70,
          71,
          72,
          73,
          74,
          75,
          76,
          77,
          78,
          79,
          80,
          81,
          82,
          83,
          84,
          85,
          86,
          87,
          88,
          89,
          90,
          91,
          92,
          93,
          94,
          95,
          96,
          97,
          98,
          99,
          100,
          1,
          2,
          3,
          4,
          5,
          6,
          7,
          8,
          9,
          10,
          11,
          12,
          13,
          14,
          15,
          16,
          17,
          18,
          19,
          20,
          21,
          22,
          23,
          24,
          25,
          26,
          27,
          28,
          29,
          30,
          31,
          32,
          33,
          34,
          35,
          36,
          37,
          38,
          39,
          40,
          41,
          42,
          43,
          44,
          45,
          46,
          47,
          48,
          49,
          50,
          51,
          52,
          53,
          54,
          55,
          56,
          57,
          58,
          59,
          60,
          61,
          62,
          63,
          64,
          65,
          66,
          67,
          68,
          69,
          70,
          71,
          72,
          73,
          74,
          75,
          76,
          77,
          78,
          79,
          80,
          81,
          82,
          83,
          84,
          85,
          86,
          87,
          88,
          89,
          90,
          91,
          92,
          93,
          94,
          95,
          96,
          97,
          98,
          99,
          100,
          1,
          2,
          3,
          4,
          5,
          6,
          7,
          8,
          9,
          10,
          11,
          12,
          13,
          14,
          15,
          16,
          17,
          18,
          19,
          20,
          21,
          22,
          23,
          24,
          25,
          26,
          27,
          28,
          29,
          30,
          31,
          32,
          33,
          34,
          35,
          36,
          37,
          38,
          39,
          40,
          41,
          42,
          43,
          44,
          45,
          46,
          47,
          48,
          49,
          50,
          51,
          52,
          53,
          54,
          55,
          56,
          57,
          58,
          59,
          60,
          61,
          62,
          63,
          64,
          65,
          66,
          67,
          68,
          69,
          70,
          71,
          72,
          73,
          74,
          75,
          76,
          77,
          78,
          79,
          80,
          81,
          82,
          83,
          84,
          85,
          86,
          87,
          88,
          89,
          90,
          91,
          92,
          93,
          94,
          95,
          96,
          97,
          98,
          99,
          100,
          1,
          2,
          3,
          4,
          5,
          6,
          7,
          8,
          9,
          10,
          11,
          12,
          13,
          14,
          15,
          16,
          17,
          18,
          19,
          20,
          21,
          22,
          23,
          24,
          25,
          26,
          27,
          28,
          29,
          30,
          31,
          32,
          33,
          34,
          35,
          36,
          37,
          38,
          39,
          40,
          41,
          42,
          43,
          44,
          45,
          46,
          47,
          48,
          49,
          50,
          51,
          52,
          53,
          54,
          55,
          56,
          57,
          58,
          59,
          60,
          61,
          62,
          63,
          64,
          65,
          66,
          67,
          68,
          69,
          70,
          71,
          72,
          73,
          74,
          75,
          76,
          77,
          78,
          79,
          80,
          81,
          82,
          83,
          84,
          85,
          86,
          87,
          88,
          89,
          90,
          91,
          92,
          93,
          94,
          95,
          96,
          97,
          98,
          99,
          100
         ],
         "y": [
          15,
          15,
          15,
          15,
          15,
          15,
          15,
          15,
          15,
          15,
          15,
          15,
          15,
          15,
          15,
          15,
          15,
          15,
          15,
          15,
          15,
          15,
          15,
          15,
          15,
          15,
          15,
          15,
          15,
          15,
          15,
          15,
          15,
          15,
          15,
          15,
          15,
          15,
          15,
          15,
          15,
          15,
          15,
          15,
          15,
          15,
          15,
          15,
          15,
          15,
          15,
          15,
          15,
          15,
          15,
          15,
          15,
          15,
          15,
          15,
          15,
          15,
          15,
          15,
          15,
          15,
          15,
          15,
          15,
          15,
          15,
          15,
          15,
          15,
          15,
          15,
          15,
          15,
          15,
          15,
          15,
          15,
          15,
          15,
          15,
          15,
          15,
          15,
          15,
          15,
          15,
          15,
          15,
          15,
          15,
          15,
          15,
          15,
          15,
          15,
          16,
          16,
          16,
          16,
          16,
          16,
          16,
          16,
          16,
          16,
          16,
          16,
          16,
          16,
          16,
          16,
          16,
          16,
          16,
          16,
          16,
          16,
          16,
          16,
          16,
          16,
          16,
          16,
          16,
          16,
          16,
          16,
          16,
          16,
          16,
          16,
          16,
          16,
          16,
          16,
          16,
          16,
          16,
          16,
          16,
          16,
          16,
          16,
          16,
          16,
          16,
          16,
          16,
          16,
          16,
          16,
          16,
          16,
          16,
          16,
          16,
          16,
          16,
          16,
          16,
          16,
          16,
          16,
          16,
          16,
          16,
          16,
          16,
          16,
          16,
          16,
          16,
          16,
          16,
          16,
          16,
          16,
          16,
          16,
          16,
          16,
          16,
          16,
          16,
          16,
          16,
          16,
          16,
          16,
          16,
          16,
          16,
          16,
          16,
          16,
          17,
          17,
          17,
          17,
          17,
          17,
          17,
          17,
          17,
          17,
          17,
          17,
          17,
          17,
          17,
          17,
          17,
          17,
          17,
          17,
          17,
          17,
          17,
          17,
          17,
          17,
          17,
          17,
          17,
          17,
          17,
          17,
          17,
          17,
          17,
          17,
          17,
          17,
          17,
          17,
          17,
          17,
          17,
          17,
          17,
          17,
          17,
          17,
          17,
          17,
          17,
          17,
          17,
          17,
          17,
          17,
          17,
          17,
          17,
          17,
          17,
          17,
          17,
          17,
          17,
          17,
          17,
          17,
          17,
          17,
          17,
          17,
          17,
          17,
          17,
          17,
          17,
          17,
          17,
          17,
          17,
          17,
          17,
          17,
          17,
          17,
          17,
          17,
          17,
          17,
          17,
          17,
          17,
          17,
          17,
          17,
          17,
          17,
          17,
          17,
          18,
          18,
          18,
          18,
          18,
          18,
          18,
          18,
          18,
          18,
          18,
          18,
          18,
          18,
          18,
          18,
          18,
          18,
          18,
          18,
          18,
          18,
          18,
          18,
          18,
          18,
          18,
          18,
          18,
          18,
          18,
          18,
          18,
          18,
          18,
          18,
          18,
          18,
          18,
          18,
          18,
          18,
          18,
          18,
          18,
          18,
          18,
          18,
          18,
          18,
          18,
          18,
          18,
          18,
          18,
          18,
          18,
          18,
          18,
          18,
          18,
          18,
          18,
          18,
          18,
          18,
          18,
          18,
          18,
          18,
          18,
          18,
          18,
          18,
          18,
          18,
          18,
          18,
          18,
          18,
          18,
          18,
          18,
          18,
          18,
          18,
          18,
          18,
          18,
          18,
          18,
          18,
          18,
          18,
          18,
          18,
          18,
          18,
          18,
          18,
          19,
          19,
          19,
          19,
          19,
          19,
          19,
          19,
          19,
          19,
          19,
          19,
          19,
          19,
          19,
          19,
          19,
          19,
          19,
          19,
          19,
          19,
          19,
          19,
          19,
          19,
          19,
          19,
          19,
          19,
          19,
          19,
          19,
          19,
          19,
          19,
          19,
          19,
          19,
          19,
          19,
          19,
          19,
          19,
          19,
          19,
          19,
          19,
          19,
          19,
          19,
          19,
          19,
          19,
          19,
          19,
          19,
          19,
          19,
          19,
          19,
          19,
          19,
          19,
          19,
          19,
          19,
          19,
          19,
          19,
          19,
          19,
          19,
          19,
          19,
          19,
          19,
          19,
          19,
          19,
          19,
          19,
          19,
          19,
          19,
          19,
          19,
          19,
          19,
          19,
          19,
          19,
          19,
          19,
          19,
          19,
          19,
          19,
          19,
          19,
          20,
          20,
          20,
          20,
          20,
          20,
          20,
          20,
          20,
          20,
          20,
          20,
          20,
          20,
          20,
          20,
          20,
          20,
          20,
          20,
          20,
          20,
          20,
          20,
          20,
          20,
          20,
          20,
          20,
          20,
          20,
          20,
          20,
          20,
          20,
          20,
          20,
          20,
          20,
          20,
          20,
          20,
          20,
          20,
          20,
          20,
          20,
          20,
          20,
          20,
          20,
          20,
          20,
          20,
          20,
          20,
          20,
          20,
          20,
          20,
          20,
          20,
          20,
          20,
          20,
          20,
          20,
          20,
          20,
          20,
          20,
          20,
          20,
          20,
          20,
          20,
          20,
          20,
          20,
          20,
          20,
          20,
          20,
          20,
          20,
          20,
          20,
          20,
          20,
          20,
          20,
          20,
          20,
          20,
          20,
          20,
          20,
          20,
          20,
          20
         ],
         "z": [
          -30.20412571,
          -30.20412571,
          -30.20412571,
          -30.20412571,
          -30.20412571,
          -30.20412571,
          -30.20412571,
          -30.20412571,
          -30.20412571,
          -30.20412571,
          -30.20412571,
          -30.20412571,
          -30.20412571,
          -30.20412571,
          -30.20412571,
          -30.20412571,
          -30.20412571,
          -30.20412571,
          -30.20412571,
          -30.20412571,
          -30.20412571,
          -30.20412571,
          -30.20412571,
          -30.20412571,
          -30.20412571,
          -30.20412571,
          -30.20412571,
          -30.20412571,
          -30.20412571,
          -30.20412571,
          -30.20412571,
          -30.20412571,
          -30.20412571,
          -30.20412571,
          -30.20412571,
          -30.20412571,
          -30.20412571,
          -30.20412571,
          -30.20412571,
          -30.20412571,
          -30.20412571,
          -30.20412571,
          -30.20412571,
          -30.20412571,
          -30.20412571,
          -30.20412571,
          -30.20412571,
          -30.20412571,
          -30.20412571,
          -30.20412571,
          -30.20412571,
          -30.20412571,
          -30.20412571,
          -30.20412571,
          -30.20412571,
          -30.20412571,
          -30.20412571,
          -30.20412571,
          -30.20412571,
          -30.20412571,
          -30.20412571,
          -30.20412571,
          -30.20412571,
          -30.20412571,
          -30.20412571,
          -30.20412571,
          -30.20412571,
          -30.20412571,
          -30.20412571,
          -30.20412571,
          -30.20412571,
          -30.20412571,
          -30.20412571,
          -30.20412571,
          -30.20412571,
          -30.20412571,
          -30.20412571,
          -30.20412571,
          -30.20412571,
          -30.20412571,
          -30.20412571,
          -30.20412571,
          -30.20412571,
          -30.20412571,
          -30.20412571,
          -30.20412571,
          -30.20412571,
          -30.20412571,
          -30.20412571,
          -30.20412571,
          -30.20412571,
          -30.20412571,
          -30.20412571,
          -30.20412571,
          -30.20412571,
          -30.20412571,
          -30.20412571,
          -30.20412571,
          -30.20412571,
          -30.20412571,
          47.92878949,
          47.92878949,
          47.92878949,
          47.92878949,
          47.92878949,
          47.92878949,
          47.92878949,
          47.92878949,
          47.92878949,
          47.92878949,
          47.92878949,
          47.92878949,
          47.92878949,
          47.92878949,
          47.92878949,
          47.92878949,
          47.92878949,
          47.92878949,
          47.92878949,
          47.92878949,
          47.92878949,
          47.92878949,
          47.92878949,
          47.92878949,
          47.92878949,
          47.92878949,
          47.92878949,
          47.92878949,
          47.92878949,
          47.92878949,
          47.92878949,
          47.92878949,
          47.92878949,
          47.92878949,
          47.92878949,
          47.92878949,
          47.92878949,
          47.92878949,
          47.92878949,
          47.92878949,
          47.92878949,
          47.92878949,
          47.92878949,
          47.92878949,
          47.92878949,
          47.92878949,
          47.92878949,
          47.92878949,
          47.92878949,
          47.92878949,
          47.92878949,
          47.92878949,
          47.92878949,
          47.92878949,
          47.92878949,
          47.92878949,
          47.92878949,
          47.92878949,
          47.92878949,
          47.92878949,
          47.92878949,
          47.92878949,
          47.92878949,
          47.92878949,
          47.92878949,
          47.92878949,
          47.92878949,
          47.92878949,
          47.92878949,
          47.92878949,
          47.92878949,
          47.92878949,
          47.92878949,
          47.92878949,
          47.92878949,
          47.92878949,
          47.92878949,
          47.92878949,
          47.92878949,
          47.92878949,
          47.92878949,
          47.92878949,
          47.92878949,
          47.92878949,
          47.92878949,
          47.92878949,
          47.92878949,
          47.92878949,
          47.92878949,
          47.92878949,
          47.92878949,
          47.92878949,
          47.92878949,
          47.92878949,
          47.92878949,
          47.92878949,
          47.92878949,
          47.92878949,
          47.92878949,
          47.92878949,
          47.545958558200006,
          47.545958558200006,
          47.545958558200006,
          47.545958558200006,
          47.545958558200006,
          47.545958558200006,
          47.545958558200006,
          47.545958558200006,
          47.545958558200006,
          47.545958558200006,
          47.545958558200006,
          47.545958558200006,
          47.545958558200006,
          47.545958558200006,
          47.545958558200006,
          47.545958558200006,
          47.545958558200006,
          47.545958558200006,
          47.545958558200006,
          47.545958558200006,
          47.545958558200006,
          47.545958558200006,
          47.545958558200006,
          47.545958558200006,
          47.545958558200006,
          47.545958558200006,
          47.545958558200006,
          47.545958558200006,
          47.545958558200006,
          47.545958558200006,
          47.545958558200006,
          47.545958558200006,
          47.545958558200006,
          47.545958558200006,
          47.545958558200006,
          47.545958558200006,
          47.545958558200006,
          47.545958558200006,
          47.545958558200006,
          47.545958558200006,
          47.545958558200006,
          47.545958558200006,
          47.545958558200006,
          47.545958558200006,
          47.545958558200006,
          47.545958558200006,
          47.545958558200006,
          47.545958558200006,
          47.545958558200006,
          47.545958558200006,
          47.545958558200006,
          47.545958558200006,
          47.545958558200006,
          47.545958558200006,
          47.545958558200006,
          47.545958558200006,
          47.545958558200006,
          47.545958558200006,
          47.545958558200006,
          47.545958558200006,
          47.545958558200006,
          47.545958558200006,
          47.545958558200006,
          47.545958558200006,
          47.545958558200006,
          47.545958558200006,
          47.545958558200006,
          47.545958558200006,
          47.545958558200006,
          47.545958558200006,
          47.545958558200006,
          47.545958558200006,
          47.545958558200006,
          47.545958558200006,
          47.545958558200006,
          47.545958558200006,
          47.545958558200006,
          47.545958558200006,
          47.545958558200006,
          47.545958558200006,
          47.545958558200006,
          47.545958558200006,
          47.545958558200006,
          47.545958558200006,
          47.545958558200006,
          47.545958558200006,
          47.545958558200006,
          47.545958558200006,
          47.545958558200006,
          47.545958558200006,
          47.545958558200006,
          47.545958558200006,
          47.545958558200006,
          47.545958558200006,
          47.545958558200006,
          47.545958558200006,
          47.545958558200006,
          47.545958558200006,
          47.545958558200006,
          47.545958558200006,
          45.911139246999994,
          45.911139246999994,
          45.911139246999994,
          45.911139246999994,
          45.911139246999994,
          45.911139246999994,
          45.911139246999994,
          45.911139246999994,
          45.911139246999994,
          45.911139246999994,
          45.911139246999994,
          45.911139246999994,
          45.911139246999994,
          45.911139246999994,
          45.911139246999994,
          45.911139246999994,
          45.911139246999994,
          45.911139246999994,
          45.911139246999994,
          45.911139246999994,
          45.911139246999994,
          45.911139246999994,
          45.911139246999994,
          45.911139246999994,
          45.911139246999994,
          45.911139246999994,
          45.911139246999994,
          45.911139246999994,
          45.911139246999994,
          45.911139246999994,
          45.911139246999994,
          45.911139246999994,
          45.911139246999994,
          45.911139246999994,
          45.911139246999994,
          45.911139246999994,
          45.911139246999994,
          45.911139246999994,
          45.911139246999994,
          45.911139246999994,
          45.911139246999994,
          45.911139246999994,
          45.911139246999994,
          45.911139246999994,
          45.911139246999994,
          45.911139246999994,
          45.911139246999994,
          45.911139246999994,
          45.911139246999994,
          45.911139246999994,
          45.911139246999994,
          45.911139246999994,
          45.911139246999994,
          45.911139246999994,
          45.911139246999994,
          45.911139246999994,
          45.911139246999994,
          45.911139246999994,
          45.911139246999994,
          45.911139246999994,
          45.911139246999994,
          45.911139246999994,
          45.911139246999994,
          45.911139246999994,
          45.911139246999994,
          45.911139246999994,
          45.911139246999994,
          45.911139246999994,
          45.911139246999994,
          45.911139246999994,
          45.911139246999994,
          45.911139246999994,
          45.911139246999994,
          45.911139246999994,
          45.911139246999994,
          45.911139246999994,
          45.911139246999994,
          45.911139246999994,
          45.911139246999994,
          45.911139246999994,
          45.911139246999994,
          45.911139246999994,
          45.911139246999994,
          45.911139246999994,
          45.911139246999994,
          45.911139246999994,
          45.911139246999994,
          45.911139246999994,
          45.911139246999994,
          45.911139246999994,
          45.911139246999994,
          45.911139246999994,
          45.911139246999994,
          45.911139246999994,
          45.911139246999994,
          45.911139246999994,
          45.911139246999994,
          45.911139246999994,
          45.911139246999994,
          45.911139246999994,
          43.7161659016,
          43.7161659016,
          43.7161659016,
          43.7161659016,
          43.7161659016,
          43.7161659016,
          43.7161659016,
          43.7161659016,
          43.7161659016,
          43.7161659016,
          43.7161659016,
          43.7161659016,
          43.7161659016,
          43.7161659016,
          43.7161659016,
          43.7161659016,
          43.7161659016,
          43.7161659016,
          43.7161659016,
          43.7161659016,
          43.7161659016,
          43.7161659016,
          43.7161659016,
          43.7161659016,
          43.7161659016,
          43.7161659016,
          43.7161659016,
          43.7161659016,
          43.7161659016,
          43.7161659016,
          43.7161659016,
          43.7161659016,
          43.7161659016,
          43.7161659016,
          43.7161659016,
          43.7161659016,
          43.7161659016,
          43.7161659016,
          43.7161659016,
          43.7161659016,
          43.7161659016,
          43.7161659016,
          43.7161659016,
          43.7161659016,
          43.7161659016,
          43.7161659016,
          43.7161659016,
          43.7161659016,
          43.7161659016,
          43.7161659016,
          43.7161659016,
          43.7161659016,
          43.7161659016,
          43.7161659016,
          43.7161659016,
          43.7161659016,
          43.7161659016,
          43.7161659016,
          43.7161659016,
          43.7161659016,
          43.7161659016,
          43.7161659016,
          43.7161659016,
          43.7161659016,
          43.7161659016,
          43.7161659016,
          43.7161659016,
          43.7161659016,
          43.7161659016,
          43.7161659016,
          43.7161659016,
          43.7161659016,
          43.7161659016,
          43.7161659016,
          43.7161659016,
          43.7161659016,
          43.7161659016,
          43.7161659016,
          43.7161659016,
          43.7161659016,
          43.7161659016,
          43.7161659016,
          43.7161659016,
          43.7161659016,
          43.7161659016,
          43.7161659016,
          43.7161659016,
          43.7161659016,
          43.7161659016,
          43.7161659016,
          43.7161659016,
          43.7161659016,
          43.7161659016,
          43.7161659016,
          43.7161659016,
          43.7161659016,
          43.7161659016,
          43.7161659016,
          43.7161659016,
          43.7161659016,
          41.0553793726,
          41.0553793726,
          41.0553793726,
          41.0553793726,
          41.0553793726,
          41.0553793726,
          41.0553793726,
          41.0553793726,
          41.0553793726,
          41.0553793726,
          41.0553793726,
          41.0553793726,
          41.0553793726,
          41.0553793726,
          41.0553793726,
          41.0553793726,
          41.0553793726,
          41.0553793726,
          41.0553793726,
          41.0553793726,
          41.0553793726,
          41.0553793726,
          41.0553793726,
          41.0553793726,
          41.0553793726,
          41.0553793726,
          41.0553793726,
          41.0553793726,
          41.0553793726,
          41.0553793726,
          41.0553793726,
          41.0553793726,
          41.0553793726,
          41.0553793726,
          41.0553793726,
          41.0553793726,
          41.0553793726,
          41.0553793726,
          41.0553793726,
          41.0553793726,
          41.0553793726,
          41.0553793726,
          41.0553793726,
          41.0553793726,
          41.0553793726,
          41.0553793726,
          41.0553793726,
          41.0553793726,
          41.0553793726,
          41.0553793726,
          41.0553793726,
          41.0553793726,
          41.0553793726,
          41.0553793726,
          41.0553793726,
          41.0553793726,
          41.0553793726,
          41.0553793726,
          41.0553793726,
          41.0553793726,
          41.0553793726,
          41.0553793726,
          41.0553793726,
          41.0553793726,
          41.0553793726,
          41.0553793726,
          41.0553793726,
          41.0553793726,
          41.0553793726,
          41.0553793726,
          41.0553793726,
          41.0553793726,
          41.0553793726,
          41.0553793726,
          41.0553793726,
          41.0553793726,
          41.0553793726,
          41.0553793726,
          41.0553793726,
          41.0553793726,
          41.0553793726,
          41.0553793726,
          41.0553793726,
          41.0553793726,
          41.0553793726,
          41.0553793726,
          41.0553793726,
          41.0553793726,
          41.0553793726,
          41.0553793726,
          41.0553793726,
          41.0553793726,
          41.0553793726,
          41.0553793726,
          41.0553793726,
          41.0553793726,
          41.0553793726,
          41.0553793726,
          41.0553793726,
          41.0553793726
         ]
        }
       ],
       "layout": {
        "margin": {
         "b": 10,
         "l": 10,
         "r": 20,
         "t": 25
        },
        "scene": {
         "xaxis": {
          "title": {
           "text": "Reflux Ratio"
          }
         },
         "yaxis": {
          "title": {
           "text": "Temperature"
          }
         },
         "zaxis": {
          "title": {
           "text": "estimated profit"
          }
         }
        },
        "template": {
         "data": {
          "bar": [
           {
            "error_x": {
             "color": "#2a3f5f"
            },
            "error_y": {
             "color": "#2a3f5f"
            },
            "marker": {
             "line": {
              "color": "#E5ECF6",
              "width": 0.5
             }
            },
            "type": "bar"
           }
          ],
          "barpolar": [
           {
            "marker": {
             "line": {
              "color": "#E5ECF6",
              "width": 0.5
             }
            },
            "type": "barpolar"
           }
          ],
          "carpet": [
           {
            "aaxis": {
             "endlinecolor": "#2a3f5f",
             "gridcolor": "white",
             "linecolor": "white",
             "minorgridcolor": "white",
             "startlinecolor": "#2a3f5f"
            },
            "baxis": {
             "endlinecolor": "#2a3f5f",
             "gridcolor": "white",
             "linecolor": "white",
             "minorgridcolor": "white",
             "startlinecolor": "#2a3f5f"
            },
            "type": "carpet"
           }
          ],
          "choropleth": [
           {
            "colorbar": {
             "outlinewidth": 0,
             "ticks": ""
            },
            "type": "choropleth"
           }
          ],
          "contour": [
           {
            "colorbar": {
             "outlinewidth": 0,
             "ticks": ""
            },
            "colorscale": [
             [
              0,
              "#0d0887"
             ],
             [
              0.1111111111111111,
              "#46039f"
             ],
             [
              0.2222222222222222,
              "#7201a8"
             ],
             [
              0.3333333333333333,
              "#9c179e"
             ],
             [
              0.4444444444444444,
              "#bd3786"
             ],
             [
              0.5555555555555556,
              "#d8576b"
             ],
             [
              0.6666666666666666,
              "#ed7953"
             ],
             [
              0.7777777777777778,
              "#fb9f3a"
             ],
             [
              0.8888888888888888,
              "#fdca26"
             ],
             [
              1,
              "#f0f921"
             ]
            ],
            "type": "contour"
           }
          ],
          "contourcarpet": [
           {
            "colorbar": {
             "outlinewidth": 0,
             "ticks": ""
            },
            "type": "contourcarpet"
           }
          ],
          "heatmap": [
           {
            "colorbar": {
             "outlinewidth": 0,
             "ticks": ""
            },
            "colorscale": [
             [
              0,
              "#0d0887"
             ],
             [
              0.1111111111111111,
              "#46039f"
             ],
             [
              0.2222222222222222,
              "#7201a8"
             ],
             [
              0.3333333333333333,
              "#9c179e"
             ],
             [
              0.4444444444444444,
              "#bd3786"
             ],
             [
              0.5555555555555556,
              "#d8576b"
             ],
             [
              0.6666666666666666,
              "#ed7953"
             ],
             [
              0.7777777777777778,
              "#fb9f3a"
             ],
             [
              0.8888888888888888,
              "#fdca26"
             ],
             [
              1,
              "#f0f921"
             ]
            ],
            "type": "heatmap"
           }
          ],
          "heatmapgl": [
           {
            "colorbar": {
             "outlinewidth": 0,
             "ticks": ""
            },
            "colorscale": [
             [
              0,
              "#0d0887"
             ],
             [
              0.1111111111111111,
              "#46039f"
             ],
             [
              0.2222222222222222,
              "#7201a8"
             ],
             [
              0.3333333333333333,
              "#9c179e"
             ],
             [
              0.4444444444444444,
              "#bd3786"
             ],
             [
              0.5555555555555556,
              "#d8576b"
             ],
             [
              0.6666666666666666,
              "#ed7953"
             ],
             [
              0.7777777777777778,
              "#fb9f3a"
             ],
             [
              0.8888888888888888,
              "#fdca26"
             ],
             [
              1,
              "#f0f921"
             ]
            ],
            "type": "heatmapgl"
           }
          ],
          "histogram": [
           {
            "marker": {
             "colorbar": {
              "outlinewidth": 0,
              "ticks": ""
             }
            },
            "type": "histogram"
           }
          ],
          "histogram2d": [
           {
            "colorbar": {
             "outlinewidth": 0,
             "ticks": ""
            },
            "colorscale": [
             [
              0,
              "#0d0887"
             ],
             [
              0.1111111111111111,
              "#46039f"
             ],
             [
              0.2222222222222222,
              "#7201a8"
             ],
             [
              0.3333333333333333,
              "#9c179e"
             ],
             [
              0.4444444444444444,
              "#bd3786"
             ],
             [
              0.5555555555555556,
              "#d8576b"
             ],
             [
              0.6666666666666666,
              "#ed7953"
             ],
             [
              0.7777777777777778,
              "#fb9f3a"
             ],
             [
              0.8888888888888888,
              "#fdca26"
             ],
             [
              1,
              "#f0f921"
             ]
            ],
            "type": "histogram2d"
           }
          ],
          "histogram2dcontour": [
           {
            "colorbar": {
             "outlinewidth": 0,
             "ticks": ""
            },
            "colorscale": [
             [
              0,
              "#0d0887"
             ],
             [
              0.1111111111111111,
              "#46039f"
             ],
             [
              0.2222222222222222,
              "#7201a8"
             ],
             [
              0.3333333333333333,
              "#9c179e"
             ],
             [
              0.4444444444444444,
              "#bd3786"
             ],
             [
              0.5555555555555556,
              "#d8576b"
             ],
             [
              0.6666666666666666,
              "#ed7953"
             ],
             [
              0.7777777777777778,
              "#fb9f3a"
             ],
             [
              0.8888888888888888,
              "#fdca26"
             ],
             [
              1,
              "#f0f921"
             ]
            ],
            "type": "histogram2dcontour"
           }
          ],
          "mesh3d": [
           {
            "colorbar": {
             "outlinewidth": 0,
             "ticks": ""
            },
            "type": "mesh3d"
           }
          ],
          "parcoords": [
           {
            "line": {
             "colorbar": {
              "outlinewidth": 0,
              "ticks": ""
             }
            },
            "type": "parcoords"
           }
          ],
          "pie": [
           {
            "automargin": true,
            "type": "pie"
           }
          ],
          "scatter": [
           {
            "marker": {
             "colorbar": {
              "outlinewidth": 0,
              "ticks": ""
             }
            },
            "type": "scatter"
           }
          ],
          "scatter3d": [
           {
            "line": {
             "colorbar": {
              "outlinewidth": 0,
              "ticks": ""
             }
            },
            "marker": {
             "colorbar": {
              "outlinewidth": 0,
              "ticks": ""
             }
            },
            "type": "scatter3d"
           }
          ],
          "scattercarpet": [
           {
            "marker": {
             "colorbar": {
              "outlinewidth": 0,
              "ticks": ""
             }
            },
            "type": "scattercarpet"
           }
          ],
          "scattergeo": [
           {
            "marker": {
             "colorbar": {
              "outlinewidth": 0,
              "ticks": ""
             }
            },
            "type": "scattergeo"
           }
          ],
          "scattergl": [
           {
            "marker": {
             "colorbar": {
              "outlinewidth": 0,
              "ticks": ""
             }
            },
            "type": "scattergl"
           }
          ],
          "scattermapbox": [
           {
            "marker": {
             "colorbar": {
              "outlinewidth": 0,
              "ticks": ""
             }
            },
            "type": "scattermapbox"
           }
          ],
          "scatterpolar": [
           {
            "marker": {
             "colorbar": {
              "outlinewidth": 0,
              "ticks": ""
             }
            },
            "type": "scatterpolar"
           }
          ],
          "scatterpolargl": [
           {
            "marker": {
             "colorbar": {
              "outlinewidth": 0,
              "ticks": ""
             }
            },
            "type": "scatterpolargl"
           }
          ],
          "scatterternary": [
           {
            "marker": {
             "colorbar": {
              "outlinewidth": 0,
              "ticks": ""
             }
            },
            "type": "scatterternary"
           }
          ],
          "surface": [
           {
            "colorbar": {
             "outlinewidth": 0,
             "ticks": ""
            },
            "colorscale": [
             [
              0,
              "#0d0887"
             ],
             [
              0.1111111111111111,
              "#46039f"
             ],
             [
              0.2222222222222222,
              "#7201a8"
             ],
             [
              0.3333333333333333,
              "#9c179e"
             ],
             [
              0.4444444444444444,
              "#bd3786"
             ],
             [
              0.5555555555555556,
              "#d8576b"
             ],
             [
              0.6666666666666666,
              "#ed7953"
             ],
             [
              0.7777777777777778,
              "#fb9f3a"
             ],
             [
              0.8888888888888888,
              "#fdca26"
             ],
             [
              1,
              "#f0f921"
             ]
            ],
            "type": "surface"
           }
          ],
          "table": [
           {
            "cells": {
             "fill": {
              "color": "#EBF0F8"
             },
             "line": {
              "color": "white"
             }
            },
            "header": {
             "fill": {
              "color": "#C8D4E3"
             },
             "line": {
              "color": "white"
             }
            },
            "type": "table"
           }
          ]
         },
         "layout": {
          "annotationdefaults": {
           "arrowcolor": "#2a3f5f",
           "arrowhead": 0,
           "arrowwidth": 1
          },
          "autotypenumbers": "strict",
          "coloraxis": {
           "colorbar": {
            "outlinewidth": 0,
            "ticks": ""
           }
          },
          "colorscale": {
           "diverging": [
            [
             0,
             "#8e0152"
            ],
            [
             0.1,
             "#c51b7d"
            ],
            [
             0.2,
             "#de77ae"
            ],
            [
             0.3,
             "#f1b6da"
            ],
            [
             0.4,
             "#fde0ef"
            ],
            [
             0.5,
             "#f7f7f7"
            ],
            [
             0.6,
             "#e6f5d0"
            ],
            [
             0.7,
             "#b8e186"
            ],
            [
             0.8,
             "#7fbc41"
            ],
            [
             0.9,
             "#4d9221"
            ],
            [
             1,
             "#276419"
            ]
           ],
           "sequential": [
            [
             0,
             "#0d0887"
            ],
            [
             0.1111111111111111,
             "#46039f"
            ],
            [
             0.2222222222222222,
             "#7201a8"
            ],
            [
             0.3333333333333333,
             "#9c179e"
            ],
            [
             0.4444444444444444,
             "#bd3786"
            ],
            [
             0.5555555555555556,
             "#d8576b"
            ],
            [
             0.6666666666666666,
             "#ed7953"
            ],
            [
             0.7777777777777778,
             "#fb9f3a"
            ],
            [
             0.8888888888888888,
             "#fdca26"
            ],
            [
             1,
             "#f0f921"
            ]
           ],
           "sequentialminus": [
            [
             0,
             "#0d0887"
            ],
            [
             0.1111111111111111,
             "#46039f"
            ],
            [
             0.2222222222222222,
             "#7201a8"
            ],
            [
             0.3333333333333333,
             "#9c179e"
            ],
            [
             0.4444444444444444,
             "#bd3786"
            ],
            [
             0.5555555555555556,
             "#d8576b"
            ],
            [
             0.6666666666666666,
             "#ed7953"
            ],
            [
             0.7777777777777778,
             "#fb9f3a"
            ],
            [
             0.8888888888888888,
             "#fdca26"
            ],
            [
             1,
             "#f0f921"
            ]
           ]
          },
          "colorway": [
           "#636efa",
           "#EF553B",
           "#00cc96",
           "#ab63fa",
           "#FFA15A",
           "#19d3f3",
           "#FF6692",
           "#B6E880",
           "#FF97FF",
           "#FECB52"
          ],
          "font": {
           "color": "#2a3f5f"
          },
          "geo": {
           "bgcolor": "white",
           "lakecolor": "white",
           "landcolor": "#E5ECF6",
           "showlakes": true,
           "showland": true,
           "subunitcolor": "white"
          },
          "hoverlabel": {
           "align": "left"
          },
          "hovermode": "closest",
          "mapbox": {
           "style": "light"
          },
          "paper_bgcolor": "white",
          "plot_bgcolor": "#E5ECF6",
          "polar": {
           "angularaxis": {
            "gridcolor": "white",
            "linecolor": "white",
            "ticks": ""
           },
           "bgcolor": "#E5ECF6",
           "radialaxis": {
            "gridcolor": "white",
            "linecolor": "white",
            "ticks": ""
           }
          },
          "scene": {
           "xaxis": {
            "backgroundcolor": "#E5ECF6",
            "gridcolor": "white",
            "gridwidth": 2,
            "linecolor": "white",
            "showbackground": true,
            "ticks": "",
            "zerolinecolor": "white"
           },
           "yaxis": {
            "backgroundcolor": "#E5ECF6",
            "gridcolor": "white",
            "gridwidth": 2,
            "linecolor": "white",
            "showbackground": true,
            "ticks": "",
            "zerolinecolor": "white"
           },
           "zaxis": {
            "backgroundcolor": "#E5ECF6",
            "gridcolor": "white",
            "gridwidth": 2,
            "linecolor": "white",
            "showbackground": true,
            "ticks": "",
            "zerolinecolor": "white"
           }
          },
          "shapedefaults": {
           "line": {
            "color": "#2a3f5f"
           }
          },
          "ternary": {
           "aaxis": {
            "gridcolor": "white",
            "linecolor": "white",
            "ticks": ""
           },
           "baxis": {
            "gridcolor": "white",
            "linecolor": "white",
            "ticks": ""
           },
           "bgcolor": "#E5ECF6",
           "caxis": {
            "gridcolor": "white",
            "linecolor": "white",
            "ticks": ""
           }
          },
          "title": {
           "x": 0.05
          },
          "xaxis": {
           "automargin": true,
           "gridcolor": "white",
           "linecolor": "white",
           "ticks": "",
           "title": {
            "standoff": 15
           },
           "zerolinecolor": "white",
           "zerolinewidth": 2
          },
          "yaxis": {
           "automargin": true,
           "gridcolor": "white",
           "linecolor": "white",
           "ticks": "",
           "title": {
            "standoff": 15
           },
           "zerolinecolor": "white",
           "zerolinewidth": 2
          }
         }
        },
        "width": 700
       }
      },
      "text/html": [
       "<div>                            <div id=\"bba7b57d-1556-4701-85aa-9bdcafc42000\" class=\"plotly-graph-div\" style=\"height:525px; width:700px;\"></div>            <script type=\"text/javascript\">                require([\"plotly\"], function(Plotly) {                    window.PLOTLYENV=window.PLOTLYENV || {};                                    if (document.getElementById(\"bba7b57d-1556-4701-85aa-9bdcafc42000\")) {                    Plotly.newPlot(                        \"bba7b57d-1556-4701-85aa-9bdcafc42000\",                        [{\"marker\": {\"color\": [8.330363895374527, 8.330363895374527, 8.330363895374527, 8.330363895374527, 8.330363895374527, 8.330363895374527, 8.330363895374527, 8.330363895374527, 8.330363895374527, 8.330363895374527, 8.330363895374527, 8.330363895374527, 8.330363895374527, 8.330363895374527, 8.330363895374527, 8.330363895374527, 8.330363895374527, 8.330363895374527, 8.330363895374527, 8.330363895374527, 8.330363895374527, 8.330363895374527, 8.330363895374527, 8.330363895374527, 8.330363895374527, 8.330363895374527, 8.330363895374527, 8.330363895374527, 8.330363895374527, 8.330363895374527, 8.330363895374527, 8.330363895374527, 8.330363895374527, 8.330363895374527, 8.330363895374527, 8.330363895374527, 8.330363895374527, 8.330363895374527, 8.330363895374527, 8.330363895374527, 8.330363895374527, 8.330363895374527, 8.330363895374527, 8.330363895374527, 8.330363895374527, 8.330363895374527, 8.330363895374527, 8.330363895374527, 8.330363895374527, 8.330363895374527, 8.330363895374527, 8.330363895374527, 8.330363895374527, 8.330363895374527, 8.330363895374527, 8.330363895374527, 8.330363895374527, 8.330363895374527, 8.330363895374527, 8.330363895374527, 8.330363895374527, 8.330363895374527, 8.330363895374527, 8.330363895374527, 8.330363895374527, 8.330363895374527, 8.330363895374527, 8.330363895374527, 8.330363895374527, 8.330363895374527, 8.330363895374527, 8.330363895374527, 8.330363895374527, 8.330363895374527, 8.330363895374527, 8.330363895374527, 8.330363895374527, 8.330363895374527, 8.330363895374527, 8.330363895374527, 8.330363895374527, 8.330363895374527, 8.330363895374527, 8.330363895374527, 8.330363895374527, 8.330363895374527, 8.330363895374527, 8.330363895374527, 8.330363895374527, 8.330363895374527, 8.330363895374527, 8.330363895374527, 8.330363895374527, 8.330363895374527, 8.330363895374527, 8.330363895374527, 8.330363895374527, 8.330363895374527, 8.330363895374527, 8.330363895374527, 5.053806399294229, 5.053806399294229, 5.053806399294229, 5.053806399294229, 5.053806399294229, 5.053806399294229, 5.053806399294229, 5.053806399294229, 5.053806399294229, 5.053806399294229, 5.053806399294229, 5.053806399294229, 5.053806399294229, 5.053806399294229, 5.053806399294229, 5.053806399294229, 5.053806399294229, 5.053806399294229, 5.053806399294229, 5.053806399294229, 5.053806399294229, 5.053806399294229, 5.053806399294229, 5.053806399294229, 5.053806399294229, 5.053806399294229, 5.053806399294229, 5.053806399294229, 5.053806399294229, 5.053806399294229, 5.053806399294229, 5.053806399294229, 5.053806399294229, 5.053806399294229, 5.053806399294229, 5.053806399294229, 5.053806399294229, 5.053806399294229, 5.053806399294229, 5.053806399294229, 5.053806399294229, 5.053806399294229, 5.053806399294229, 5.053806399294229, 5.053806399294229, 5.053806399294229, 5.053806399294229, 5.053806399294229, 5.053806399294229, 5.053806399294229, 5.053806399294229, 5.053806399294229, 5.053806399294229, 5.053806399294229, 5.053806399294229, 5.053806399294229, 5.053806399294229, 5.053806399294229, 5.053806399294229, 5.053806399294229, 5.053806399294229, 5.053806399294229, 5.053806399294229, 5.053806399294229, 5.053806399294229, 5.053806399294229, 5.053806399294229, 5.053806399294229, 5.053806399294229, 5.053806399294229, 5.053806399294229, 5.053806399294229, 5.053806399294229, 5.053806399294229, 5.053806399294229, 5.053806399294229, 5.053806399294229, 5.053806399294229, 5.053806399294229, 5.053806399294229, 5.053806399294229, 5.053806399294229, 5.053806399294229, 5.053806399294229, 5.053806399294229, 5.053806399294229, 5.053806399294229, 5.053806399294229, 5.053806399294229, 5.053806399294229, 5.053806399294229, 5.053806399294229, 5.053806399294229, 5.053806399294229, 5.053806399294229, 5.053806399294229, 5.053806399294229, 5.053806399294229, 5.053806399294229, 5.053806399294229, 4.38542749630773, 4.38542749630773, 4.38542749630773, 4.38542749630773, 4.38542749630773, 4.38542749630773, 4.38542749630773, 4.38542749630773, 4.38542749630773, 4.38542749630773, 4.38542749630773, 4.38542749630773, 4.38542749630773, 4.38542749630773, 4.38542749630773, 4.38542749630773, 4.38542749630773, 4.38542749630773, 4.38542749630773, 4.38542749630773, 4.38542749630773, 4.38542749630773, 4.38542749630773, 4.38542749630773, 4.38542749630773, 4.38542749630773, 4.38542749630773, 4.38542749630773, 4.38542749630773, 4.38542749630773, 4.38542749630773, 4.38542749630773, 4.38542749630773, 4.38542749630773, 4.38542749630773, 4.38542749630773, 4.38542749630773, 4.38542749630773, 4.38542749630773, 4.38542749630773, 4.38542749630773, 4.38542749630773, 4.38542749630773, 4.38542749630773, 4.38542749630773, 4.38542749630773, 4.38542749630773, 4.38542749630773, 4.38542749630773, 4.38542749630773, 4.38542749630773, 4.38542749630773, 4.38542749630773, 4.38542749630773, 4.38542749630773, 4.38542749630773, 4.38542749630773, 4.38542749630773, 4.38542749630773, 4.38542749630773, 4.38542749630773, 4.38542749630773, 4.38542749630773, 4.38542749630773, 4.38542749630773, 4.38542749630773, 4.38542749630773, 4.38542749630773, 4.38542749630773, 4.38542749630773, 4.38542749630773, 4.38542749630773, 4.38542749630773, 4.38542749630773, 4.38542749630773, 4.38542749630773, 4.38542749630773, 4.38542749630773, 4.38542749630773, 4.38542749630773, 4.38542749630773, 4.38542749630773, 4.38542749630773, 4.38542749630773, 4.38542749630773, 4.38542749630773, 4.38542749630773, 4.38542749630773, 4.38542749630773, 4.38542749630773, 4.38542749630773, 4.38542749630773, 4.38542749630773, 4.38542749630773, 4.38542749630773, 4.38542749630773, 4.38542749630773, 4.38542749630773, 4.38542749630773, 4.38542749630773, 3.9831838346621984, 3.9831838346621984, 3.9831838346621984, 3.9831838346621984, 3.9831838346621984, 3.9831838346621984, 3.9831838346621984, 3.9831838346621984, 3.9831838346621984, 3.9831838346621984, 3.9831838346621984, 3.9831838346621984, 3.9831838346621984, 3.9831838346621984, 3.9831838346621984, 3.9831838346621984, 3.9831838346621984, 3.9831838346621984, 3.9831838346621984, 3.9831838346621984, 3.9831838346621984, 3.9831838346621984, 3.9831838346621984, 3.9831838346621984, 3.9831838346621984, 3.9831838346621984, 3.9831838346621984, 3.9831838346621984, 3.9831838346621984, 3.9831838346621984, 3.9831838346621984, 3.9831838346621984, 3.9831838346621984, 3.9831838346621984, 3.9831838346621984, 3.9831838346621984, 3.9831838346621984, 3.9831838346621984, 3.9831838346621984, 3.9831838346621984, 3.9831838346621984, 3.9831838346621984, 3.9831838346621984, 3.9831838346621984, 3.9831838346621984, 3.9831838346621984, 3.9831838346621984, 3.9831838346621984, 3.9831838346621984, 3.9831838346621984, 3.9831838346621984, 3.9831838346621984, 3.9831838346621984, 3.9831838346621984, 3.9831838346621984, 3.9831838346621984, 3.9831838346621984, 3.9831838346621984, 3.9831838346621984, 3.9831838346621984, 3.9831838346621984, 3.9831838346621984, 3.9831838346621984, 3.9831838346621984, 3.9831838346621984, 3.9831838346621984, 3.9831838346621984, 3.9831838346621984, 3.9831838346621984, 3.9831838346621984, 3.9831838346621984, 3.9831838346621984, 3.9831838346621984, 3.9831838346621984, 3.9831838346621984, 3.9831838346621984, 3.9831838346621984, 3.9831838346621984, 3.9831838346621984, 3.9831838346621984, 3.9831838346621984, 3.9831838346621984, 3.9831838346621984, 3.9831838346621984, 3.9831838346621984, 3.9831838346621984, 3.9831838346621984, 3.9831838346621984, 3.9831838346621984, 3.9831838346621984, 3.9831838346621984, 3.9831838346621984, 3.9831838346621984, 3.9831838346621984, 3.9831838346621984, 3.9831838346621984, 3.9831838346621984, 3.9831838346621984, 3.9831838346621984, 3.9831838346621984, 3.6854702599097036, 3.6854702599097036, 3.6854702599097036, 3.6854702599097036, 3.6854702599097036, 3.6854702599097036, 3.6854702599097036, 3.6854702599097036, 3.6854702599097036, 3.6854702599097036, 3.6854702599097036, 3.6854702599097036, 3.6854702599097036, 3.6854702599097036, 3.6854702599097036, 3.6854702599097036, 3.6854702599097036, 3.6854702599097036, 3.6854702599097036, 3.6854702599097036, 3.6854702599097036, 3.6854702599097036, 3.6854702599097036, 3.6854702599097036, 3.6854702599097036, 3.6854702599097036, 3.6854702599097036, 3.6854702599097036, 3.6854702599097036, 3.6854702599097036, 3.6854702599097036, 3.6854702599097036, 3.6854702599097036, 3.6854702599097036, 3.6854702599097036, 3.6854702599097036, 3.6854702599097036, 3.6854702599097036, 3.6854702599097036, 3.6854702599097036, 3.6854702599097036, 3.6854702599097036, 3.6854702599097036, 3.6854702599097036, 3.6854702599097036, 3.6854702599097036, 3.6854702599097036, 3.6854702599097036, 3.6854702599097036, 3.6854702599097036, 3.6854702599097036, 3.6854702599097036, 3.6854702599097036, 3.6854702599097036, 3.6854702599097036, 3.6854702599097036, 3.6854702599097036, 3.6854702599097036, 3.6854702599097036, 3.6854702599097036, 3.6854702599097036, 3.6854702599097036, 3.6854702599097036, 3.6854702599097036, 3.6854702599097036, 3.6854702599097036, 3.6854702599097036, 3.6854702599097036, 3.6854702599097036, 3.6854702599097036, 3.6854702599097036, 3.6854702599097036, 3.6854702599097036, 3.6854702599097036, 3.6854702599097036, 3.6854702599097036, 3.6854702599097036, 3.6854702599097036, 3.6854702599097036, 3.6854702599097036, 3.6854702599097036, 3.6854702599097036, 3.6854702599097036, 3.6854702599097036, 3.6854702599097036, 3.6854702599097036, 3.6854702599097036, 3.6854702599097036, 3.6854702599097036, 3.6854702599097036, 3.6854702599097036, 3.6854702599097036, 3.6854702599097036, 3.6854702599097036, 3.6854702599097036, 3.6854702599097036, 3.6854702599097036, 3.6854702599097036, 3.6854702599097036, 3.6854702599097036, 3.4393516568212443, 3.4393516568212443, 3.4393516568212443, 3.4393516568212443, 3.4393516568212443, 3.4393516568212443, 3.4393516568212443, 3.4393516568212443, 3.4393516568212443, 3.4393516568212443, 3.4393516568212443, 3.4393516568212443, 3.4393516568212443, 3.4393516568212443, 3.4393516568212443, 3.4393516568212443, 3.4393516568212443, 3.4393516568212443, 3.4393516568212443, 3.4393516568212443, 3.4393516568212443, 3.4393516568212443, 3.4393516568212443, 3.4393516568212443, 3.4393516568212443, 3.4393516568212443, 3.4393516568212443, 3.4393516568212443, 3.4393516568212443, 3.4393516568212443, 3.4393516568212443, 3.4393516568212443, 3.4393516568212443, 3.4393516568212443, 3.4393516568212443, 3.4393516568212443, 3.4393516568212443, 3.4393516568212443, 3.4393516568212443, 3.4393516568212443, 3.4393516568212443, 3.4393516568212443, 3.4393516568212443, 3.4393516568212443, 3.4393516568212443, 3.4393516568212443, 3.4393516568212443, 3.4393516568212443, 3.4393516568212443, 3.4393516568212443, 3.4393516568212443, 3.4393516568212443, 3.4393516568212443, 3.4393516568212443, 3.4393516568212443, 3.4393516568212443, 3.4393516568212443, 3.4393516568212443, 3.4393516568212443, 3.4393516568212443, 3.4393516568212443, 3.4393516568212443, 3.4393516568212443, 3.4393516568212443, 3.4393516568212443, 3.4393516568212443, 3.4393516568212443, 3.4393516568212443, 3.4393516568212443, 3.4393516568212443, 3.4393516568212443, 3.4393516568212443, 3.4393516568212443, 3.4393516568212443, 3.4393516568212443, 3.4393516568212443, 3.4393516568212443, 3.4393516568212443, 3.4393516568212443, 3.4393516568212443, 3.4393516568212443, 3.4393516568212443, 3.4393516568212443, 3.4393516568212443, 3.4393516568212443, 3.4393516568212443, 3.4393516568212443, 3.4393516568212443, 3.4393516568212443, 3.4393516568212443, 3.4393516568212443, 3.4393516568212443, 3.4393516568212443, 3.4393516568212443, 3.4393516568212443, 3.4393516568212443, 3.4393516568212443, 3.4393516568212443, 3.4393516568212443, 3.4393516568212443], \"colorscale\": [[0.0, \"rgb(0,0,255)\"], [1.0, \"rgb(255,0,0)\"]], \"opacity\": 0.8, \"size\": 6}, \"mode\": \"markers\", \"type\": \"scatter3d\", \"x\": [1, 2, 3, 4, 5, 6, 7, 8, 9, 10, 11, 12, 13, 14, 15, 16, 17, 18, 19, 20, 21, 22, 23, 24, 25, 26, 27, 28, 29, 30, 31, 32, 33, 34, 35, 36, 37, 38, 39, 40, 41, 42, 43, 44, 45, 46, 47, 48, 49, 50, 51, 52, 53, 54, 55, 56, 57, 58, 59, 60, 61, 62, 63, 64, 65, 66, 67, 68, 69, 70, 71, 72, 73, 74, 75, 76, 77, 78, 79, 80, 81, 82, 83, 84, 85, 86, 87, 88, 89, 90, 91, 92, 93, 94, 95, 96, 97, 98, 99, 100, 1, 2, 3, 4, 5, 6, 7, 8, 9, 10, 11, 12, 13, 14, 15, 16, 17, 18, 19, 20, 21, 22, 23, 24, 25, 26, 27, 28, 29, 30, 31, 32, 33, 34, 35, 36, 37, 38, 39, 40, 41, 42, 43, 44, 45, 46, 47, 48, 49, 50, 51, 52, 53, 54, 55, 56, 57, 58, 59, 60, 61, 62, 63, 64, 65, 66, 67, 68, 69, 70, 71, 72, 73, 74, 75, 76, 77, 78, 79, 80, 81, 82, 83, 84, 85, 86, 87, 88, 89, 90, 91, 92, 93, 94, 95, 96, 97, 98, 99, 100, 1, 2, 3, 4, 5, 6, 7, 8, 9, 10, 11, 12, 13, 14, 15, 16, 17, 18, 19, 20, 21, 22, 23, 24, 25, 26, 27, 28, 29, 30, 31, 32, 33, 34, 35, 36, 37, 38, 39, 40, 41, 42, 43, 44, 45, 46, 47, 48, 49, 50, 51, 52, 53, 54, 55, 56, 57, 58, 59, 60, 61, 62, 63, 64, 65, 66, 67, 68, 69, 70, 71, 72, 73, 74, 75, 76, 77, 78, 79, 80, 81, 82, 83, 84, 85, 86, 87, 88, 89, 90, 91, 92, 93, 94, 95, 96, 97, 98, 99, 100, 1, 2, 3, 4, 5, 6, 7, 8, 9, 10, 11, 12, 13, 14, 15, 16, 17, 18, 19, 20, 21, 22, 23, 24, 25, 26, 27, 28, 29, 30, 31, 32, 33, 34, 35, 36, 37, 38, 39, 40, 41, 42, 43, 44, 45, 46, 47, 48, 49, 50, 51, 52, 53, 54, 55, 56, 57, 58, 59, 60, 61, 62, 63, 64, 65, 66, 67, 68, 69, 70, 71, 72, 73, 74, 75, 76, 77, 78, 79, 80, 81, 82, 83, 84, 85, 86, 87, 88, 89, 90, 91, 92, 93, 94, 95, 96, 97, 98, 99, 100, 1, 2, 3, 4, 5, 6, 7, 8, 9, 10, 11, 12, 13, 14, 15, 16, 17, 18, 19, 20, 21, 22, 23, 24, 25, 26, 27, 28, 29, 30, 31, 32, 33, 34, 35, 36, 37, 38, 39, 40, 41, 42, 43, 44, 45, 46, 47, 48, 49, 50, 51, 52, 53, 54, 55, 56, 57, 58, 59, 60, 61, 62, 63, 64, 65, 66, 67, 68, 69, 70, 71, 72, 73, 74, 75, 76, 77, 78, 79, 80, 81, 82, 83, 84, 85, 86, 87, 88, 89, 90, 91, 92, 93, 94, 95, 96, 97, 98, 99, 100, 1, 2, 3, 4, 5, 6, 7, 8, 9, 10, 11, 12, 13, 14, 15, 16, 17, 18, 19, 20, 21, 22, 23, 24, 25, 26, 27, 28, 29, 30, 31, 32, 33, 34, 35, 36, 37, 38, 39, 40, 41, 42, 43, 44, 45, 46, 47, 48, 49, 50, 51, 52, 53, 54, 55, 56, 57, 58, 59, 60, 61, 62, 63, 64, 65, 66, 67, 68, 69, 70, 71, 72, 73, 74, 75, 76, 77, 78, 79, 80, 81, 82, 83, 84, 85, 86, 87, 88, 89, 90, 91, 92, 93, 94, 95, 96, 97, 98, 99, 100], \"y\": [15, 15, 15, 15, 15, 15, 15, 15, 15, 15, 15, 15, 15, 15, 15, 15, 15, 15, 15, 15, 15, 15, 15, 15, 15, 15, 15, 15, 15, 15, 15, 15, 15, 15, 15, 15, 15, 15, 15, 15, 15, 15, 15, 15, 15, 15, 15, 15, 15, 15, 15, 15, 15, 15, 15, 15, 15, 15, 15, 15, 15, 15, 15, 15, 15, 15, 15, 15, 15, 15, 15, 15, 15, 15, 15, 15, 15, 15, 15, 15, 15, 15, 15, 15, 15, 15, 15, 15, 15, 15, 15, 15, 15, 15, 15, 15, 15, 15, 15, 15, 16, 16, 16, 16, 16, 16, 16, 16, 16, 16, 16, 16, 16, 16, 16, 16, 16, 16, 16, 16, 16, 16, 16, 16, 16, 16, 16, 16, 16, 16, 16, 16, 16, 16, 16, 16, 16, 16, 16, 16, 16, 16, 16, 16, 16, 16, 16, 16, 16, 16, 16, 16, 16, 16, 16, 16, 16, 16, 16, 16, 16, 16, 16, 16, 16, 16, 16, 16, 16, 16, 16, 16, 16, 16, 16, 16, 16, 16, 16, 16, 16, 16, 16, 16, 16, 16, 16, 16, 16, 16, 16, 16, 16, 16, 16, 16, 16, 16, 16, 16, 17, 17, 17, 17, 17, 17, 17, 17, 17, 17, 17, 17, 17, 17, 17, 17, 17, 17, 17, 17, 17, 17, 17, 17, 17, 17, 17, 17, 17, 17, 17, 17, 17, 17, 17, 17, 17, 17, 17, 17, 17, 17, 17, 17, 17, 17, 17, 17, 17, 17, 17, 17, 17, 17, 17, 17, 17, 17, 17, 17, 17, 17, 17, 17, 17, 17, 17, 17, 17, 17, 17, 17, 17, 17, 17, 17, 17, 17, 17, 17, 17, 17, 17, 17, 17, 17, 17, 17, 17, 17, 17, 17, 17, 17, 17, 17, 17, 17, 17, 17, 18, 18, 18, 18, 18, 18, 18, 18, 18, 18, 18, 18, 18, 18, 18, 18, 18, 18, 18, 18, 18, 18, 18, 18, 18, 18, 18, 18, 18, 18, 18, 18, 18, 18, 18, 18, 18, 18, 18, 18, 18, 18, 18, 18, 18, 18, 18, 18, 18, 18, 18, 18, 18, 18, 18, 18, 18, 18, 18, 18, 18, 18, 18, 18, 18, 18, 18, 18, 18, 18, 18, 18, 18, 18, 18, 18, 18, 18, 18, 18, 18, 18, 18, 18, 18, 18, 18, 18, 18, 18, 18, 18, 18, 18, 18, 18, 18, 18, 18, 18, 19, 19, 19, 19, 19, 19, 19, 19, 19, 19, 19, 19, 19, 19, 19, 19, 19, 19, 19, 19, 19, 19, 19, 19, 19, 19, 19, 19, 19, 19, 19, 19, 19, 19, 19, 19, 19, 19, 19, 19, 19, 19, 19, 19, 19, 19, 19, 19, 19, 19, 19, 19, 19, 19, 19, 19, 19, 19, 19, 19, 19, 19, 19, 19, 19, 19, 19, 19, 19, 19, 19, 19, 19, 19, 19, 19, 19, 19, 19, 19, 19, 19, 19, 19, 19, 19, 19, 19, 19, 19, 19, 19, 19, 19, 19, 19, 19, 19, 19, 19, 20, 20, 20, 20, 20, 20, 20, 20, 20, 20, 20, 20, 20, 20, 20, 20, 20, 20, 20, 20, 20, 20, 20, 20, 20, 20, 20, 20, 20, 20, 20, 20, 20, 20, 20, 20, 20, 20, 20, 20, 20, 20, 20, 20, 20, 20, 20, 20, 20, 20, 20, 20, 20, 20, 20, 20, 20, 20, 20, 20, 20, 20, 20, 20, 20, 20, 20, 20, 20, 20, 20, 20, 20, 20, 20, 20, 20, 20, 20, 20, 20, 20, 20, 20, 20, 20, 20, 20, 20, 20, 20, 20, 20, 20, 20, 20, 20, 20, 20, 20], \"z\": [-30.20412571, -30.20412571, -30.20412571, -30.20412571, -30.20412571, -30.20412571, -30.20412571, -30.20412571, -30.20412571, -30.20412571, -30.20412571, -30.20412571, -30.20412571, -30.20412571, -30.20412571, -30.20412571, -30.20412571, -30.20412571, -30.20412571, -30.20412571, -30.20412571, -30.20412571, -30.20412571, -30.20412571, -30.20412571, -30.20412571, -30.20412571, -30.20412571, -30.20412571, -30.20412571, -30.20412571, -30.20412571, -30.20412571, -30.20412571, -30.20412571, -30.20412571, -30.20412571, -30.20412571, -30.20412571, -30.20412571, -30.20412571, -30.20412571, -30.20412571, -30.20412571, -30.20412571, -30.20412571, -30.20412571, -30.20412571, -30.20412571, -30.20412571, -30.20412571, -30.20412571, -30.20412571, -30.20412571, -30.20412571, -30.20412571, -30.20412571, -30.20412571, -30.20412571, -30.20412571, -30.20412571, -30.20412571, -30.20412571, -30.20412571, -30.20412571, -30.20412571, -30.20412571, -30.20412571, -30.20412571, -30.20412571, -30.20412571, -30.20412571, -30.20412571, -30.20412571, -30.20412571, -30.20412571, -30.20412571, -30.20412571, -30.20412571, -30.20412571, -30.20412571, -30.20412571, -30.20412571, -30.20412571, -30.20412571, -30.20412571, -30.20412571, -30.20412571, -30.20412571, -30.20412571, -30.20412571, -30.20412571, -30.20412571, -30.20412571, -30.20412571, -30.20412571, -30.20412571, -30.20412571, -30.20412571, -30.20412571, 47.92878949, 47.92878949, 47.92878949, 47.92878949, 47.92878949, 47.92878949, 47.92878949, 47.92878949, 47.92878949, 47.92878949, 47.92878949, 47.92878949, 47.92878949, 47.92878949, 47.92878949, 47.92878949, 47.92878949, 47.92878949, 47.92878949, 47.92878949, 47.92878949, 47.92878949, 47.92878949, 47.92878949, 47.92878949, 47.92878949, 47.92878949, 47.92878949, 47.92878949, 47.92878949, 47.92878949, 47.92878949, 47.92878949, 47.92878949, 47.92878949, 47.92878949, 47.92878949, 47.92878949, 47.92878949, 47.92878949, 47.92878949, 47.92878949, 47.92878949, 47.92878949, 47.92878949, 47.92878949, 47.92878949, 47.92878949, 47.92878949, 47.92878949, 47.92878949, 47.92878949, 47.92878949, 47.92878949, 47.92878949, 47.92878949, 47.92878949, 47.92878949, 47.92878949, 47.92878949, 47.92878949, 47.92878949, 47.92878949, 47.92878949, 47.92878949, 47.92878949, 47.92878949, 47.92878949, 47.92878949, 47.92878949, 47.92878949, 47.92878949, 47.92878949, 47.92878949, 47.92878949, 47.92878949, 47.92878949, 47.92878949, 47.92878949, 47.92878949, 47.92878949, 47.92878949, 47.92878949, 47.92878949, 47.92878949, 47.92878949, 47.92878949, 47.92878949, 47.92878949, 47.92878949, 47.92878949, 47.92878949, 47.92878949, 47.92878949, 47.92878949, 47.92878949, 47.92878949, 47.92878949, 47.92878949, 47.92878949, 47.545958558200006, 47.545958558200006, 47.545958558200006, 47.545958558200006, 47.545958558200006, 47.545958558200006, 47.545958558200006, 47.545958558200006, 47.545958558200006, 47.545958558200006, 47.545958558200006, 47.545958558200006, 47.545958558200006, 47.545958558200006, 47.545958558200006, 47.545958558200006, 47.545958558200006, 47.545958558200006, 47.545958558200006, 47.545958558200006, 47.545958558200006, 47.545958558200006, 47.545958558200006, 47.545958558200006, 47.545958558200006, 47.545958558200006, 47.545958558200006, 47.545958558200006, 47.545958558200006, 47.545958558200006, 47.545958558200006, 47.545958558200006, 47.545958558200006, 47.545958558200006, 47.545958558200006, 47.545958558200006, 47.545958558200006, 47.545958558200006, 47.545958558200006, 47.545958558200006, 47.545958558200006, 47.545958558200006, 47.545958558200006, 47.545958558200006, 47.545958558200006, 47.545958558200006, 47.545958558200006, 47.545958558200006, 47.545958558200006, 47.545958558200006, 47.545958558200006, 47.545958558200006, 47.545958558200006, 47.545958558200006, 47.545958558200006, 47.545958558200006, 47.545958558200006, 47.545958558200006, 47.545958558200006, 47.545958558200006, 47.545958558200006, 47.545958558200006, 47.545958558200006, 47.545958558200006, 47.545958558200006, 47.545958558200006, 47.545958558200006, 47.545958558200006, 47.545958558200006, 47.545958558200006, 47.545958558200006, 47.545958558200006, 47.545958558200006, 47.545958558200006, 47.545958558200006, 47.545958558200006, 47.545958558200006, 47.545958558200006, 47.545958558200006, 47.545958558200006, 47.545958558200006, 47.545958558200006, 47.545958558200006, 47.545958558200006, 47.545958558200006, 47.545958558200006, 47.545958558200006, 47.545958558200006, 47.545958558200006, 47.545958558200006, 47.545958558200006, 47.545958558200006, 47.545958558200006, 47.545958558200006, 47.545958558200006, 47.545958558200006, 47.545958558200006, 47.545958558200006, 47.545958558200006, 47.545958558200006, 45.911139246999994, 45.911139246999994, 45.911139246999994, 45.911139246999994, 45.911139246999994, 45.911139246999994, 45.911139246999994, 45.911139246999994, 45.911139246999994, 45.911139246999994, 45.911139246999994, 45.911139246999994, 45.911139246999994, 45.911139246999994, 45.911139246999994, 45.911139246999994, 45.911139246999994, 45.911139246999994, 45.911139246999994, 45.911139246999994, 45.911139246999994, 45.911139246999994, 45.911139246999994, 45.911139246999994, 45.911139246999994, 45.911139246999994, 45.911139246999994, 45.911139246999994, 45.911139246999994, 45.911139246999994, 45.911139246999994, 45.911139246999994, 45.911139246999994, 45.911139246999994, 45.911139246999994, 45.911139246999994, 45.911139246999994, 45.911139246999994, 45.911139246999994, 45.911139246999994, 45.911139246999994, 45.911139246999994, 45.911139246999994, 45.911139246999994, 45.911139246999994, 45.911139246999994, 45.911139246999994, 45.911139246999994, 45.911139246999994, 45.911139246999994, 45.911139246999994, 45.911139246999994, 45.911139246999994, 45.911139246999994, 45.911139246999994, 45.911139246999994, 45.911139246999994, 45.911139246999994, 45.911139246999994, 45.911139246999994, 45.911139246999994, 45.911139246999994, 45.911139246999994, 45.911139246999994, 45.911139246999994, 45.911139246999994, 45.911139246999994, 45.911139246999994, 45.911139246999994, 45.911139246999994, 45.911139246999994, 45.911139246999994, 45.911139246999994, 45.911139246999994, 45.911139246999994, 45.911139246999994, 45.911139246999994, 45.911139246999994, 45.911139246999994, 45.911139246999994, 45.911139246999994, 45.911139246999994, 45.911139246999994, 45.911139246999994, 45.911139246999994, 45.911139246999994, 45.911139246999994, 45.911139246999994, 45.911139246999994, 45.911139246999994, 45.911139246999994, 45.911139246999994, 45.911139246999994, 45.911139246999994, 45.911139246999994, 45.911139246999994, 45.911139246999994, 45.911139246999994, 45.911139246999994, 45.911139246999994, 43.7161659016, 43.7161659016, 43.7161659016, 43.7161659016, 43.7161659016, 43.7161659016, 43.7161659016, 43.7161659016, 43.7161659016, 43.7161659016, 43.7161659016, 43.7161659016, 43.7161659016, 43.7161659016, 43.7161659016, 43.7161659016, 43.7161659016, 43.7161659016, 43.7161659016, 43.7161659016, 43.7161659016, 43.7161659016, 43.7161659016, 43.7161659016, 43.7161659016, 43.7161659016, 43.7161659016, 43.7161659016, 43.7161659016, 43.7161659016, 43.7161659016, 43.7161659016, 43.7161659016, 43.7161659016, 43.7161659016, 43.7161659016, 43.7161659016, 43.7161659016, 43.7161659016, 43.7161659016, 43.7161659016, 43.7161659016, 43.7161659016, 43.7161659016, 43.7161659016, 43.7161659016, 43.7161659016, 43.7161659016, 43.7161659016, 43.7161659016, 43.7161659016, 43.7161659016, 43.7161659016, 43.7161659016, 43.7161659016, 43.7161659016, 43.7161659016, 43.7161659016, 43.7161659016, 43.7161659016, 43.7161659016, 43.7161659016, 43.7161659016, 43.7161659016, 43.7161659016, 43.7161659016, 43.7161659016, 43.7161659016, 43.7161659016, 43.7161659016, 43.7161659016, 43.7161659016, 43.7161659016, 43.7161659016, 43.7161659016, 43.7161659016, 43.7161659016, 43.7161659016, 43.7161659016, 43.7161659016, 43.7161659016, 43.7161659016, 43.7161659016, 43.7161659016, 43.7161659016, 43.7161659016, 43.7161659016, 43.7161659016, 43.7161659016, 43.7161659016, 43.7161659016, 43.7161659016, 43.7161659016, 43.7161659016, 43.7161659016, 43.7161659016, 43.7161659016, 43.7161659016, 43.7161659016, 43.7161659016, 41.0553793726, 41.0553793726, 41.0553793726, 41.0553793726, 41.0553793726, 41.0553793726, 41.0553793726, 41.0553793726, 41.0553793726, 41.0553793726, 41.0553793726, 41.0553793726, 41.0553793726, 41.0553793726, 41.0553793726, 41.0553793726, 41.0553793726, 41.0553793726, 41.0553793726, 41.0553793726, 41.0553793726, 41.0553793726, 41.0553793726, 41.0553793726, 41.0553793726, 41.0553793726, 41.0553793726, 41.0553793726, 41.0553793726, 41.0553793726, 41.0553793726, 41.0553793726, 41.0553793726, 41.0553793726, 41.0553793726, 41.0553793726, 41.0553793726, 41.0553793726, 41.0553793726, 41.0553793726, 41.0553793726, 41.0553793726, 41.0553793726, 41.0553793726, 41.0553793726, 41.0553793726, 41.0553793726, 41.0553793726, 41.0553793726, 41.0553793726, 41.0553793726, 41.0553793726, 41.0553793726, 41.0553793726, 41.0553793726, 41.0553793726, 41.0553793726, 41.0553793726, 41.0553793726, 41.0553793726, 41.0553793726, 41.0553793726, 41.0553793726, 41.0553793726, 41.0553793726, 41.0553793726, 41.0553793726, 41.0553793726, 41.0553793726, 41.0553793726, 41.0553793726, 41.0553793726, 41.0553793726, 41.0553793726, 41.0553793726, 41.0553793726, 41.0553793726, 41.0553793726, 41.0553793726, 41.0553793726, 41.0553793726, 41.0553793726, 41.0553793726, 41.0553793726, 41.0553793726, 41.0553793726, 41.0553793726, 41.0553793726, 41.0553793726, 41.0553793726, 41.0553793726, 41.0553793726, 41.0553793726, 41.0553793726, 41.0553793726, 41.0553793726, 41.0553793726, 41.0553793726, 41.0553793726, 41.0553793726]}],                        {\"margin\": {\"b\": 10, \"l\": 10, \"r\": 20, \"t\": 25}, \"scene\": {\"xaxis\": {\"title\": {\"text\": \"Reflux Ratio\"}}, \"yaxis\": {\"title\": {\"text\": \"Temperature\"}}, \"zaxis\": {\"title\": {\"text\": \"estimated profit\"}}}, \"template\": {\"data\": {\"bar\": [{\"error_x\": {\"color\": \"#2a3f5f\"}, \"error_y\": {\"color\": \"#2a3f5f\"}, \"marker\": {\"line\": {\"color\": \"#E5ECF6\", \"width\": 0.5}}, \"type\": \"bar\"}], \"barpolar\": [{\"marker\": {\"line\": {\"color\": \"#E5ECF6\", \"width\": 0.5}}, \"type\": \"barpolar\"}], \"carpet\": [{\"aaxis\": {\"endlinecolor\": \"#2a3f5f\", \"gridcolor\": \"white\", \"linecolor\": \"white\", \"minorgridcolor\": \"white\", \"startlinecolor\": \"#2a3f5f\"}, \"baxis\": {\"endlinecolor\": \"#2a3f5f\", \"gridcolor\": \"white\", \"linecolor\": \"white\", \"minorgridcolor\": \"white\", \"startlinecolor\": \"#2a3f5f\"}, \"type\": \"carpet\"}], \"choropleth\": [{\"colorbar\": {\"outlinewidth\": 0, \"ticks\": \"\"}, \"type\": \"choropleth\"}], \"contour\": [{\"colorbar\": {\"outlinewidth\": 0, \"ticks\": \"\"}, \"colorscale\": [[0.0, \"#0d0887\"], [0.1111111111111111, \"#46039f\"], [0.2222222222222222, \"#7201a8\"], [0.3333333333333333, \"#9c179e\"], [0.4444444444444444, \"#bd3786\"], [0.5555555555555556, \"#d8576b\"], [0.6666666666666666, \"#ed7953\"], [0.7777777777777778, \"#fb9f3a\"], [0.8888888888888888, \"#fdca26\"], [1.0, \"#f0f921\"]], \"type\": \"contour\"}], \"contourcarpet\": [{\"colorbar\": {\"outlinewidth\": 0, \"ticks\": \"\"}, \"type\": \"contourcarpet\"}], \"heatmap\": [{\"colorbar\": {\"outlinewidth\": 0, \"ticks\": \"\"}, \"colorscale\": [[0.0, \"#0d0887\"], [0.1111111111111111, \"#46039f\"], [0.2222222222222222, \"#7201a8\"], [0.3333333333333333, \"#9c179e\"], [0.4444444444444444, \"#bd3786\"], [0.5555555555555556, \"#d8576b\"], [0.6666666666666666, \"#ed7953\"], [0.7777777777777778, \"#fb9f3a\"], [0.8888888888888888, \"#fdca26\"], [1.0, \"#f0f921\"]], \"type\": \"heatmap\"}], \"heatmapgl\": [{\"colorbar\": {\"outlinewidth\": 0, \"ticks\": \"\"}, \"colorscale\": [[0.0, \"#0d0887\"], [0.1111111111111111, \"#46039f\"], [0.2222222222222222, \"#7201a8\"], [0.3333333333333333, \"#9c179e\"], [0.4444444444444444, \"#bd3786\"], [0.5555555555555556, \"#d8576b\"], [0.6666666666666666, \"#ed7953\"], [0.7777777777777778, \"#fb9f3a\"], [0.8888888888888888, \"#fdca26\"], [1.0, \"#f0f921\"]], \"type\": \"heatmapgl\"}], \"histogram\": [{\"marker\": {\"colorbar\": {\"outlinewidth\": 0, \"ticks\": \"\"}}, \"type\": \"histogram\"}], \"histogram2d\": [{\"colorbar\": {\"outlinewidth\": 0, \"ticks\": \"\"}, \"colorscale\": [[0.0, \"#0d0887\"], [0.1111111111111111, \"#46039f\"], [0.2222222222222222, \"#7201a8\"], [0.3333333333333333, \"#9c179e\"], [0.4444444444444444, \"#bd3786\"], [0.5555555555555556, \"#d8576b\"], [0.6666666666666666, \"#ed7953\"], [0.7777777777777778, \"#fb9f3a\"], [0.8888888888888888, \"#fdca26\"], [1.0, \"#f0f921\"]], \"type\": \"histogram2d\"}], \"histogram2dcontour\": [{\"colorbar\": {\"outlinewidth\": 0, \"ticks\": \"\"}, \"colorscale\": [[0.0, \"#0d0887\"], [0.1111111111111111, \"#46039f\"], [0.2222222222222222, \"#7201a8\"], [0.3333333333333333, \"#9c179e\"], [0.4444444444444444, \"#bd3786\"], [0.5555555555555556, \"#d8576b\"], [0.6666666666666666, \"#ed7953\"], [0.7777777777777778, \"#fb9f3a\"], [0.8888888888888888, \"#fdca26\"], [1.0, \"#f0f921\"]], \"type\": \"histogram2dcontour\"}], \"mesh3d\": [{\"colorbar\": {\"outlinewidth\": 0, \"ticks\": \"\"}, \"type\": \"mesh3d\"}], \"parcoords\": [{\"line\": {\"colorbar\": {\"outlinewidth\": 0, \"ticks\": \"\"}}, \"type\": \"parcoords\"}], \"pie\": [{\"automargin\": true, \"type\": \"pie\"}], \"scatter\": [{\"marker\": {\"colorbar\": {\"outlinewidth\": 0, \"ticks\": \"\"}}, \"type\": \"scatter\"}], \"scatter3d\": [{\"line\": {\"colorbar\": {\"outlinewidth\": 0, \"ticks\": \"\"}}, \"marker\": {\"colorbar\": {\"outlinewidth\": 0, \"ticks\": \"\"}}, \"type\": \"scatter3d\"}], \"scattercarpet\": [{\"marker\": {\"colorbar\": {\"outlinewidth\": 0, \"ticks\": \"\"}}, \"type\": \"scattercarpet\"}], \"scattergeo\": [{\"marker\": {\"colorbar\": {\"outlinewidth\": 0, \"ticks\": \"\"}}, \"type\": \"scattergeo\"}], \"scattergl\": [{\"marker\": {\"colorbar\": {\"outlinewidth\": 0, \"ticks\": \"\"}}, \"type\": \"scattergl\"}], \"scattermapbox\": [{\"marker\": {\"colorbar\": {\"outlinewidth\": 0, \"ticks\": \"\"}}, \"type\": \"scattermapbox\"}], \"scatterpolar\": [{\"marker\": {\"colorbar\": {\"outlinewidth\": 0, \"ticks\": \"\"}}, \"type\": \"scatterpolar\"}], \"scatterpolargl\": [{\"marker\": {\"colorbar\": {\"outlinewidth\": 0, \"ticks\": \"\"}}, \"type\": \"scatterpolargl\"}], \"scatterternary\": [{\"marker\": {\"colorbar\": {\"outlinewidth\": 0, \"ticks\": \"\"}}, \"type\": \"scatterternary\"}], \"surface\": [{\"colorbar\": {\"outlinewidth\": 0, \"ticks\": \"\"}, \"colorscale\": [[0.0, \"#0d0887\"], [0.1111111111111111, \"#46039f\"], [0.2222222222222222, \"#7201a8\"], [0.3333333333333333, \"#9c179e\"], [0.4444444444444444, \"#bd3786\"], [0.5555555555555556, \"#d8576b\"], [0.6666666666666666, \"#ed7953\"], [0.7777777777777778, \"#fb9f3a\"], [0.8888888888888888, \"#fdca26\"], [1.0, \"#f0f921\"]], \"type\": \"surface\"}], \"table\": [{\"cells\": {\"fill\": {\"color\": \"#EBF0F8\"}, \"line\": {\"color\": \"white\"}}, \"header\": {\"fill\": {\"color\": \"#C8D4E3\"}, \"line\": {\"color\": \"white\"}}, \"type\": \"table\"}]}, \"layout\": {\"annotationdefaults\": {\"arrowcolor\": \"#2a3f5f\", \"arrowhead\": 0, \"arrowwidth\": 1}, \"autotypenumbers\": \"strict\", \"coloraxis\": {\"colorbar\": {\"outlinewidth\": 0, \"ticks\": \"\"}}, \"colorscale\": {\"diverging\": [[0, \"#8e0152\"], [0.1, \"#c51b7d\"], [0.2, \"#de77ae\"], [0.3, \"#f1b6da\"], [0.4, \"#fde0ef\"], [0.5, \"#f7f7f7\"], [0.6, \"#e6f5d0\"], [0.7, \"#b8e186\"], [0.8, \"#7fbc41\"], [0.9, \"#4d9221\"], [1, \"#276419\"]], \"sequential\": [[0.0, \"#0d0887\"], [0.1111111111111111, \"#46039f\"], [0.2222222222222222, \"#7201a8\"], [0.3333333333333333, \"#9c179e\"], [0.4444444444444444, \"#bd3786\"], [0.5555555555555556, \"#d8576b\"], [0.6666666666666666, \"#ed7953\"], [0.7777777777777778, \"#fb9f3a\"], [0.8888888888888888, \"#fdca26\"], [1.0, \"#f0f921\"]], \"sequentialminus\": [[0.0, \"#0d0887\"], [0.1111111111111111, \"#46039f\"], [0.2222222222222222, \"#7201a8\"], [0.3333333333333333, \"#9c179e\"], [0.4444444444444444, \"#bd3786\"], [0.5555555555555556, \"#d8576b\"], [0.6666666666666666, \"#ed7953\"], [0.7777777777777778, \"#fb9f3a\"], [0.8888888888888888, \"#fdca26\"], [1.0, \"#f0f921\"]]}, \"colorway\": [\"#636efa\", \"#EF553B\", \"#00cc96\", \"#ab63fa\", \"#FFA15A\", \"#19d3f3\", \"#FF6692\", \"#B6E880\", \"#FF97FF\", \"#FECB52\"], \"font\": {\"color\": \"#2a3f5f\"}, \"geo\": {\"bgcolor\": \"white\", \"lakecolor\": \"white\", \"landcolor\": \"#E5ECF6\", \"showlakes\": true, \"showland\": true, \"subunitcolor\": \"white\"}, \"hoverlabel\": {\"align\": \"left\"}, \"hovermode\": \"closest\", \"mapbox\": {\"style\": \"light\"}, \"paper_bgcolor\": \"white\", \"plot_bgcolor\": \"#E5ECF6\", \"polar\": {\"angularaxis\": {\"gridcolor\": \"white\", \"linecolor\": \"white\", \"ticks\": \"\"}, \"bgcolor\": \"#E5ECF6\", \"radialaxis\": {\"gridcolor\": \"white\", \"linecolor\": \"white\", \"ticks\": \"\"}}, \"scene\": {\"xaxis\": {\"backgroundcolor\": \"#E5ECF6\", \"gridcolor\": \"white\", \"gridwidth\": 2, \"linecolor\": \"white\", \"showbackground\": true, \"ticks\": \"\", \"zerolinecolor\": \"white\"}, \"yaxis\": {\"backgroundcolor\": \"#E5ECF6\", \"gridcolor\": \"white\", \"gridwidth\": 2, \"linecolor\": \"white\", \"showbackground\": true, \"ticks\": \"\", \"zerolinecolor\": \"white\"}, \"zaxis\": {\"backgroundcolor\": \"#E5ECF6\", \"gridcolor\": \"white\", \"gridwidth\": 2, \"linecolor\": \"white\", \"showbackground\": true, \"ticks\": \"\", \"zerolinecolor\": \"white\"}}, \"shapedefaults\": {\"line\": {\"color\": \"#2a3f5f\"}}, \"ternary\": {\"aaxis\": {\"gridcolor\": \"white\", \"linecolor\": \"white\", \"ticks\": \"\"}, \"baxis\": {\"gridcolor\": \"white\", \"linecolor\": \"white\", \"ticks\": \"\"}, \"bgcolor\": \"#E5ECF6\", \"caxis\": {\"gridcolor\": \"white\", \"linecolor\": \"white\", \"ticks\": \"\"}}, \"title\": {\"x\": 0.05}, \"xaxis\": {\"automargin\": true, \"gridcolor\": \"white\", \"linecolor\": \"white\", \"ticks\": \"\", \"title\": {\"standoff\": 15}, \"zerolinecolor\": \"white\", \"zerolinewidth\": 2}, \"yaxis\": {\"automargin\": true, \"gridcolor\": \"white\", \"linecolor\": \"white\", \"ticks\": \"\", \"title\": {\"standoff\": 15}, \"zerolinecolor\": \"white\", \"zerolinewidth\": 2}}}, \"width\": 700},                        {\"responsive\": true}                    ).then(function(){\n",
       "                            \n",
       "var gd = document.getElementById('bba7b57d-1556-4701-85aa-9bdcafc42000');\n",
       "var x = new MutationObserver(function (mutations, observer) {{\n",
       "        var display = window.getComputedStyle(gd).display;\n",
       "        if (!display || display === 'none') {{\n",
       "            console.log([gd, 'removed!']);\n",
       "            Plotly.purge(gd);\n",
       "            observer.disconnect();\n",
       "        }}\n",
       "}});\n",
       "\n",
       "// Listen for the removal of the full notebook cells\n",
       "var notebookContainer = gd.closest('#notebook-container');\n",
       "if (notebookContainer) {{\n",
       "    x.observe(notebookContainer, {childList: true});\n",
       "}}\n",
       "\n",
       "// Listen for the clearing of the current output cell\n",
       "var outputEl = gd.closest('.output');\n",
       "if (outputEl) {{\n",
       "    x.observe(outputEl, {childList: true});\n",
       "}}\n",
       "\n",
       "                        })                };                });            </script>        </div>"
      ]
     },
     "metadata": {},
     "output_type": "display_data"
    }
   ],
   "source": [
    "fig = go.Figure(data = [go.Scatter3d(\n",
    "    x=df2['RR'],\n",
    "    y=df2['temp'],\n",
    "    z=df2['dist flow'],\n",
    "    mode='markers',\n",
    "    marker=dict(\n",
    "        size=6,\n",
    "        color= np.log(df2['cond liq flow']),                # set color to an array/list of desired values\n",
    "        colorscale='bluered',   # choose a colorscale\n",
    "        opacity=0.8\n",
    "    )\n",
    ")])\n",
    "\n",
    "fig.update_layout(title=\"Case Study 2\",\n",
    "                scene = dict(\n",
    "                    xaxis_title='Reflux Ratio',\n",
    "                    yaxis_title='Temperature',\n",
    "                    zaxis_title='Distilate flow rate'),\n",
    "                    width=700,\n",
    "                    margin=dict(r=20, b=10, l=10, t=25))\n",
    "fig.show()\n",
    "\n",
    "fig = go.Figure(data = [go.Scatter3d(\n",
    "    x=df2['RR'],\n",
    "    y=df2['temp'],\n",
    "    z=df2['profit'],\n",
    "    mode='markers',\n",
    "    marker=dict(\n",
    "        size=6,\n",
    "        color= np.log(df2['cond liq flow']),                # set color to an array/list of desired values\n",
    "        colorscale='bluered',   # choose a colorscale\n",
    "        opacity=0.8\n",
    "    )\n",
    ")])\n",
    "\n",
    "fig.update_layout(scene = dict(\n",
    "                    xaxis_title='Reflux Ratio',\n",
    "                    yaxis_title='Temperature',\n",
    "                    zaxis_title='estimated profit'),\n",
    "                    width=700,\n",
    "                    margin=dict(r=20, b=10, l=10, t=25))\n",
    "fig.show()"
   ]
  },
  {
   "cell_type": "markdown",
   "metadata": {},
   "source": [
    "The third case study we did had independent variables of temperature and tray spacing. The tray spacing should have a linear relationship to the total volume of the distilation column which in turn should have a roughly linear relationship with the total energy needed to maintain the pressure in the column. "
   ]
  },
  {
   "cell_type": "code",
   "execution_count": 70,
   "metadata": {},
   "outputs": [
    {
     "data": {
      "application/vnd.plotly.v1+json": {
       "config": {
        "plotlyServerURL": "https://plot.ly"
       },
       "data": [
        {
         "marker": {
          "color": [
           3.439110975522492,
           3.436881555356001,
           3.4374389950343396,
           3.43648394084976,
           3.4370913860405534,
           3.436505081647754,
           3.436966684969976,
           3.4365676889436063,
           3.4368967724228767,
           3.4366196665145456,
           3.4368512247447804,
           3.4366571965592767,
           3.4368196663716697,
           3.4366833997077593,
           3.436797635392861,
           3.4367017532132804,
           3.436782271739533,
           3.4367147693602775,
           3.4367712264648027,
           3.4367238329509107,
           3.436763426245052,
           3.436763532401536,
           3.4367636012424017,
           3.4367635915918133,
           3.436763591270127,
           3.4367635915918133,
           3.4367635915918133,
           3.4367635915918133,
           3.4367635915918133,
           3.4367635915918133,
           3.4367635915918133,
           3.552977928656611,
           3.5551025007704196,
           3.5546526994955765,
           3.555498467606418,
           3.554977669474188,
           3.55547427352434,
           3.555089879020331,
           3.555416491433746,
           3.555150405671075,
           3.55537187349162,
           3.5551895803605142,
           3.5553400500287506,
           3.555216009628093,
           3.555318405906834,
           3.555233941263663,
           3.5553036222162895,
           3.555246128865889,
           3.5552934822857103,
           3.5552544208195487,
           3.5552543039514557,
           3.555254235945078,
           3.5552542470889805,
           3.5552542470889805,
           3.5552542470889805,
           3.5552542470889805,
           3.5552542470889805,
           3.5552542470889805,
           3.5552542470889805,
           3.5552542470889805,
           3.5552542470889805,
           3.5552542470889805,
           3.681044933749296,
           3.6826763309653123,
           3.6823588352613883,
           3.6829973572012453,
           3.6826299349865077,
           3.6829874915424416,
           3.6827211372966264,
           3.682946470975027,
           3.682767345676976,
           3.6829143642881963,
           3.6827957264640956,
           3.682892189663906,
           3.682813855256591,
           3.682877521497162,
           3.6828260137082016,
           3.682867795751707,
           3.6828679554589194,
           3.682868025629482,
           3.6828680107905463,
           3.6828680115450685,
           3.6828680115450685,
           3.6828680115450685,
           3.6828680115450685,
           3.6828680115450685,
           3.6828680115450685,
           3.6828680115450685,
           3.6828680115450685,
           3.6828680115450685,
           3.6828680115450685,
           3.6828680115450685,
           3.6828680115450685,
           3.820471292330778,
           3.8225941591857056,
           3.8222247428597065,
           3.8230629335836115,
           3.8226124361679443,
           3.823070389161281,
           3.8227415454578595,
           3.8230231672319963,
           3.822802673620529,
           3.8229834093556954,
           3.822839049078,
           3.8229559890588796,
           3.822861783613642,
           3.8229376547320073,
           3.822876636710215,
           3.8229258151507124,
           3.822886297631268,
           3.822886114843179,
           3.8228860575579096,
           3.8228860735190726,
           3.8228860719885502,
           3.8228860719885502,
           3.8228860719885502,
           3.8228860719885502,
           3.8228860719885502,
           3.8228860719885502,
           3.8228860719885502,
           3.8228860719885502,
           3.8228860719885502,
           3.8228860719885502,
           3.8228860719885502,
           3.9783408820109614,
           3.9800203840030774,
           3.979777064303515,
           3.980398058531284,
           3.9801176106347143,
           3.9804174760156537,
           3.980227002555526,
           3.9803885495997906,
           3.980272863589049,
           3.9803642786176954,
           3.9802962068947396,
           3.9803486532775714,
           3.9803091416632284,
           3.9803089107800864,
           3.9803088631464214,
           3.9803088810790954,
           3.9803088786507126,
           3.9803088786507126,
           3.980308878837511,
           3.980308878837511,
           3.980308878837511,
           3.980308878837511,
           3.980308878837511,
           3.980308878837511,
           3.980308878837511,
           3.980308878837511,
           3.980308878837511,
           3.980308878837511,
           3.980308878837511,
           3.980308878837511,
           3.980308878837511,
           4.159690489350962,
           4.161972494647858,
           4.1616999510101795,
           4.162570742609862,
           4.162230478170887,
           4.162639309743882,
           4.162402651936677,
           4.162616295773806,
           4.16247153170187,
           4.162589066463237,
           4.1625040939556905,
           4.1625702120697845,
           4.162570659946506,
           4.162570711319214,
           4.1625706828307125,
           4.162570688435008,
           4.162570687812309,
           4.162570687812309,
           4.162570687812309,
           4.162570687812309,
           4.162570687812309,
           4.162570687812309,
           4.162570687812309,
           4.162570687812309,
           4.162570687812309,
           4.162570687812309,
           4.162570687812309,
           4.162570687812309,
           4.162570687812309,
           4.162570687812309,
           4.162570687812309,
           4.379280058283795,
           4.381213396835612,
           4.381045321593659,
           4.3817750005166625,
           4.381552166756779,
           4.381871000063444,
           4.381718991856682,
           4.381870201438841,
           4.381780976377353,
           4.381856626098243,
           4.381806953795804,
           4.38184604124287,
           4.38184634979854,
           4.381846355049487,
           4.381846340421849,
           4.381846344672616,
           4.381846343797458,
           4.381846344047504,
           4.381846343922481,
           4.381846343922481,
           4.381846343922481,
           4.381846343922481,
           4.381846343922481,
           4.381846343922481,
           4.381846343922481,
           4.381846343922481,
           4.381846343922481,
           4.381846343922481,
           4.381846343922481,
           4.381846343922481,
           4.381846343922481,
           4.656917612192177,
           4.659688189009426,
           4.659519161772362,
           4.660689132468903,
           4.660396393374415,
           4.6609382535778074,
           4.660715029668055,
           4.660981905052663,
           4.660839068860722,
           4.660976528636044,
           4.660891327724932,
           4.660964582201044,
           4.660915766971781,
           4.660915360286415,
           4.660915375418897,
           4.660915387714038,
           4.660915382985138,
           4.660915383930917,
           4.660915383930917,
           4.660915383930917,
           4.660915383930917,
           4.660915383930917,
           4.660915383930917,
           4.660915383930917,
           4.660915383930917,
           4.660915383930917,
           4.660915383930917,
           4.660915383930917,
           4.660915383930917,
           4.660915383930917,
           4.660915383930917,
           5.045303192875193,
           5.048134437737239,
           5.048081132449683,
           5.049318711650053,
           5.04914052571263,
           5.049779355593925,
           5.049715672403063,
           5.050056690957368,
           5.0500345791251435,
           5.050034042041428,
           5.050034082418854,
           5.050034092673438,
           5.050034085623412,
           5.050034088187058,
           5.050034087546146,
           5.050034087546146,
           5.050034087546146,
           5.050034087546146,
           5.050034087546146,
           5.050034087546146,
           5.050034087546146,
           5.050034087546146,
           5.050034087546146,
           5.050034087546146,
           5.050034087546146,
           5.050034087546146,
           5.050034087546146,
           5.050034087546146,
           5.050034087546146,
           5.050034087546146,
           5.050034087546146,
           5.696131812500185,
           5.699086616016577,
           5.699281661508691,
           5.700553079100403,
           5.69999305118501,
           5.70132418119397,
           5.70142276807055,
           5.702192287979283,
           5.701959751505177,
           5.7024012959345205,
           5.70230097444317,
           5.70257304392294,
           5.702499665541641,
           5.702808776766232,
           5.702590654387158,
           5.702707720648298,
           5.702708710711311,
           5.702708451433023,
           5.702708523510391,
           5.702708501820443,
           5.702708509161656,
           5.702708506492124,
           5.702708507493199,
           5.702708507159508,
           5.702708507159508,
           5.702708507159508,
           5.702708507159508,
           5.702708507159508,
           5.702708507159508,
           5.702708507159508,
           5.702708507159508,
           8.31558000488221,
           8.343862281839256,
           8.346262656053508,
           8.359633939067047,
           8.361778648016447,
           8.368849640463269,
           8.370345505659778,
           8.370344779250559,
           8.370344998377885,
           8.37034492911883,
           8.37034495089258,
           8.370344943943511,
           8.370344946259868,
           8.37034494556496,
           8.370344945796596,
           8.37034494556496,
           8.37034494556496,
           8.37034494556496,
           8.37034494556496,
           8.37034494556496,
           8.37034494556496,
           8.37034494556496,
           8.37034494556496,
           8.37034494556496,
           8.37034494556496,
           8.37034494556496,
           8.37034494556496,
           8.37034494556496,
           8.37034494556496,
           8.37034494556496,
           8.37034494556496
          ],
          "colorscale": [
           [
            0,
            "rgb(0,0,255)"
           ],
           [
            1,
            "rgb(255,0,0)"
           ]
          ],
          "opacity": 0.8,
          "size": 6
         },
         "mode": "markers",
         "type": "scatter3d",
         "x": [
          0.4,
          0.41,
          0.42,
          0.43,
          0.44,
          0.45,
          0.46,
          0.47,
          0.48,
          0.49,
          0.5,
          0.51,
          0.52,
          0.53,
          0.54,
          0.55,
          0.56,
          0.57,
          0.58,
          0.59,
          0.6,
          0.61,
          0.62,
          0.63,
          0.64,
          0.65,
          0.66,
          0.67,
          0.68,
          0.69,
          0.7,
          0.4,
          0.41,
          0.42,
          0.43,
          0.44,
          0.45,
          0.46,
          0.47,
          0.48,
          0.49,
          0.5,
          0.51,
          0.52,
          0.53,
          0.54,
          0.55,
          0.56,
          0.57,
          0.58,
          0.59,
          0.6,
          0.61,
          0.62,
          0.63,
          0.64,
          0.65,
          0.66,
          0.67,
          0.68,
          0.69,
          0.7,
          0.4,
          0.41,
          0.42,
          0.43,
          0.44,
          0.45,
          0.46,
          0.47,
          0.48,
          0.49,
          0.5,
          0.51,
          0.52,
          0.53,
          0.54,
          0.55,
          0.56,
          0.57,
          0.58,
          0.59,
          0.6,
          0.61,
          0.62,
          0.63,
          0.64,
          0.65,
          0.66,
          0.67,
          0.68,
          0.69,
          0.7,
          0.4,
          0.41,
          0.42,
          0.43,
          0.44,
          0.45,
          0.46,
          0.47,
          0.48,
          0.49,
          0.5,
          0.51,
          0.52,
          0.53,
          0.54,
          0.55,
          0.56,
          0.57,
          0.58,
          0.59,
          0.6,
          0.61,
          0.62,
          0.63,
          0.64,
          0.65,
          0.66,
          0.67,
          0.68,
          0.69,
          0.7,
          0.4,
          0.41,
          0.42,
          0.43,
          0.44,
          0.45,
          0.46,
          0.47,
          0.48,
          0.49,
          0.5,
          0.51,
          0.52,
          0.53,
          0.54,
          0.55,
          0.56,
          0.57,
          0.58,
          0.59,
          0.6,
          0.61,
          0.62,
          0.63,
          0.64,
          0.65,
          0.66,
          0.67,
          0.68,
          0.69,
          0.7,
          0.4,
          0.41,
          0.42,
          0.43,
          0.44,
          0.45,
          0.46,
          0.47,
          0.48,
          0.49,
          0.5,
          0.51,
          0.52,
          0.53,
          0.54,
          0.55,
          0.56,
          0.57,
          0.58,
          0.59,
          0.6,
          0.61,
          0.62,
          0.63,
          0.64,
          0.65,
          0.66,
          0.67,
          0.68,
          0.69,
          0.7,
          0.4,
          0.41,
          0.42,
          0.43,
          0.44,
          0.45,
          0.46,
          0.47,
          0.48,
          0.49,
          0.5,
          0.51,
          0.52,
          0.53,
          0.54,
          0.55,
          0.56,
          0.57,
          0.58,
          0.59,
          0.6,
          0.61,
          0.62,
          0.63,
          0.64,
          0.65,
          0.66,
          0.67,
          0.68,
          0.69,
          0.7,
          0.4,
          0.41,
          0.42,
          0.43,
          0.44,
          0.45,
          0.46,
          0.47,
          0.48,
          0.49,
          0.5,
          0.51,
          0.52,
          0.53,
          0.54,
          0.55,
          0.56,
          0.57,
          0.58,
          0.59,
          0.6,
          0.61,
          0.62,
          0.63,
          0.64,
          0.65,
          0.66,
          0.67,
          0.68,
          0.69,
          0.7,
          0.4,
          0.41,
          0.42,
          0.43,
          0.44,
          0.45,
          0.46,
          0.47,
          0.48,
          0.49,
          0.5,
          0.51,
          0.52,
          0.53,
          0.54,
          0.55,
          0.56,
          0.57,
          0.58,
          0.59,
          0.6,
          0.61,
          0.62,
          0.63,
          0.64,
          0.65,
          0.66,
          0.67,
          0.68,
          0.69,
          0.7,
          0.4,
          0.41,
          0.42,
          0.43,
          0.44,
          0.45,
          0.46,
          0.47,
          0.48,
          0.49,
          0.5,
          0.51,
          0.52,
          0.53,
          0.54,
          0.55,
          0.56,
          0.57,
          0.58,
          0.59,
          0.6,
          0.61,
          0.62,
          0.63,
          0.64,
          0.65,
          0.66,
          0.67,
          0.68,
          0.69,
          0.7,
          0.4,
          0.41,
          0.42,
          0.43,
          0.44,
          0.45,
          0.46,
          0.47,
          0.48,
          0.49,
          0.5,
          0.51,
          0.52,
          0.53,
          0.54,
          0.55,
          0.56,
          0.57,
          0.58,
          0.59,
          0.6,
          0.61,
          0.62,
          0.63,
          0.64,
          0.65,
          0.66,
          0.67,
          0.68,
          0.69,
          0.7
         ],
         "y": [
          20,
          20,
          20,
          20,
          20,
          20,
          20,
          20,
          20,
          20,
          20,
          20,
          20,
          20,
          20,
          20,
          20,
          20,
          20,
          20,
          20,
          20,
          20,
          20,
          20,
          20,
          20,
          20,
          20,
          20,
          20,
          19.5,
          19.5,
          19.5,
          19.5,
          19.5,
          19.5,
          19.5,
          19.5,
          19.5,
          19.5,
          19.5,
          19.5,
          19.5,
          19.5,
          19.5,
          19.5,
          19.5,
          19.5,
          19.5,
          19.5,
          19.5,
          19.5,
          19.5,
          19.5,
          19.5,
          19.5,
          19.5,
          19.5,
          19.5,
          19.5,
          19.5,
          19,
          19,
          19,
          19,
          19,
          19,
          19,
          19,
          19,
          19,
          19,
          19,
          19,
          19,
          19,
          19,
          19,
          19,
          19,
          19,
          19,
          19,
          19,
          19,
          19,
          19,
          19,
          19,
          19,
          19,
          19,
          18.5,
          18.5,
          18.5,
          18.5,
          18.5,
          18.5,
          18.5,
          18.5,
          18.5,
          18.5,
          18.5,
          18.5,
          18.5,
          18.5,
          18.5,
          18.5,
          18.5,
          18.5,
          18.5,
          18.5,
          18.5,
          18.5,
          18.5,
          18.5,
          18.5,
          18.5,
          18.5,
          18.5,
          18.5,
          18.5,
          18.5,
          18,
          18,
          18,
          18,
          18,
          18,
          18,
          18,
          18,
          18,
          18,
          18,
          18,
          18,
          18,
          18,
          18,
          18,
          18,
          18,
          18,
          18,
          18,
          18,
          18,
          18,
          18,
          18,
          18,
          18,
          18,
          17.5,
          17.5,
          17.5,
          17.5,
          17.5,
          17.5,
          17.5,
          17.5,
          17.5,
          17.5,
          17.5,
          17.5,
          17.5,
          17.5,
          17.5,
          17.5,
          17.5,
          17.5,
          17.5,
          17.5,
          17.5,
          17.5,
          17.5,
          17.5,
          17.5,
          17.5,
          17.5,
          17.5,
          17.5,
          17.5,
          17.5,
          17,
          17,
          17,
          17,
          17,
          17,
          17,
          17,
          17,
          17,
          17,
          17,
          17,
          17,
          17,
          17,
          17,
          17,
          17,
          17,
          17,
          17,
          17,
          17,
          17,
          17,
          17,
          17,
          17,
          17,
          17,
          16.5,
          16.5,
          16.5,
          16.5,
          16.5,
          16.5,
          16.5,
          16.5,
          16.5,
          16.5,
          16.5,
          16.5,
          16.5,
          16.5,
          16.5,
          16.5,
          16.5,
          16.5,
          16.5,
          16.5,
          16.5,
          16.5,
          16.5,
          16.5,
          16.5,
          16.5,
          16.5,
          16.5,
          16.5,
          16.5,
          16.5,
          16,
          16,
          16,
          16,
          16,
          16,
          16,
          16,
          16,
          16,
          16,
          16,
          16,
          16,
          16,
          16,
          16,
          16,
          16,
          16,
          16,
          16,
          16,
          16,
          16,
          16,
          16,
          16,
          16,
          16,
          16,
          15.5,
          15.5,
          15.5,
          15.5,
          15.5,
          15.5,
          15.5,
          15.5,
          15.5,
          15.5,
          15.5,
          15.5,
          15.5,
          15.5,
          15.5,
          15.5,
          15.5,
          15.5,
          15.5,
          15.5,
          15.5,
          15.5,
          15.5,
          15.5,
          15.5,
          15.5,
          15.5,
          15.5,
          15.5,
          15.5,
          15.5,
          15,
          15,
          15,
          15,
          15,
          15,
          15,
          15,
          15,
          15,
          15,
          15,
          15,
          15,
          15,
          15,
          15,
          15,
          15,
          15,
          15,
          15,
          15,
          15,
          15,
          15,
          15,
          15,
          15,
          15,
          15
         ],
         "z": [
          41.67888656,
          41.6804046,
          41.67978191,
          41.68060805,
          41.68003664,
          41.68056118,
          41.68013879,
          41.68050214,
          41.68020032,
          41.680453,
          41.68024161,
          41.68041863,
          41.68027043,
          41.68039473,
          41.68029074,
          41.68037798,
          41.68030473,
          41.68036638,
          41.6803147,
          41.68035798,
          41.68032182,
          41.68032625,
          41.68032912,
          41.68032872,
          41.68032871,
          41.68032871,
          41.68032871,
          41.68032871,
          41.68032871,
          41.68032871,
          41.68032871,
          43.14854043,
          43.14707936,
          43.14765511,
          43.14694633,
          43.1474474,
          43.14700137,
          43.14735705,
          43.14705914,
          43.14730272,
          43.14710041,
          43.14726778,
          43.14712958,
          43.14724346,
          43.14714962,
          43.14722699,
          43.14716317,
          43.1472157,
          43.14717247,
          43.147208,
          43.14720296,
          43.14720002,
          43.1472005,
          43.1472005,
          43.14720049,
          43.14720049,
          43.14720049,
          43.14720049,
          43.14720049,
          43.14720049,
          43.14720049,
          43.14720049,
          44.51607749,
          44.51493416,
          44.51538869,
          44.51483738,
          44.51521386,
          44.51488044,
          44.51513943,
          44.51492529,
          44.51509724,
          44.51495654,
          44.51507029,
          44.51497804,
          44.51505292,
          44.51499201,
          44.51504124,
          44.51500151,
          44.51500862,
          44.51501174,
          44.51501108,
          44.51501111,
          44.51501112,
          44.51501112,
          44.51501112,
          44.51501112,
          44.51501112,
          44.51501112,
          44.51501112,
          44.51501112,
          44.51501112,
          44.51501112,
          44.51501112,
          45.79369641,
          45.79219518,
          45.79277209,
          45.79205644,
          45.79253177,
          45.79210385,
          45.79242968,
          45.79216087,
          45.7923747,
          45.79220063,
          45.7923404,
          45.7922274,
          45.79231872,
          45.79224522,
          45.79230413,
          45.79225659,
          45.79229494,
          45.79228657,
          45.79228394,
          45.79228467,
          45.79228461,
          45.7922846,
          45.79228461,
          45.79228461,
          45.79228461,
          45.79228461,
          45.79228461,
          45.79228461,
          45.79228461,
          45.79228461,
          45.79228461,
          46.98771741,
          46.98650874,
          46.98699808,
          46.98643229,
          46.98678044,
          46.986478,
          46.98669297,
          46.98652253,
          46.98664912,
          46.98655119,
          46.98662486,
          46.98656855,
          46.98661125,
          46.98660039,
          46.98659816,
          46.986599,
          46.98659888,
          46.98659889,
          46.98659889,
          46.98659889,
          46.98659889,
          46.98659889,
          46.98659889,
          46.98659889,
          46.98659889,
          46.98659889,
          46.98659889,
          46.98659889,
          46.98659889,
          46.98659889,
          46.98659889,
          48.10643546,
          48.10481154,
          48.10543102,
          48.10467825,
          48.10511973,
          48.10472517,
          48.10499392,
          48.10477675,
          48.10493367,
          48.10481162,
          48.10490242,
          48.10483327,
          48.10485482,
          48.10485729,
          48.10485592,
          48.10485619,
          48.10485616,
          48.10485616,
          48.10485616,
          48.10485616,
          48.10485616,
          48.10485616,
          48.10485616,
          48.10485616,
          48.10485616,
          48.10485616,
          48.10485616,
          48.10485616,
          48.10485616,
          48.10485616,
          48.10485616,
          49.15464622,
          49.15329111,
          49.15380292,
          49.15320358,
          49.15353296,
          49.15323727,
          49.1534239,
          49.15327292,
          49.15337502,
          49.1532971,
          49.15335177,
          49.15331099,
          49.15332615,
          49.15332642,
          49.1533257,
          49.15332591,
          49.15332586,
          49.15332587,
          49.15332587,
          49.15332587,
          49.15332587,
          49.15332587,
          49.15332587,
          49.15332587,
          49.15332587,
          49.15332587,
          49.15332587,
          49.15332587,
          49.15332587,
          49.15332587,
          49.15332587,
          50.13950355,
          50.13764105,
          50.1382939,
          50.13746865,
          50.13790827,
          50.13747687,
          50.13774228,
          50.13751309,
          50.13766654,
          50.13754279,
          50.13762958,
          50.13756166,
          50.1376103,
          50.13758992,
          50.13759067,
          50.13759132,
          50.13759104,
          50.13759112,
          50.1375911,
          50.1375911,
          50.1375911,
          50.1375911,
          50.1375911,
          50.1375911,
          50.1375911,
          50.1375911,
          50.1375911,
          50.1375911,
          50.1375911,
          50.1375911,
          50.1375911,
          51.06452227,
          51.06277969,
          51.06339286,
          51.06266894,
          51.0629852,
          51.06256312,
          51.062726,
          51.06253281,
          51.06265429,
          51.06262688,
          51.06262893,
          51.06262946,
          51.0626291,
          51.06262924,
          51.0626292,
          51.06262921,
          51.06262921,
          51.06262921,
          51.06262921,
          51.06262921,
          51.06262921,
          51.06262921,
          51.06262921,
          51.06262921,
          51.06262921,
          51.06262921,
          51.06262921,
          51.06262921,
          51.06262921,
          51.06262921,
          51.06262921,
          51.93484581,
          51.93320715,
          51.93382878,
          51.93348148,
          51.9337065,
          51.93314896,
          51.93335193,
          51.93312552,
          51.93329585,
          51.93309146,
          51.93319693,
          51.9330772,
          51.93312056,
          51.93304614,
          51.93315686,
          51.93304128,
          51.93309269,
          51.93307923,
          51.93308297,
          51.93308184,
          51.93308222,
          51.93308209,
          51.93308213,
          51.93308212,
          51.93308212,
          51.93308212,
          51.93308212,
          51.93308212,
          51.93308212,
          51.93308212,
          51.93308212,
          52.75476105,
          52.75293966,
          52.75372083,
          52.75309135,
          52.7533614,
          52.75308138,
          52.75321599,
          52.75317768,
          52.75318923,
          52.75318558,
          52.75318673,
          52.75318637,
          52.75318648,
          52.75318645,
          52.75318646,
          52.75318645,
          52.75318646,
          52.75318646,
          52.75318646,
          52.75318646,
          52.75318646,
          52.75318646,
          52.75318646,
          52.75318646,
          52.75318646,
          52.75318646,
          52.75318646,
          52.75318646,
          52.75318646,
          52.75318646,
          52.75318646
         ]
        }
       ],
       "layout": {
        "margin": {
         "b": 10,
         "l": 10,
         "r": 20,
         "t": 25
        },
        "scene": {
         "xaxis": {
          "title": {
           "text": "Tray spacing"
          }
         },
         "yaxis": {
          "title": {
           "text": "Temperature"
          }
         },
         "zaxis": {
          "title": {
           "text": "Distilate flow rate"
          }
         }
        },
        "template": {
         "data": {
          "bar": [
           {
            "error_x": {
             "color": "#2a3f5f"
            },
            "error_y": {
             "color": "#2a3f5f"
            },
            "marker": {
             "line": {
              "color": "#E5ECF6",
              "width": 0.5
             }
            },
            "type": "bar"
           }
          ],
          "barpolar": [
           {
            "marker": {
             "line": {
              "color": "#E5ECF6",
              "width": 0.5
             }
            },
            "type": "barpolar"
           }
          ],
          "carpet": [
           {
            "aaxis": {
             "endlinecolor": "#2a3f5f",
             "gridcolor": "white",
             "linecolor": "white",
             "minorgridcolor": "white",
             "startlinecolor": "#2a3f5f"
            },
            "baxis": {
             "endlinecolor": "#2a3f5f",
             "gridcolor": "white",
             "linecolor": "white",
             "minorgridcolor": "white",
             "startlinecolor": "#2a3f5f"
            },
            "type": "carpet"
           }
          ],
          "choropleth": [
           {
            "colorbar": {
             "outlinewidth": 0,
             "ticks": ""
            },
            "type": "choropleth"
           }
          ],
          "contour": [
           {
            "colorbar": {
             "outlinewidth": 0,
             "ticks": ""
            },
            "colorscale": [
             [
              0,
              "#0d0887"
             ],
             [
              0.1111111111111111,
              "#46039f"
             ],
             [
              0.2222222222222222,
              "#7201a8"
             ],
             [
              0.3333333333333333,
              "#9c179e"
             ],
             [
              0.4444444444444444,
              "#bd3786"
             ],
             [
              0.5555555555555556,
              "#d8576b"
             ],
             [
              0.6666666666666666,
              "#ed7953"
             ],
             [
              0.7777777777777778,
              "#fb9f3a"
             ],
             [
              0.8888888888888888,
              "#fdca26"
             ],
             [
              1,
              "#f0f921"
             ]
            ],
            "type": "contour"
           }
          ],
          "contourcarpet": [
           {
            "colorbar": {
             "outlinewidth": 0,
             "ticks": ""
            },
            "type": "contourcarpet"
           }
          ],
          "heatmap": [
           {
            "colorbar": {
             "outlinewidth": 0,
             "ticks": ""
            },
            "colorscale": [
             [
              0,
              "#0d0887"
             ],
             [
              0.1111111111111111,
              "#46039f"
             ],
             [
              0.2222222222222222,
              "#7201a8"
             ],
             [
              0.3333333333333333,
              "#9c179e"
             ],
             [
              0.4444444444444444,
              "#bd3786"
             ],
             [
              0.5555555555555556,
              "#d8576b"
             ],
             [
              0.6666666666666666,
              "#ed7953"
             ],
             [
              0.7777777777777778,
              "#fb9f3a"
             ],
             [
              0.8888888888888888,
              "#fdca26"
             ],
             [
              1,
              "#f0f921"
             ]
            ],
            "type": "heatmap"
           }
          ],
          "heatmapgl": [
           {
            "colorbar": {
             "outlinewidth": 0,
             "ticks": ""
            },
            "colorscale": [
             [
              0,
              "#0d0887"
             ],
             [
              0.1111111111111111,
              "#46039f"
             ],
             [
              0.2222222222222222,
              "#7201a8"
             ],
             [
              0.3333333333333333,
              "#9c179e"
             ],
             [
              0.4444444444444444,
              "#bd3786"
             ],
             [
              0.5555555555555556,
              "#d8576b"
             ],
             [
              0.6666666666666666,
              "#ed7953"
             ],
             [
              0.7777777777777778,
              "#fb9f3a"
             ],
             [
              0.8888888888888888,
              "#fdca26"
             ],
             [
              1,
              "#f0f921"
             ]
            ],
            "type": "heatmapgl"
           }
          ],
          "histogram": [
           {
            "marker": {
             "colorbar": {
              "outlinewidth": 0,
              "ticks": ""
             }
            },
            "type": "histogram"
           }
          ],
          "histogram2d": [
           {
            "colorbar": {
             "outlinewidth": 0,
             "ticks": ""
            },
            "colorscale": [
             [
              0,
              "#0d0887"
             ],
             [
              0.1111111111111111,
              "#46039f"
             ],
             [
              0.2222222222222222,
              "#7201a8"
             ],
             [
              0.3333333333333333,
              "#9c179e"
             ],
             [
              0.4444444444444444,
              "#bd3786"
             ],
             [
              0.5555555555555556,
              "#d8576b"
             ],
             [
              0.6666666666666666,
              "#ed7953"
             ],
             [
              0.7777777777777778,
              "#fb9f3a"
             ],
             [
              0.8888888888888888,
              "#fdca26"
             ],
             [
              1,
              "#f0f921"
             ]
            ],
            "type": "histogram2d"
           }
          ],
          "histogram2dcontour": [
           {
            "colorbar": {
             "outlinewidth": 0,
             "ticks": ""
            },
            "colorscale": [
             [
              0,
              "#0d0887"
             ],
             [
              0.1111111111111111,
              "#46039f"
             ],
             [
              0.2222222222222222,
              "#7201a8"
             ],
             [
              0.3333333333333333,
              "#9c179e"
             ],
             [
              0.4444444444444444,
              "#bd3786"
             ],
             [
              0.5555555555555556,
              "#d8576b"
             ],
             [
              0.6666666666666666,
              "#ed7953"
             ],
             [
              0.7777777777777778,
              "#fb9f3a"
             ],
             [
              0.8888888888888888,
              "#fdca26"
             ],
             [
              1,
              "#f0f921"
             ]
            ],
            "type": "histogram2dcontour"
           }
          ],
          "mesh3d": [
           {
            "colorbar": {
             "outlinewidth": 0,
             "ticks": ""
            },
            "type": "mesh3d"
           }
          ],
          "parcoords": [
           {
            "line": {
             "colorbar": {
              "outlinewidth": 0,
              "ticks": ""
             }
            },
            "type": "parcoords"
           }
          ],
          "pie": [
           {
            "automargin": true,
            "type": "pie"
           }
          ],
          "scatter": [
           {
            "marker": {
             "colorbar": {
              "outlinewidth": 0,
              "ticks": ""
             }
            },
            "type": "scatter"
           }
          ],
          "scatter3d": [
           {
            "line": {
             "colorbar": {
              "outlinewidth": 0,
              "ticks": ""
             }
            },
            "marker": {
             "colorbar": {
              "outlinewidth": 0,
              "ticks": ""
             }
            },
            "type": "scatter3d"
           }
          ],
          "scattercarpet": [
           {
            "marker": {
             "colorbar": {
              "outlinewidth": 0,
              "ticks": ""
             }
            },
            "type": "scattercarpet"
           }
          ],
          "scattergeo": [
           {
            "marker": {
             "colorbar": {
              "outlinewidth": 0,
              "ticks": ""
             }
            },
            "type": "scattergeo"
           }
          ],
          "scattergl": [
           {
            "marker": {
             "colorbar": {
              "outlinewidth": 0,
              "ticks": ""
             }
            },
            "type": "scattergl"
           }
          ],
          "scattermapbox": [
           {
            "marker": {
             "colorbar": {
              "outlinewidth": 0,
              "ticks": ""
             }
            },
            "type": "scattermapbox"
           }
          ],
          "scatterpolar": [
           {
            "marker": {
             "colorbar": {
              "outlinewidth": 0,
              "ticks": ""
             }
            },
            "type": "scatterpolar"
           }
          ],
          "scatterpolargl": [
           {
            "marker": {
             "colorbar": {
              "outlinewidth": 0,
              "ticks": ""
             }
            },
            "type": "scatterpolargl"
           }
          ],
          "scatterternary": [
           {
            "marker": {
             "colorbar": {
              "outlinewidth": 0,
              "ticks": ""
             }
            },
            "type": "scatterternary"
           }
          ],
          "surface": [
           {
            "colorbar": {
             "outlinewidth": 0,
             "ticks": ""
            },
            "colorscale": [
             [
              0,
              "#0d0887"
             ],
             [
              0.1111111111111111,
              "#46039f"
             ],
             [
              0.2222222222222222,
              "#7201a8"
             ],
             [
              0.3333333333333333,
              "#9c179e"
             ],
             [
              0.4444444444444444,
              "#bd3786"
             ],
             [
              0.5555555555555556,
              "#d8576b"
             ],
             [
              0.6666666666666666,
              "#ed7953"
             ],
             [
              0.7777777777777778,
              "#fb9f3a"
             ],
             [
              0.8888888888888888,
              "#fdca26"
             ],
             [
              1,
              "#f0f921"
             ]
            ],
            "type": "surface"
           }
          ],
          "table": [
           {
            "cells": {
             "fill": {
              "color": "#EBF0F8"
             },
             "line": {
              "color": "white"
             }
            },
            "header": {
             "fill": {
              "color": "#C8D4E3"
             },
             "line": {
              "color": "white"
             }
            },
            "type": "table"
           }
          ]
         },
         "layout": {
          "annotationdefaults": {
           "arrowcolor": "#2a3f5f",
           "arrowhead": 0,
           "arrowwidth": 1
          },
          "autotypenumbers": "strict",
          "coloraxis": {
           "colorbar": {
            "outlinewidth": 0,
            "ticks": ""
           }
          },
          "colorscale": {
           "diverging": [
            [
             0,
             "#8e0152"
            ],
            [
             0.1,
             "#c51b7d"
            ],
            [
             0.2,
             "#de77ae"
            ],
            [
             0.3,
             "#f1b6da"
            ],
            [
             0.4,
             "#fde0ef"
            ],
            [
             0.5,
             "#f7f7f7"
            ],
            [
             0.6,
             "#e6f5d0"
            ],
            [
             0.7,
             "#b8e186"
            ],
            [
             0.8,
             "#7fbc41"
            ],
            [
             0.9,
             "#4d9221"
            ],
            [
             1,
             "#276419"
            ]
           ],
           "sequential": [
            [
             0,
             "#0d0887"
            ],
            [
             0.1111111111111111,
             "#46039f"
            ],
            [
             0.2222222222222222,
             "#7201a8"
            ],
            [
             0.3333333333333333,
             "#9c179e"
            ],
            [
             0.4444444444444444,
             "#bd3786"
            ],
            [
             0.5555555555555556,
             "#d8576b"
            ],
            [
             0.6666666666666666,
             "#ed7953"
            ],
            [
             0.7777777777777778,
             "#fb9f3a"
            ],
            [
             0.8888888888888888,
             "#fdca26"
            ],
            [
             1,
             "#f0f921"
            ]
           ],
           "sequentialminus": [
            [
             0,
             "#0d0887"
            ],
            [
             0.1111111111111111,
             "#46039f"
            ],
            [
             0.2222222222222222,
             "#7201a8"
            ],
            [
             0.3333333333333333,
             "#9c179e"
            ],
            [
             0.4444444444444444,
             "#bd3786"
            ],
            [
             0.5555555555555556,
             "#d8576b"
            ],
            [
             0.6666666666666666,
             "#ed7953"
            ],
            [
             0.7777777777777778,
             "#fb9f3a"
            ],
            [
             0.8888888888888888,
             "#fdca26"
            ],
            [
             1,
             "#f0f921"
            ]
           ]
          },
          "colorway": [
           "#636efa",
           "#EF553B",
           "#00cc96",
           "#ab63fa",
           "#FFA15A",
           "#19d3f3",
           "#FF6692",
           "#B6E880",
           "#FF97FF",
           "#FECB52"
          ],
          "font": {
           "color": "#2a3f5f"
          },
          "geo": {
           "bgcolor": "white",
           "lakecolor": "white",
           "landcolor": "#E5ECF6",
           "showlakes": true,
           "showland": true,
           "subunitcolor": "white"
          },
          "hoverlabel": {
           "align": "left"
          },
          "hovermode": "closest",
          "mapbox": {
           "style": "light"
          },
          "paper_bgcolor": "white",
          "plot_bgcolor": "#E5ECF6",
          "polar": {
           "angularaxis": {
            "gridcolor": "white",
            "linecolor": "white",
            "ticks": ""
           },
           "bgcolor": "#E5ECF6",
           "radialaxis": {
            "gridcolor": "white",
            "linecolor": "white",
            "ticks": ""
           }
          },
          "scene": {
           "xaxis": {
            "backgroundcolor": "#E5ECF6",
            "gridcolor": "white",
            "gridwidth": 2,
            "linecolor": "white",
            "showbackground": true,
            "ticks": "",
            "zerolinecolor": "white"
           },
           "yaxis": {
            "backgroundcolor": "#E5ECF6",
            "gridcolor": "white",
            "gridwidth": 2,
            "linecolor": "white",
            "showbackground": true,
            "ticks": "",
            "zerolinecolor": "white"
           },
           "zaxis": {
            "backgroundcolor": "#E5ECF6",
            "gridcolor": "white",
            "gridwidth": 2,
            "linecolor": "white",
            "showbackground": true,
            "ticks": "",
            "zerolinecolor": "white"
           }
          },
          "shapedefaults": {
           "line": {
            "color": "#2a3f5f"
           }
          },
          "ternary": {
           "aaxis": {
            "gridcolor": "white",
            "linecolor": "white",
            "ticks": ""
           },
           "baxis": {
            "gridcolor": "white",
            "linecolor": "white",
            "ticks": ""
           },
           "bgcolor": "#E5ECF6",
           "caxis": {
            "gridcolor": "white",
            "linecolor": "white",
            "ticks": ""
           }
          },
          "title": {
           "x": 0.05
          },
          "xaxis": {
           "automargin": true,
           "gridcolor": "white",
           "linecolor": "white",
           "ticks": "",
           "title": {
            "standoff": 15
           },
           "zerolinecolor": "white",
           "zerolinewidth": 2
          },
          "yaxis": {
           "automargin": true,
           "gridcolor": "white",
           "linecolor": "white",
           "ticks": "",
           "title": {
            "standoff": 15
           },
           "zerolinecolor": "white",
           "zerolinewidth": 2
          }
         }
        },
        "title": {
         "text": "Case Study 3"
        },
        "width": 700
       }
      },
      "text/html": [
       "<div>                            <div id=\"856d12cc-42b1-4c2c-abc6-a3e0df663ca4\" class=\"plotly-graph-div\" style=\"height:525px; width:700px;\"></div>            <script type=\"text/javascript\">                require([\"plotly\"], function(Plotly) {                    window.PLOTLYENV=window.PLOTLYENV || {};                                    if (document.getElementById(\"856d12cc-42b1-4c2c-abc6-a3e0df663ca4\")) {                    Plotly.newPlot(                        \"856d12cc-42b1-4c2c-abc6-a3e0df663ca4\",                        [{\"marker\": {\"color\": [3.439110975522492, 3.436881555356001, 3.4374389950343396, 3.43648394084976, 3.4370913860405534, 3.436505081647754, 3.436966684969976, 3.4365676889436063, 3.4368967724228767, 3.4366196665145456, 3.4368512247447804, 3.4366571965592767, 3.4368196663716697, 3.4366833997077593, 3.436797635392861, 3.4367017532132804, 3.436782271739533, 3.4367147693602775, 3.4367712264648027, 3.4367238329509107, 3.436763426245052, 3.436763532401536, 3.4367636012424017, 3.4367635915918133, 3.436763591270127, 3.4367635915918133, 3.4367635915918133, 3.4367635915918133, 3.4367635915918133, 3.4367635915918133, 3.4367635915918133, 3.552977928656611, 3.5551025007704196, 3.5546526994955765, 3.555498467606418, 3.554977669474188, 3.55547427352434, 3.555089879020331, 3.555416491433746, 3.555150405671075, 3.55537187349162, 3.5551895803605142, 3.5553400500287506, 3.555216009628093, 3.555318405906834, 3.555233941263663, 3.5553036222162895, 3.555246128865889, 3.5552934822857103, 3.5552544208195487, 3.5552543039514557, 3.555254235945078, 3.5552542470889805, 3.5552542470889805, 3.5552542470889805, 3.5552542470889805, 3.5552542470889805, 3.5552542470889805, 3.5552542470889805, 3.5552542470889805, 3.5552542470889805, 3.5552542470889805, 3.681044933749296, 3.6826763309653123, 3.6823588352613883, 3.6829973572012453, 3.6826299349865077, 3.6829874915424416, 3.6827211372966264, 3.682946470975027, 3.682767345676976, 3.6829143642881963, 3.6827957264640956, 3.682892189663906, 3.682813855256591, 3.682877521497162, 3.6828260137082016, 3.682867795751707, 3.6828679554589194, 3.682868025629482, 3.6828680107905463, 3.6828680115450685, 3.6828680115450685, 3.6828680115450685, 3.6828680115450685, 3.6828680115450685, 3.6828680115450685, 3.6828680115450685, 3.6828680115450685, 3.6828680115450685, 3.6828680115450685, 3.6828680115450685, 3.6828680115450685, 3.820471292330778, 3.8225941591857056, 3.8222247428597065, 3.8230629335836115, 3.8226124361679443, 3.823070389161281, 3.8227415454578595, 3.8230231672319963, 3.822802673620529, 3.8229834093556954, 3.822839049078, 3.8229559890588796, 3.822861783613642, 3.8229376547320073, 3.822876636710215, 3.8229258151507124, 3.822886297631268, 3.822886114843179, 3.8228860575579096, 3.8228860735190726, 3.8228860719885502, 3.8228860719885502, 3.8228860719885502, 3.8228860719885502, 3.8228860719885502, 3.8228860719885502, 3.8228860719885502, 3.8228860719885502, 3.8228860719885502, 3.8228860719885502, 3.8228860719885502, 3.9783408820109614, 3.9800203840030774, 3.979777064303515, 3.980398058531284, 3.9801176106347143, 3.9804174760156537, 3.980227002555526, 3.9803885495997906, 3.980272863589049, 3.9803642786176954, 3.9802962068947396, 3.9803486532775714, 3.9803091416632284, 3.9803089107800864, 3.9803088631464214, 3.9803088810790954, 3.9803088786507126, 3.9803088786507126, 3.980308878837511, 3.980308878837511, 3.980308878837511, 3.980308878837511, 3.980308878837511, 3.980308878837511, 3.980308878837511, 3.980308878837511, 3.980308878837511, 3.980308878837511, 3.980308878837511, 3.980308878837511, 3.980308878837511, 4.159690489350962, 4.161972494647858, 4.1616999510101795, 4.162570742609862, 4.162230478170887, 4.162639309743882, 4.162402651936677, 4.162616295773806, 4.16247153170187, 4.162589066463237, 4.1625040939556905, 4.1625702120697845, 4.162570659946506, 4.162570711319214, 4.1625706828307125, 4.162570688435008, 4.162570687812309, 4.162570687812309, 4.162570687812309, 4.162570687812309, 4.162570687812309, 4.162570687812309, 4.162570687812309, 4.162570687812309, 4.162570687812309, 4.162570687812309, 4.162570687812309, 4.162570687812309, 4.162570687812309, 4.162570687812309, 4.162570687812309, 4.379280058283795, 4.381213396835612, 4.381045321593659, 4.3817750005166625, 4.381552166756779, 4.381871000063444, 4.381718991856682, 4.381870201438841, 4.381780976377353, 4.381856626098243, 4.381806953795804, 4.38184604124287, 4.38184634979854, 4.381846355049487, 4.381846340421849, 4.381846344672616, 4.381846343797458, 4.381846344047504, 4.381846343922481, 4.381846343922481, 4.381846343922481, 4.381846343922481, 4.381846343922481, 4.381846343922481, 4.381846343922481, 4.381846343922481, 4.381846343922481, 4.381846343922481, 4.381846343922481, 4.381846343922481, 4.381846343922481, 4.656917612192177, 4.659688189009426, 4.659519161772362, 4.660689132468903, 4.660396393374415, 4.6609382535778074, 4.660715029668055, 4.660981905052663, 4.660839068860722, 4.660976528636044, 4.660891327724932, 4.660964582201044, 4.660915766971781, 4.660915360286415, 4.660915375418897, 4.660915387714038, 4.660915382985138, 4.660915383930917, 4.660915383930917, 4.660915383930917, 4.660915383930917, 4.660915383930917, 4.660915383930917, 4.660915383930917, 4.660915383930917, 4.660915383930917, 4.660915383930917, 4.660915383930917, 4.660915383930917, 4.660915383930917, 4.660915383930917, 5.045303192875193, 5.048134437737239, 5.048081132449683, 5.049318711650053, 5.04914052571263, 5.049779355593925, 5.049715672403063, 5.050056690957368, 5.0500345791251435, 5.050034042041428, 5.050034082418854, 5.050034092673438, 5.050034085623412, 5.050034088187058, 5.050034087546146, 5.050034087546146, 5.050034087546146, 5.050034087546146, 5.050034087546146, 5.050034087546146, 5.050034087546146, 5.050034087546146, 5.050034087546146, 5.050034087546146, 5.050034087546146, 5.050034087546146, 5.050034087546146, 5.050034087546146, 5.050034087546146, 5.050034087546146, 5.050034087546146, 5.696131812500185, 5.699086616016577, 5.699281661508691, 5.700553079100403, 5.69999305118501, 5.70132418119397, 5.70142276807055, 5.702192287979283, 5.701959751505177, 5.7024012959345205, 5.70230097444317, 5.70257304392294, 5.702499665541641, 5.702808776766232, 5.702590654387158, 5.702707720648298, 5.702708710711311, 5.702708451433023, 5.702708523510391, 5.702708501820443, 5.702708509161656, 5.702708506492124, 5.702708507493199, 5.702708507159508, 5.702708507159508, 5.702708507159508, 5.702708507159508, 5.702708507159508, 5.702708507159508, 5.702708507159508, 5.702708507159508, 8.31558000488221, 8.343862281839256, 8.346262656053508, 8.359633939067047, 8.361778648016447, 8.368849640463269, 8.370345505659778, 8.370344779250559, 8.370344998377885, 8.37034492911883, 8.37034495089258, 8.370344943943511, 8.370344946259868, 8.37034494556496, 8.370344945796596, 8.37034494556496, 8.37034494556496, 8.37034494556496, 8.37034494556496, 8.37034494556496, 8.37034494556496, 8.37034494556496, 8.37034494556496, 8.37034494556496, 8.37034494556496, 8.37034494556496, 8.37034494556496, 8.37034494556496, 8.37034494556496, 8.37034494556496, 8.37034494556496], \"colorscale\": [[0.0, \"rgb(0,0,255)\"], [1.0, \"rgb(255,0,0)\"]], \"opacity\": 0.8, \"size\": 6}, \"mode\": \"markers\", \"type\": \"scatter3d\", \"x\": [0.4, 0.41, 0.42, 0.43, 0.44, 0.45, 0.46, 0.47, 0.48, 0.49, 0.5, 0.51, 0.52, 0.53, 0.54, 0.55, 0.56, 0.57, 0.58, 0.59, 0.6, 0.61, 0.62, 0.63, 0.64, 0.65, 0.66, 0.67, 0.68, 0.69, 0.7, 0.4, 0.41, 0.42, 0.43, 0.44, 0.45, 0.46, 0.47, 0.48, 0.49, 0.5, 0.51, 0.52, 0.53, 0.54, 0.55, 0.56, 0.57, 0.58, 0.59, 0.6, 0.61, 0.62, 0.63, 0.64, 0.65, 0.66, 0.67, 0.68, 0.69, 0.7, 0.4, 0.41, 0.42, 0.43, 0.44, 0.45, 0.46, 0.47, 0.48, 0.49, 0.5, 0.51, 0.52, 0.53, 0.54, 0.55, 0.56, 0.57, 0.58, 0.59, 0.6, 0.61, 0.62, 0.63, 0.64, 0.65, 0.66, 0.67, 0.68, 0.69, 0.7, 0.4, 0.41, 0.42, 0.43, 0.44, 0.45, 0.46, 0.47, 0.48, 0.49, 0.5, 0.51, 0.52, 0.53, 0.54, 0.55, 0.56, 0.57, 0.58, 0.59, 0.6, 0.61, 0.62, 0.63, 0.64, 0.65, 0.66, 0.67, 0.68, 0.69, 0.7, 0.4, 0.41, 0.42, 0.43, 0.44, 0.45, 0.46, 0.47, 0.48, 0.49, 0.5, 0.51, 0.52, 0.53, 0.54, 0.55, 0.56, 0.57, 0.58, 0.59, 0.6, 0.61, 0.62, 0.63, 0.64, 0.65, 0.66, 0.67, 0.68, 0.69, 0.7, 0.4, 0.41, 0.42, 0.43, 0.44, 0.45, 0.46, 0.47, 0.48, 0.49, 0.5, 0.51, 0.52, 0.53, 0.54, 0.55, 0.56, 0.57, 0.58, 0.59, 0.6, 0.61, 0.62, 0.63, 0.64, 0.65, 0.66, 0.67, 0.68, 0.69, 0.7, 0.4, 0.41, 0.42, 0.43, 0.44, 0.45, 0.46, 0.47, 0.48, 0.49, 0.5, 0.51, 0.52, 0.53, 0.54, 0.55, 0.56, 0.57, 0.58, 0.59, 0.6, 0.61, 0.62, 0.63, 0.64, 0.65, 0.66, 0.67, 0.68, 0.69, 0.7, 0.4, 0.41, 0.42, 0.43, 0.44, 0.45, 0.46, 0.47, 0.48, 0.49, 0.5, 0.51, 0.52, 0.53, 0.54, 0.55, 0.56, 0.57, 0.58, 0.59, 0.6, 0.61, 0.62, 0.63, 0.64, 0.65, 0.66, 0.67, 0.68, 0.69, 0.7, 0.4, 0.41, 0.42, 0.43, 0.44, 0.45, 0.46, 0.47, 0.48, 0.49, 0.5, 0.51, 0.52, 0.53, 0.54, 0.55, 0.56, 0.57, 0.58, 0.59, 0.6, 0.61, 0.62, 0.63, 0.64, 0.65, 0.66, 0.67, 0.68, 0.69, 0.7, 0.4, 0.41, 0.42, 0.43, 0.44, 0.45, 0.46, 0.47, 0.48, 0.49, 0.5, 0.51, 0.52, 0.53, 0.54, 0.55, 0.56, 0.57, 0.58, 0.59, 0.6, 0.61, 0.62, 0.63, 0.64, 0.65, 0.66, 0.67, 0.68, 0.69, 0.7, 0.4, 0.41, 0.42, 0.43, 0.44, 0.45, 0.46, 0.47, 0.48, 0.49, 0.5, 0.51, 0.52, 0.53, 0.54, 0.55, 0.56, 0.57, 0.58, 0.59, 0.6, 0.61, 0.62, 0.63, 0.64, 0.65, 0.66, 0.67, 0.68, 0.69, 0.7], \"y\": [20.0, 20.0, 20.0, 20.0, 20.0, 20.0, 20.0, 20.0, 20.0, 20.0, 20.0, 20.0, 20.0, 20.0, 20.0, 20.0, 20.0, 20.0, 20.0, 20.0, 20.0, 20.0, 20.0, 20.0, 20.0, 20.0, 20.0, 20.0, 20.0, 20.0, 20.0, 19.5, 19.5, 19.5, 19.5, 19.5, 19.5, 19.5, 19.5, 19.5, 19.5, 19.5, 19.5, 19.5, 19.5, 19.5, 19.5, 19.5, 19.5, 19.5, 19.5, 19.5, 19.5, 19.5, 19.5, 19.5, 19.5, 19.5, 19.5, 19.5, 19.5, 19.5, 19.0, 19.0, 19.0, 19.0, 19.0, 19.0, 19.0, 19.0, 19.0, 19.0, 19.0, 19.0, 19.0, 19.0, 19.0, 19.0, 19.0, 19.0, 19.0, 19.0, 19.0, 19.0, 19.0, 19.0, 19.0, 19.0, 19.0, 19.0, 19.0, 19.0, 19.0, 18.5, 18.5, 18.5, 18.5, 18.5, 18.5, 18.5, 18.5, 18.5, 18.5, 18.5, 18.5, 18.5, 18.5, 18.5, 18.5, 18.5, 18.5, 18.5, 18.5, 18.5, 18.5, 18.5, 18.5, 18.5, 18.5, 18.5, 18.5, 18.5, 18.5, 18.5, 18.0, 18.0, 18.0, 18.0, 18.0, 18.0, 18.0, 18.0, 18.0, 18.0, 18.0, 18.0, 18.0, 18.0, 18.0, 18.0, 18.0, 18.0, 18.0, 18.0, 18.0, 18.0, 18.0, 18.0, 18.0, 18.0, 18.0, 18.0, 18.0, 18.0, 18.0, 17.5, 17.5, 17.5, 17.5, 17.5, 17.5, 17.5, 17.5, 17.5, 17.5, 17.5, 17.5, 17.5, 17.5, 17.5, 17.5, 17.5, 17.5, 17.5, 17.5, 17.5, 17.5, 17.5, 17.5, 17.5, 17.5, 17.5, 17.5, 17.5, 17.5, 17.5, 17.0, 17.0, 17.0, 17.0, 17.0, 17.0, 17.0, 17.0, 17.0, 17.0, 17.0, 17.0, 17.0, 17.0, 17.0, 17.0, 17.0, 17.0, 17.0, 17.0, 17.0, 17.0, 17.0, 17.0, 17.0, 17.0, 17.0, 17.0, 17.0, 17.0, 17.0, 16.5, 16.5, 16.5, 16.5, 16.5, 16.5, 16.5, 16.5, 16.5, 16.5, 16.5, 16.5, 16.5, 16.5, 16.5, 16.5, 16.5, 16.5, 16.5, 16.5, 16.5, 16.5, 16.5, 16.5, 16.5, 16.5, 16.5, 16.5, 16.5, 16.5, 16.5, 16.0, 16.0, 16.0, 16.0, 16.0, 16.0, 16.0, 16.0, 16.0, 16.0, 16.0, 16.0, 16.0, 16.0, 16.0, 16.0, 16.0, 16.0, 16.0, 16.0, 16.0, 16.0, 16.0, 16.0, 16.0, 16.0, 16.0, 16.0, 16.0, 16.0, 16.0, 15.5, 15.5, 15.5, 15.5, 15.5, 15.5, 15.5, 15.5, 15.5, 15.5, 15.5, 15.5, 15.5, 15.5, 15.5, 15.5, 15.5, 15.5, 15.5, 15.5, 15.5, 15.5, 15.5, 15.5, 15.5, 15.5, 15.5, 15.5, 15.5, 15.5, 15.5, 15.0, 15.0, 15.0, 15.0, 15.0, 15.0, 15.0, 15.0, 15.0, 15.0, 15.0, 15.0, 15.0, 15.0, 15.0, 15.0, 15.0, 15.0, 15.0, 15.0, 15.0, 15.0, 15.0, 15.0, 15.0, 15.0, 15.0, 15.0, 15.0, 15.0, 15.0], \"z\": [41.67888656, 41.6804046, 41.67978191, 41.68060805, 41.68003664, 41.68056118, 41.68013879, 41.68050214, 41.68020032, 41.680453, 41.68024161, 41.68041863, 41.68027043, 41.68039473, 41.68029074, 41.68037798, 41.68030473, 41.68036638, 41.6803147, 41.68035798, 41.68032182, 41.68032625, 41.68032912, 41.68032872, 41.68032871, 41.68032871, 41.68032871, 41.68032871, 41.68032871, 41.68032871, 41.68032871, 43.14854043, 43.14707936, 43.14765511, 43.14694633, 43.1474474, 43.14700137, 43.14735705, 43.14705914, 43.14730272, 43.14710041, 43.14726778, 43.14712958, 43.14724346, 43.14714962, 43.14722699, 43.14716317, 43.1472157, 43.14717247, 43.147208, 43.14720296, 43.14720002, 43.1472005, 43.1472005, 43.14720049, 43.14720049, 43.14720049, 43.14720049, 43.14720049, 43.14720049, 43.14720049, 43.14720049, 44.51607749, 44.51493416, 44.51538869, 44.51483738, 44.51521386, 44.51488044, 44.51513943, 44.51492529, 44.51509724, 44.51495654, 44.51507029, 44.51497804, 44.51505292, 44.51499201, 44.51504124, 44.51500151, 44.51500862, 44.51501174, 44.51501108, 44.51501111, 44.51501112, 44.51501112, 44.51501112, 44.51501112, 44.51501112, 44.51501112, 44.51501112, 44.51501112, 44.51501112, 44.51501112, 44.51501112, 45.79369641, 45.79219518, 45.79277209, 45.79205644, 45.79253177, 45.79210385, 45.79242968, 45.79216087, 45.7923747, 45.79220063, 45.7923404, 45.7922274, 45.79231872, 45.79224522, 45.79230413, 45.79225659, 45.79229494, 45.79228657, 45.79228394, 45.79228467, 45.79228461, 45.7922846, 45.79228461, 45.79228461, 45.79228461, 45.79228461, 45.79228461, 45.79228461, 45.79228461, 45.79228461, 45.79228461, 46.98771741, 46.98650874, 46.98699808, 46.98643229, 46.98678044, 46.986478, 46.98669297, 46.98652253, 46.98664912, 46.98655119, 46.98662486, 46.98656855, 46.98661125, 46.98660039, 46.98659816, 46.986599, 46.98659888, 46.98659889, 46.98659889, 46.98659889, 46.98659889, 46.98659889, 46.98659889, 46.98659889, 46.98659889, 46.98659889, 46.98659889, 46.98659889, 46.98659889, 46.98659889, 46.98659889, 48.10643546, 48.10481154, 48.10543102, 48.10467825, 48.10511973, 48.10472517, 48.10499392, 48.10477675, 48.10493367, 48.10481162, 48.10490242, 48.10483327, 48.10485482, 48.10485729, 48.10485592, 48.10485619, 48.10485616, 48.10485616, 48.10485616, 48.10485616, 48.10485616, 48.10485616, 48.10485616, 48.10485616, 48.10485616, 48.10485616, 48.10485616, 48.10485616, 48.10485616, 48.10485616, 48.10485616, 49.15464622, 49.15329111, 49.15380292, 49.15320358, 49.15353296, 49.15323727, 49.1534239, 49.15327292, 49.15337502, 49.1532971, 49.15335177, 49.15331099, 49.15332615, 49.15332642, 49.1533257, 49.15332591, 49.15332586, 49.15332587, 49.15332587, 49.15332587, 49.15332587, 49.15332587, 49.15332587, 49.15332587, 49.15332587, 49.15332587, 49.15332587, 49.15332587, 49.15332587, 49.15332587, 49.15332587, 50.13950355, 50.13764105, 50.1382939, 50.13746865, 50.13790827, 50.13747687, 50.13774228, 50.13751309, 50.13766654, 50.13754279, 50.13762958, 50.13756166, 50.1376103, 50.13758992, 50.13759067, 50.13759132, 50.13759104, 50.13759112, 50.1375911, 50.1375911, 50.1375911, 50.1375911, 50.1375911, 50.1375911, 50.1375911, 50.1375911, 50.1375911, 50.1375911, 50.1375911, 50.1375911, 50.1375911, 51.06452227, 51.06277969, 51.06339286, 51.06266894, 51.0629852, 51.06256312, 51.062726, 51.06253281, 51.06265429, 51.06262688, 51.06262893, 51.06262946, 51.0626291, 51.06262924, 51.0626292, 51.06262921, 51.06262921, 51.06262921, 51.06262921, 51.06262921, 51.06262921, 51.06262921, 51.06262921, 51.06262921, 51.06262921, 51.06262921, 51.06262921, 51.06262921, 51.06262921, 51.06262921, 51.06262921, 51.93484581, 51.93320715, 51.93382878, 51.93348148, 51.9337065, 51.93314896, 51.93335193, 51.93312552, 51.93329585, 51.93309146, 51.93319693, 51.9330772, 51.93312056, 51.93304614, 51.93315686, 51.93304128, 51.93309269, 51.93307923, 51.93308297, 51.93308184, 51.93308222, 51.93308209, 51.93308213, 51.93308212, 51.93308212, 51.93308212, 51.93308212, 51.93308212, 51.93308212, 51.93308212, 51.93308212, 52.75476105, 52.75293966, 52.75372083, 52.75309135, 52.7533614, 52.75308138, 52.75321599, 52.75317768, 52.75318923, 52.75318558, 52.75318673, 52.75318637, 52.75318648, 52.75318645, 52.75318646, 52.75318645, 52.75318646, 52.75318646, 52.75318646, 52.75318646, 52.75318646, 52.75318646, 52.75318646, 52.75318646, 52.75318646, 52.75318646, 52.75318646, 52.75318646, 52.75318646, 52.75318646, 52.75318646]}],                        {\"margin\": {\"b\": 10, \"l\": 10, \"r\": 20, \"t\": 25}, \"scene\": {\"xaxis\": {\"title\": {\"text\": \"Tray spacing\"}}, \"yaxis\": {\"title\": {\"text\": \"Temperature\"}}, \"zaxis\": {\"title\": {\"text\": \"Distilate flow rate\"}}}, \"template\": {\"data\": {\"bar\": [{\"error_x\": {\"color\": \"#2a3f5f\"}, \"error_y\": {\"color\": \"#2a3f5f\"}, \"marker\": {\"line\": {\"color\": \"#E5ECF6\", \"width\": 0.5}}, \"type\": \"bar\"}], \"barpolar\": [{\"marker\": {\"line\": {\"color\": \"#E5ECF6\", \"width\": 0.5}}, \"type\": \"barpolar\"}], \"carpet\": [{\"aaxis\": {\"endlinecolor\": \"#2a3f5f\", \"gridcolor\": \"white\", \"linecolor\": \"white\", \"minorgridcolor\": \"white\", \"startlinecolor\": \"#2a3f5f\"}, \"baxis\": {\"endlinecolor\": \"#2a3f5f\", \"gridcolor\": \"white\", \"linecolor\": \"white\", \"minorgridcolor\": \"white\", \"startlinecolor\": \"#2a3f5f\"}, \"type\": \"carpet\"}], \"choropleth\": [{\"colorbar\": {\"outlinewidth\": 0, \"ticks\": \"\"}, \"type\": \"choropleth\"}], \"contour\": [{\"colorbar\": {\"outlinewidth\": 0, \"ticks\": \"\"}, \"colorscale\": [[0.0, \"#0d0887\"], [0.1111111111111111, \"#46039f\"], [0.2222222222222222, \"#7201a8\"], [0.3333333333333333, \"#9c179e\"], [0.4444444444444444, \"#bd3786\"], [0.5555555555555556, \"#d8576b\"], [0.6666666666666666, \"#ed7953\"], [0.7777777777777778, \"#fb9f3a\"], [0.8888888888888888, \"#fdca26\"], [1.0, \"#f0f921\"]], \"type\": \"contour\"}], \"contourcarpet\": [{\"colorbar\": {\"outlinewidth\": 0, \"ticks\": \"\"}, \"type\": \"contourcarpet\"}], \"heatmap\": [{\"colorbar\": {\"outlinewidth\": 0, \"ticks\": \"\"}, \"colorscale\": [[0.0, \"#0d0887\"], [0.1111111111111111, \"#46039f\"], [0.2222222222222222, \"#7201a8\"], [0.3333333333333333, \"#9c179e\"], [0.4444444444444444, \"#bd3786\"], [0.5555555555555556, \"#d8576b\"], [0.6666666666666666, \"#ed7953\"], [0.7777777777777778, \"#fb9f3a\"], [0.8888888888888888, \"#fdca26\"], [1.0, \"#f0f921\"]], \"type\": \"heatmap\"}], \"heatmapgl\": [{\"colorbar\": {\"outlinewidth\": 0, \"ticks\": \"\"}, \"colorscale\": [[0.0, \"#0d0887\"], [0.1111111111111111, \"#46039f\"], [0.2222222222222222, \"#7201a8\"], [0.3333333333333333, \"#9c179e\"], [0.4444444444444444, \"#bd3786\"], [0.5555555555555556, \"#d8576b\"], [0.6666666666666666, \"#ed7953\"], [0.7777777777777778, \"#fb9f3a\"], [0.8888888888888888, \"#fdca26\"], [1.0, \"#f0f921\"]], \"type\": \"heatmapgl\"}], \"histogram\": [{\"marker\": {\"colorbar\": {\"outlinewidth\": 0, \"ticks\": \"\"}}, \"type\": \"histogram\"}], \"histogram2d\": [{\"colorbar\": {\"outlinewidth\": 0, \"ticks\": \"\"}, \"colorscale\": [[0.0, \"#0d0887\"], [0.1111111111111111, \"#46039f\"], [0.2222222222222222, \"#7201a8\"], [0.3333333333333333, \"#9c179e\"], [0.4444444444444444, \"#bd3786\"], [0.5555555555555556, \"#d8576b\"], [0.6666666666666666, \"#ed7953\"], [0.7777777777777778, \"#fb9f3a\"], [0.8888888888888888, \"#fdca26\"], [1.0, \"#f0f921\"]], \"type\": \"histogram2d\"}], \"histogram2dcontour\": [{\"colorbar\": {\"outlinewidth\": 0, \"ticks\": \"\"}, \"colorscale\": [[0.0, \"#0d0887\"], [0.1111111111111111, \"#46039f\"], [0.2222222222222222, \"#7201a8\"], [0.3333333333333333, \"#9c179e\"], [0.4444444444444444, \"#bd3786\"], [0.5555555555555556, \"#d8576b\"], [0.6666666666666666, \"#ed7953\"], [0.7777777777777778, \"#fb9f3a\"], [0.8888888888888888, \"#fdca26\"], [1.0, \"#f0f921\"]], \"type\": \"histogram2dcontour\"}], \"mesh3d\": [{\"colorbar\": {\"outlinewidth\": 0, \"ticks\": \"\"}, \"type\": \"mesh3d\"}], \"parcoords\": [{\"line\": {\"colorbar\": {\"outlinewidth\": 0, \"ticks\": \"\"}}, \"type\": \"parcoords\"}], \"pie\": [{\"automargin\": true, \"type\": \"pie\"}], \"scatter\": [{\"marker\": {\"colorbar\": {\"outlinewidth\": 0, \"ticks\": \"\"}}, \"type\": \"scatter\"}], \"scatter3d\": [{\"line\": {\"colorbar\": {\"outlinewidth\": 0, \"ticks\": \"\"}}, \"marker\": {\"colorbar\": {\"outlinewidth\": 0, \"ticks\": \"\"}}, \"type\": \"scatter3d\"}], \"scattercarpet\": [{\"marker\": {\"colorbar\": {\"outlinewidth\": 0, \"ticks\": \"\"}}, \"type\": \"scattercarpet\"}], \"scattergeo\": [{\"marker\": {\"colorbar\": {\"outlinewidth\": 0, \"ticks\": \"\"}}, \"type\": \"scattergeo\"}], \"scattergl\": [{\"marker\": {\"colorbar\": {\"outlinewidth\": 0, \"ticks\": \"\"}}, \"type\": \"scattergl\"}], \"scattermapbox\": [{\"marker\": {\"colorbar\": {\"outlinewidth\": 0, \"ticks\": \"\"}}, \"type\": \"scattermapbox\"}], \"scatterpolar\": [{\"marker\": {\"colorbar\": {\"outlinewidth\": 0, \"ticks\": \"\"}}, \"type\": \"scatterpolar\"}], \"scatterpolargl\": [{\"marker\": {\"colorbar\": {\"outlinewidth\": 0, \"ticks\": \"\"}}, \"type\": \"scatterpolargl\"}], \"scatterternary\": [{\"marker\": {\"colorbar\": {\"outlinewidth\": 0, \"ticks\": \"\"}}, \"type\": \"scatterternary\"}], \"surface\": [{\"colorbar\": {\"outlinewidth\": 0, \"ticks\": \"\"}, \"colorscale\": [[0.0, \"#0d0887\"], [0.1111111111111111, \"#46039f\"], [0.2222222222222222, \"#7201a8\"], [0.3333333333333333, \"#9c179e\"], [0.4444444444444444, \"#bd3786\"], [0.5555555555555556, \"#d8576b\"], [0.6666666666666666, \"#ed7953\"], [0.7777777777777778, \"#fb9f3a\"], [0.8888888888888888, \"#fdca26\"], [1.0, \"#f0f921\"]], \"type\": \"surface\"}], \"table\": [{\"cells\": {\"fill\": {\"color\": \"#EBF0F8\"}, \"line\": {\"color\": \"white\"}}, \"header\": {\"fill\": {\"color\": \"#C8D4E3\"}, \"line\": {\"color\": \"white\"}}, \"type\": \"table\"}]}, \"layout\": {\"annotationdefaults\": {\"arrowcolor\": \"#2a3f5f\", \"arrowhead\": 0, \"arrowwidth\": 1}, \"autotypenumbers\": \"strict\", \"coloraxis\": {\"colorbar\": {\"outlinewidth\": 0, \"ticks\": \"\"}}, \"colorscale\": {\"diverging\": [[0, \"#8e0152\"], [0.1, \"#c51b7d\"], [0.2, \"#de77ae\"], [0.3, \"#f1b6da\"], [0.4, \"#fde0ef\"], [0.5, \"#f7f7f7\"], [0.6, \"#e6f5d0\"], [0.7, \"#b8e186\"], [0.8, \"#7fbc41\"], [0.9, \"#4d9221\"], [1, \"#276419\"]], \"sequential\": [[0.0, \"#0d0887\"], [0.1111111111111111, \"#46039f\"], [0.2222222222222222, \"#7201a8\"], [0.3333333333333333, \"#9c179e\"], [0.4444444444444444, \"#bd3786\"], [0.5555555555555556, \"#d8576b\"], [0.6666666666666666, \"#ed7953\"], [0.7777777777777778, \"#fb9f3a\"], [0.8888888888888888, \"#fdca26\"], [1.0, \"#f0f921\"]], \"sequentialminus\": [[0.0, \"#0d0887\"], [0.1111111111111111, \"#46039f\"], [0.2222222222222222, \"#7201a8\"], [0.3333333333333333, \"#9c179e\"], [0.4444444444444444, \"#bd3786\"], [0.5555555555555556, \"#d8576b\"], [0.6666666666666666, \"#ed7953\"], [0.7777777777777778, \"#fb9f3a\"], [0.8888888888888888, \"#fdca26\"], [1.0, \"#f0f921\"]]}, \"colorway\": [\"#636efa\", \"#EF553B\", \"#00cc96\", \"#ab63fa\", \"#FFA15A\", \"#19d3f3\", \"#FF6692\", \"#B6E880\", \"#FF97FF\", \"#FECB52\"], \"font\": {\"color\": \"#2a3f5f\"}, \"geo\": {\"bgcolor\": \"white\", \"lakecolor\": \"white\", \"landcolor\": \"#E5ECF6\", \"showlakes\": true, \"showland\": true, \"subunitcolor\": \"white\"}, \"hoverlabel\": {\"align\": \"left\"}, \"hovermode\": \"closest\", \"mapbox\": {\"style\": \"light\"}, \"paper_bgcolor\": \"white\", \"plot_bgcolor\": \"#E5ECF6\", \"polar\": {\"angularaxis\": {\"gridcolor\": \"white\", \"linecolor\": \"white\", \"ticks\": \"\"}, \"bgcolor\": \"#E5ECF6\", \"radialaxis\": {\"gridcolor\": \"white\", \"linecolor\": \"white\", \"ticks\": \"\"}}, \"scene\": {\"xaxis\": {\"backgroundcolor\": \"#E5ECF6\", \"gridcolor\": \"white\", \"gridwidth\": 2, \"linecolor\": \"white\", \"showbackground\": true, \"ticks\": \"\", \"zerolinecolor\": \"white\"}, \"yaxis\": {\"backgroundcolor\": \"#E5ECF6\", \"gridcolor\": \"white\", \"gridwidth\": 2, \"linecolor\": \"white\", \"showbackground\": true, \"ticks\": \"\", \"zerolinecolor\": \"white\"}, \"zaxis\": {\"backgroundcolor\": \"#E5ECF6\", \"gridcolor\": \"white\", \"gridwidth\": 2, \"linecolor\": \"white\", \"showbackground\": true, \"ticks\": \"\", \"zerolinecolor\": \"white\"}}, \"shapedefaults\": {\"line\": {\"color\": \"#2a3f5f\"}}, \"ternary\": {\"aaxis\": {\"gridcolor\": \"white\", \"linecolor\": \"white\", \"ticks\": \"\"}, \"baxis\": {\"gridcolor\": \"white\", \"linecolor\": \"white\", \"ticks\": \"\"}, \"bgcolor\": \"#E5ECF6\", \"caxis\": {\"gridcolor\": \"white\", \"linecolor\": \"white\", \"ticks\": \"\"}}, \"title\": {\"x\": 0.05}, \"xaxis\": {\"automargin\": true, \"gridcolor\": \"white\", \"linecolor\": \"white\", \"ticks\": \"\", \"title\": {\"standoff\": 15}, \"zerolinecolor\": \"white\", \"zerolinewidth\": 2}, \"yaxis\": {\"automargin\": true, \"gridcolor\": \"white\", \"linecolor\": \"white\", \"ticks\": \"\", \"title\": {\"standoff\": 15}, \"zerolinecolor\": \"white\", \"zerolinewidth\": 2}}}, \"title\": {\"text\": \"Case Study 3\"}, \"width\": 700},                        {\"responsive\": true}                    ).then(function(){\n",
       "                            \n",
       "var gd = document.getElementById('856d12cc-42b1-4c2c-abc6-a3e0df663ca4');\n",
       "var x = new MutationObserver(function (mutations, observer) {{\n",
       "        var display = window.getComputedStyle(gd).display;\n",
       "        if (!display || display === 'none') {{\n",
       "            console.log([gd, 'removed!']);\n",
       "            Plotly.purge(gd);\n",
       "            observer.disconnect();\n",
       "        }}\n",
       "}});\n",
       "\n",
       "// Listen for the removal of the full notebook cells\n",
       "var notebookContainer = gd.closest('#notebook-container');\n",
       "if (notebookContainer) {{\n",
       "    x.observe(notebookContainer, {childList: true});\n",
       "}}\n",
       "\n",
       "// Listen for the clearing of the current output cell\n",
       "var outputEl = gd.closest('.output');\n",
       "if (outputEl) {{\n",
       "    x.observe(outputEl, {childList: true});\n",
       "}}\n",
       "\n",
       "                        })                };                });            </script>        </div>"
      ]
     },
     "metadata": {},
     "output_type": "display_data"
    },
    {
     "data": {
      "application/vnd.plotly.v1+json": {
       "config": {
        "plotlyServerURL": "https://plot.ly"
       },
       "data": [
        {
         "marker": {
          "color": [
           3.439110975522492,
           3.436881555356001,
           3.4374389950343396,
           3.43648394084976,
           3.4370913860405534,
           3.436505081647754,
           3.436966684969976,
           3.4365676889436063,
           3.4368967724228767,
           3.4366196665145456,
           3.4368512247447804,
           3.4366571965592767,
           3.4368196663716697,
           3.4366833997077593,
           3.436797635392861,
           3.4367017532132804,
           3.436782271739533,
           3.4367147693602775,
           3.4367712264648027,
           3.4367238329509107,
           3.436763426245052,
           3.436763532401536,
           3.4367636012424017,
           3.4367635915918133,
           3.436763591270127,
           3.4367635915918133,
           3.4367635915918133,
           3.4367635915918133,
           3.4367635915918133,
           3.4367635915918133,
           3.4367635915918133,
           3.552977928656611,
           3.5551025007704196,
           3.5546526994955765,
           3.555498467606418,
           3.554977669474188,
           3.55547427352434,
           3.555089879020331,
           3.555416491433746,
           3.555150405671075,
           3.55537187349162,
           3.5551895803605142,
           3.5553400500287506,
           3.555216009628093,
           3.555318405906834,
           3.555233941263663,
           3.5553036222162895,
           3.555246128865889,
           3.5552934822857103,
           3.5552544208195487,
           3.5552543039514557,
           3.555254235945078,
           3.5552542470889805,
           3.5552542470889805,
           3.5552542470889805,
           3.5552542470889805,
           3.5552542470889805,
           3.5552542470889805,
           3.5552542470889805,
           3.5552542470889805,
           3.5552542470889805,
           3.5552542470889805,
           3.681044933749296,
           3.6826763309653123,
           3.6823588352613883,
           3.6829973572012453,
           3.6826299349865077,
           3.6829874915424416,
           3.6827211372966264,
           3.682946470975027,
           3.682767345676976,
           3.6829143642881963,
           3.6827957264640956,
           3.682892189663906,
           3.682813855256591,
           3.682877521497162,
           3.6828260137082016,
           3.682867795751707,
           3.6828679554589194,
           3.682868025629482,
           3.6828680107905463,
           3.6828680115450685,
           3.6828680115450685,
           3.6828680115450685,
           3.6828680115450685,
           3.6828680115450685,
           3.6828680115450685,
           3.6828680115450685,
           3.6828680115450685,
           3.6828680115450685,
           3.6828680115450685,
           3.6828680115450685,
           3.6828680115450685,
           3.820471292330778,
           3.8225941591857056,
           3.8222247428597065,
           3.8230629335836115,
           3.8226124361679443,
           3.823070389161281,
           3.8227415454578595,
           3.8230231672319963,
           3.822802673620529,
           3.8229834093556954,
           3.822839049078,
           3.8229559890588796,
           3.822861783613642,
           3.8229376547320073,
           3.822876636710215,
           3.8229258151507124,
           3.822886297631268,
           3.822886114843179,
           3.8228860575579096,
           3.8228860735190726,
           3.8228860719885502,
           3.8228860719885502,
           3.8228860719885502,
           3.8228860719885502,
           3.8228860719885502,
           3.8228860719885502,
           3.8228860719885502,
           3.8228860719885502,
           3.8228860719885502,
           3.8228860719885502,
           3.8228860719885502,
           3.9783408820109614,
           3.9800203840030774,
           3.979777064303515,
           3.980398058531284,
           3.9801176106347143,
           3.9804174760156537,
           3.980227002555526,
           3.9803885495997906,
           3.980272863589049,
           3.9803642786176954,
           3.9802962068947396,
           3.9803486532775714,
           3.9803091416632284,
           3.9803089107800864,
           3.9803088631464214,
           3.9803088810790954,
           3.9803088786507126,
           3.9803088786507126,
           3.980308878837511,
           3.980308878837511,
           3.980308878837511,
           3.980308878837511,
           3.980308878837511,
           3.980308878837511,
           3.980308878837511,
           3.980308878837511,
           3.980308878837511,
           3.980308878837511,
           3.980308878837511,
           3.980308878837511,
           3.980308878837511,
           4.159690489350962,
           4.161972494647858,
           4.1616999510101795,
           4.162570742609862,
           4.162230478170887,
           4.162639309743882,
           4.162402651936677,
           4.162616295773806,
           4.16247153170187,
           4.162589066463237,
           4.1625040939556905,
           4.1625702120697845,
           4.162570659946506,
           4.162570711319214,
           4.1625706828307125,
           4.162570688435008,
           4.162570687812309,
           4.162570687812309,
           4.162570687812309,
           4.162570687812309,
           4.162570687812309,
           4.162570687812309,
           4.162570687812309,
           4.162570687812309,
           4.162570687812309,
           4.162570687812309,
           4.162570687812309,
           4.162570687812309,
           4.162570687812309,
           4.162570687812309,
           4.162570687812309,
           4.379280058283795,
           4.381213396835612,
           4.381045321593659,
           4.3817750005166625,
           4.381552166756779,
           4.381871000063444,
           4.381718991856682,
           4.381870201438841,
           4.381780976377353,
           4.381856626098243,
           4.381806953795804,
           4.38184604124287,
           4.38184634979854,
           4.381846355049487,
           4.381846340421849,
           4.381846344672616,
           4.381846343797458,
           4.381846344047504,
           4.381846343922481,
           4.381846343922481,
           4.381846343922481,
           4.381846343922481,
           4.381846343922481,
           4.381846343922481,
           4.381846343922481,
           4.381846343922481,
           4.381846343922481,
           4.381846343922481,
           4.381846343922481,
           4.381846343922481,
           4.381846343922481,
           4.656917612192177,
           4.659688189009426,
           4.659519161772362,
           4.660689132468903,
           4.660396393374415,
           4.6609382535778074,
           4.660715029668055,
           4.660981905052663,
           4.660839068860722,
           4.660976528636044,
           4.660891327724932,
           4.660964582201044,
           4.660915766971781,
           4.660915360286415,
           4.660915375418897,
           4.660915387714038,
           4.660915382985138,
           4.660915383930917,
           4.660915383930917,
           4.660915383930917,
           4.660915383930917,
           4.660915383930917,
           4.660915383930917,
           4.660915383930917,
           4.660915383930917,
           4.660915383930917,
           4.660915383930917,
           4.660915383930917,
           4.660915383930917,
           4.660915383930917,
           4.660915383930917,
           5.045303192875193,
           5.048134437737239,
           5.048081132449683,
           5.049318711650053,
           5.04914052571263,
           5.049779355593925,
           5.049715672403063,
           5.050056690957368,
           5.0500345791251435,
           5.050034042041428,
           5.050034082418854,
           5.050034092673438,
           5.050034085623412,
           5.050034088187058,
           5.050034087546146,
           5.050034087546146,
           5.050034087546146,
           5.050034087546146,
           5.050034087546146,
           5.050034087546146,
           5.050034087546146,
           5.050034087546146,
           5.050034087546146,
           5.050034087546146,
           5.050034087546146,
           5.050034087546146,
           5.050034087546146,
           5.050034087546146,
           5.050034087546146,
           5.050034087546146,
           5.050034087546146,
           5.696131812500185,
           5.699086616016577,
           5.699281661508691,
           5.700553079100403,
           5.69999305118501,
           5.70132418119397,
           5.70142276807055,
           5.702192287979283,
           5.701959751505177,
           5.7024012959345205,
           5.70230097444317,
           5.70257304392294,
           5.702499665541641,
           5.702808776766232,
           5.702590654387158,
           5.702707720648298,
           5.702708710711311,
           5.702708451433023,
           5.702708523510391,
           5.702708501820443,
           5.702708509161656,
           5.702708506492124,
           5.702708507493199,
           5.702708507159508,
           5.702708507159508,
           5.702708507159508,
           5.702708507159508,
           5.702708507159508,
           5.702708507159508,
           5.702708507159508,
           5.702708507159508,
           8.31558000488221,
           8.343862281839256,
           8.346262656053508,
           8.359633939067047,
           8.361778648016447,
           8.368849640463269,
           8.370345505659778,
           8.370344779250559,
           8.370344998377885,
           8.37034492911883,
           8.37034495089258,
           8.370344943943511,
           8.370344946259868,
           8.37034494556496,
           8.370344945796596,
           8.37034494556496,
           8.37034494556496,
           8.37034494556496,
           8.37034494556496,
           8.37034494556496,
           8.37034494556496,
           8.37034494556496,
           8.37034494556496,
           8.37034494556496,
           8.37034494556496,
           8.37034494556496,
           8.37034494556496,
           8.37034494556496,
           8.37034494556496,
           8.37034494556496,
           8.37034494556496
          ],
          "colorscale": [
           [
            0,
            "rgb(0,0,255)"
           ],
           [
            1,
            "rgb(255,0,0)"
           ]
          ],
          "opacity": 0.8,
          "size": 6
         },
         "mode": "markers",
         "type": "scatter3d",
         "x": [
          0.4,
          0.41,
          0.42,
          0.43,
          0.44,
          0.45,
          0.46,
          0.47,
          0.48,
          0.49,
          0.5,
          0.51,
          0.52,
          0.53,
          0.54,
          0.55,
          0.56,
          0.57,
          0.58,
          0.59,
          0.6,
          0.61,
          0.62,
          0.63,
          0.64,
          0.65,
          0.66,
          0.67,
          0.68,
          0.69,
          0.7,
          0.4,
          0.41,
          0.42,
          0.43,
          0.44,
          0.45,
          0.46,
          0.47,
          0.48,
          0.49,
          0.5,
          0.51,
          0.52,
          0.53,
          0.54,
          0.55,
          0.56,
          0.57,
          0.58,
          0.59,
          0.6,
          0.61,
          0.62,
          0.63,
          0.64,
          0.65,
          0.66,
          0.67,
          0.68,
          0.69,
          0.7,
          0.4,
          0.41,
          0.42,
          0.43,
          0.44,
          0.45,
          0.46,
          0.47,
          0.48,
          0.49,
          0.5,
          0.51,
          0.52,
          0.53,
          0.54,
          0.55,
          0.56,
          0.57,
          0.58,
          0.59,
          0.6,
          0.61,
          0.62,
          0.63,
          0.64,
          0.65,
          0.66,
          0.67,
          0.68,
          0.69,
          0.7,
          0.4,
          0.41,
          0.42,
          0.43,
          0.44,
          0.45,
          0.46,
          0.47,
          0.48,
          0.49,
          0.5,
          0.51,
          0.52,
          0.53,
          0.54,
          0.55,
          0.56,
          0.57,
          0.58,
          0.59,
          0.6,
          0.61,
          0.62,
          0.63,
          0.64,
          0.65,
          0.66,
          0.67,
          0.68,
          0.69,
          0.7,
          0.4,
          0.41,
          0.42,
          0.43,
          0.44,
          0.45,
          0.46,
          0.47,
          0.48,
          0.49,
          0.5,
          0.51,
          0.52,
          0.53,
          0.54,
          0.55,
          0.56,
          0.57,
          0.58,
          0.59,
          0.6,
          0.61,
          0.62,
          0.63,
          0.64,
          0.65,
          0.66,
          0.67,
          0.68,
          0.69,
          0.7,
          0.4,
          0.41,
          0.42,
          0.43,
          0.44,
          0.45,
          0.46,
          0.47,
          0.48,
          0.49,
          0.5,
          0.51,
          0.52,
          0.53,
          0.54,
          0.55,
          0.56,
          0.57,
          0.58,
          0.59,
          0.6,
          0.61,
          0.62,
          0.63,
          0.64,
          0.65,
          0.66,
          0.67,
          0.68,
          0.69,
          0.7,
          0.4,
          0.41,
          0.42,
          0.43,
          0.44,
          0.45,
          0.46,
          0.47,
          0.48,
          0.49,
          0.5,
          0.51,
          0.52,
          0.53,
          0.54,
          0.55,
          0.56,
          0.57,
          0.58,
          0.59,
          0.6,
          0.61,
          0.62,
          0.63,
          0.64,
          0.65,
          0.66,
          0.67,
          0.68,
          0.69,
          0.7,
          0.4,
          0.41,
          0.42,
          0.43,
          0.44,
          0.45,
          0.46,
          0.47,
          0.48,
          0.49,
          0.5,
          0.51,
          0.52,
          0.53,
          0.54,
          0.55,
          0.56,
          0.57,
          0.58,
          0.59,
          0.6,
          0.61,
          0.62,
          0.63,
          0.64,
          0.65,
          0.66,
          0.67,
          0.68,
          0.69,
          0.7,
          0.4,
          0.41,
          0.42,
          0.43,
          0.44,
          0.45,
          0.46,
          0.47,
          0.48,
          0.49,
          0.5,
          0.51,
          0.52,
          0.53,
          0.54,
          0.55,
          0.56,
          0.57,
          0.58,
          0.59,
          0.6,
          0.61,
          0.62,
          0.63,
          0.64,
          0.65,
          0.66,
          0.67,
          0.68,
          0.69,
          0.7,
          0.4,
          0.41,
          0.42,
          0.43,
          0.44,
          0.45,
          0.46,
          0.47,
          0.48,
          0.49,
          0.5,
          0.51,
          0.52,
          0.53,
          0.54,
          0.55,
          0.56,
          0.57,
          0.58,
          0.59,
          0.6,
          0.61,
          0.62,
          0.63,
          0.64,
          0.65,
          0.66,
          0.67,
          0.68,
          0.69,
          0.7,
          0.4,
          0.41,
          0.42,
          0.43,
          0.44,
          0.45,
          0.46,
          0.47,
          0.48,
          0.49,
          0.5,
          0.51,
          0.52,
          0.53,
          0.54,
          0.55,
          0.56,
          0.57,
          0.58,
          0.59,
          0.6,
          0.61,
          0.62,
          0.63,
          0.64,
          0.65,
          0.66,
          0.67,
          0.68,
          0.69,
          0.7
         ],
         "y": [
          20,
          20,
          20,
          20,
          20,
          20,
          20,
          20,
          20,
          20,
          20,
          20,
          20,
          20,
          20,
          20,
          20,
          20,
          20,
          20,
          20,
          20,
          20,
          20,
          20,
          20,
          20,
          20,
          20,
          20,
          20,
          19.5,
          19.5,
          19.5,
          19.5,
          19.5,
          19.5,
          19.5,
          19.5,
          19.5,
          19.5,
          19.5,
          19.5,
          19.5,
          19.5,
          19.5,
          19.5,
          19.5,
          19.5,
          19.5,
          19.5,
          19.5,
          19.5,
          19.5,
          19.5,
          19.5,
          19.5,
          19.5,
          19.5,
          19.5,
          19.5,
          19.5,
          19,
          19,
          19,
          19,
          19,
          19,
          19,
          19,
          19,
          19,
          19,
          19,
          19,
          19,
          19,
          19,
          19,
          19,
          19,
          19,
          19,
          19,
          19,
          19,
          19,
          19,
          19,
          19,
          19,
          19,
          19,
          18.5,
          18.5,
          18.5,
          18.5,
          18.5,
          18.5,
          18.5,
          18.5,
          18.5,
          18.5,
          18.5,
          18.5,
          18.5,
          18.5,
          18.5,
          18.5,
          18.5,
          18.5,
          18.5,
          18.5,
          18.5,
          18.5,
          18.5,
          18.5,
          18.5,
          18.5,
          18.5,
          18.5,
          18.5,
          18.5,
          18.5,
          18,
          18,
          18,
          18,
          18,
          18,
          18,
          18,
          18,
          18,
          18,
          18,
          18,
          18,
          18,
          18,
          18,
          18,
          18,
          18,
          18,
          18,
          18,
          18,
          18,
          18,
          18,
          18,
          18,
          18,
          18,
          17.5,
          17.5,
          17.5,
          17.5,
          17.5,
          17.5,
          17.5,
          17.5,
          17.5,
          17.5,
          17.5,
          17.5,
          17.5,
          17.5,
          17.5,
          17.5,
          17.5,
          17.5,
          17.5,
          17.5,
          17.5,
          17.5,
          17.5,
          17.5,
          17.5,
          17.5,
          17.5,
          17.5,
          17.5,
          17.5,
          17.5,
          17,
          17,
          17,
          17,
          17,
          17,
          17,
          17,
          17,
          17,
          17,
          17,
          17,
          17,
          17,
          17,
          17,
          17,
          17,
          17,
          17,
          17,
          17,
          17,
          17,
          17,
          17,
          17,
          17,
          17,
          17,
          16.5,
          16.5,
          16.5,
          16.5,
          16.5,
          16.5,
          16.5,
          16.5,
          16.5,
          16.5,
          16.5,
          16.5,
          16.5,
          16.5,
          16.5,
          16.5,
          16.5,
          16.5,
          16.5,
          16.5,
          16.5,
          16.5,
          16.5,
          16.5,
          16.5,
          16.5,
          16.5,
          16.5,
          16.5,
          16.5,
          16.5,
          16,
          16,
          16,
          16,
          16,
          16,
          16,
          16,
          16,
          16,
          16,
          16,
          16,
          16,
          16,
          16,
          16,
          16,
          16,
          16,
          16,
          16,
          16,
          16,
          16,
          16,
          16,
          16,
          16,
          16,
          16,
          15.5,
          15.5,
          15.5,
          15.5,
          15.5,
          15.5,
          15.5,
          15.5,
          15.5,
          15.5,
          15.5,
          15.5,
          15.5,
          15.5,
          15.5,
          15.5,
          15.5,
          15.5,
          15.5,
          15.5,
          15.5,
          15.5,
          15.5,
          15.5,
          15.5,
          15.5,
          15.5,
          15.5,
          15.5,
          15.5,
          15.5,
          15,
          15,
          15,
          15,
          15,
          15,
          15,
          15,
          15,
          15,
          15,
          15,
          15,
          15,
          15,
          15,
          15,
          15,
          15,
          15,
          15,
          15,
          15,
          15,
          15,
          15,
          15,
          15,
          15,
          15,
          15
         ],
         "z": [
          41.055701669600005,
          41.058607503000005,
          41.057638102000006,
          41.059058139399994,
          41.0581090572,
          41.0589981292,
          41.0582887574,
          41.0589001736,
          41.058393761,
          41.0588187234,
          41.0584633722,
          41.058761022999995,
          41.0585118142,
          41.0587208334,
          41.058545822,
          41.0586926734,
          41.058569364200004,
          41.0586729814,
          41.0585862014,
          41.0586589466,
          41.058598171,
          41.058602535,
          41.058605362200005,
          41.0586049682,
          41.0586049584,
          41.0586049582,
          41.0586049582,
          41.0586049582,
          41.0586049582,
          41.0586049582,
          41.0586049582,
          42.4501975584,
          42.4472512314,
          42.448141694200004,
          42.4468410378,
          42.4477066264,
          42.446913015999996,
          42.447537754399995,
          42.447011237400005,
          42.4474410654,
          42.4470837414,
          42.447378708,
          42.447135188,
          42.4473358902,
          42.4471703786,
          42.4473068696,
          42.4471942768,
          42.4472870492,
          42.447210674400004,
          42.4472735454,
          42.4472685872,
          42.4472656948,
          42.447266166999995,
          42.447266166999995,
          42.447266157,
          42.447266157,
          42.447266157,
          42.447266157,
          42.447266157,
          42.447266157,
          42.447266157,
          42.447266157,
          43.7223206184,
          43.719881298800004,
          43.7205882146,
          43.719529245000004,
          43.7201978852,
          43.7195801512,
          43.7200509446,
          43.7196576242,
          43.719972014,
          43.7197144072,
          43.7199224974,
          43.7197535412,
          43.719890712200005,
          43.7197791756,
          43.7198693642,
          43.7197964096,
          43.71980339260001,
          43.7198064568,
          43.7198058086,
          43.719805838000006,
          43.719805848,
          43.719805848,
          43.719805848,
          43.719805848,
          43.719805848,
          43.719805848,
          43.719805848,
          43.719805848,
          43.719805848,
          43.719805848,
          43.719805848,
          44.881182284000005,
          44.8777418504,
          44.878656512,
          44.8771743376,
          44.8780617268,
          44.8772149266,
          44.8778415626,
          44.877315148399994,
          44.8777306738,
          44.877391280000005,
          44.8776631026,
          44.877443134,
          44.877620627599995,
          44.8774777258,
          44.8775924514,
          44.8774999262,
          44.877574424399995,
          44.8775662216,
          44.877563644,
          44.8775643594,
          44.8775643008,
          44.8775642908,
          44.8775643008,
          44.8775643008,
          44.8775643008,
          44.8775643008,
          44.8775643008,
          44.8775643008,
          44.8775643008,
          44.8775643008,
          44.8775643008,
          45.9191510746,
          45.9161462374,
          45.916895986,
          45.9156654624,
          45.9163138646,
          45.9156903806,
          45.9161092878,
          45.9157658842,
          45.9160163386,
          45.9158205322,
          45.9159670862,
          45.9158546226,
          45.9159396274,
          45.915929014599996,
          45.9159268356,
          45.9159276564,
          45.915927539,
          45.915927549,
          45.915927548800006,
          45.915927548800006,
          45.915927548800006,
          45.915927548800006,
          45.915927548800006,
          45.915927548800006,
          45.915927548800006,
          45.915927548800006,
          45.915927548800006,
          45.915927548800006,
          45.915927548800006,
          45.915927548800006,
          45.915927548800006,
          46.825401563,
          46.8208509788,
          46.821820346399996,
          46.8199493322,
          46.8208278854,
          46.819908159,
          46.820480935,
          46.8199893074,
          46.820332205,
          46.8200591608,
          46.8202591248,
          46.8201050338,
          46.8201260084,
          46.820128412399995,
          46.820127078999995,
          46.8201273418,
          46.8201273126,
          46.8201273126,
          46.8201273126,
          46.8201273126,
          46.8201273126,
          46.8201273126,
          46.8201273126,
          46.8201273126,
          46.8201273126,
          46.8201273126,
          46.8201273126,
          46.8201273126,
          46.8201273126,
          46.8201273126,
          46.8201273126,
          47.5590347128,
          47.554591761599994,
          47.5553722508,
          47.553606144,
          47.5542919286,
          47.553486266,
          47.5539160528,
          47.5535231936,
          47.553768025,
          47.5535690906,
          47.5537032208,
          47.5535999134,
          47.5536145798,
          47.5536148414,
          47.5536141448,
          47.553614347999996,
          47.5536142994,
          47.553614309000004,
          47.5536143092,
          47.5536143092,
          47.5536143092,
          47.5536143092,
          47.5536143092,
          47.5536143092,
          47.5536143092,
          47.5536143092,
          47.5536143092,
          47.5536143092,
          47.5536143092,
          47.5536143092,
          47.5536143092,
          48.033284108000004,
          48.025578074,
          48.02658789,
          48.02329056,
          48.024348992,
          48.022772028,
          48.023509438,
          48.022715936,
          48.023171434,
          48.022757006,
          48.023023970000004,
          48.022801140000006,
          48.022953009999995,
          48.02293349,
          48.022934208,
          48.022934832,
          48.022934561999996,
          48.02293464,
          48.02293462,
          48.02293462,
          48.02293462,
          48.02293462,
          48.02293462,
          48.02293462,
          48.02293462,
          48.02293462,
          48.02293462,
          48.02293462,
          48.02293462,
          48.02293462,
          48.02293462,
          47.958694764,
          47.948146366,
          47.948925558,
          47.944344852,
          47.945216703999996,
          47.942802264,
          47.943163813999995,
          47.941906614,
          47.942097096,
          47.94207136200001,
          47.942073286,
          47.942073783999994,
          47.942073446,
          47.942073578,
          47.94207354,
          47.942073549999996,
          47.942073549999996,
          47.942073549999996,
          47.942073549999996,
          47.942073549999996,
          47.942073549999996,
          47.942073549999996,
          47.942073549999996,
          47.942073549999996,
          47.942073549999996,
          47.942073549999996,
          47.942073549999996,
          47.942073549999996,
          47.942073549999996,
          47.942073549999996,
          47.942073549999996,
          45.980574632,
          45.961316252,
          45.960772978,
          45.952826599999995,
          45.956400015999996,
          45.947880606,
          45.947493478,
          45.942659058,
          45.944222228,
          45.941372812,
          45.94207935,
          45.940329398,
          45.94081248,
          45.938885484000004,
          45.940303521999994,
          45.939486339999995,
          45.939531816,
          45.939519909999994,
          45.939523218,
          45.939522218,
          45.939522554,
          45.93952244,
          45.939522474,
          45.939522466,
          45.939522466,
          45.939522466,
          45.939522466,
          45.939522466,
          45.939522466,
          45.939522466,
          45.939522466,
          -28.986344189999997,
          -31.33299238,
          -31.53429135000001,
          -32.66952837,
          -32.85266158,
          -33.4604063,
          -33.58933195,
          -33.58930754,
          -33.589314910000006,
          -33.58931257999999,
          -33.589313310000016,
          -33.589313069999996,
          -33.58931316000002,
          -33.58931313000001,
          -33.589313139999994,
          -33.58931313000001,
          -33.58931312000001,
          -33.58931312000001,
          -33.58931312000001,
          -33.58931312000001,
          -33.58931312000001,
          -33.58931312000001,
          -33.58931312000001,
          -33.58931312000001,
          -33.58931312000001,
          -33.58931312000001,
          -33.58931312000001,
          -33.58931312000001,
          -33.58931312000001,
          -33.58931312000001,
          -33.58931312000001
         ]
        }
       ],
       "layout": {
        "margin": {
         "b": 10,
         "l": 10,
         "r": 20,
         "t": 25
        },
        "scene": {
         "xaxis": {
          "title": {
           "text": "Tray spacing"
          }
         },
         "yaxis": {
          "title": {
           "text": "Temperature"
          }
         },
         "zaxis": {
          "title": {
           "text": "estimated profit"
          }
         }
        },
        "template": {
         "data": {
          "bar": [
           {
            "error_x": {
             "color": "#2a3f5f"
            },
            "error_y": {
             "color": "#2a3f5f"
            },
            "marker": {
             "line": {
              "color": "#E5ECF6",
              "width": 0.5
             }
            },
            "type": "bar"
           }
          ],
          "barpolar": [
           {
            "marker": {
             "line": {
              "color": "#E5ECF6",
              "width": 0.5
             }
            },
            "type": "barpolar"
           }
          ],
          "carpet": [
           {
            "aaxis": {
             "endlinecolor": "#2a3f5f",
             "gridcolor": "white",
             "linecolor": "white",
             "minorgridcolor": "white",
             "startlinecolor": "#2a3f5f"
            },
            "baxis": {
             "endlinecolor": "#2a3f5f",
             "gridcolor": "white",
             "linecolor": "white",
             "minorgridcolor": "white",
             "startlinecolor": "#2a3f5f"
            },
            "type": "carpet"
           }
          ],
          "choropleth": [
           {
            "colorbar": {
             "outlinewidth": 0,
             "ticks": ""
            },
            "type": "choropleth"
           }
          ],
          "contour": [
           {
            "colorbar": {
             "outlinewidth": 0,
             "ticks": ""
            },
            "colorscale": [
             [
              0,
              "#0d0887"
             ],
             [
              0.1111111111111111,
              "#46039f"
             ],
             [
              0.2222222222222222,
              "#7201a8"
             ],
             [
              0.3333333333333333,
              "#9c179e"
             ],
             [
              0.4444444444444444,
              "#bd3786"
             ],
             [
              0.5555555555555556,
              "#d8576b"
             ],
             [
              0.6666666666666666,
              "#ed7953"
             ],
             [
              0.7777777777777778,
              "#fb9f3a"
             ],
             [
              0.8888888888888888,
              "#fdca26"
             ],
             [
              1,
              "#f0f921"
             ]
            ],
            "type": "contour"
           }
          ],
          "contourcarpet": [
           {
            "colorbar": {
             "outlinewidth": 0,
             "ticks": ""
            },
            "type": "contourcarpet"
           }
          ],
          "heatmap": [
           {
            "colorbar": {
             "outlinewidth": 0,
             "ticks": ""
            },
            "colorscale": [
             [
              0,
              "#0d0887"
             ],
             [
              0.1111111111111111,
              "#46039f"
             ],
             [
              0.2222222222222222,
              "#7201a8"
             ],
             [
              0.3333333333333333,
              "#9c179e"
             ],
             [
              0.4444444444444444,
              "#bd3786"
             ],
             [
              0.5555555555555556,
              "#d8576b"
             ],
             [
              0.6666666666666666,
              "#ed7953"
             ],
             [
              0.7777777777777778,
              "#fb9f3a"
             ],
             [
              0.8888888888888888,
              "#fdca26"
             ],
             [
              1,
              "#f0f921"
             ]
            ],
            "type": "heatmap"
           }
          ],
          "heatmapgl": [
           {
            "colorbar": {
             "outlinewidth": 0,
             "ticks": ""
            },
            "colorscale": [
             [
              0,
              "#0d0887"
             ],
             [
              0.1111111111111111,
              "#46039f"
             ],
             [
              0.2222222222222222,
              "#7201a8"
             ],
             [
              0.3333333333333333,
              "#9c179e"
             ],
             [
              0.4444444444444444,
              "#bd3786"
             ],
             [
              0.5555555555555556,
              "#d8576b"
             ],
             [
              0.6666666666666666,
              "#ed7953"
             ],
             [
              0.7777777777777778,
              "#fb9f3a"
             ],
             [
              0.8888888888888888,
              "#fdca26"
             ],
             [
              1,
              "#f0f921"
             ]
            ],
            "type": "heatmapgl"
           }
          ],
          "histogram": [
           {
            "marker": {
             "colorbar": {
              "outlinewidth": 0,
              "ticks": ""
             }
            },
            "type": "histogram"
           }
          ],
          "histogram2d": [
           {
            "colorbar": {
             "outlinewidth": 0,
             "ticks": ""
            },
            "colorscale": [
             [
              0,
              "#0d0887"
             ],
             [
              0.1111111111111111,
              "#46039f"
             ],
             [
              0.2222222222222222,
              "#7201a8"
             ],
             [
              0.3333333333333333,
              "#9c179e"
             ],
             [
              0.4444444444444444,
              "#bd3786"
             ],
             [
              0.5555555555555556,
              "#d8576b"
             ],
             [
              0.6666666666666666,
              "#ed7953"
             ],
             [
              0.7777777777777778,
              "#fb9f3a"
             ],
             [
              0.8888888888888888,
              "#fdca26"
             ],
             [
              1,
              "#f0f921"
             ]
            ],
            "type": "histogram2d"
           }
          ],
          "histogram2dcontour": [
           {
            "colorbar": {
             "outlinewidth": 0,
             "ticks": ""
            },
            "colorscale": [
             [
              0,
              "#0d0887"
             ],
             [
              0.1111111111111111,
              "#46039f"
             ],
             [
              0.2222222222222222,
              "#7201a8"
             ],
             [
              0.3333333333333333,
              "#9c179e"
             ],
             [
              0.4444444444444444,
              "#bd3786"
             ],
             [
              0.5555555555555556,
              "#d8576b"
             ],
             [
              0.6666666666666666,
              "#ed7953"
             ],
             [
              0.7777777777777778,
              "#fb9f3a"
             ],
             [
              0.8888888888888888,
              "#fdca26"
             ],
             [
              1,
              "#f0f921"
             ]
            ],
            "type": "histogram2dcontour"
           }
          ],
          "mesh3d": [
           {
            "colorbar": {
             "outlinewidth": 0,
             "ticks": ""
            },
            "type": "mesh3d"
           }
          ],
          "parcoords": [
           {
            "line": {
             "colorbar": {
              "outlinewidth": 0,
              "ticks": ""
             }
            },
            "type": "parcoords"
           }
          ],
          "pie": [
           {
            "automargin": true,
            "type": "pie"
           }
          ],
          "scatter": [
           {
            "marker": {
             "colorbar": {
              "outlinewidth": 0,
              "ticks": ""
             }
            },
            "type": "scatter"
           }
          ],
          "scatter3d": [
           {
            "line": {
             "colorbar": {
              "outlinewidth": 0,
              "ticks": ""
             }
            },
            "marker": {
             "colorbar": {
              "outlinewidth": 0,
              "ticks": ""
             }
            },
            "type": "scatter3d"
           }
          ],
          "scattercarpet": [
           {
            "marker": {
             "colorbar": {
              "outlinewidth": 0,
              "ticks": ""
             }
            },
            "type": "scattercarpet"
           }
          ],
          "scattergeo": [
           {
            "marker": {
             "colorbar": {
              "outlinewidth": 0,
              "ticks": ""
             }
            },
            "type": "scattergeo"
           }
          ],
          "scattergl": [
           {
            "marker": {
             "colorbar": {
              "outlinewidth": 0,
              "ticks": ""
             }
            },
            "type": "scattergl"
           }
          ],
          "scattermapbox": [
           {
            "marker": {
             "colorbar": {
              "outlinewidth": 0,
              "ticks": ""
             }
            },
            "type": "scattermapbox"
           }
          ],
          "scatterpolar": [
           {
            "marker": {
             "colorbar": {
              "outlinewidth": 0,
              "ticks": ""
             }
            },
            "type": "scatterpolar"
           }
          ],
          "scatterpolargl": [
           {
            "marker": {
             "colorbar": {
              "outlinewidth": 0,
              "ticks": ""
             }
            },
            "type": "scatterpolargl"
           }
          ],
          "scatterternary": [
           {
            "marker": {
             "colorbar": {
              "outlinewidth": 0,
              "ticks": ""
             }
            },
            "type": "scatterternary"
           }
          ],
          "surface": [
           {
            "colorbar": {
             "outlinewidth": 0,
             "ticks": ""
            },
            "colorscale": [
             [
              0,
              "#0d0887"
             ],
             [
              0.1111111111111111,
              "#46039f"
             ],
             [
              0.2222222222222222,
              "#7201a8"
             ],
             [
              0.3333333333333333,
              "#9c179e"
             ],
             [
              0.4444444444444444,
              "#bd3786"
             ],
             [
              0.5555555555555556,
              "#d8576b"
             ],
             [
              0.6666666666666666,
              "#ed7953"
             ],
             [
              0.7777777777777778,
              "#fb9f3a"
             ],
             [
              0.8888888888888888,
              "#fdca26"
             ],
             [
              1,
              "#f0f921"
             ]
            ],
            "type": "surface"
           }
          ],
          "table": [
           {
            "cells": {
             "fill": {
              "color": "#EBF0F8"
             },
             "line": {
              "color": "white"
             }
            },
            "header": {
             "fill": {
              "color": "#C8D4E3"
             },
             "line": {
              "color": "white"
             }
            },
            "type": "table"
           }
          ]
         },
         "layout": {
          "annotationdefaults": {
           "arrowcolor": "#2a3f5f",
           "arrowhead": 0,
           "arrowwidth": 1
          },
          "autotypenumbers": "strict",
          "coloraxis": {
           "colorbar": {
            "outlinewidth": 0,
            "ticks": ""
           }
          },
          "colorscale": {
           "diverging": [
            [
             0,
             "#8e0152"
            ],
            [
             0.1,
             "#c51b7d"
            ],
            [
             0.2,
             "#de77ae"
            ],
            [
             0.3,
             "#f1b6da"
            ],
            [
             0.4,
             "#fde0ef"
            ],
            [
             0.5,
             "#f7f7f7"
            ],
            [
             0.6,
             "#e6f5d0"
            ],
            [
             0.7,
             "#b8e186"
            ],
            [
             0.8,
             "#7fbc41"
            ],
            [
             0.9,
             "#4d9221"
            ],
            [
             1,
             "#276419"
            ]
           ],
           "sequential": [
            [
             0,
             "#0d0887"
            ],
            [
             0.1111111111111111,
             "#46039f"
            ],
            [
             0.2222222222222222,
             "#7201a8"
            ],
            [
             0.3333333333333333,
             "#9c179e"
            ],
            [
             0.4444444444444444,
             "#bd3786"
            ],
            [
             0.5555555555555556,
             "#d8576b"
            ],
            [
             0.6666666666666666,
             "#ed7953"
            ],
            [
             0.7777777777777778,
             "#fb9f3a"
            ],
            [
             0.8888888888888888,
             "#fdca26"
            ],
            [
             1,
             "#f0f921"
            ]
           ],
           "sequentialminus": [
            [
             0,
             "#0d0887"
            ],
            [
             0.1111111111111111,
             "#46039f"
            ],
            [
             0.2222222222222222,
             "#7201a8"
            ],
            [
             0.3333333333333333,
             "#9c179e"
            ],
            [
             0.4444444444444444,
             "#bd3786"
            ],
            [
             0.5555555555555556,
             "#d8576b"
            ],
            [
             0.6666666666666666,
             "#ed7953"
            ],
            [
             0.7777777777777778,
             "#fb9f3a"
            ],
            [
             0.8888888888888888,
             "#fdca26"
            ],
            [
             1,
             "#f0f921"
            ]
           ]
          },
          "colorway": [
           "#636efa",
           "#EF553B",
           "#00cc96",
           "#ab63fa",
           "#FFA15A",
           "#19d3f3",
           "#FF6692",
           "#B6E880",
           "#FF97FF",
           "#FECB52"
          ],
          "font": {
           "color": "#2a3f5f"
          },
          "geo": {
           "bgcolor": "white",
           "lakecolor": "white",
           "landcolor": "#E5ECF6",
           "showlakes": true,
           "showland": true,
           "subunitcolor": "white"
          },
          "hoverlabel": {
           "align": "left"
          },
          "hovermode": "closest",
          "mapbox": {
           "style": "light"
          },
          "paper_bgcolor": "white",
          "plot_bgcolor": "#E5ECF6",
          "polar": {
           "angularaxis": {
            "gridcolor": "white",
            "linecolor": "white",
            "ticks": ""
           },
           "bgcolor": "#E5ECF6",
           "radialaxis": {
            "gridcolor": "white",
            "linecolor": "white",
            "ticks": ""
           }
          },
          "scene": {
           "xaxis": {
            "backgroundcolor": "#E5ECF6",
            "gridcolor": "white",
            "gridwidth": 2,
            "linecolor": "white",
            "showbackground": true,
            "ticks": "",
            "zerolinecolor": "white"
           },
           "yaxis": {
            "backgroundcolor": "#E5ECF6",
            "gridcolor": "white",
            "gridwidth": 2,
            "linecolor": "white",
            "showbackground": true,
            "ticks": "",
            "zerolinecolor": "white"
           },
           "zaxis": {
            "backgroundcolor": "#E5ECF6",
            "gridcolor": "white",
            "gridwidth": 2,
            "linecolor": "white",
            "showbackground": true,
            "ticks": "",
            "zerolinecolor": "white"
           }
          },
          "shapedefaults": {
           "line": {
            "color": "#2a3f5f"
           }
          },
          "ternary": {
           "aaxis": {
            "gridcolor": "white",
            "linecolor": "white",
            "ticks": ""
           },
           "baxis": {
            "gridcolor": "white",
            "linecolor": "white",
            "ticks": ""
           },
           "bgcolor": "#E5ECF6",
           "caxis": {
            "gridcolor": "white",
            "linecolor": "white",
            "ticks": ""
           }
          },
          "title": {
           "x": 0.05
          },
          "xaxis": {
           "automargin": true,
           "gridcolor": "white",
           "linecolor": "white",
           "ticks": "",
           "title": {
            "standoff": 15
           },
           "zerolinecolor": "white",
           "zerolinewidth": 2
          },
          "yaxis": {
           "automargin": true,
           "gridcolor": "white",
           "linecolor": "white",
           "ticks": "",
           "title": {
            "standoff": 15
           },
           "zerolinecolor": "white",
           "zerolinewidth": 2
          }
         }
        },
        "width": 700
       }
      },
      "text/html": [
       "<div>                            <div id=\"078ff20e-414a-4054-bfc4-f5f1fa71b919\" class=\"plotly-graph-div\" style=\"height:525px; width:700px;\"></div>            <script type=\"text/javascript\">                require([\"plotly\"], function(Plotly) {                    window.PLOTLYENV=window.PLOTLYENV || {};                                    if (document.getElementById(\"078ff20e-414a-4054-bfc4-f5f1fa71b919\")) {                    Plotly.newPlot(                        \"078ff20e-414a-4054-bfc4-f5f1fa71b919\",                        [{\"marker\": {\"color\": [3.439110975522492, 3.436881555356001, 3.4374389950343396, 3.43648394084976, 3.4370913860405534, 3.436505081647754, 3.436966684969976, 3.4365676889436063, 3.4368967724228767, 3.4366196665145456, 3.4368512247447804, 3.4366571965592767, 3.4368196663716697, 3.4366833997077593, 3.436797635392861, 3.4367017532132804, 3.436782271739533, 3.4367147693602775, 3.4367712264648027, 3.4367238329509107, 3.436763426245052, 3.436763532401536, 3.4367636012424017, 3.4367635915918133, 3.436763591270127, 3.4367635915918133, 3.4367635915918133, 3.4367635915918133, 3.4367635915918133, 3.4367635915918133, 3.4367635915918133, 3.552977928656611, 3.5551025007704196, 3.5546526994955765, 3.555498467606418, 3.554977669474188, 3.55547427352434, 3.555089879020331, 3.555416491433746, 3.555150405671075, 3.55537187349162, 3.5551895803605142, 3.5553400500287506, 3.555216009628093, 3.555318405906834, 3.555233941263663, 3.5553036222162895, 3.555246128865889, 3.5552934822857103, 3.5552544208195487, 3.5552543039514557, 3.555254235945078, 3.5552542470889805, 3.5552542470889805, 3.5552542470889805, 3.5552542470889805, 3.5552542470889805, 3.5552542470889805, 3.5552542470889805, 3.5552542470889805, 3.5552542470889805, 3.5552542470889805, 3.681044933749296, 3.6826763309653123, 3.6823588352613883, 3.6829973572012453, 3.6826299349865077, 3.6829874915424416, 3.6827211372966264, 3.682946470975027, 3.682767345676976, 3.6829143642881963, 3.6827957264640956, 3.682892189663906, 3.682813855256591, 3.682877521497162, 3.6828260137082016, 3.682867795751707, 3.6828679554589194, 3.682868025629482, 3.6828680107905463, 3.6828680115450685, 3.6828680115450685, 3.6828680115450685, 3.6828680115450685, 3.6828680115450685, 3.6828680115450685, 3.6828680115450685, 3.6828680115450685, 3.6828680115450685, 3.6828680115450685, 3.6828680115450685, 3.6828680115450685, 3.820471292330778, 3.8225941591857056, 3.8222247428597065, 3.8230629335836115, 3.8226124361679443, 3.823070389161281, 3.8227415454578595, 3.8230231672319963, 3.822802673620529, 3.8229834093556954, 3.822839049078, 3.8229559890588796, 3.822861783613642, 3.8229376547320073, 3.822876636710215, 3.8229258151507124, 3.822886297631268, 3.822886114843179, 3.8228860575579096, 3.8228860735190726, 3.8228860719885502, 3.8228860719885502, 3.8228860719885502, 3.8228860719885502, 3.8228860719885502, 3.8228860719885502, 3.8228860719885502, 3.8228860719885502, 3.8228860719885502, 3.8228860719885502, 3.8228860719885502, 3.9783408820109614, 3.9800203840030774, 3.979777064303515, 3.980398058531284, 3.9801176106347143, 3.9804174760156537, 3.980227002555526, 3.9803885495997906, 3.980272863589049, 3.9803642786176954, 3.9802962068947396, 3.9803486532775714, 3.9803091416632284, 3.9803089107800864, 3.9803088631464214, 3.9803088810790954, 3.9803088786507126, 3.9803088786507126, 3.980308878837511, 3.980308878837511, 3.980308878837511, 3.980308878837511, 3.980308878837511, 3.980308878837511, 3.980308878837511, 3.980308878837511, 3.980308878837511, 3.980308878837511, 3.980308878837511, 3.980308878837511, 3.980308878837511, 4.159690489350962, 4.161972494647858, 4.1616999510101795, 4.162570742609862, 4.162230478170887, 4.162639309743882, 4.162402651936677, 4.162616295773806, 4.16247153170187, 4.162589066463237, 4.1625040939556905, 4.1625702120697845, 4.162570659946506, 4.162570711319214, 4.1625706828307125, 4.162570688435008, 4.162570687812309, 4.162570687812309, 4.162570687812309, 4.162570687812309, 4.162570687812309, 4.162570687812309, 4.162570687812309, 4.162570687812309, 4.162570687812309, 4.162570687812309, 4.162570687812309, 4.162570687812309, 4.162570687812309, 4.162570687812309, 4.162570687812309, 4.379280058283795, 4.381213396835612, 4.381045321593659, 4.3817750005166625, 4.381552166756779, 4.381871000063444, 4.381718991856682, 4.381870201438841, 4.381780976377353, 4.381856626098243, 4.381806953795804, 4.38184604124287, 4.38184634979854, 4.381846355049487, 4.381846340421849, 4.381846344672616, 4.381846343797458, 4.381846344047504, 4.381846343922481, 4.381846343922481, 4.381846343922481, 4.381846343922481, 4.381846343922481, 4.381846343922481, 4.381846343922481, 4.381846343922481, 4.381846343922481, 4.381846343922481, 4.381846343922481, 4.381846343922481, 4.381846343922481, 4.656917612192177, 4.659688189009426, 4.659519161772362, 4.660689132468903, 4.660396393374415, 4.6609382535778074, 4.660715029668055, 4.660981905052663, 4.660839068860722, 4.660976528636044, 4.660891327724932, 4.660964582201044, 4.660915766971781, 4.660915360286415, 4.660915375418897, 4.660915387714038, 4.660915382985138, 4.660915383930917, 4.660915383930917, 4.660915383930917, 4.660915383930917, 4.660915383930917, 4.660915383930917, 4.660915383930917, 4.660915383930917, 4.660915383930917, 4.660915383930917, 4.660915383930917, 4.660915383930917, 4.660915383930917, 4.660915383930917, 5.045303192875193, 5.048134437737239, 5.048081132449683, 5.049318711650053, 5.04914052571263, 5.049779355593925, 5.049715672403063, 5.050056690957368, 5.0500345791251435, 5.050034042041428, 5.050034082418854, 5.050034092673438, 5.050034085623412, 5.050034088187058, 5.050034087546146, 5.050034087546146, 5.050034087546146, 5.050034087546146, 5.050034087546146, 5.050034087546146, 5.050034087546146, 5.050034087546146, 5.050034087546146, 5.050034087546146, 5.050034087546146, 5.050034087546146, 5.050034087546146, 5.050034087546146, 5.050034087546146, 5.050034087546146, 5.050034087546146, 5.696131812500185, 5.699086616016577, 5.699281661508691, 5.700553079100403, 5.69999305118501, 5.70132418119397, 5.70142276807055, 5.702192287979283, 5.701959751505177, 5.7024012959345205, 5.70230097444317, 5.70257304392294, 5.702499665541641, 5.702808776766232, 5.702590654387158, 5.702707720648298, 5.702708710711311, 5.702708451433023, 5.702708523510391, 5.702708501820443, 5.702708509161656, 5.702708506492124, 5.702708507493199, 5.702708507159508, 5.702708507159508, 5.702708507159508, 5.702708507159508, 5.702708507159508, 5.702708507159508, 5.702708507159508, 5.702708507159508, 8.31558000488221, 8.343862281839256, 8.346262656053508, 8.359633939067047, 8.361778648016447, 8.368849640463269, 8.370345505659778, 8.370344779250559, 8.370344998377885, 8.37034492911883, 8.37034495089258, 8.370344943943511, 8.370344946259868, 8.37034494556496, 8.370344945796596, 8.37034494556496, 8.37034494556496, 8.37034494556496, 8.37034494556496, 8.37034494556496, 8.37034494556496, 8.37034494556496, 8.37034494556496, 8.37034494556496, 8.37034494556496, 8.37034494556496, 8.37034494556496, 8.37034494556496, 8.37034494556496, 8.37034494556496, 8.37034494556496], \"colorscale\": [[0.0, \"rgb(0,0,255)\"], [1.0, \"rgb(255,0,0)\"]], \"opacity\": 0.8, \"size\": 6}, \"mode\": \"markers\", \"type\": \"scatter3d\", \"x\": [0.4, 0.41, 0.42, 0.43, 0.44, 0.45, 0.46, 0.47, 0.48, 0.49, 0.5, 0.51, 0.52, 0.53, 0.54, 0.55, 0.56, 0.57, 0.58, 0.59, 0.6, 0.61, 0.62, 0.63, 0.64, 0.65, 0.66, 0.67, 0.68, 0.69, 0.7, 0.4, 0.41, 0.42, 0.43, 0.44, 0.45, 0.46, 0.47, 0.48, 0.49, 0.5, 0.51, 0.52, 0.53, 0.54, 0.55, 0.56, 0.57, 0.58, 0.59, 0.6, 0.61, 0.62, 0.63, 0.64, 0.65, 0.66, 0.67, 0.68, 0.69, 0.7, 0.4, 0.41, 0.42, 0.43, 0.44, 0.45, 0.46, 0.47, 0.48, 0.49, 0.5, 0.51, 0.52, 0.53, 0.54, 0.55, 0.56, 0.57, 0.58, 0.59, 0.6, 0.61, 0.62, 0.63, 0.64, 0.65, 0.66, 0.67, 0.68, 0.69, 0.7, 0.4, 0.41, 0.42, 0.43, 0.44, 0.45, 0.46, 0.47, 0.48, 0.49, 0.5, 0.51, 0.52, 0.53, 0.54, 0.55, 0.56, 0.57, 0.58, 0.59, 0.6, 0.61, 0.62, 0.63, 0.64, 0.65, 0.66, 0.67, 0.68, 0.69, 0.7, 0.4, 0.41, 0.42, 0.43, 0.44, 0.45, 0.46, 0.47, 0.48, 0.49, 0.5, 0.51, 0.52, 0.53, 0.54, 0.55, 0.56, 0.57, 0.58, 0.59, 0.6, 0.61, 0.62, 0.63, 0.64, 0.65, 0.66, 0.67, 0.68, 0.69, 0.7, 0.4, 0.41, 0.42, 0.43, 0.44, 0.45, 0.46, 0.47, 0.48, 0.49, 0.5, 0.51, 0.52, 0.53, 0.54, 0.55, 0.56, 0.57, 0.58, 0.59, 0.6, 0.61, 0.62, 0.63, 0.64, 0.65, 0.66, 0.67, 0.68, 0.69, 0.7, 0.4, 0.41, 0.42, 0.43, 0.44, 0.45, 0.46, 0.47, 0.48, 0.49, 0.5, 0.51, 0.52, 0.53, 0.54, 0.55, 0.56, 0.57, 0.58, 0.59, 0.6, 0.61, 0.62, 0.63, 0.64, 0.65, 0.66, 0.67, 0.68, 0.69, 0.7, 0.4, 0.41, 0.42, 0.43, 0.44, 0.45, 0.46, 0.47, 0.48, 0.49, 0.5, 0.51, 0.52, 0.53, 0.54, 0.55, 0.56, 0.57, 0.58, 0.59, 0.6, 0.61, 0.62, 0.63, 0.64, 0.65, 0.66, 0.67, 0.68, 0.69, 0.7, 0.4, 0.41, 0.42, 0.43, 0.44, 0.45, 0.46, 0.47, 0.48, 0.49, 0.5, 0.51, 0.52, 0.53, 0.54, 0.55, 0.56, 0.57, 0.58, 0.59, 0.6, 0.61, 0.62, 0.63, 0.64, 0.65, 0.66, 0.67, 0.68, 0.69, 0.7, 0.4, 0.41, 0.42, 0.43, 0.44, 0.45, 0.46, 0.47, 0.48, 0.49, 0.5, 0.51, 0.52, 0.53, 0.54, 0.55, 0.56, 0.57, 0.58, 0.59, 0.6, 0.61, 0.62, 0.63, 0.64, 0.65, 0.66, 0.67, 0.68, 0.69, 0.7, 0.4, 0.41, 0.42, 0.43, 0.44, 0.45, 0.46, 0.47, 0.48, 0.49, 0.5, 0.51, 0.52, 0.53, 0.54, 0.55, 0.56, 0.57, 0.58, 0.59, 0.6, 0.61, 0.62, 0.63, 0.64, 0.65, 0.66, 0.67, 0.68, 0.69, 0.7], \"y\": [20.0, 20.0, 20.0, 20.0, 20.0, 20.0, 20.0, 20.0, 20.0, 20.0, 20.0, 20.0, 20.0, 20.0, 20.0, 20.0, 20.0, 20.0, 20.0, 20.0, 20.0, 20.0, 20.0, 20.0, 20.0, 20.0, 20.0, 20.0, 20.0, 20.0, 20.0, 19.5, 19.5, 19.5, 19.5, 19.5, 19.5, 19.5, 19.5, 19.5, 19.5, 19.5, 19.5, 19.5, 19.5, 19.5, 19.5, 19.5, 19.5, 19.5, 19.5, 19.5, 19.5, 19.5, 19.5, 19.5, 19.5, 19.5, 19.5, 19.5, 19.5, 19.5, 19.0, 19.0, 19.0, 19.0, 19.0, 19.0, 19.0, 19.0, 19.0, 19.0, 19.0, 19.0, 19.0, 19.0, 19.0, 19.0, 19.0, 19.0, 19.0, 19.0, 19.0, 19.0, 19.0, 19.0, 19.0, 19.0, 19.0, 19.0, 19.0, 19.0, 19.0, 18.5, 18.5, 18.5, 18.5, 18.5, 18.5, 18.5, 18.5, 18.5, 18.5, 18.5, 18.5, 18.5, 18.5, 18.5, 18.5, 18.5, 18.5, 18.5, 18.5, 18.5, 18.5, 18.5, 18.5, 18.5, 18.5, 18.5, 18.5, 18.5, 18.5, 18.5, 18.0, 18.0, 18.0, 18.0, 18.0, 18.0, 18.0, 18.0, 18.0, 18.0, 18.0, 18.0, 18.0, 18.0, 18.0, 18.0, 18.0, 18.0, 18.0, 18.0, 18.0, 18.0, 18.0, 18.0, 18.0, 18.0, 18.0, 18.0, 18.0, 18.0, 18.0, 17.5, 17.5, 17.5, 17.5, 17.5, 17.5, 17.5, 17.5, 17.5, 17.5, 17.5, 17.5, 17.5, 17.5, 17.5, 17.5, 17.5, 17.5, 17.5, 17.5, 17.5, 17.5, 17.5, 17.5, 17.5, 17.5, 17.5, 17.5, 17.5, 17.5, 17.5, 17.0, 17.0, 17.0, 17.0, 17.0, 17.0, 17.0, 17.0, 17.0, 17.0, 17.0, 17.0, 17.0, 17.0, 17.0, 17.0, 17.0, 17.0, 17.0, 17.0, 17.0, 17.0, 17.0, 17.0, 17.0, 17.0, 17.0, 17.0, 17.0, 17.0, 17.0, 16.5, 16.5, 16.5, 16.5, 16.5, 16.5, 16.5, 16.5, 16.5, 16.5, 16.5, 16.5, 16.5, 16.5, 16.5, 16.5, 16.5, 16.5, 16.5, 16.5, 16.5, 16.5, 16.5, 16.5, 16.5, 16.5, 16.5, 16.5, 16.5, 16.5, 16.5, 16.0, 16.0, 16.0, 16.0, 16.0, 16.0, 16.0, 16.0, 16.0, 16.0, 16.0, 16.0, 16.0, 16.0, 16.0, 16.0, 16.0, 16.0, 16.0, 16.0, 16.0, 16.0, 16.0, 16.0, 16.0, 16.0, 16.0, 16.0, 16.0, 16.0, 16.0, 15.5, 15.5, 15.5, 15.5, 15.5, 15.5, 15.5, 15.5, 15.5, 15.5, 15.5, 15.5, 15.5, 15.5, 15.5, 15.5, 15.5, 15.5, 15.5, 15.5, 15.5, 15.5, 15.5, 15.5, 15.5, 15.5, 15.5, 15.5, 15.5, 15.5, 15.5, 15.0, 15.0, 15.0, 15.0, 15.0, 15.0, 15.0, 15.0, 15.0, 15.0, 15.0, 15.0, 15.0, 15.0, 15.0, 15.0, 15.0, 15.0, 15.0, 15.0, 15.0, 15.0, 15.0, 15.0, 15.0, 15.0, 15.0, 15.0, 15.0, 15.0, 15.0], \"z\": [41.055701669600005, 41.058607503000005, 41.057638102000006, 41.059058139399994, 41.0581090572, 41.0589981292, 41.0582887574, 41.0589001736, 41.058393761, 41.0588187234, 41.0584633722, 41.058761022999995, 41.0585118142, 41.0587208334, 41.058545822, 41.0586926734, 41.058569364200004, 41.0586729814, 41.0585862014, 41.0586589466, 41.058598171, 41.058602535, 41.058605362200005, 41.0586049682, 41.0586049584, 41.0586049582, 41.0586049582, 41.0586049582, 41.0586049582, 41.0586049582, 41.0586049582, 42.4501975584, 42.4472512314, 42.448141694200004, 42.4468410378, 42.4477066264, 42.446913015999996, 42.447537754399995, 42.447011237400005, 42.4474410654, 42.4470837414, 42.447378708, 42.447135188, 42.4473358902, 42.4471703786, 42.4473068696, 42.4471942768, 42.4472870492, 42.447210674400004, 42.4472735454, 42.4472685872, 42.4472656948, 42.447266166999995, 42.447266166999995, 42.447266157, 42.447266157, 42.447266157, 42.447266157, 42.447266157, 42.447266157, 42.447266157, 42.447266157, 43.7223206184, 43.719881298800004, 43.7205882146, 43.719529245000004, 43.7201978852, 43.7195801512, 43.7200509446, 43.7196576242, 43.719972014, 43.7197144072, 43.7199224974, 43.7197535412, 43.719890712200005, 43.7197791756, 43.7198693642, 43.7197964096, 43.71980339260001, 43.7198064568, 43.7198058086, 43.719805838000006, 43.719805848, 43.719805848, 43.719805848, 43.719805848, 43.719805848, 43.719805848, 43.719805848, 43.719805848, 43.719805848, 43.719805848, 43.719805848, 44.881182284000005, 44.8777418504, 44.878656512, 44.8771743376, 44.8780617268, 44.8772149266, 44.8778415626, 44.877315148399994, 44.8777306738, 44.877391280000005, 44.8776631026, 44.877443134, 44.877620627599995, 44.8774777258, 44.8775924514, 44.8774999262, 44.877574424399995, 44.8775662216, 44.877563644, 44.8775643594, 44.8775643008, 44.8775642908, 44.8775643008, 44.8775643008, 44.8775643008, 44.8775643008, 44.8775643008, 44.8775643008, 44.8775643008, 44.8775643008, 44.8775643008, 45.9191510746, 45.9161462374, 45.916895986, 45.9156654624, 45.9163138646, 45.9156903806, 45.9161092878, 45.9157658842, 45.9160163386, 45.9158205322, 45.9159670862, 45.9158546226, 45.9159396274, 45.915929014599996, 45.9159268356, 45.9159276564, 45.915927539, 45.915927549, 45.915927548800006, 45.915927548800006, 45.915927548800006, 45.915927548800006, 45.915927548800006, 45.915927548800006, 45.915927548800006, 45.915927548800006, 45.915927548800006, 45.915927548800006, 45.915927548800006, 45.915927548800006, 45.915927548800006, 46.825401563, 46.8208509788, 46.821820346399996, 46.8199493322, 46.8208278854, 46.819908159, 46.820480935, 46.8199893074, 46.820332205, 46.8200591608, 46.8202591248, 46.8201050338, 46.8201260084, 46.820128412399995, 46.820127078999995, 46.8201273418, 46.8201273126, 46.8201273126, 46.8201273126, 46.8201273126, 46.8201273126, 46.8201273126, 46.8201273126, 46.8201273126, 46.8201273126, 46.8201273126, 46.8201273126, 46.8201273126, 46.8201273126, 46.8201273126, 46.8201273126, 47.5590347128, 47.554591761599994, 47.5553722508, 47.553606144, 47.5542919286, 47.553486266, 47.5539160528, 47.5535231936, 47.553768025, 47.5535690906, 47.5537032208, 47.5535999134, 47.5536145798, 47.5536148414, 47.5536141448, 47.553614347999996, 47.5536142994, 47.553614309000004, 47.5536143092, 47.5536143092, 47.5536143092, 47.5536143092, 47.5536143092, 47.5536143092, 47.5536143092, 47.5536143092, 47.5536143092, 47.5536143092, 47.5536143092, 47.5536143092, 47.5536143092, 48.033284108000004, 48.025578074, 48.02658789, 48.02329056, 48.024348992, 48.022772028, 48.023509438, 48.022715936, 48.023171434, 48.022757006, 48.023023970000004, 48.022801140000006, 48.022953009999995, 48.02293349, 48.022934208, 48.022934832, 48.022934561999996, 48.02293464, 48.02293462, 48.02293462, 48.02293462, 48.02293462, 48.02293462, 48.02293462, 48.02293462, 48.02293462, 48.02293462, 48.02293462, 48.02293462, 48.02293462, 48.02293462, 47.958694764, 47.948146366, 47.948925558, 47.944344852, 47.945216703999996, 47.942802264, 47.943163813999995, 47.941906614, 47.942097096, 47.94207136200001, 47.942073286, 47.942073783999994, 47.942073446, 47.942073578, 47.94207354, 47.942073549999996, 47.942073549999996, 47.942073549999996, 47.942073549999996, 47.942073549999996, 47.942073549999996, 47.942073549999996, 47.942073549999996, 47.942073549999996, 47.942073549999996, 47.942073549999996, 47.942073549999996, 47.942073549999996, 47.942073549999996, 47.942073549999996, 47.942073549999996, 45.980574632, 45.961316252, 45.960772978, 45.952826599999995, 45.956400015999996, 45.947880606, 45.947493478, 45.942659058, 45.944222228, 45.941372812, 45.94207935, 45.940329398, 45.94081248, 45.938885484000004, 45.940303521999994, 45.939486339999995, 45.939531816, 45.939519909999994, 45.939523218, 45.939522218, 45.939522554, 45.93952244, 45.939522474, 45.939522466, 45.939522466, 45.939522466, 45.939522466, 45.939522466, 45.939522466, 45.939522466, 45.939522466, -28.986344189999997, -31.33299238, -31.53429135000001, -32.66952837, -32.85266158, -33.4604063, -33.58933195, -33.58930754, -33.589314910000006, -33.58931257999999, -33.589313310000016, -33.589313069999996, -33.58931316000002, -33.58931313000001, -33.589313139999994, -33.58931313000001, -33.58931312000001, -33.58931312000001, -33.58931312000001, -33.58931312000001, -33.58931312000001, -33.58931312000001, -33.58931312000001, -33.58931312000001, -33.58931312000001, -33.58931312000001, -33.58931312000001, -33.58931312000001, -33.58931312000001, -33.58931312000001, -33.58931312000001]}],                        {\"margin\": {\"b\": 10, \"l\": 10, \"r\": 20, \"t\": 25}, \"scene\": {\"xaxis\": {\"title\": {\"text\": \"Tray spacing\"}}, \"yaxis\": {\"title\": {\"text\": \"Temperature\"}}, \"zaxis\": {\"title\": {\"text\": \"estimated profit\"}}}, \"template\": {\"data\": {\"bar\": [{\"error_x\": {\"color\": \"#2a3f5f\"}, \"error_y\": {\"color\": \"#2a3f5f\"}, \"marker\": {\"line\": {\"color\": \"#E5ECF6\", \"width\": 0.5}}, \"type\": \"bar\"}], \"barpolar\": [{\"marker\": {\"line\": {\"color\": \"#E5ECF6\", \"width\": 0.5}}, \"type\": \"barpolar\"}], \"carpet\": [{\"aaxis\": {\"endlinecolor\": \"#2a3f5f\", \"gridcolor\": \"white\", \"linecolor\": \"white\", \"minorgridcolor\": \"white\", \"startlinecolor\": \"#2a3f5f\"}, \"baxis\": {\"endlinecolor\": \"#2a3f5f\", \"gridcolor\": \"white\", \"linecolor\": \"white\", \"minorgridcolor\": \"white\", \"startlinecolor\": \"#2a3f5f\"}, \"type\": \"carpet\"}], \"choropleth\": [{\"colorbar\": {\"outlinewidth\": 0, \"ticks\": \"\"}, \"type\": \"choropleth\"}], \"contour\": [{\"colorbar\": {\"outlinewidth\": 0, \"ticks\": \"\"}, \"colorscale\": [[0.0, \"#0d0887\"], [0.1111111111111111, \"#46039f\"], [0.2222222222222222, \"#7201a8\"], [0.3333333333333333, \"#9c179e\"], [0.4444444444444444, \"#bd3786\"], [0.5555555555555556, \"#d8576b\"], [0.6666666666666666, \"#ed7953\"], [0.7777777777777778, \"#fb9f3a\"], [0.8888888888888888, \"#fdca26\"], [1.0, \"#f0f921\"]], \"type\": \"contour\"}], \"contourcarpet\": [{\"colorbar\": {\"outlinewidth\": 0, \"ticks\": \"\"}, \"type\": \"contourcarpet\"}], \"heatmap\": [{\"colorbar\": {\"outlinewidth\": 0, \"ticks\": \"\"}, \"colorscale\": [[0.0, \"#0d0887\"], [0.1111111111111111, \"#46039f\"], [0.2222222222222222, \"#7201a8\"], [0.3333333333333333, \"#9c179e\"], [0.4444444444444444, \"#bd3786\"], [0.5555555555555556, \"#d8576b\"], [0.6666666666666666, \"#ed7953\"], [0.7777777777777778, \"#fb9f3a\"], [0.8888888888888888, \"#fdca26\"], [1.0, \"#f0f921\"]], \"type\": \"heatmap\"}], \"heatmapgl\": [{\"colorbar\": {\"outlinewidth\": 0, \"ticks\": \"\"}, \"colorscale\": [[0.0, \"#0d0887\"], [0.1111111111111111, \"#46039f\"], [0.2222222222222222, \"#7201a8\"], [0.3333333333333333, \"#9c179e\"], [0.4444444444444444, \"#bd3786\"], [0.5555555555555556, \"#d8576b\"], [0.6666666666666666, \"#ed7953\"], [0.7777777777777778, \"#fb9f3a\"], [0.8888888888888888, \"#fdca26\"], [1.0, \"#f0f921\"]], \"type\": \"heatmapgl\"}], \"histogram\": [{\"marker\": {\"colorbar\": {\"outlinewidth\": 0, \"ticks\": \"\"}}, \"type\": \"histogram\"}], \"histogram2d\": [{\"colorbar\": {\"outlinewidth\": 0, \"ticks\": \"\"}, \"colorscale\": [[0.0, \"#0d0887\"], [0.1111111111111111, \"#46039f\"], [0.2222222222222222, \"#7201a8\"], [0.3333333333333333, \"#9c179e\"], [0.4444444444444444, \"#bd3786\"], [0.5555555555555556, \"#d8576b\"], [0.6666666666666666, \"#ed7953\"], [0.7777777777777778, \"#fb9f3a\"], [0.8888888888888888, \"#fdca26\"], [1.0, \"#f0f921\"]], \"type\": \"histogram2d\"}], \"histogram2dcontour\": [{\"colorbar\": {\"outlinewidth\": 0, \"ticks\": \"\"}, \"colorscale\": [[0.0, \"#0d0887\"], [0.1111111111111111, \"#46039f\"], [0.2222222222222222, \"#7201a8\"], [0.3333333333333333, \"#9c179e\"], [0.4444444444444444, \"#bd3786\"], [0.5555555555555556, \"#d8576b\"], [0.6666666666666666, \"#ed7953\"], [0.7777777777777778, \"#fb9f3a\"], [0.8888888888888888, \"#fdca26\"], [1.0, \"#f0f921\"]], \"type\": \"histogram2dcontour\"}], \"mesh3d\": [{\"colorbar\": {\"outlinewidth\": 0, \"ticks\": \"\"}, \"type\": \"mesh3d\"}], \"parcoords\": [{\"line\": {\"colorbar\": {\"outlinewidth\": 0, \"ticks\": \"\"}}, \"type\": \"parcoords\"}], \"pie\": [{\"automargin\": true, \"type\": \"pie\"}], \"scatter\": [{\"marker\": {\"colorbar\": {\"outlinewidth\": 0, \"ticks\": \"\"}}, \"type\": \"scatter\"}], \"scatter3d\": [{\"line\": {\"colorbar\": {\"outlinewidth\": 0, \"ticks\": \"\"}}, \"marker\": {\"colorbar\": {\"outlinewidth\": 0, \"ticks\": \"\"}}, \"type\": \"scatter3d\"}], \"scattercarpet\": [{\"marker\": {\"colorbar\": {\"outlinewidth\": 0, \"ticks\": \"\"}}, \"type\": \"scattercarpet\"}], \"scattergeo\": [{\"marker\": {\"colorbar\": {\"outlinewidth\": 0, \"ticks\": \"\"}}, \"type\": \"scattergeo\"}], \"scattergl\": [{\"marker\": {\"colorbar\": {\"outlinewidth\": 0, \"ticks\": \"\"}}, \"type\": \"scattergl\"}], \"scattermapbox\": [{\"marker\": {\"colorbar\": {\"outlinewidth\": 0, \"ticks\": \"\"}}, \"type\": \"scattermapbox\"}], \"scatterpolar\": [{\"marker\": {\"colorbar\": {\"outlinewidth\": 0, \"ticks\": \"\"}}, \"type\": \"scatterpolar\"}], \"scatterpolargl\": [{\"marker\": {\"colorbar\": {\"outlinewidth\": 0, \"ticks\": \"\"}}, \"type\": \"scatterpolargl\"}], \"scatterternary\": [{\"marker\": {\"colorbar\": {\"outlinewidth\": 0, \"ticks\": \"\"}}, \"type\": \"scatterternary\"}], \"surface\": [{\"colorbar\": {\"outlinewidth\": 0, \"ticks\": \"\"}, \"colorscale\": [[0.0, \"#0d0887\"], [0.1111111111111111, \"#46039f\"], [0.2222222222222222, \"#7201a8\"], [0.3333333333333333, \"#9c179e\"], [0.4444444444444444, \"#bd3786\"], [0.5555555555555556, \"#d8576b\"], [0.6666666666666666, \"#ed7953\"], [0.7777777777777778, \"#fb9f3a\"], [0.8888888888888888, \"#fdca26\"], [1.0, \"#f0f921\"]], \"type\": \"surface\"}], \"table\": [{\"cells\": {\"fill\": {\"color\": \"#EBF0F8\"}, \"line\": {\"color\": \"white\"}}, \"header\": {\"fill\": {\"color\": \"#C8D4E3\"}, \"line\": {\"color\": \"white\"}}, \"type\": \"table\"}]}, \"layout\": {\"annotationdefaults\": {\"arrowcolor\": \"#2a3f5f\", \"arrowhead\": 0, \"arrowwidth\": 1}, \"autotypenumbers\": \"strict\", \"coloraxis\": {\"colorbar\": {\"outlinewidth\": 0, \"ticks\": \"\"}}, \"colorscale\": {\"diverging\": [[0, \"#8e0152\"], [0.1, \"#c51b7d\"], [0.2, \"#de77ae\"], [0.3, \"#f1b6da\"], [0.4, \"#fde0ef\"], [0.5, \"#f7f7f7\"], [0.6, \"#e6f5d0\"], [0.7, \"#b8e186\"], [0.8, \"#7fbc41\"], [0.9, \"#4d9221\"], [1, \"#276419\"]], \"sequential\": [[0.0, \"#0d0887\"], [0.1111111111111111, \"#46039f\"], [0.2222222222222222, \"#7201a8\"], [0.3333333333333333, \"#9c179e\"], [0.4444444444444444, \"#bd3786\"], [0.5555555555555556, \"#d8576b\"], [0.6666666666666666, \"#ed7953\"], [0.7777777777777778, \"#fb9f3a\"], [0.8888888888888888, \"#fdca26\"], [1.0, \"#f0f921\"]], \"sequentialminus\": [[0.0, \"#0d0887\"], [0.1111111111111111, \"#46039f\"], [0.2222222222222222, \"#7201a8\"], [0.3333333333333333, \"#9c179e\"], [0.4444444444444444, \"#bd3786\"], [0.5555555555555556, \"#d8576b\"], [0.6666666666666666, \"#ed7953\"], [0.7777777777777778, \"#fb9f3a\"], [0.8888888888888888, \"#fdca26\"], [1.0, \"#f0f921\"]]}, \"colorway\": [\"#636efa\", \"#EF553B\", \"#00cc96\", \"#ab63fa\", \"#FFA15A\", \"#19d3f3\", \"#FF6692\", \"#B6E880\", \"#FF97FF\", \"#FECB52\"], \"font\": {\"color\": \"#2a3f5f\"}, \"geo\": {\"bgcolor\": \"white\", \"lakecolor\": \"white\", \"landcolor\": \"#E5ECF6\", \"showlakes\": true, \"showland\": true, \"subunitcolor\": \"white\"}, \"hoverlabel\": {\"align\": \"left\"}, \"hovermode\": \"closest\", \"mapbox\": {\"style\": \"light\"}, \"paper_bgcolor\": \"white\", \"plot_bgcolor\": \"#E5ECF6\", \"polar\": {\"angularaxis\": {\"gridcolor\": \"white\", \"linecolor\": \"white\", \"ticks\": \"\"}, \"bgcolor\": \"#E5ECF6\", \"radialaxis\": {\"gridcolor\": \"white\", \"linecolor\": \"white\", \"ticks\": \"\"}}, \"scene\": {\"xaxis\": {\"backgroundcolor\": \"#E5ECF6\", \"gridcolor\": \"white\", \"gridwidth\": 2, \"linecolor\": \"white\", \"showbackground\": true, \"ticks\": \"\", \"zerolinecolor\": \"white\"}, \"yaxis\": {\"backgroundcolor\": \"#E5ECF6\", \"gridcolor\": \"white\", \"gridwidth\": 2, \"linecolor\": \"white\", \"showbackground\": true, \"ticks\": \"\", \"zerolinecolor\": \"white\"}, \"zaxis\": {\"backgroundcolor\": \"#E5ECF6\", \"gridcolor\": \"white\", \"gridwidth\": 2, \"linecolor\": \"white\", \"showbackground\": true, \"ticks\": \"\", \"zerolinecolor\": \"white\"}}, \"shapedefaults\": {\"line\": {\"color\": \"#2a3f5f\"}}, \"ternary\": {\"aaxis\": {\"gridcolor\": \"white\", \"linecolor\": \"white\", \"ticks\": \"\"}, \"baxis\": {\"gridcolor\": \"white\", \"linecolor\": \"white\", \"ticks\": \"\"}, \"bgcolor\": \"#E5ECF6\", \"caxis\": {\"gridcolor\": \"white\", \"linecolor\": \"white\", \"ticks\": \"\"}}, \"title\": {\"x\": 0.05}, \"xaxis\": {\"automargin\": true, \"gridcolor\": \"white\", \"linecolor\": \"white\", \"ticks\": \"\", \"title\": {\"standoff\": 15}, \"zerolinecolor\": \"white\", \"zerolinewidth\": 2}, \"yaxis\": {\"automargin\": true, \"gridcolor\": \"white\", \"linecolor\": \"white\", \"ticks\": \"\", \"title\": {\"standoff\": 15}, \"zerolinecolor\": \"white\", \"zerolinewidth\": 2}}}, \"width\": 700},                        {\"responsive\": true}                    ).then(function(){\n",
       "                            \n",
       "var gd = document.getElementById('078ff20e-414a-4054-bfc4-f5f1fa71b919');\n",
       "var x = new MutationObserver(function (mutations, observer) {{\n",
       "        var display = window.getComputedStyle(gd).display;\n",
       "        if (!display || display === 'none') {{\n",
       "            console.log([gd, 'removed!']);\n",
       "            Plotly.purge(gd);\n",
       "            observer.disconnect();\n",
       "        }}\n",
       "}});\n",
       "\n",
       "// Listen for the removal of the full notebook cells\n",
       "var notebookContainer = gd.closest('#notebook-container');\n",
       "if (notebookContainer) {{\n",
       "    x.observe(notebookContainer, {childList: true});\n",
       "}}\n",
       "\n",
       "// Listen for the clearing of the current output cell\n",
       "var outputEl = gd.closest('.output');\n",
       "if (outputEl) {{\n",
       "    x.observe(outputEl, {childList: true});\n",
       "}}\n",
       "\n",
       "                        })                };                });            </script>        </div>"
      ]
     },
     "metadata": {},
     "output_type": "display_data"
    }
   ],
   "source": [
    "fig = go.Figure(data = [go.Scatter3d(\n",
    "    x=df3['tray spacing'],\n",
    "    y=df3['temp'],\n",
    "    z=df3['dist flow'],\n",
    "    mode='markers',\n",
    "    marker=dict(\n",
    "        size=6,\n",
    "        color= np.log(df3['cond liq flow']),                # set color to an array/list of desired values\n",
    "        colorscale='bluered',   # choose a colorscale\n",
    "        opacity=0.8\n",
    "    )\n",
    ")])\n",
    "\n",
    "fig.update_layout(title=\"Case Study 3\",\n",
    "                scene = dict(\n",
    "                    xaxis_title='Tray spacing',\n",
    "                    yaxis_title='Temperature',\n",
    "                    zaxis_title='Distilate flow rate'),\n",
    "                    width=700,\n",
    "                    margin=dict(r=20, b=10, l=10, t=25))\n",
    "fig.show()\n",
    "\n",
    "fig = go.Figure(data = [go.Scatter3d(\n",
    "    x=df3['tray spacing'],\n",
    "    y=df3['temp'],\n",
    "    z=df3['profit'],\n",
    "    mode='markers',\n",
    "    marker=dict(\n",
    "        size=6,\n",
    "        color= np.log(df3['cond liq flow']),                # set color to an array/list of desired values\n",
    "        colorscale='bluered',   # choose a colorscale\n",
    "        opacity=0.8\n",
    "    )\n",
    ")])\n",
    "\n",
    "fig.update_layout(scene = dict(\n",
    "                    xaxis_title='Tray spacing',\n",
    "                    yaxis_title='Temperature',\n",
    "                    zaxis_title='estimated profit'),\n",
    "                    width=700,\n",
    "                    margin=dict(r=20, b=10, l=10, t=25))\n",
    "fig.show()"
   ]
  },
  {
   "cell_type": "code",
   "execution_count": null,
   "metadata": {},
   "outputs": [],
   "source": []
  }
 ],
 "metadata": {
  "kernelspec": {
   "display_name": "Python 3",
   "language": "python",
   "name": "python3"
  },
  "language_info": {
   "codemirror_mode": {
    "name": "ipython",
    "version": 3
   },
   "file_extension": ".py",
   "mimetype": "text/x-python",
   "name": "python",
   "nbconvert_exporter": "python",
   "pygments_lexer": "ipython3",
   "version": "3.8.5"
  }
 },
 "nbformat": 4,
 "nbformat_minor": 4
}
